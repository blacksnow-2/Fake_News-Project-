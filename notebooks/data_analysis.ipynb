{
  "nbformat": 4,
  "nbformat_minor": 0,
  "metadata": {
    "colab": {
      "provenance": []
    },
    "kernelspec": {
      "name": "python3",
      "display_name": "Python 3"
    },
    "language_info": {
      "name": "python"
    }
  },
  "cells": [
    {
      "cell_type": "code",
      "execution_count": null,
      "metadata": {
        "id": "DK_LI24GzlRE"
      },
      "outputs": [],
      "source": [
        "!pip install -r requirements.txt"
      ]
    },
    {
      "cell_type": "code",
      "source": [
        "!pip list"
      ],
      "metadata": {
        "id": "jNgZUJ-Wz9vN"
      },
      "execution_count": null,
      "outputs": []
    },
    {
      "cell_type": "markdown",
      "source": [
        "Things to learn :: <br>\n",
        "1)plotly.express as px graphical tool just as matplotlib or seaborne <br>\n",
        "2) read_csv has names attribute which names the columns"
      ],
      "metadata": {
        "id": "UAwP2kvOypfF"
      }
    },
    {
      "cell_type": "code",
      "source": [
        "import pandas as pd\n",
        "import plotly.express as px\n",
        "import math\n",
        "import numpy as np\n",
        "from collections import Counter\n",
        "from sklearn.feature_extraction.text import CountVectorizer\n",
        "from sklearn.feature_extraction.text import TfidfVectorizer\n",
        "from sklearn.decomposition import TruncatedSVD\n",
        "from typing import Dict, List"
      ],
      "metadata": {
        "id": "-fFuVUmO0y5D"
      },
      "execution_count": null,
      "outputs": []
    },
    {
      "cell_type": "code",
      "source": [
        "TRAIN_PATH = \"/content/data/raw/train2.tsv\"\n",
        "TEST_PATH = \"/content/data/raw/test2.tsv\"\n",
        "VAL_PATH = \"/content/data/raw/val2.tsv\""
      ],
      "metadata": {
        "id": "oX0EgHT65R9T"
      },
      "execution_count": null,
      "outputs": []
    },
    {
      "cell_type": "code",
      "source": [
        "columns = [\"id\", \"statement_json\", \"label\", \"statement\", \"subject\", \"speaker\", \"speaker_title\", \"state_info\", \"party_affiliation\", \"barely_true_count\", \"false_count\", \"half_true_count\", \"mostly_true_count\", \"pants_fire_count\", \"context\", \"justification\"]\n",
        "train_df = pd.read_csv(TRAIN_PATH, sep = \"\\t\", names = columns)\n",
        "val_df = pd.read_csv(VAL_PATH, sep=\"\\t\", names = columns)\n",
        "test_df = pd.read_csv(TEST_PATH, sep=\"\\t\", names = columns)"
      ],
      "metadata": {
        "id": "M8_W8Ewc5rHk"
      },
      "execution_count": null,
      "outputs": []
    },
    {
      "cell_type": "code",
      "source": [
        "pd.options.display.max_colwidth = 500\n",
        "pd.options.display.max_rows = 500"
      ],
      "metadata": {
        "id": "3dl1zHWJ874b"
      },
      "execution_count": null,
      "outputs": []
    },
    {
      "cell_type": "code",
      "source": [
        "len(train_df)"
      ],
      "metadata": {
        "colab": {
          "base_uri": "https://localhost:8080/"
        },
        "id": "nUJKihHP9c47",
        "outputId": "054abefd-818c-4ca6-9d1a-85ac6c356d47"
      },
      "execution_count": null,
      "outputs": [
        {
          "output_type": "execute_result",
          "data": {
            "text/plain": [
              "10242"
            ]
          },
          "metadata": {},
          "execution_count": 68
        }
      ]
    },
    {
      "cell_type": "code",
      "source": [
        "len(val_df)"
      ],
      "metadata": {
        "colab": {
          "base_uri": "https://localhost:8080/"
        },
        "id": "Ioh-kQc59gz3",
        "outputId": "dab51a45-4d95-45ce-b462-21c52700b27d"
      },
      "execution_count": null,
      "outputs": [
        {
          "output_type": "execute_result",
          "data": {
            "text/plain": [
              "1284"
            ]
          },
          "metadata": {},
          "execution_count": 69
        }
      ]
    },
    {
      "cell_type": "code",
      "source": [
        "len(test_df)"
      ],
      "metadata": {
        "colab": {
          "base_uri": "https://localhost:8080/"
        },
        "id": "dyNyyp9L9sGR",
        "outputId": "0917c278-2161-47c9-a914-5872c7796217"
      },
      "execution_count": null,
      "outputs": [
        {
          "output_type": "execute_result",
          "data": {
            "text/plain": [
              "1267"
            ]
          },
          "metadata": {},
          "execution_count": 70
        }
      ]
    },
    {
      "cell_type": "code",
      "source": [
        "train_df.columns"
      ],
      "metadata": {
        "colab": {
          "base_uri": "https://localhost:8080/"
        },
        "id": "18FOhR-g9wjH",
        "outputId": "ffbaa6ae-6a7b-4ae7-8ed9-9b7e674e3b6a"
      },
      "execution_count": null,
      "outputs": [
        {
          "output_type": "execute_result",
          "data": {
            "text/plain": [
              "Index(['id', 'statement_json', 'label', 'statement', 'subject', 'speaker',\n",
              "       'speaker_title', 'state_info', 'party_affiliation', 'barely_true_count',\n",
              "       'false_count', 'half_true_count', 'mostly_true_count',\n",
              "       'pants_fire_count', 'context', 'justification'],\n",
              "      dtype='object')"
            ]
          },
          "metadata": {},
          "execution_count": 71
        }
      ]
    },
    {
      "cell_type": "code",
      "source": [
        "train_df.head()"
      ],
      "metadata": {
        "colab": {
          "base_uri": "https://localhost:8080/",
          "height": 1000
        },
        "id": "He7Y6hfJ-QSU",
        "outputId": "9752015b-d76b-4667-f1a9-86ae9769037c"
      },
      "execution_count": null,
      "outputs": [
        {
          "output_type": "execute_result",
          "data": {
            "text/plain": [
              "    id statement_json        label  \\\n",
              "0  0.0      2635.json        false   \n",
              "1  1.0     10540.json    half-true   \n",
              "2  2.0       324.json  mostly-true   \n",
              "3  3.0      1123.json        false   \n",
              "4  4.0      9028.json    half-true   \n",
              "\n",
              "                                                                                                                                       statement  \\\n",
              "0                                                             Says the Annies List political group supports third-trimester abortions on demand.   \n",
              "1  When did the decline of coal start? It started when natural gas took off that started to begin in (President George W.) Bushs administration.   \n",
              "2                                      Hillary Clinton agrees with John McCain \"by voting to give George Bush the benefit of the doubt on Iran.\"   \n",
              "3                                                                 Health care reform legislation is likely to mandate free sex change surgeries.   \n",
              "4                                                                                         The economic turnaround started at the end of my term.   \n",
              "\n",
              "                              subject         speaker         speaker_title  \\\n",
              "0                            abortion    dwayne-bohac  State representative   \n",
              "1  energy,history,job-accomplishments  scott-surovell        State delegate   \n",
              "2                      foreign-policy    barack-obama             President   \n",
              "3                         health-care    blog-posting                   NaN   \n",
              "4                        economy,jobs   charlie-crist                   NaN   \n",
              "\n",
              "  state_info party_affiliation  barely_true_count  false_count  \\\n",
              "0      Texas        republican                0.0          1.0   \n",
              "1   Virginia          democrat                0.0          0.0   \n",
              "2   Illinois          democrat               70.0         71.0   \n",
              "3        NaN              none                7.0         19.0   \n",
              "4    Florida          democrat               15.0          9.0   \n",
              "\n",
              "   half_true_count  mostly_true_count  pants_fire_count              context  \\\n",
              "0              0.0                0.0               0.0             a mailer   \n",
              "1              1.0                1.0               0.0      a floor speech.   \n",
              "2            160.0              163.0               9.0               Denver   \n",
              "3              3.0                5.0              44.0       a news release   \n",
              "4             20.0               19.0               2.0  an interview on CNN   \n",
              "\n",
              "                                                                                                                                                                                                                                                                                                                                                                                                                                                                                                         justification  \n",
              "0                                                                                                                                                                                                                                                             That's a premise that he fails to back up. Annie's List makes no bones about being comfortable with candidates who oppose further restrictions on late-term abortions. Then again, this year its backing two House candidates who voted for more limits.  \n",
              "1  Surovell said the decline of coal \"started when natural gas took off  That started to begin in President (George W. ) Bushs administration. \"No doubt, natural gas has been gaining ground on coal in generating electricity. The trend started in the 1990s but clearly gained speed during the Bush administration when the production of natural gas -- a competitor of coal -- picked up. But analysts give little credit or blame to Bush for that trend. They note that other factors, such as technologic...  \n",
              "2                                                                                                Obama said he would have voted against the amendment if he had been present. So though Clinton may have \"agreed\" with McCain on the issue, they did not technically vote the same way on it. To say that voting for Kyl-Lieberman is \"giving George Bush the benefit of the doubt on Iran\" remains a contentious issue. But Obama's main point is that Clinton and McCain were on the same side, and that is correct.  \n",
              "3  The release may have a point that Mikulskis comment could open the door to \"medically necessary\" coverage which conceivably may include sex-change operations. But it's unclear whether her amendment will remain in the legislation, and there's nothing specific in the legislation on sex-change procedures and nothing else solid that indicates such coverage will be provided. The news release cherry-picked a few fleeting references to gender and sexual orientation in completely unrelated contexts ...  \n",
              "4  Crist said that the economic \"turnaround started at the end of my term. \"During Crists last year in office, Floridas economy experienced notable gains in personal income and industrial production, and more marginal improvements in the unemployment rate and in payroll employment. But GDP didnt grow again until Scott took office. Economists say Crist deserves some credit for the economic turnaround because he accepted federal stimulus dollars, but they add that any state is inevitably buffeted...  "
            ],
            "text/html": [
              "\n",
              "  <div id=\"df-5664cd3c-1787-430b-ac02-5ace78157193\" class=\"colab-df-container\">\n",
              "    <div>\n",
              "<style scoped>\n",
              "    .dataframe tbody tr th:only-of-type {\n",
              "        vertical-align: middle;\n",
              "    }\n",
              "\n",
              "    .dataframe tbody tr th {\n",
              "        vertical-align: top;\n",
              "    }\n",
              "\n",
              "    .dataframe thead th {\n",
              "        text-align: right;\n",
              "    }\n",
              "</style>\n",
              "<table border=\"1\" class=\"dataframe\">\n",
              "  <thead>\n",
              "    <tr style=\"text-align: right;\">\n",
              "      <th></th>\n",
              "      <th>id</th>\n",
              "      <th>statement_json</th>\n",
              "      <th>label</th>\n",
              "      <th>statement</th>\n",
              "      <th>subject</th>\n",
              "      <th>speaker</th>\n",
              "      <th>speaker_title</th>\n",
              "      <th>state_info</th>\n",
              "      <th>party_affiliation</th>\n",
              "      <th>barely_true_count</th>\n",
              "      <th>false_count</th>\n",
              "      <th>half_true_count</th>\n",
              "      <th>mostly_true_count</th>\n",
              "      <th>pants_fire_count</th>\n",
              "      <th>context</th>\n",
              "      <th>justification</th>\n",
              "    </tr>\n",
              "  </thead>\n",
              "  <tbody>\n",
              "    <tr>\n",
              "      <th>0</th>\n",
              "      <td>0.0</td>\n",
              "      <td>2635.json</td>\n",
              "      <td>false</td>\n",
              "      <td>Says the Annies List political group supports third-trimester abortions on demand.</td>\n",
              "      <td>abortion</td>\n",
              "      <td>dwayne-bohac</td>\n",
              "      <td>State representative</td>\n",
              "      <td>Texas</td>\n",
              "      <td>republican</td>\n",
              "      <td>0.0</td>\n",
              "      <td>1.0</td>\n",
              "      <td>0.0</td>\n",
              "      <td>0.0</td>\n",
              "      <td>0.0</td>\n",
              "      <td>a mailer</td>\n",
              "      <td>That's a premise that he fails to back up. Annie's List makes no bones about being comfortable with candidates who oppose further restrictions on late-term abortions. Then again, this year its backing two House candidates who voted for more limits.</td>\n",
              "    </tr>\n",
              "    <tr>\n",
              "      <th>1</th>\n",
              "      <td>1.0</td>\n",
              "      <td>10540.json</td>\n",
              "      <td>half-true</td>\n",
              "      <td>When did the decline of coal start? It started when natural gas took off that started to begin in (President George W.) Bushs administration.</td>\n",
              "      <td>energy,history,job-accomplishments</td>\n",
              "      <td>scott-surovell</td>\n",
              "      <td>State delegate</td>\n",
              "      <td>Virginia</td>\n",
              "      <td>democrat</td>\n",
              "      <td>0.0</td>\n",
              "      <td>0.0</td>\n",
              "      <td>1.0</td>\n",
              "      <td>1.0</td>\n",
              "      <td>0.0</td>\n",
              "      <td>a floor speech.</td>\n",
              "      <td>Surovell said the decline of coal \"started when natural gas took off  That started to begin in President (George W. ) Bushs administration. \"No doubt, natural gas has been gaining ground on coal in generating electricity. The trend started in the 1990s but clearly gained speed during the Bush administration when the production of natural gas -- a competitor of coal -- picked up. But analysts give little credit or blame to Bush for that trend. They note that other factors, such as technologic...</td>\n",
              "    </tr>\n",
              "    <tr>\n",
              "      <th>2</th>\n",
              "      <td>2.0</td>\n",
              "      <td>324.json</td>\n",
              "      <td>mostly-true</td>\n",
              "      <td>Hillary Clinton agrees with John McCain \"by voting to give George Bush the benefit of the doubt on Iran.\"</td>\n",
              "      <td>foreign-policy</td>\n",
              "      <td>barack-obama</td>\n",
              "      <td>President</td>\n",
              "      <td>Illinois</td>\n",
              "      <td>democrat</td>\n",
              "      <td>70.0</td>\n",
              "      <td>71.0</td>\n",
              "      <td>160.0</td>\n",
              "      <td>163.0</td>\n",
              "      <td>9.0</td>\n",
              "      <td>Denver</td>\n",
              "      <td>Obama said he would have voted against the amendment if he had been present. So though Clinton may have \"agreed\" with McCain on the issue, they did not technically vote the same way on it. To say that voting for Kyl-Lieberman is \"giving George Bush the benefit of the doubt on Iran\" remains a contentious issue. But Obama's main point is that Clinton and McCain were on the same side, and that is correct.</td>\n",
              "    </tr>\n",
              "    <tr>\n",
              "      <th>3</th>\n",
              "      <td>3.0</td>\n",
              "      <td>1123.json</td>\n",
              "      <td>false</td>\n",
              "      <td>Health care reform legislation is likely to mandate free sex change surgeries.</td>\n",
              "      <td>health-care</td>\n",
              "      <td>blog-posting</td>\n",
              "      <td>NaN</td>\n",
              "      <td>NaN</td>\n",
              "      <td>none</td>\n",
              "      <td>7.0</td>\n",
              "      <td>19.0</td>\n",
              "      <td>3.0</td>\n",
              "      <td>5.0</td>\n",
              "      <td>44.0</td>\n",
              "      <td>a news release</td>\n",
              "      <td>The release may have a point that Mikulskis comment could open the door to \"medically necessary\" coverage which conceivably may include sex-change operations. But it's unclear whether her amendment will remain in the legislation, and there's nothing specific in the legislation on sex-change procedures and nothing else solid that indicates such coverage will be provided. The news release cherry-picked a few fleeting references to gender and sexual orientation in completely unrelated contexts ...</td>\n",
              "    </tr>\n",
              "    <tr>\n",
              "      <th>4</th>\n",
              "      <td>4.0</td>\n",
              "      <td>9028.json</td>\n",
              "      <td>half-true</td>\n",
              "      <td>The economic turnaround started at the end of my term.</td>\n",
              "      <td>economy,jobs</td>\n",
              "      <td>charlie-crist</td>\n",
              "      <td>NaN</td>\n",
              "      <td>Florida</td>\n",
              "      <td>democrat</td>\n",
              "      <td>15.0</td>\n",
              "      <td>9.0</td>\n",
              "      <td>20.0</td>\n",
              "      <td>19.0</td>\n",
              "      <td>2.0</td>\n",
              "      <td>an interview on CNN</td>\n",
              "      <td>Crist said that the economic \"turnaround started at the end of my term. \"During Crists last year in office, Floridas economy experienced notable gains in personal income and industrial production, and more marginal improvements in the unemployment rate and in payroll employment. But GDP didnt grow again until Scott took office. Economists say Crist deserves some credit for the economic turnaround because he accepted federal stimulus dollars, but they add that any state is inevitably buffeted...</td>\n",
              "    </tr>\n",
              "  </tbody>\n",
              "</table>\n",
              "</div>\n",
              "    <div class=\"colab-df-buttons\">\n",
              "\n",
              "  <div class=\"colab-df-container\">\n",
              "    <button class=\"colab-df-convert\" onclick=\"convertToInteractive('df-5664cd3c-1787-430b-ac02-5ace78157193')\"\n",
              "            title=\"Convert this dataframe to an interactive table.\"\n",
              "            style=\"display:none;\">\n",
              "\n",
              "  <svg xmlns=\"http://www.w3.org/2000/svg\" height=\"24px\" viewBox=\"0 -960 960 960\">\n",
              "    <path d=\"M120-120v-720h720v720H120Zm60-500h600v-160H180v160Zm220 220h160v-160H400v160Zm0 220h160v-160H400v160ZM180-400h160v-160H180v160Zm440 0h160v-160H620v160ZM180-180h160v-160H180v160Zm440 0h160v-160H620v160Z\"/>\n",
              "  </svg>\n",
              "    </button>\n",
              "\n",
              "  <style>\n",
              "    .colab-df-container {\n",
              "      display:flex;\n",
              "      gap: 12px;\n",
              "    }\n",
              "\n",
              "    .colab-df-convert {\n",
              "      background-color: #E8F0FE;\n",
              "      border: none;\n",
              "      border-radius: 50%;\n",
              "      cursor: pointer;\n",
              "      display: none;\n",
              "      fill: #1967D2;\n",
              "      height: 32px;\n",
              "      padding: 0 0 0 0;\n",
              "      width: 32px;\n",
              "    }\n",
              "\n",
              "    .colab-df-convert:hover {\n",
              "      background-color: #E2EBFA;\n",
              "      box-shadow: 0px 1px 2px rgba(60, 64, 67, 0.3), 0px 1px 3px 1px rgba(60, 64, 67, 0.15);\n",
              "      fill: #174EA6;\n",
              "    }\n",
              "\n",
              "    .colab-df-buttons div {\n",
              "      margin-bottom: 4px;\n",
              "    }\n",
              "\n",
              "    [theme=dark] .colab-df-convert {\n",
              "      background-color: #3B4455;\n",
              "      fill: #D2E3FC;\n",
              "    }\n",
              "\n",
              "    [theme=dark] .colab-df-convert:hover {\n",
              "      background-color: #434B5C;\n",
              "      box-shadow: 0px 1px 3px 1px rgba(0, 0, 0, 0.15);\n",
              "      filter: drop-shadow(0px 1px 2px rgba(0, 0, 0, 0.3));\n",
              "      fill: #FFFFFF;\n",
              "    }\n",
              "  </style>\n",
              "\n",
              "    <script>\n",
              "      const buttonEl =\n",
              "        document.querySelector('#df-5664cd3c-1787-430b-ac02-5ace78157193 button.colab-df-convert');\n",
              "      buttonEl.style.display =\n",
              "        google.colab.kernel.accessAllowed ? 'block' : 'none';\n",
              "\n",
              "      async function convertToInteractive(key) {\n",
              "        const element = document.querySelector('#df-5664cd3c-1787-430b-ac02-5ace78157193');\n",
              "        const dataTable =\n",
              "          await google.colab.kernel.invokeFunction('convertToInteractive',\n",
              "                                                    [key], {});\n",
              "        if (!dataTable) return;\n",
              "\n",
              "        const docLinkHtml = 'Like what you see? Visit the ' +\n",
              "          '<a target=\"_blank\" href=https://colab.research.google.com/notebooks/data_table.ipynb>data table notebook</a>'\n",
              "          + ' to learn more about interactive tables.';\n",
              "        element.innerHTML = '';\n",
              "        dataTable['output_type'] = 'display_data';\n",
              "        await google.colab.output.renderOutput(dataTable, element);\n",
              "        const docLink = document.createElement('div');\n",
              "        docLink.innerHTML = docLinkHtml;\n",
              "        element.appendChild(docLink);\n",
              "      }\n",
              "    </script>\n",
              "  </div>\n",
              "\n",
              "\n",
              "<div id=\"df-639724a6-abb1-4dae-9a16-ded16962eea8\">\n",
              "  <button class=\"colab-df-quickchart\" onclick=\"quickchart('df-639724a6-abb1-4dae-9a16-ded16962eea8')\"\n",
              "            title=\"Suggest charts\"\n",
              "            style=\"display:none;\">\n",
              "\n",
              "<svg xmlns=\"http://www.w3.org/2000/svg\" height=\"24px\"viewBox=\"0 0 24 24\"\n",
              "     width=\"24px\">\n",
              "    <g>\n",
              "        <path d=\"M19 3H5c-1.1 0-2 .9-2 2v14c0 1.1.9 2 2 2h14c1.1 0 2-.9 2-2V5c0-1.1-.9-2-2-2zM9 17H7v-7h2v7zm4 0h-2V7h2v10zm4 0h-2v-4h2v4z\"/>\n",
              "    </g>\n",
              "</svg>\n",
              "  </button>\n",
              "\n",
              "<style>\n",
              "  .colab-df-quickchart {\n",
              "      --bg-color: #E8F0FE;\n",
              "      --fill-color: #1967D2;\n",
              "      --hover-bg-color: #E2EBFA;\n",
              "      --hover-fill-color: #174EA6;\n",
              "      --disabled-fill-color: #AAA;\n",
              "      --disabled-bg-color: #DDD;\n",
              "  }\n",
              "\n",
              "  [theme=dark] .colab-df-quickchart {\n",
              "      --bg-color: #3B4455;\n",
              "      --fill-color: #D2E3FC;\n",
              "      --hover-bg-color: #434B5C;\n",
              "      --hover-fill-color: #FFFFFF;\n",
              "      --disabled-bg-color: #3B4455;\n",
              "      --disabled-fill-color: #666;\n",
              "  }\n",
              "\n",
              "  .colab-df-quickchart {\n",
              "    background-color: var(--bg-color);\n",
              "    border: none;\n",
              "    border-radius: 50%;\n",
              "    cursor: pointer;\n",
              "    display: none;\n",
              "    fill: var(--fill-color);\n",
              "    height: 32px;\n",
              "    padding: 0;\n",
              "    width: 32px;\n",
              "  }\n",
              "\n",
              "  .colab-df-quickchart:hover {\n",
              "    background-color: var(--hover-bg-color);\n",
              "    box-shadow: 0 1px 2px rgba(60, 64, 67, 0.3), 0 1px 3px 1px rgba(60, 64, 67, 0.15);\n",
              "    fill: var(--button-hover-fill-color);\n",
              "  }\n",
              "\n",
              "  .colab-df-quickchart-complete:disabled,\n",
              "  .colab-df-quickchart-complete:disabled:hover {\n",
              "    background-color: var(--disabled-bg-color);\n",
              "    fill: var(--disabled-fill-color);\n",
              "    box-shadow: none;\n",
              "  }\n",
              "\n",
              "  .colab-df-spinner {\n",
              "    border: 2px solid var(--fill-color);\n",
              "    border-color: transparent;\n",
              "    border-bottom-color: var(--fill-color);\n",
              "    animation:\n",
              "      spin 1s steps(1) infinite;\n",
              "  }\n",
              "\n",
              "  @keyframes spin {\n",
              "    0% {\n",
              "      border-color: transparent;\n",
              "      border-bottom-color: var(--fill-color);\n",
              "      border-left-color: var(--fill-color);\n",
              "    }\n",
              "    20% {\n",
              "      border-color: transparent;\n",
              "      border-left-color: var(--fill-color);\n",
              "      border-top-color: var(--fill-color);\n",
              "    }\n",
              "    30% {\n",
              "      border-color: transparent;\n",
              "      border-left-color: var(--fill-color);\n",
              "      border-top-color: var(--fill-color);\n",
              "      border-right-color: var(--fill-color);\n",
              "    }\n",
              "    40% {\n",
              "      border-color: transparent;\n",
              "      border-right-color: var(--fill-color);\n",
              "      border-top-color: var(--fill-color);\n",
              "    }\n",
              "    60% {\n",
              "      border-color: transparent;\n",
              "      border-right-color: var(--fill-color);\n",
              "    }\n",
              "    80% {\n",
              "      border-color: transparent;\n",
              "      border-right-color: var(--fill-color);\n",
              "      border-bottom-color: var(--fill-color);\n",
              "    }\n",
              "    90% {\n",
              "      border-color: transparent;\n",
              "      border-bottom-color: var(--fill-color);\n",
              "    }\n",
              "  }\n",
              "</style>\n",
              "\n",
              "  <script>\n",
              "    async function quickchart(key) {\n",
              "      const quickchartButtonEl =\n",
              "        document.querySelector('#' + key + ' button');\n",
              "      quickchartButtonEl.disabled = true;  // To prevent multiple clicks.\n",
              "      quickchartButtonEl.classList.add('colab-df-spinner');\n",
              "      try {\n",
              "        const charts = await google.colab.kernel.invokeFunction(\n",
              "            'suggestCharts', [key], {});\n",
              "      } catch (error) {\n",
              "        console.error('Error during call to suggestCharts:', error);\n",
              "      }\n",
              "      quickchartButtonEl.classList.remove('colab-df-spinner');\n",
              "      quickchartButtonEl.classList.add('colab-df-quickchart-complete');\n",
              "    }\n",
              "    (() => {\n",
              "      let quickchartButtonEl =\n",
              "        document.querySelector('#df-639724a6-abb1-4dae-9a16-ded16962eea8 button');\n",
              "      quickchartButtonEl.style.display =\n",
              "        google.colab.kernel.accessAllowed ? 'block' : 'none';\n",
              "    })();\n",
              "  </script>\n",
              "</div>\n",
              "\n",
              "    </div>\n",
              "  </div>\n"
            ],
            "application/vnd.google.colaboratory.intrinsic+json": {
              "type": "dataframe",
              "variable_name": "train_df",
              "summary": "{\n  \"name\": \"train_df\",\n  \"rows\": 10242,\n  \"fields\": [\n    {\n      \"column\": \"id\",\n      \"properties\": {\n        \"dtype\": \"number\",\n        \"std\": 2964.7546928824972,\n        \"min\": 0.0,\n        \"max\": 10268.0,\n        \"num_unique_values\": 10240,\n        \"samples\": [\n          3855.0,\n          6501.0,\n          4534.0\n        ],\n        \"semantic_type\": \"\",\n        \"description\": \"\"\n      }\n    },\n    {\n      \"column\": \"statement_json\",\n      \"properties\": {\n        \"dtype\": \"string\",\n        \"num_unique_values\": 10240,\n        \"samples\": [\n          \"10626.json\",\n          \"1520.json\",\n          \"1326.json\"\n        ],\n        \"semantic_type\": \"\",\n        \"description\": \"\"\n      }\n    },\n    {\n      \"column\": \"label\",\n      \"properties\": {\n        \"dtype\": \"category\",\n        \"num_unique_values\": 6,\n        \"samples\": [\n          \"false\",\n          \"half-true\",\n          \"pants-fire\"\n        ],\n        \"semantic_type\": \"\",\n        \"description\": \"\"\n      }\n    },\n    {\n      \"column\": \"statement\",\n      \"properties\": {\n        \"dtype\": \"string\",\n        \"num_unique_values\": 10223,\n        \"samples\": [\n          \"Countries bombed: Obama 7, Bush 4\",\n          \"Says she couldn't take stimulus money because it required \\\"universal building codes.\\\"\",\n          \"In the past decade, K-12 funding has grown six times faster than the rate of enrollment.\"\n        ],\n        \"semantic_type\": \"\",\n        \"description\": \"\"\n      }\n    },\n    {\n      \"column\": \"subject\",\n      \"properties\": {\n        \"dtype\": \"category\",\n        \"num_unique_values\": 3827,\n        \"samples\": [\n          \"military,new-hampshire-2012\",\n          \"city-budget,city-government,county-budget,county-government,taxes\",\n          \"children,families,poverty,welfare\"\n        ],\n        \"semantic_type\": \"\",\n        \"description\": \"\"\n      }\n    },\n    {\n      \"column\": \"speaker\",\n      \"properties\": {\n        \"dtype\": \"category\",\n        \"num_unique_values\": 2910,\n        \"samples\": [\n          \"ken-plum\",\n          \"mike-adams\",\n          \"tom-harkin\"\n        ],\n        \"semantic_type\": \"\",\n        \"description\": \"\"\n      }\n    },\n    {\n      \"column\": \"speaker_title\",\n      \"properties\": {\n        \"dtype\": \"category\",\n        \"num_unique_values\": 1183,\n        \"samples\": [\n          \"Candidate, Multnomah County commission\",\n          \"policy analyst, The Tax Foundation\",\n          \"campaign committee\"\n        ],\n        \"semantic_type\": \"\",\n        \"description\": \"\"\n      }\n    },\n    {\n      \"column\": \"state_info\",\n      \"properties\": {\n        \"dtype\": \"category\",\n        \"num_unique_values\": 83,\n        \"samples\": [\n          \"Illinois \",\n          \"Texas\",\n          \"Wyoming\"\n        ],\n        \"semantic_type\": \"\",\n        \"description\": \"\"\n      }\n    },\n    {\n      \"column\": \"party_affiliation\",\n      \"properties\": {\n        \"dtype\": \"category\",\n        \"num_unique_values\": 23,\n        \"samples\": [\n          \"tea-party-member\",\n          \"newsmaker\",\n          \"republican\"\n        ],\n        \"semantic_type\": \"\",\n        \"description\": \"\"\n      }\n    },\n    {\n      \"column\": \"barely_true_count\",\n      \"properties\": {\n        \"dtype\": \"number\",\n        \"std\": 18.973764318526314,\n        \"min\": 0.0,\n        \"max\": 70.0,\n        \"num_unique_values\": 30,\n        \"samples\": [\n          8.0,\n          13.0,\n          26.0\n        ],\n        \"semantic_type\": \"\",\n        \"description\": \"\"\n      }\n    },\n    {\n      \"column\": \"false_count\",\n      \"properties\": {\n        \"dtype\": \"number\",\n        \"std\": 24.112936285421256,\n        \"min\": 0.0,\n        \"max\": 114.0,\n        \"num_unique_values\": 30,\n        \"samples\": [\n          18.0,\n          43.0,\n          11.0\n        ],\n        \"semantic_type\": \"\",\n        \"description\": \"\"\n      }\n    },\n    {\n      \"column\": \"half_true_count\",\n      \"properties\": {\n        \"dtype\": \"number\",\n        \"std\": 35.84651097932059,\n        \"min\": 0.0,\n        \"max\": 160.0,\n        \"num_unique_values\": 29,\n        \"samples\": [\n          12.0,\n          7.0,\n          38.0\n        ],\n        \"semantic_type\": \"\",\n        \"description\": \"\"\n      }\n    },\n    {\n      \"column\": \"mostly_true_count\",\n      \"properties\": {\n        \"dtype\": \"number\",\n        \"std\": 36.15168793284538,\n        \"min\": 0.0,\n        \"max\": 163.0,\n        \"num_unique_values\": 27,\n        \"samples\": [\n          4.0,\n          6.0,\n          2.0\n        ],\n        \"semantic_type\": \"\",\n        \"description\": \"\"\n      }\n    },\n    {\n      \"column\": \"pants_fire_count\",\n      \"properties\": {\n        \"dtype\": \"number\",\n        \"std\": 16.12892735191346,\n        \"min\": 0.0,\n        \"max\": 105.0,\n        \"num_unique_values\": 20,\n        \"samples\": [\n          0.0,\n          6.0,\n          10.0\n        ],\n        \"semantic_type\": \"\",\n        \"description\": \"\"\n      }\n    },\n    {\n      \"column\": \"context\",\n      \"properties\": {\n        \"dtype\": \"category\",\n        \"num_unique_values\": 4345,\n        \"samples\": [\n          \"a broadcast of \\\"The Kelly File\\\"\",\n          \"a Spanish-language radio ad\",\n          \"an appearance on ABC's \\\"This Week.\\\"\"\n        ],\n        \"semantic_type\": \"\",\n        \"description\": \"\"\n      }\n    },\n    {\n      \"column\": \"justification\",\n      \"properties\": {\n        \"dtype\": \"string\",\n        \"num_unique_values\": 10145,\n        \"samples\": [\n          \"McAuliffe told journalists, \\\"Since 2008, we have cut 5,000 positions\\\" in state public schools. The actual number is 4,811, but we wont carp with the rounding up. In a similar statement on a radio show, the governor said \\\"about 5,000 jobs. \\\"It should be noted that about one-fourth of the positions belonged to instructors and that the vast majority of lost jobs affected support staff.\",\n          \"Trump said that Clinton insiders pushed the rumor that Obama was not born in America. His first example, Doyle, actually was involved in firing a county level volunteer coordinator who spread the rumor that Obama was a Muslim. The presidents religion might overlap thematically, but it is distinct from rumors about his birthplace. Blumenthal denies the allegation and the man who made it says he has no written proof.\",\n          \"I learned hard lessons, and I've taken that lesson and it's helped me become a better business person and a better leader. \\\"Scott's former company, Columbia/HCA, did plead guilty to 14 felony charges stemming from a massive federal fraud investigation, and Scott himself admits the company wound up paying $1. 7 billion in fines. Whether Scott was forced to resign or not is something of an HR employment trick, but media accounts certainly suggest the company's board of directors was under pressure from shareholders to shake things up.\"\n        ],\n        \"semantic_type\": \"\",\n        \"description\": \"\"\n      }\n    }\n  ]\n}"
            }
          },
          "metadata": {},
          "execution_count": 72
        }
      ]
    },
    {
      "cell_type": "markdown",
      "source": [
        " 3) Search for Violin Plot characteristics"
      ],
      "metadata": {
        "id": "204MkjkEzW1w"
      }
    },
    {
      "source": [
        "# @title label vs id\n",
        "\n",
        "from matplotlib import pyplot as plt\n",
        "import seaborn as sns\n",
        "figsize = (12, 1.2 * len(train_df['label'].unique()))\n",
        "plt.figure(figsize=figsize)\n",
        "sns.violinplot(train_df, x='id', y='label', inner='box', palette='Dark2')\n",
        "sns.despine(top=True, right=True, bottom=True, left=True)"
      ],
      "cell_type": "code",
      "execution_count": null,
      "outputs": [
        {
          "output_type": "stream",
          "name": "stderr",
          "text": [
            "<ipython-input-73-d01527d46dc6>:7: FutureWarning:\n",
            "\n",
            "\n",
            "\n",
            "Passing `palette` without assigning `hue` is deprecated and will be removed in v0.14.0. Assign the `y` variable to `hue` and set `legend=False` for the same effect.\n",
            "\n",
            "\n"
          ]
        },
        {
          "output_type": "display_data",
          "data": {
            "text/plain": [
              "<Figure size 1200x840 with 1 Axes>"
            ],
            "image/png": "[encoded data removed]"
          },
          "metadata": {}
        }
      ],
      "metadata": {
        "colab": {
          "base_uri": "https://localhost:8080/",
          "height": 636
        },
        "id": "s_Kbt0Rq-vo2",
        "outputId": "1ea58af2-be3a-4a6e-996b-aa59f056d752"
      }
    },
    {
      "cell_type": "markdown",
      "source": [
        "***dropna drops rows where cells in the specified column has null atributed values.***"
      ],
      "metadata": {
        "id": "OK09GrJD0REZ"
      }
    },
    {
      "cell_type": "code",
      "source": [
        "train_df.dropna(subset=[\"label\"], inplace=True)"
      ],
      "metadata": {
        "id": "z3xXjhWb-ST_"
      },
      "execution_count": null,
      "outputs": []
    },
    {
      "cell_type": "code",
      "source": [
        "len(train_df)"
      ],
      "metadata": {
        "colab": {
          "base_uri": "https://localhost:8080/"
        },
        "id": "dJBzrUAo0opT",
        "outputId": "6c4c4a0c-978d-4130-974a-a13f6d3b6804"
      },
      "execution_count": null,
      "outputs": [
        {
          "output_type": "execute_result",
          "data": {
            "text/plain": [
              "10240"
            ]
          },
          "metadata": {},
          "execution_count": 75
        }
      ]
    },
    {
      "cell_type": "markdown",
      "source": [
        "***value_counts return frequency of each unique value in a specific column. Normalize divides by total number of not-null values.***"
      ],
      "metadata": {
        "id": "owt7oRQk0vgQ"
      }
    },
    {
      "cell_type": "code",
      "source": [
        "label_ratios = train_df.label.value_counts(normalize=True)"
      ],
      "metadata": {
        "id": "Gq6oWyBy0sqV"
      },
      "execution_count": null,
      "outputs": []
    },
    {
      "cell_type": "code",
      "source": [
        "px.bar(label_ratios, x = label_ratios.index, y = label_ratios.values, labels={\"index\": \"label\", \"y\": \"ratios\"}, title=\"Label Distribution\")"
      ],
      "metadata": {
        "colab": {
          "base_uri": "https://localhost:8080/",
          "height": 542
        },
        "id": "4BzWjBov1FiA",
        "outputId": "a9a59933-1c67-48ee-cd15-642790d53a4b"
      },
      "execution_count": null,
      "outputs": [
        {
          "output_type": "display_data",
          "data": {
            "text/html": [
              "<html>\n",
              "<head><meta charset=\"utf-8\" /></head>\n",
              "<body>\n",
              "    <div>            <script src=\"https://cdnjs.cloudflare.com/ajax/libs/mathjax/2.7.5/MathJax.js?config=TeX-AMS-MML_SVG\"></script><script type=\"text/javascript\">if (window.MathJax && window.MathJax.Hub && window.MathJax.Hub.Config) {window.MathJax.Hub.Config({SVG: {font: \"STIX-Web\"}});}</script>                <script type=\"text/javascript\">window.PlotlyConfig = {MathJaxConfig: 'local'};</script>\n",
              "        <script charset=\"utf-8\" src=\"https://cdn.plot.ly/plotly-2.24.1.min.js\"></script>                <div id=\"65400b23-0f66-4d27-9362-eb9a63e07f92\" class=\"plotly-graph-div\" style=\"height:525px; width:100%;\"></div>            <script type=\"text/javascript\">                                    window.PLOTLYENV=window.PLOTLYENV || {};                                    if (document.getElementById(\"65400b23-0f66-4d27-9362-eb9a63e07f92\")) {                    Plotly.newPlot(                        \"65400b23-0f66-4d27-9362-eb9a63e07f92\",                        [{\"alignmentgroup\":\"True\",\"hovertemplate\":\"label=%{x}\\u003cbr\\u003eratios=%{y}\\u003cextra\\u003e\\u003c\\u002fextra\\u003e\",\"legendgroup\":\"\",\"marker\":{\"color\":\"#636efa\",\"pattern\":{\"shape\":\"\"}},\"name\":\"\",\"offsetgroup\":\"\",\"orientation\":\"v\",\"showlegend\":false,\"textposition\":\"auto\",\"x\":[\"half-true\",\"false\",\"mostly-true\",\"true\",\"barely-true\",\"pants-fire\"],\"xaxis\":\"x\",\"y\":[0.2064453125,0.19482421875,0.1916015625,0.163671875,0.1615234375,0.08193359375],\"yaxis\":\"y\",\"type\":\"bar\"}],                        {\"template\":{\"data\":{\"histogram2dcontour\":[{\"type\":\"histogram2dcontour\",\"colorbar\":{\"outlinewidth\":0,\"ticks\":\"\"},\"colorscale\":[[0.0,\"#0d0887\"],[0.1111111111111111,\"#46039f\"],[0.2222222222222222,\"#7201a8\"],[0.3333333333333333,\"#9c179e\"],[0.4444444444444444,\"#bd3786\"],[0.5555555555555556,\"#d8576b\"],[0.6666666666666666,\"#ed7953\"],[0.7777777777777778,\"#fb9f3a\"],[0.8888888888888888,\"#fdca26\"],[1.0,\"#f0f921\"]]}],\"choropleth\":[{\"type\":\"choropleth\",\"colorbar\":{\"outlinewidth\":0,\"ticks\":\"\"}}],\"histogram2d\":[{\"type\":\"histogram2d\",\"colorbar\":{\"outlinewidth\":0,\"ticks\":\"\"},\"colorscale\":[[0.0,\"#0d0887\"],[0.1111111111111111,\"#46039f\"],[0.2222222222222222,\"#7201a8\"],[0.3333333333333333,\"#9c179e\"],[0.4444444444444444,\"#bd3786\"],[0.5555555555555556,\"#d8576b\"],[0.6666666666666666,\"#ed7953\"],[0.7777777777777778,\"#fb9f3a\"],[0.8888888888888888,\"#fdca26\"],[1.0,\"#f0f921\"]]}],\"heatmap\":[{\"type\":\"heatmap\",\"colorbar\":{\"outlinewidth\":0,\"ticks\":\"\"},\"colorscale\":[[0.0,\"#0d0887\"],[0.1111111111111111,\"#46039f\"],[0.2222222222222222,\"#7201a8\"],[0.3333333333333333,\"#9c179e\"],[0.4444444444444444,\"#bd3786\"],[0.5555555555555556,\"#d8576b\"],[0.6666666666666666,\"#ed7953\"],[0.7777777777777778,\"#fb9f3a\"],[0.8888888888888888,\"#fdca26\"],[1.0,\"#f0f921\"]]}],\"heatmapgl\":[{\"type\":\"heatmapgl\",\"colorbar\":{\"outlinewidth\":0,\"ticks\":\"\"},\"colorscale\":[[0.0,\"#0d0887\"],[0.1111111111111111,\"#46039f\"],[0.2222222222222222,\"#7201a8\"],[0.3333333333333333,\"#9c179e\"],[0.4444444444444444,\"#bd3786\"],[0.5555555555555556,\"#d8576b\"],[0.6666666666666666,\"#ed7953\"],[0.7777777777777778,\"#fb9f3a\"],[0.8888888888888888,\"#fdca26\"],[1.0,\"#f0f921\"]]}],\"contourcarpet\":[{\"type\":\"contourcarpet\",\"colorbar\":{\"outlinewidth\":0,\"ticks\":\"\"}}],\"contour\":[{\"type\":\"contour\",\"colorbar\":{\"outlinewidth\":0,\"ticks\":\"\"},\"colorscale\":[[0.0,\"#0d0887\"],[0.1111111111111111,\"#46039f\"],[0.2222222222222222,\"#7201a8\"],[0.3333333333333333,\"#9c179e\"],[0.4444444444444444,\"#bd3786\"],[0.5555555555555556,\"#d8576b\"],[0.6666666666666666,\"#ed7953\"],[0.7777777777777778,\"#fb9f3a\"],[0.8888888888888888,\"#fdca26\"],[1.0,\"#f0f921\"]]}],\"surface\":[{\"type\":\"surface\",\"colorbar\":{\"outlinewidth\":0,\"ticks\":\"\"},\"colorscale\":[[0.0,\"#0d0887\"],[0.1111111111111111,\"#46039f\"],[0.2222222222222222,\"#7201a8\"],[0.3333333333333333,\"#9c179e\"],[0.4444444444444444,\"#bd3786\"],[0.5555555555555556,\"#d8576b\"],[0.6666666666666666,\"#ed7953\"],[0.7777777777777778,\"#fb9f3a\"],[0.8888888888888888,\"#fdca26\"],[1.0,\"#f0f921\"]]}],\"mesh3d\":[{\"type\":\"mesh3d\",\"colorbar\":{\"outlinewidth\":0,\"ticks\":\"\"}}],\"scatter\":[{\"fillpattern\":{\"fillmode\":\"overlay\",\"size\":10,\"solidity\":0.2},\"type\":\"scatter\"}],\"parcoords\":[{\"type\":\"parcoords\",\"line\":{\"colorbar\":{\"outlinewidth\":0,\"ticks\":\"\"}}}],\"scatterpolargl\":[{\"type\":\"scatterpolargl\",\"marker\":{\"colorbar\":{\"outlinewidth\":0,\"ticks\":\"\"}}}],\"bar\":[{\"error_x\":{\"color\":\"#2a3f5f\"},\"error_y\":{\"color\":\"#2a3f5f\"},\"marker\":{\"line\":{\"color\":\"#E5ECF6\",\"width\":0.5},\"pattern\":{\"fillmode\":\"overlay\",\"size\":10,\"solidity\":0.2}},\"type\":\"bar\"}],\"scattergeo\":[{\"type\":\"scattergeo\",\"marker\":{\"colorbar\":{\"outlinewidth\":0,\"ticks\":\"\"}}}],\"scatterpolar\":[{\"type\":\"scatterpolar\",\"marker\":{\"colorbar\":{\"outlinewidth\":0,\"ticks\":\"\"}}}],\"histogram\":[{\"marker\":{\"pattern\":{\"fillmode\":\"overlay\",\"size\":10,\"solidity\":0.2}},\"type\":\"histogram\"}],\"scattergl\":[{\"type\":\"scattergl\",\"marker\":{\"colorbar\":{\"outlinewidth\":0,\"ticks\":\"\"}}}],\"scatter3d\":[{\"type\":\"scatter3d\",\"line\":{\"colorbar\":{\"outlinewidth\":0,\"ticks\":\"\"}},\"marker\":{\"colorbar\":{\"outlinewidth\":0,\"ticks\":\"\"}}}],\"scattermapbox\":[{\"type\":\"scattermapbox\",\"marker\":{\"colorbar\":{\"outlinewidth\":0,\"ticks\":\"\"}}}],\"scatterternary\":[{\"type\":\"scatterternary\",\"marker\":{\"colorbar\":{\"outlinewidth\":0,\"ticks\":\"\"}}}],\"scattercarpet\":[{\"type\":\"scattercarpet\",\"marker\":{\"colorbar\":{\"outlinewidth\":0,\"ticks\":\"\"}}}],\"carpet\":[{\"aaxis\":{\"endlinecolor\":\"#2a3f5f\",\"gridcolor\":\"white\",\"linecolor\":\"white\",\"minorgridcolor\":\"white\",\"startlinecolor\":\"#2a3f5f\"},\"baxis\":{\"endlinecolor\":\"#2a3f5f\",\"gridcolor\":\"white\",\"linecolor\":\"white\",\"minorgridcolor\":\"white\",\"startlinecolor\":\"#2a3f5f\"},\"type\":\"carpet\"}],\"table\":[{\"cells\":{\"fill\":{\"color\":\"#EBF0F8\"},\"line\":{\"color\":\"white\"}},\"header\":{\"fill\":{\"color\":\"#C8D4E3\"},\"line\":{\"color\":\"white\"}},\"type\":\"table\"}],\"barpolar\":[{\"marker\":{\"line\":{\"color\":\"#E5ECF6\",\"width\":0.5},\"pattern\":{\"fillmode\":\"overlay\",\"size\":10,\"solidity\":0.2}},\"type\":\"barpolar\"}],\"pie\":[{\"automargin\":true,\"type\":\"pie\"}]},\"layout\":{\"autotypenumbers\":\"strict\",\"colorway\":[\"#636efa\",\"#EF553B\",\"#00cc96\",\"#ab63fa\",\"#FFA15A\",\"#19d3f3\",\"#FF6692\",\"#B6E880\",\"#FF97FF\",\"#FECB52\"],\"font\":{\"color\":\"#2a3f5f\"},\"hovermode\":\"closest\",\"hoverlabel\":{\"align\":\"left\"},\"paper_bgcolor\":\"white\",\"plot_bgcolor\":\"#E5ECF6\",\"polar\":{\"bgcolor\":\"#E5ECF6\",\"angularaxis\":{\"gridcolor\":\"white\",\"linecolor\":\"white\",\"ticks\":\"\"},\"radialaxis\":{\"gridcolor\":\"white\",\"linecolor\":\"white\",\"ticks\":\"\"}},\"ternary\":{\"bgcolor\":\"#E5ECF6\",\"aaxis\":{\"gridcolor\":\"white\",\"linecolor\":\"white\",\"ticks\":\"\"},\"baxis\":{\"gridcolor\":\"white\",\"linecolor\":\"white\",\"ticks\":\"\"},\"caxis\":{\"gridcolor\":\"white\",\"linecolor\":\"white\",\"ticks\":\"\"}},\"coloraxis\":{\"colorbar\":{\"outlinewidth\":0,\"ticks\":\"\"}},\"colorscale\":{\"sequential\":[[0.0,\"#0d0887\"],[0.1111111111111111,\"#46039f\"],[0.2222222222222222,\"#7201a8\"],[0.3333333333333333,\"#9c179e\"],[0.4444444444444444,\"#bd3786\"],[0.5555555555555556,\"#d8576b\"],[0.6666666666666666,\"#ed7953\"],[0.7777777777777778,\"#fb9f3a\"],[0.8888888888888888,\"#fdca26\"],[1.0,\"#f0f921\"]],\"sequentialminus\":[[0.0,\"#0d0887\"],[0.1111111111111111,\"#46039f\"],[0.2222222222222222,\"#7201a8\"],[0.3333333333333333,\"#9c179e\"],[0.4444444444444444,\"#bd3786\"],[0.5555555555555556,\"#d8576b\"],[0.6666666666666666,\"#ed7953\"],[0.7777777777777778,\"#fb9f3a\"],[0.8888888888888888,\"#fdca26\"],[1.0,\"#f0f921\"]],\"diverging\":[[0,\"#8e0152\"],[0.1,\"#c51b7d\"],[0.2,\"#de77ae\"],[0.3,\"#f1b6da\"],[0.4,\"#fde0ef\"],[0.5,\"#f7f7f7\"],[0.6,\"#e6f5d0\"],[0.7,\"#b8e186\"],[0.8,\"#7fbc41\"],[0.9,\"#4d9221\"],[1,\"#276419\"]]},\"xaxis\":{\"gridcolor\":\"white\",\"linecolor\":\"white\",\"ticks\":\"\",\"title\":{\"standoff\":15},\"zerolinecolor\":\"white\",\"automargin\":true,\"zerolinewidth\":2},\"yaxis\":{\"gridcolor\":\"white\",\"linecolor\":\"white\",\"ticks\":\"\",\"title\":{\"standoff\":15},\"zerolinecolor\":\"white\",\"automargin\":true,\"zerolinewidth\":2},\"scene\":{\"xaxis\":{\"backgroundcolor\":\"#E5ECF6\",\"gridcolor\":\"white\",\"linecolor\":\"white\",\"showbackground\":true,\"ticks\":\"\",\"zerolinecolor\":\"white\",\"gridwidth\":2},\"yaxis\":{\"backgroundcolor\":\"#E5ECF6\",\"gridcolor\":\"white\",\"linecolor\":\"white\",\"showbackground\":true,\"ticks\":\"\",\"zerolinecolor\":\"white\",\"gridwidth\":2},\"zaxis\":{\"backgroundcolor\":\"#E5ECF6\",\"gridcolor\":\"white\",\"linecolor\":\"white\",\"showbackground\":true,\"ticks\":\"\",\"zerolinecolor\":\"white\",\"gridwidth\":2}},\"shapedefaults\":{\"line\":{\"color\":\"#2a3f5f\"}},\"annotationdefaults\":{\"arrowcolor\":\"#2a3f5f\",\"arrowhead\":0,\"arrowwidth\":1},\"geo\":{\"bgcolor\":\"white\",\"landcolor\":\"#E5ECF6\",\"subunitcolor\":\"white\",\"showland\":true,\"showlakes\":true,\"lakecolor\":\"white\"},\"title\":{\"x\":0.05},\"mapbox\":{\"style\":\"light\"}}},\"xaxis\":{\"anchor\":\"y\",\"domain\":[0.0,1.0],\"title\":{\"text\":\"label\"}},\"yaxis\":{\"anchor\":\"x\",\"domain\":[0.0,1.0],\"title\":{\"text\":\"ratios\"}},\"legend\":{\"tracegroupgap\":0},\"title\":{\"text\":\"Label Distribution\"},\"barmode\":\"relative\"},                        {\"responsive\": true}                    ).then(function(){\n",
              "                            \n",
              "var gd = document.getElementById('65400b23-0f66-4d27-9362-eb9a63e07f92');\n",
              "var x = new MutationObserver(function (mutations, observer) {{\n",
              "        var display = window.getComputedStyle(gd).display;\n",
              "        if (!display || display === 'none') {{\n",
              "            console.log([gd, 'removed!']);\n",
              "            Plotly.purge(gd);\n",
              "            observer.disconnect();\n",
              "        }}\n",
              "}});\n",
              "\n",
              "// Listen for the removal of the full notebook cells\n",
              "var notebookContainer = gd.closest('#notebook-container');\n",
              "if (notebookContainer) {{\n",
              "    x.observe(notebookContainer, {childList: true});\n",
              "}}\n",
              "\n",
              "// Listen for the clearing of the current output cell\n",
              "var outputEl = gd.closest('.output');\n",
              "if (outputEl) {{\n",
              "    x.observe(outputEl, {childList: true});\n",
              "}}\n",
              "\n",
              "                        })                };                            </script>        </div>\n",
              "</body>\n",
              "</html>"
            ]
          },
          "metadata": {}
        }
      ]
    },
    {
      "cell_type": "markdown",
      "source": [
        "4) *column.nunique returns number of unique values in that column*"
      ],
      "metadata": {
        "id": "NEiVn33_zkl2"
      }
    },
    {
      "cell_type": "code",
      "source": [
        "train_df.speaker_title.nunique()"
      ],
      "metadata": {
        "colab": {
          "base_uri": "https://localhost:8080/"
        },
        "id": "ivA_AFma1pMX",
        "outputId": "c0a48e8c-b2b0-4052-dad0-12b80cfe693c"
      },
      "execution_count": null,
      "outputs": [
        {
          "output_type": "execute_result",
          "data": {
            "text/plain": [
              "1183"
            ]
          },
          "metadata": {},
          "execution_count": 78
        }
      ]
    },
    {
      "cell_type": "code",
      "source": [
        "train_df.speaker_title[train_df.speaker_title.notnull()]"
      ],
      "metadata": {
        "colab": {
          "base_uri": "https://localhost:8080/"
        },
        "id": "yRwM_H86_ADZ",
        "outputId": "437c5268-af2a-408b-8012-a97c0689344c"
      },
      "execution_count": null,
      "outputs": [
        {
          "output_type": "execute_result",
          "data": {
            "text/plain": [
              "0                                 State representative\n",
              "1                                       State delegate\n",
              "2                                            President\n",
              "5                           Wisconsin Assembly speaker\n",
              "7                                            President\n",
              "                             ...                      \n",
              "10230                                  President-Elect\n",
              "10232                                          Senator\n",
              "10233                      State Senator, 8th District\n",
              "10234                      Senior editor, The Atlantic\n",
              "10241    chairman of the Republican National Committee\n",
              "Name: speaker_title, Length: 7342, dtype: object"
            ]
          },
          "metadata": {},
          "execution_count": 79
        }
      ]
    },
    {
      "cell_type": "code",
      "source": [
        "train_df.speaker_title.value_counts()[:20]"
      ],
      "metadata": {
        "colab": {
          "base_uri": "https://localhost:8080/"
        },
        "id": "kArV2dwL_w_h",
        "outputId": "eecdb3a0-f4aa-44de-87fc-67e1800f574b"
      },
      "execution_count": null,
      "outputs": [
        {
          "output_type": "execute_result",
          "data": {
            "text/plain": [
              "speaker_title\n",
              "President                        492\n",
              "U.S. Senator                     479\n",
              "Governor                         391\n",
              "President-Elect                  273\n",
              "U.S. senator                     263\n",
              "Presidential candidate           254\n",
              "Former governor                  176\n",
              "U.S. Representative              172\n",
              "Milwaukee County Executive       149\n",
              "Senator                          147\n",
              "State Senator                    108\n",
              "U.S. representative              103\n",
              "U.S. House of Representatives    102\n",
              "Attorney                          81\n",
              "Congressman                       80\n",
              "Governor of New Jersey            78\n",
              "Social media posting              78\n",
              "Co-host on CNN's \"Crossfire\"      73\n",
              "State Representative              72\n",
              "State representative              66\n",
              "Name: count, dtype: int64"
            ]
          },
          "metadata": {},
          "execution_count": 80
        }
      ]
    },
    {
      "cell_type": "code",
      "source": [
        "train_df.speaker.value_counts()"
      ],
      "metadata": {
        "colab": {
          "base_uri": "https://localhost:8080/"
        },
        "id": "Y4llPqLrAF0b",
        "outputId": "9cc19895-96b4-4472-8ce0-86c562ab1797"
      },
      "execution_count": null,
      "outputs": [
        {
          "output_type": "execute_result",
          "data": {
            "text/plain": [
              "speaker\n",
              "barack-obama                                   488\n",
              "donald-trump                                   273\n",
              "hillary-clinton                                239\n",
              "mitt-romney                                    176\n",
              "scott-walker                                   149\n",
              "                                              ... \n",
              "lorraine-fende                                   1\n",
              "nfederation-o-independent-business-virginia      1\n",
              "jim-moore                                        1\n",
              "scott-surovell                                   1\n",
              "alan-powell                                      1\n",
              "Name: count, Length: 2910, dtype: int64"
            ]
          },
          "metadata": {},
          "execution_count": 81
        }
      ]
    },
    {
      "cell_type": "code",
      "source": [
        "affiliation_counts = train_df.party_affiliation.value_counts()\n",
        "px.bar(affiliation_counts, x=affiliation_counts.index, y=affiliation_counts.values, labels={\"index\": \"affiliation\", \"y\": \"counts\"}, title=\"Counts Per Affiliation\")"
      ],
      "metadata": {
        "colab": {
          "base_uri": "https://localhost:8080/",
          "height": 542
        },
        "id": "Q2dJvESdAV7R",
        "outputId": "08d19733-e5da-4286-d385-f2ac7ca19131"
      },
      "execution_count": null,
      "outputs": [
        {
          "output_type": "display_data",
          "data": {
            "text/html": [
              "<html>\n",
              "<head><meta charset=\"utf-8\" /></head>\n",
              "<body>\n",
              "    <div>            <script src=\"https://cdnjs.cloudflare.com/ajax/libs/mathjax/2.7.5/MathJax.js?config=TeX-AMS-MML_SVG\"></script><script type=\"text/javascript\">if (window.MathJax && window.MathJax.Hub && window.MathJax.Hub.Config) {window.MathJax.Hub.Config({SVG: {font: \"STIX-Web\"}});}</script>                <script type=\"text/javascript\">window.PlotlyConfig = {MathJaxConfig: 'local'};</script>\n",
              "        <script charset=\"utf-8\" src=\"https://cdn.plot.ly/plotly-2.24.1.min.js\"></script>                <div id=\"a67116ef-5007-4a05-b44e-66b3b6ce4243\" class=\"plotly-graph-div\" style=\"height:525px; width:100%;\"></div>            <script type=\"text/javascript\">                                    window.PLOTLYENV=window.PLOTLYENV || {};                                    if (document.getElementById(\"a67116ef-5007-4a05-b44e-66b3b6ce4243\")) {                    Plotly.newPlot(                        \"a67116ef-5007-4a05-b44e-66b3b6ce4243\",                        [{\"alignmentgroup\":\"True\",\"hovertemplate\":\"party_affiliation=%{x}\\u003cbr\\u003ecounts=%{y}\\u003cextra\\u003e\\u003c\\u002fextra\\u003e\",\"legendgroup\":\"\",\"marker\":{\"color\":\"#636efa\",\"pattern\":{\"shape\":\"\"}},\"name\":\"\",\"offsetgroup\":\"\",\"orientation\":\"v\",\"showlegend\":false,\"textposition\":\"auto\",\"x\":[\"republican\",\"democrat\",\"none\",\"organization\",\"independent\",\"newsmaker\",\"libertarian\",\"activist\",\"journalist\",\"columnist\",\"talk-show-host\",\"state-official\",\"labor-leader\",\"tea-party-member\",\"business-leader\",\"green\",\"education-official\",\"liberal-party-canada\",\"government-body\",\"Moderate\",\"democratic-farmer-labor\",\"ocean-state-tea-party-action\",\"constitution-party\"],\"xaxis\":\"x\",\"y\":[4497,3336,1744,219,147,56,40,39,38,35,26,20,11,10,9,3,2,1,1,1,1,1,1],\"yaxis\":\"y\",\"type\":\"bar\"}],                        {\"template\":{\"data\":{\"histogram2dcontour\":[{\"type\":\"histogram2dcontour\",\"colorbar\":{\"outlinewidth\":0,\"ticks\":\"\"},\"colorscale\":[[0.0,\"#0d0887\"],[0.1111111111111111,\"#46039f\"],[0.2222222222222222,\"#7201a8\"],[0.3333333333333333,\"#9c179e\"],[0.4444444444444444,\"#bd3786\"],[0.5555555555555556,\"#d8576b\"],[0.6666666666666666,\"#ed7953\"],[0.7777777777777778,\"#fb9f3a\"],[0.8888888888888888,\"#fdca26\"],[1.0,\"#f0f921\"]]}],\"choropleth\":[{\"type\":\"choropleth\",\"colorbar\":{\"outlinewidth\":0,\"ticks\":\"\"}}],\"histogram2d\":[{\"type\":\"histogram2d\",\"colorbar\":{\"outlinewidth\":0,\"ticks\":\"\"},\"colorscale\":[[0.0,\"#0d0887\"],[0.1111111111111111,\"#46039f\"],[0.2222222222222222,\"#7201a8\"],[0.3333333333333333,\"#9c179e\"],[0.4444444444444444,\"#bd3786\"],[0.5555555555555556,\"#d8576b\"],[0.6666666666666666,\"#ed7953\"],[0.7777777777777778,\"#fb9f3a\"],[0.8888888888888888,\"#fdca26\"],[1.0,\"#f0f921\"]]}],\"heatmap\":[{\"type\":\"heatmap\",\"colorbar\":{\"outlinewidth\":0,\"ticks\":\"\"},\"colorscale\":[[0.0,\"#0d0887\"],[0.1111111111111111,\"#46039f\"],[0.2222222222222222,\"#7201a8\"],[0.3333333333333333,\"#9c179e\"],[0.4444444444444444,\"#bd3786\"],[0.5555555555555556,\"#d8576b\"],[0.6666666666666666,\"#ed7953\"],[0.7777777777777778,\"#fb9f3a\"],[0.8888888888888888,\"#fdca26\"],[1.0,\"#f0f921\"]]}],\"heatmapgl\":[{\"type\":\"heatmapgl\",\"colorbar\":{\"outlinewidth\":0,\"ticks\":\"\"},\"colorscale\":[[0.0,\"#0d0887\"],[0.1111111111111111,\"#46039f\"],[0.2222222222222222,\"#7201a8\"],[0.3333333333333333,\"#9c179e\"],[0.4444444444444444,\"#bd3786\"],[0.5555555555555556,\"#d8576b\"],[0.6666666666666666,\"#ed7953\"],[0.7777777777777778,\"#fb9f3a\"],[0.8888888888888888,\"#fdca26\"],[1.0,\"#f0f921\"]]}],\"contourcarpet\":[{\"type\":\"contourcarpet\",\"colorbar\":{\"outlinewidth\":0,\"ticks\":\"\"}}],\"contour\":[{\"type\":\"contour\",\"colorbar\":{\"outlinewidth\":0,\"ticks\":\"\"},\"colorscale\":[[0.0,\"#0d0887\"],[0.1111111111111111,\"#46039f\"],[0.2222222222222222,\"#7201a8\"],[0.3333333333333333,\"#9c179e\"],[0.4444444444444444,\"#bd3786\"],[0.5555555555555556,\"#d8576b\"],[0.6666666666666666,\"#ed7953\"],[0.7777777777777778,\"#fb9f3a\"],[0.8888888888888888,\"#fdca26\"],[1.0,\"#f0f921\"]]}],\"surface\":[{\"type\":\"surface\",\"colorbar\":{\"outlinewidth\":0,\"ticks\":\"\"},\"colorscale\":[[0.0,\"#0d0887\"],[0.1111111111111111,\"#46039f\"],[0.2222222222222222,\"#7201a8\"],[0.3333333333333333,\"#9c179e\"],[0.4444444444444444,\"#bd3786\"],[0.5555555555555556,\"#d8576b\"],[0.6666666666666666,\"#ed7953\"],[0.7777777777777778,\"#fb9f3a\"],[0.8888888888888888,\"#fdca26\"],[1.0,\"#f0f921\"]]}],\"mesh3d\":[{\"type\":\"mesh3d\",\"colorbar\":{\"outlinewidth\":0,\"ticks\":\"\"}}],\"scatter\":[{\"fillpattern\":{\"fillmode\":\"overlay\",\"size\":10,\"solidity\":0.2},\"type\":\"scatter\"}],\"parcoords\":[{\"type\":\"parcoords\",\"line\":{\"colorbar\":{\"outlinewidth\":0,\"ticks\":\"\"}}}],\"scatterpolargl\":[{\"type\":\"scatterpolargl\",\"marker\":{\"colorbar\":{\"outlinewidth\":0,\"ticks\":\"\"}}}],\"bar\":[{\"error_x\":{\"color\":\"#2a3f5f\"},\"error_y\":{\"color\":\"#2a3f5f\"},\"marker\":{\"line\":{\"color\":\"#E5ECF6\",\"width\":0.5},\"pattern\":{\"fillmode\":\"overlay\",\"size\":10,\"solidity\":0.2}},\"type\":\"bar\"}],\"scattergeo\":[{\"type\":\"scattergeo\",\"marker\":{\"colorbar\":{\"outlinewidth\":0,\"ticks\":\"\"}}}],\"scatterpolar\":[{\"type\":\"scatterpolar\",\"marker\":{\"colorbar\":{\"outlinewidth\":0,\"ticks\":\"\"}}}],\"histogram\":[{\"marker\":{\"pattern\":{\"fillmode\":\"overlay\",\"size\":10,\"solidity\":0.2}},\"type\":\"histogram\"}],\"scattergl\":[{\"type\":\"scattergl\",\"marker\":{\"colorbar\":{\"outlinewidth\":0,\"ticks\":\"\"}}}],\"scatter3d\":[{\"type\":\"scatter3d\",\"line\":{\"colorbar\":{\"outlinewidth\":0,\"ticks\":\"\"}},\"marker\":{\"colorbar\":{\"outlinewidth\":0,\"ticks\":\"\"}}}],\"scattermapbox\":[{\"type\":\"scattermapbox\",\"marker\":{\"colorbar\":{\"outlinewidth\":0,\"ticks\":\"\"}}}],\"scatterternary\":[{\"type\":\"scatterternary\",\"marker\":{\"colorbar\":{\"outlinewidth\":0,\"ticks\":\"\"}}}],\"scattercarpet\":[{\"type\":\"scattercarpet\",\"marker\":{\"colorbar\":{\"outlinewidth\":0,\"ticks\":\"\"}}}],\"carpet\":[{\"aaxis\":{\"endlinecolor\":\"#2a3f5f\",\"gridcolor\":\"white\",\"linecolor\":\"white\",\"minorgridcolor\":\"white\",\"startlinecolor\":\"#2a3f5f\"},\"baxis\":{\"endlinecolor\":\"#2a3f5f\",\"gridcolor\":\"white\",\"linecolor\":\"white\",\"minorgridcolor\":\"white\",\"startlinecolor\":\"#2a3f5f\"},\"type\":\"carpet\"}],\"table\":[{\"cells\":{\"fill\":{\"color\":\"#EBF0F8\"},\"line\":{\"color\":\"white\"}},\"header\":{\"fill\":{\"color\":\"#C8D4E3\"},\"line\":{\"color\":\"white\"}},\"type\":\"table\"}],\"barpolar\":[{\"marker\":{\"line\":{\"color\":\"#E5ECF6\",\"width\":0.5},\"pattern\":{\"fillmode\":\"overlay\",\"size\":10,\"solidity\":0.2}},\"type\":\"barpolar\"}],\"pie\":[{\"automargin\":true,\"type\":\"pie\"}]},\"layout\":{\"autotypenumbers\":\"strict\",\"colorway\":[\"#636efa\",\"#EF553B\",\"#00cc96\",\"#ab63fa\",\"#FFA15A\",\"#19d3f3\",\"#FF6692\",\"#B6E880\",\"#FF97FF\",\"#FECB52\"],\"font\":{\"color\":\"#2a3f5f\"},\"hovermode\":\"closest\",\"hoverlabel\":{\"align\":\"left\"},\"paper_bgcolor\":\"white\",\"plot_bgcolor\":\"#E5ECF6\",\"polar\":{\"bgcolor\":\"#E5ECF6\",\"angularaxis\":{\"gridcolor\":\"white\",\"linecolor\":\"white\",\"ticks\":\"\"},\"radialaxis\":{\"gridcolor\":\"white\",\"linecolor\":\"white\",\"ticks\":\"\"}},\"ternary\":{\"bgcolor\":\"#E5ECF6\",\"aaxis\":{\"gridcolor\":\"white\",\"linecolor\":\"white\",\"ticks\":\"\"},\"baxis\":{\"gridcolor\":\"white\",\"linecolor\":\"white\",\"ticks\":\"\"},\"caxis\":{\"gridcolor\":\"white\",\"linecolor\":\"white\",\"ticks\":\"\"}},\"coloraxis\":{\"colorbar\":{\"outlinewidth\":0,\"ticks\":\"\"}},\"colorscale\":{\"sequential\":[[0.0,\"#0d0887\"],[0.1111111111111111,\"#46039f\"],[0.2222222222222222,\"#7201a8\"],[0.3333333333333333,\"#9c179e\"],[0.4444444444444444,\"#bd3786\"],[0.5555555555555556,\"#d8576b\"],[0.6666666666666666,\"#ed7953\"],[0.7777777777777778,\"#fb9f3a\"],[0.8888888888888888,\"#fdca26\"],[1.0,\"#f0f921\"]],\"sequentialminus\":[[0.0,\"#0d0887\"],[0.1111111111111111,\"#46039f\"],[0.2222222222222222,\"#7201a8\"],[0.3333333333333333,\"#9c179e\"],[0.4444444444444444,\"#bd3786\"],[0.5555555555555556,\"#d8576b\"],[0.6666666666666666,\"#ed7953\"],[0.7777777777777778,\"#fb9f3a\"],[0.8888888888888888,\"#fdca26\"],[1.0,\"#f0f921\"]],\"diverging\":[[0,\"#8e0152\"],[0.1,\"#c51b7d\"],[0.2,\"#de77ae\"],[0.3,\"#f1b6da\"],[0.4,\"#fde0ef\"],[0.5,\"#f7f7f7\"],[0.6,\"#e6f5d0\"],[0.7,\"#b8e186\"],[0.8,\"#7fbc41\"],[0.9,\"#4d9221\"],[1,\"#276419\"]]},\"xaxis\":{\"gridcolor\":\"white\",\"linecolor\":\"white\",\"ticks\":\"\",\"title\":{\"standoff\":15},\"zerolinecolor\":\"white\",\"automargin\":true,\"zerolinewidth\":2},\"yaxis\":{\"gridcolor\":\"white\",\"linecolor\":\"white\",\"ticks\":\"\",\"title\":{\"standoff\":15},\"zerolinecolor\":\"white\",\"automargin\":true,\"zerolinewidth\":2},\"scene\":{\"xaxis\":{\"backgroundcolor\":\"#E5ECF6\",\"gridcolor\":\"white\",\"linecolor\":\"white\",\"showbackground\":true,\"ticks\":\"\",\"zerolinecolor\":\"white\",\"gridwidth\":2},\"yaxis\":{\"backgroundcolor\":\"#E5ECF6\",\"gridcolor\":\"white\",\"linecolor\":\"white\",\"showbackground\":true,\"ticks\":\"\",\"zerolinecolor\":\"white\",\"gridwidth\":2},\"zaxis\":{\"backgroundcolor\":\"#E5ECF6\",\"gridcolor\":\"white\",\"linecolor\":\"white\",\"showbackground\":true,\"ticks\":\"\",\"zerolinecolor\":\"white\",\"gridwidth\":2}},\"shapedefaults\":{\"line\":{\"color\":\"#2a3f5f\"}},\"annotationdefaults\":{\"arrowcolor\":\"#2a3f5f\",\"arrowhead\":0,\"arrowwidth\":1},\"geo\":{\"bgcolor\":\"white\",\"landcolor\":\"#E5ECF6\",\"subunitcolor\":\"white\",\"showland\":true,\"showlakes\":true,\"lakecolor\":\"white\"},\"title\":{\"x\":0.05},\"mapbox\":{\"style\":\"light\"}}},\"xaxis\":{\"anchor\":\"y\",\"domain\":[0.0,1.0],\"title\":{\"text\":\"party_affiliation\"}},\"yaxis\":{\"anchor\":\"x\",\"domain\":[0.0,1.0],\"title\":{\"text\":\"counts\"}},\"legend\":{\"tracegroupgap\":0},\"title\":{\"text\":\"Counts Per Affiliation\"},\"barmode\":\"relative\"},                        {\"responsive\": true}                    ).then(function(){\n",
              "                            \n",
              "var gd = document.getElementById('a67116ef-5007-4a05-b44e-66b3b6ce4243');\n",
              "var x = new MutationObserver(function (mutations, observer) {{\n",
              "        var display = window.getComputedStyle(gd).display;\n",
              "        if (!display || display === 'none') {{\n",
              "            console.log([gd, 'removed!']);\n",
              "            Plotly.purge(gd);\n",
              "            observer.disconnect();\n",
              "        }}\n",
              "}});\n",
              "\n",
              "// Listen for the removal of the full notebook cells\n",
              "var notebookContainer = gd.closest('#notebook-container');\n",
              "if (notebookContainer) {{\n",
              "    x.observe(notebookContainer, {childList: true});\n",
              "}}\n",
              "\n",
              "// Listen for the clearing of the current output cell\n",
              "var outputEl = gd.closest('.output');\n",
              "if (outputEl) {{\n",
              "    x.observe(outputEl, {childList: true});\n",
              "}}\n",
              "\n",
              "                        })                };                            </script>        </div>\n",
              "</body>\n",
              "</html>"
            ]
          },
          "metadata": {}
        }
      ]
    },
    {
      "cell_type": "code",
      "source": [
        "def get_binary_label(label: str) -> bool:\n",
        "  if label in {\"pants-fire\", \"barely-true\", \"false\"}:\n",
        "    return False\n",
        "  elif label in {\"true\", \"half-true\", \"mostly-true\"}:\n",
        "    return True"
      ],
      "metadata": {
        "id": "Wzv0t8vUA1Zr"
      },
      "execution_count": null,
      "outputs": []
    },
    {
      "cell_type": "markdown",
      "source": [
        "***DEFINE A FUNCTION. Then you can apply to every value of a particular column by doing column.apply(function name)***"
      ],
      "metadata": {
        "id": "EEpqEJlZ1s0G"
      }
    },
    {
      "cell_type": "code",
      "source": [
        "train_df[\"binary_label\"] = train_df.label.apply(get_binary_label)"
      ],
      "metadata": {
        "id": "vCwo9rklB25z"
      },
      "execution_count": null,
      "outputs": []
    },
    {
      "cell_type": "markdown",
      "source": [
        "***groupby returns a different type of object or groupby object, not a dataframe. it has function get_group that returns dataframe with that particular group in that column.***"
      ],
      "metadata": {
        "id": "5_u-5tmY1_21"
      }
    },
    {
      "cell_type": "code",
      "source": [
        "party_groups = train_df.groupby([\"party_affiliation\"])"
      ],
      "metadata": {
        "id": "rEPE417BxA6K"
      },
      "execution_count": null,
      "outputs": []
    },
    {
      "cell_type": "code",
      "source": [
        "party_groups.get_group(\"republican\").binary_label.value_counts(normalize=True)"
      ],
      "metadata": {
        "colab": {
          "base_uri": "https://localhost:8080/"
        },
        "id": "aGAqIm7Gxhg8",
        "outputId": "43d326fe-e8a6-4ad1-b24f-7b49afa87040"
      },
      "execution_count": null,
      "outputs": [
        {
          "output_type": "execute_result",
          "data": {
            "text/plain": [
              "binary_label\n",
              "True     0.50189\n",
              "False    0.49811\n",
              "Name: proportion, dtype: float64"
            ]
          },
          "metadata": {},
          "execution_count": 86
        }
      ]
    },
    {
      "cell_type": "code",
      "source": [
        "party_groups.get_group(\"democrat\").binary_label.value_counts(normalize=True)"
      ],
      "metadata": {
        "colab": {
          "base_uri": "https://localhost:8080/"
        },
        "id": "-ugq2mRqyKHE",
        "outputId": "44941d51-50dc-4e41-c79b-ffdd3f1efe17"
      },
      "execution_count": null,
      "outputs": [
        {
          "output_type": "execute_result",
          "data": {
            "text/plain": [
              "binary_label\n",
              "True     0.66217\n",
              "False    0.33783\n",
              "Name: proportion, dtype: float64"
            ]
          },
          "metadata": {},
          "execution_count": 87
        }
      ]
    },
    {
      "cell_type": "code",
      "source": [
        "train_df.binary_label.value_counts(normalize=True)"
      ],
      "metadata": {
        "colab": {
          "base_uri": "https://localhost:8080/"
        },
        "id": "EUCJq0BiyVPx",
        "outputId": "57b688aa-efcb-48be-aff8-8064d5e6cbe2"
      },
      "execution_count": null,
      "outputs": [
        {
          "output_type": "execute_result",
          "data": {
            "text/plain": [
              "binary_label\n",
              "True     0.561719\n",
              "False    0.438281\n",
              "Name: proportion, dtype: float64"
            ]
          },
          "metadata": {},
          "execution_count": 88
        }
      ]
    },
    {
      "cell_type": "markdown",
      "source": [
        "***First split a string into words which are separated by whitespace, and then do len to count the number of words in the statement.***"
      ],
      "metadata": {
        "id": "11K15He4BL7L"
      }
    },
    {
      "cell_type": "code",
      "source": [
        "unigram_lens = train_df.statement.str.split().str.len()"
      ],
      "metadata": {
        "id": "zsKHxCc3yfCR"
      },
      "execution_count": null,
      "outputs": []
    },
    {
      "cell_type": "code",
      "source": [
        "unigram_lens"
      ],
      "metadata": {
        "colab": {
          "base_uri": "https://localhost:8080/"
        },
        "id": "r1Ron5e0ArdB",
        "outputId": "cfbfab9e-0205-4605-d80a-cd49dd76d5ed"
      },
      "execution_count": null,
      "outputs": [
        {
          "output_type": "execute_result",
          "data": {
            "text/plain": [
              "0        11\n",
              "1        24\n",
              "2        19\n",
              "3        12\n",
              "4        10\n",
              "         ..\n",
              "10237    17\n",
              "10238    14\n",
              "10239    28\n",
              "10240    11\n",
              "10241    30\n",
              "Name: statement, Length: 10240, dtype: int64"
            ]
          },
          "metadata": {},
          "execution_count": 90
        }
      ]
    },
    {
      "cell_type": "code",
      "source": [
        "px.histogram(unigram_lens, x = unigram_lens.values, labels={\"x\": \"unigram lens\"}, title=\"Unigram Length Distribution\")"
      ],
      "metadata": {
        "colab": {
          "base_uri": "https://localhost:8080/",
          "height": 542
        },
        "id": "oq_NdRi_AhiC",
        "outputId": "9ba5555f-cb40-4e2d-b788-edf0e907b525"
      },
      "execution_count": null,
      "outputs": [
        {
          "output_type": "display_data",
          "data": {
            "text/html": [
              "<html>\n",
              "<head><meta charset=\"utf-8\" /></head>\n",
              "<body>\n",
              "    <div>            <script src=\"https://cdnjs.cloudflare.com/ajax/libs/mathjax/2.7.5/MathJax.js?config=TeX-AMS-MML_SVG\"></script><script type=\"text/javascript\">if (window.MathJax && window.MathJax.Hub && window.MathJax.Hub.Config) {window.MathJax.Hub.Config({SVG: {font: \"STIX-Web\"}});}</script>                <script type=\"text/javascript\">window.PlotlyConfig = {MathJaxConfig: 'local'};</script>\n",
              "        <script charset=\"utf-8\" src=\"https://cdn.plot.ly/plotly-2.24.1.min.js\"></script>                <div id=\"743f91ee-7e4e-498a-bba0-2a83cc2ce8e1\" class=\"plotly-graph-div\" style=\"height:525px; width:100%;\"></div>            <script type=\"text/javascript\">                                    window.PLOTLYENV=window.PLOTLYENV || {};                                    if (document.getElementById(\"743f91ee-7e4e-498a-bba0-2a83cc2ce8e1\")) {                    Plotly.newPlot(                        \"743f91ee-7e4e-498a-bba0-2a83cc2ce8e1\",                        [{\"alignmentgroup\":\"True\",\"bingroup\":\"x\",\"hovertemplate\":\"unigram lens=%{x}\\u003cbr\\u003ecount=%{y}\\u003cextra\\u003e\\u003c\\u002fextra\\u003e\",\"legendgroup\":\"\",\"marker\":{\"color\":\"#636efa\",\"pattern\":{\"shape\":\"\"}},\"name\":\"\",\"offsetgroup\":\"\",\"orientation\":\"v\",\"showlegend\":false,\"x\":[11,24,19,12,10,27,13,27,23,21,21,16,22,10,16,33,19,22,22,8,20,13,14,14,10,7,14,23,14,11,7,24,32,16,11,16,19,33,20,22,19,16,16,23,23,12,14,15,21,11,21,10,16,31,18,12,32,24,9,20,13,13,20,17,8,12,21,24,17,16,21,19,26,21,16,20,13,11,10,33,14,12,15,19,11,11,17,23,11,15,11,5,9,21,23,7,14,29,18,35,25,21,18,32,34,10,24,12,19,18,19,28,21,10,11,14,19,18,15,12,18,15,11,13,20,23,20,11,15,19,5,19,17,17,12,14,13,16,27,10,14,26,21,16,8,8,8,9,24,11,10,5,11,12,26,15,11,15,27,10,10,16,31,25,12,8,14,27,13,10,14,27,17,10,34,13,22,10,17,15,13,10,18,17,13,18,11,37,30,14,9,24,37,27,19,19,35,13,19,10,19,25,14,26,11,12,12,12,13,16,22,9,14,18,11,27,21,17,21,14,42,12,15,30,21,11,17,17,25,15,15,26,8,25,11,10,17,15,19,15,13,11,10,18,13,16,23,20,16,25,36,21,19,15,24,25,6,16,21,16,20,11,19,20,16,32,14,20,20,25,4,10,15,22,36,14,33,9,21,11,16,13,19,10,14,17,19,18,34,24,20,23,23,22,14,17,16,6,4,10,21,13,19,17,21,14,14,13,30,14,17,19,26,11,12,21,23,9,23,14,17,10,24,21,9,20,18,11,22,11,11,14,19,22,30,17,29,22,14,20,16,13,17,42,24,15,18,24,17,32,11,27,15,11,38,40,25,34,31,31,14,7,28,24,12,9,25,15,10,22,19,33,28,13,23,29,16,26,10,15,45,26,13,10,23,11,14,29,12,16,22,29,5,17,22,25,7,17,24,9,10,8,42,24,14,12,13,17,25,14,18,15,12,11,13,13,33,7,14,11,16,27,25,13,21,41,28,61,16,21,20,20,13,25,10,19,21,14,27,19,19,10,25,19,10,19,7,20,19,25,17,9,10,20,27,22,16,15,12,25,8,7,22,13,15,20,33,13,33,23,3,20,24,29,11,28,19,24,22,33,28,31,31,29,32,23,16,31,16,19,32,18,30,21,31,16,13,18,16,17,28,10,34,9,25,20,16,26,12,41,18,13,25,18,25,13,12,18,16,12,27,35,28,24,13,13,22,7,20,11,12,16,13,12,31,23,9,13,8,20,17,17,43,18,14,18,25,14,10,14,10,9,25,33,15,24,17,21,14,9,13,18,29,22,7,18,15,6,22,15,17,16,10,29,12,31,24,13,16,11,14,14,8,31,11,12,13,13,16,16,19,8,15,25,20,26,30,6,20,24,22,21,31,30,12,13,17,21,14,23,15,15,12,12,24,18,18,16,12,15,16,31,21,17,12,35,25,12,15,41,23,18,10,19,14,24,20,28,11,25,14,7,29,16,29,19,26,15,20,10,14,18,5,15,18,11,19,12,14,18,39,25,19,14,15,24,18,20,12,21,29,22,9,7,23,18,9,10,9,11,8,19,6,14,14,24,18,20,16,16,10,15,21,34,29,26,22,20,10,18,13,8,18,17,15,17,24,53,13,2,11,32,20,23,36,19,6,11,17,22,17,27,23,14,20,14,17,29,17,21,26,18,19,13,12,12,18,17,18,15,18,19,23,10,34,21,12,25,14,15,13,29,25,27,16,16,13,8,28,12,12,27,22,14,24,10,20,19,16,23,16,20,26,17,16,13,12,19,19,18,24,17,25,19,16,23,11,22,12,24,12,17,25,8,4,8,28,14,12,16,17,25,13,14,9,13,30,26,9,12,12,18,20,10,33,19,10,16,14,7,33,24,16,22,7,25,33,6,8,34,11,21,27,11,27,7,21,17,28,14,15,22,13,11,18,23,26,20,12,16,15,18,14,33,16,12,23,21,14,6,16,15,16,12,6,24,13,11,13,12,13,14,21,11,23,13,14,8,24,22,10,20,8,9,12,16,7,11,16,8,34,13,13,24,23,32,16,26,29,14,12,22,19,37,28,19,19,13,23,11,20,24,28,20,13,29,31,13,12,17,13,21,16,14,7,11,18,11,21,27,10,5,20,13,27,28,18,10,11,20,14,8,21,22,21,22,43,25,9,13,18,9,25,33,9,11,21,10,14,17,18,22,12,19,15,12,9,14,18,9,27,6,23,27,22,13,12,18,11,23,32,12,20,24,18,23,24,26,19,19,22,11,14,23,23,11,25,38,6,45,9,24,8,12,26,8,14,15,10,20,15,16,38,23,2,11,21,18,25,16,22,15,27,10,21,25,9,3,19,20,17,12,12,24,19,11,12,10,25,14,10,18,23,22,6,17,13,16,14,7,23,15,8,7,12,21,24,19,15,24,13,21,6,17,5,16,18,27,9,30,24,2,22,21,6,19,17,8,18,18,8,26,9,13,35,7,19,22,14,20,22,19,14,28,22,16,26,31,14,27,21,35,24,13,22,8,27,7,19,8,7,10,23,11,11,11,9,10,15,14,20,20,11,16,27,23,12,23,41,24,13,12,14,17,14,9,9,12,10,15,19,29,15,20,12,13,16,22,23,13,12,17,20,13,7,9,18,16,16,16,11,9,33,21,16,11,11,12,27,13,25,17,20,16,28,26,15,13,3,13,15,24,11,14,42,19,29,16,11,9,10,9,13,20,12,14,20,17,13,15,19,36,13,17,34,13,16,10,13,21,12,13,15,12,12,14,27,12,13,22,14,22,22,16,19,24,32,24,21,14,14,15,13,22,21,12,19,20,12,11,18,20,23,20,18,28,23,21,20,27,26,32,14,4,8,11,14,12,13,25,10,11,15,19,31,13,25,10,30,14,22,12,10,7,15,60,30,20,12,27,479,15,8,9,12,12,17,10,19,29,17,23,35,8,25,32,21,24,12,30,11,15,25,30,28,16,15,7,19,16,13,10,7,15,16,26,21,18,34,11,9,10,30,22,26,24,33,8,14,14,11,15,8,11,11,15,23,21,20,13,15,18,35,18,17,11,29,22,19,13,21,33,7,20,16,19,38,28,21,12,15,13,45,12,11,23,23,37,14,18,13,13,14,17,19,19,22,15,22,29,13,10,6,17,21,35,15,11,27,32,11,16,16,18,9,12,21,9,20,22,13,14,10,17,32,19,23,5,13,33,11,17,19,27,6,16,12,15,17,13,17,8,21,11,7,7,22,9,15,19,21,10,10,8,23,25,17,17,15,24,10,16,37,20,23,10,17,16,22,14,18,17,17,30,23,27,5,31,27,18,13,22,33,12,18,24,10,10,24,18,5,23,15,18,19,31,8,20,23,16,22,30,9,7,11,26,7,7,16,30,14,6,15,33,28,23,18,10,11,14,19,15,23,42,10,16,22,12,13,20,12,5,14,20,11,11,4,13,23,10,14,4,11,5,18,14,38,25,12,18,33,25,34,20,15,11,14,32,28,12,8,13,20,15,20,26,19,8,12,16,13,7,36,34,26,25,22,30,18,41,12,5,25,33,7,16,17,21,11,18,13,12,18,8,9,20,33,25,31,11,25,28,36,13,10,23,13,11,13,13,17,12,22,28,17,41,43,36,6,15,33,11,10,11,23,10,12,21,15,24,17,11,24,27,23,20,9,21,50,24,11,15,8,32,15,12,9,24,20,15,10,10,13,5,9,17,25,8,24,21,14,10,30,21,26,25,21,18,23,20,22,9,18,13,13,22,18,15,27,9,8,17,18,10,9,22,23,8,17,10,29,21,21,9,11,23,23,13,33,17,10,9,17,19,21,18,10,20,24,12,19,19,13,8,8,6,11,11,14,23,22,18,12,14,43,13,21,12,24,23,14,18,39,10,16,8,8,32,20,23,25,10,19,23,15,13,19,7,9,19,29,26,12,32,13,23,24,14,12,15,14,7,13,10,24,8,25,16,13,17,23,18,25,5,16,17,22,32,16,23,22,15,11,11,11,18,18,7,14,23,18,8,17,16,24,11,14,13,36,15,15,28,11,25,17,29,16,18,11,9,12,21,14,23,12,10,9,17,30,12,11,23,15,20,12,19,16,13,8,12,13,25,23,10,5,41,15,21,15,15,18,21,29,19,7,23,10,23,18,14,20,23,16,16,20,31,15,13,13,15,13,18,27,20,8,21,12,26,15,18,22,12,8,22,18,19,20,25,21,26,10,13,13,8,9,10,16,15,21,14,17,9,9,24,15,15,7,32,18,28,10,24,26,15,10,6,20,12,20,11,10,18,33,17,14,32,12,20,17,16,11,11,37,20,20,27,9,31,16,27,10,18,20,12,20,13,17,27,11,17,18,18,27,11,8,8,28,16,20,10,33,18,25,12,9,16,20,18,10,19,14,18,6,32,14,14,10,14,15,32,24,18,22,10,17,10,20,6,6,12,15,40,11,16,18,11,19,9,10,23,14,15,11,23,16,19,25,14,10,14,9,17,29,34,35,16,11,9,18,15,28,13,23,21,21,13,16,10,20,18,41,16,23,19,19,20,30,22,24,4,21,11,20,22,20,11,15,13,18,24,26,15,30,17,23,5,14,28,24,45,15,35,23,15,38,8,26,26,21,11,11,20,11,20,23,20,19,17,21,36,11,10,10,16,20,23,36,8,22,26,19,22,26,20,6,14,28,20,20,20,22,24,19,22,19,21,14,12,24,21,21,13,36,15,24,15,12,23,20,12,13,4,11,8,10,37,23,14,12,27,15,20,29,15,33,32,25,11,18,20,12,11,27,14,19,10,16,17,13,19,14,27,18,13,10,8,10,9,22,11,17,27,25,19,27,8,27,5,14,30,9,12,144,14,18,14,25,14,32,17,14,18,14,13,17,9,6,10,11,38,33,13,15,16,13,13,29,12,20,14,29,6,23,13,18,15,12,19,8,12,25,13,7,17,30,10,9,28,26,14,11,19,26,23,9,19,10,23,29,11,37,4,3,23,4,37,37,13,14,13,15,21,34,16,16,18,31,11,31,10,34,18,26,9,13,8,10,5,17,14,14,17,11,18,17,8,11,22,15,13,20,8,13,19,18,10,13,21,10,12,39,20,10,16,15,31,13,19,24,8,14,27,27,22,22,10,19,13,6,12,13,23,18,10,3,24,14,28,15,18,11,20,14,30,9,10,49,19,25,29,7,15,14,28,11,10,15,29,15,16,19,8,12,22,23,10,19,21,20,17,26,9,15,14,25,9,18,16,35,8,30,17,9,32,25,25,15,7,30,12,17,5,24,13,19,32,15,18,34,11,16,18,15,12,12,32,11,19,16,13,35,33,23,13,16,10,11,13,22,35,11,11,10,18,15,13,33,27,15,15,15,18,19,9,15,16,24,11,20,11,9,16,13,28,21,21,20,18,11,22,28,13,20,25,13,37,10,13,12,27,14,25,8,9,31,20,21,22,19,15,20,8,23,14,31,8,21,13,17,20,20,26,20,21,18,20,17,19,18,16,20,28,15,14,22,22,32,12,13,9,9,17,19,18,14,17,23,13,28,22,17,31,14,15,11,8,13,12,18,15,33,12,15,20,20,16,12,8,22,25,8,22,20,11,8,27,10,19,15,16,36,13,12,14,17,21,22,16,15,15,17,8,16,27,17,11,4,29,18,7,8,16,21,18,18,22,16,22,23,39,9,24,20,12,23,26,32,31,12,16,27,17,19,23,24,18,14,21,20,39,8,24,31,12,8,17,18,17,9,23,21,11,19,23,14,19,23,21,16,37,15,20,14,10,26,10,15,21,14,17,18,16,24,17,5,15,13,17,16,24,7,24,21,16,22,11,13,8,15,23,20,16,17,19,8,13,8,23,21,14,29,16,14,25,13,24,13,18,20,15,17,7,30,8,19,26,9,29,20,19,26,23,17,25,22,14,13,13,16,19,17,8,13,17,19,24,26,20,16,29,12,10,33,29,23,14,17,18,15,17,22,14,17,41,13,27,14,10,20,8,16,15,8,28,10,19,25,29,27,9,7,12,8,27,23,9,13,18,32,12,16,17,29,27,17,23,10,34,18,11,11,8,20,15,6,16,22,26,46,18,16,16,18,19,26,15,19,5,10,33,21,37,23,27,24,23,20,22,17,17,27,8,22,18,5,20,8,14,15,13,13,17,13,38,10,26,29,14,12,8,8,16,14,38,13,16,17,11,13,7,19,17,23,17,33,13,35,25,19,31,14,21,18,8,23,18,9,32,14,11,8,25,11,32,17,21,19,11,11,20,15,22,15,19,11,12,14,22,14,44,19,20,22,15,28,23,10,14,13,20,23,15,8,10,13,6,12,19,15,11,14,26,25,26,10,10,19,19,9,8,22,13,10,20,16,19,25,14,13,11,28,23,18,24,12,17,32,17,18,14,25,23,17,22,16,17,11,18,34,21,9,15,20,11,16,13,38,6,11,11,14,12,19,11,24,11,7,18,24,12,18,21,17,25,13,16,25,17,9,35,14,17,4,9,26,16,8,16,21,18,13,18,20,10,9,19,9,6,14,19,15,11,19,25,12,9,22,9,18,14,26,15,24,15,20,32,15,22,24,17,13,15,18,16,12,19,10,18,17,29,17,12,46,13,4,15,27,15,18,34,37,31,15,12,16,16,37,17,25,21,2,17,10,17,18,7,17,23,17,32,11,10,5,10,27,12,19,16,22,12,23,18,15,24,13,11,16,17,5,6,9,14,31,10,10,11,23,10,28,23,6,18,9,24,11,9,19,11,48,14,12,6,17,12,16,39,9,21,13,36,17,22,23,18,12,14,15,13,10,16,11,13,15,20,7,26,21,11,21,25,18,28,20,25,10,22,10,16,20,20,13,12,13,16,25,13,21,14,12,11,15,16,20,13,12,25,15,17,14,16,17,31,9,13,19,16,16,13,13,26,26,13,21,12,11,15,12,14,32,16,50,9,33,17,19,31,12,13,10,14,25,23,11,16,19,16,17,21,24,18,24,12,18,10,15,12,13,10,10,28,10,21,28,35,15,9,31,27,12,36,33,26,17,9,12,24,20,6,24,12,14,26,11,17,33,10,29,24,16,13,34,30,13,26,11,12,14,19,28,10,14,9,9,19,31,13,9,12,11,14,30,9,25,30,15,22,18,16,31,21,13,16,38,13,15,15,28,23,7,15,24,20,14,18,11,25,22,16,9,31,20,5,31,28,14,21,18,13,27,17,20,19,23,23,15,15,7,24,30,16,11,14,7,48,32,22,14,32,31,23,11,22,16,16,10,18,23,21,18,20,19,16,30,15,14,13,38,17,24,15,12,19,11,11,14,21,15,15,20,6,15,25,15,7,29,15,12,18,41,25,14,9,17,12,16,22,4,21,23,16,12,16,14,24,17,27,7,26,10,32,10,17,20,25,14,9,19,7,32,17,22,26,13,13,9,25,18,9,13,18,7,27,10,12,27,25,15,7,18,14,53,15,16,30,17,17,24,23,25,26,14,22,16,18,17,27,9,13,28,7,6,10,20,18,10,11,6,14,17,20,30,13,20,31,9,8,14,13,16,7,14,22,9,12,7,15,13,27,11,13,16,27,16,19,29,21,29,16,23,26,22,17,22,13,11,11,10,22,18,14,21,7,30,15,23,11,18,14,22,12,23,21,14,12,10,6,11,14,13,20,13,17,16,21,22,14,22,18,14,11,23,15,14,19,23,7,10,19,23,22,19,27,17,19,12,21,7,27,13,25,15,24,14,19,15,9,20,12,20,42,14,22,9,18,14,21,9,32,10,38,22,13,10,9,17,12,13,16,9,10,14,35,26,6,23,23,9,15,12,17,18,15,21,15,21,21,32,22,13,16,17,11,28,36,31,34,22,24,16,13,11,3,7,24,20,22,10,21,33,12,20,17,36,9,17,18,25,16,16,22,9,8,18,29,25,14,28,15,18,11,11,12,17,9,19,19,22,14,25,26,3,21,22,8,8,16,19,17,5,29,9,17,19,23,30,7,18,12,17,13,24,18,20,12,33,27,39,22,13,10,9,26,14,23,12,25,26,9,21,18,7,6,38,12,9,12,14,26,32,10,9,13,16,17,38,35,23,35,10,30,12,13,24,15,25,11,21,7,18,11,27,13,9,25,14,10,28,26,14,13,19,12,20,30,22,10,21,12,8,13,12,15,16,10,18,16,14,15,12,27,11,14,24,3,17,24,16,19,14,18,8,9,22,20,16,30,13,9,15,7,16,30,14,18,19,21,9,16,44,27,21,16,14,9,39,17,14,13,17,12,18,16,12,21,13,23,13,13,24,5,9,10,11,12,21,17,11,16,17,11,17,11,11,22,11,14,9,12,26,31,18,22,7,14,23,21,19,25,27,8,20,10,19,19,17,22,12,20,21,10,40,37,19,19,28,14,17,20,16,19,27,16,22,24,17,14,17,18,16,15,24,41,8,17,44,12,22,5,22,14,28,40,18,25,17,13,13,11,14,14,16,15,24,15,22,20,26,14,14,27,21,12,13,31,13,23,11,34,13,9,26,24,26,11,9,13,12,18,17,10,19,14,21,30,11,26,16,13,17,34,16,9,16,31,17,13,25,19,28,18,11,20,11,19,21,10,12,8,38,8,33,15,17,22,20,13,21,19,17,15,10,29,44,30,36,11,16,30,25,7,31,22,19,12,26,11,20,8,17,22,9,15,19,17,22,23,13,10,20,5,23,32,26,46,16,8,28,23,6,13,42,20,20,19,19,22,18,24,32,13,13,20,10,14,30,20,16,11,31,18,8,15,39,5,35,29,33,10,32,9,14,15,7,27,10,10,40,20,26,17,9,12,12,25,24,17,16,7,37,18,9,14,20,26,8,7,6,10,18,23,27,33,15,20,16,13,16,46,30,29,17,9,11,22,21,24,18,15,24,22,11,29,6,15,24,14,18,10,21,10,16,20,12,11,13,12,8,21,13,20,15,13,16,9,30,20,19,22,25,25,7,15,20,20,19,36,28,15,18,20,16,18,14,26,14,13,42,17,21,19,20,13,11,40,15,14,18,19,11,21,20,25,41,11,15,15,19,16,25,14,33,22,24,26,25,19,16,21,9,5,11,17,5,10,12,9,21,18,9,24,21,29,23,24,57,12,13,15,18,16,12,11,13,38,14,10,12,12,16,12,24,18,14,8,11,40,25,16,24,16,8,18,14,18,20,16,14,21,11,18,17,19,19,14,13,19,26,34,22,10,20,13,14,9,14,11,13,18,10,16,16,32,19,16,15,14,39,31,17,10,20,26,8,22,11,14,11,26,15,12,26,14,37,22,24,13,13,15,7,24,36,15,7,30,22,10,10,16,27,17,16,15,17,18,16,15,6,18,13,18,20,10,19,32,16,23,38,25,11,14,20,13,8,14,14,9,16,39,25,31,14,25,14,14,18,13,10,14,24,15,14,21,14,16,33,29,17,9,16,13,23,37,9,13,26,23,12,19,25,17,14,16,17,66,16,25,13,15,19,17,18,18,9,23,14,14,24,15,30,6,10,12,25,12,13,11,8,22,26,19,11,16,9,37,4,22,34,17,16,14,14,15,32,9,16,21,19,29,13,19,26,22,22,20,24,35,13,17,18,11,10,14,29,13,15,18,12,32,17,8,12,28,11,32,8,10,13,5,9,15,8,20,16,33,9,14,9,23,26,16,24,11,33,10,26,19,19,28,40,28,22,3,11,14,28,10,10,22,10,17,26,18,29,12,25,18,20,14,21,23,29,21,14,21,9,10,10,17,18,11,25,11,13,12,23,20,26,16,17,4,18,38,14,38,20,23,20,7,31,30,13,18,17,22,12,22,34,15,14,15,21,20,31,14,25,13,18,13,11,35,14,10,11,20,8,8,25,11,32,11,31,18,12,27,18,20,32,15,25,10,18,11,13,21,23,16,4,16,11,11,8,12,22,27,10,18,14,15,13,17,10,26,9,18,17,9,14,28,31,29,18,13,21,20,20,20,12,32,16,16,27,11,12,17,40,18,13,24,23,18,12,18,9,11,22,14,24,15,19,16,41,25,16,22,28,41,7,21,11,25,14,12,20,12,3,11,15,18,9,7,11,39,13,17,11,10,26,4,30,19,20,15,24,13,15,30,19,17,12,6,20,13,9,10,13,13,31,12,10,9,22,23,19,11,32,8,10,4,15,22,13,9,20,9,6,33,14,32,20,14,28,16,22,33,16,25,27,22,20,11,17,12,10,22,22,9,8,17,13,19,22,26,29,11,17,24,20,17,27,10,19,28,13,30,13,13,13,17,21,14,24,12,17,7,16,10,26,20,11,32,27,13,8,31,24,27,26,33,13,19,22,8,11,8,15,13,33,21,10,14,25,11,15,15,8,9,19,29,27,15,8,12,14,17,25,13,21,10,12,21,16,9,12,7,15,37,18,8,11,13,16,11,22,14,16,18,34,13,27,22,13,14,25,19,15,11,14,14,32,18,14,28,18,12,9,17,25,17,11,16,10,11,9,19,28,7,12,32,18,25,15,12,17,17,23,19,13,12,8,13,32,17,20,26,18,16,12,6,26,32,13,18,21,17,17,19,36,14,20,25,10,18,28,23,15,14,35,11,17,10,13,18,13,26,18,9,5,12,16,15,12,24,7,15,21,14,17,15,38,12,19,5,9,10,12,17,27,8,27,20,8,12,8,37,35,13,20,35,6,13,23,13,18,24,16,16,15,20,16,35,41,17,9,16,21,9,29,32,22,27,13,23,5,15,26,42,12,31,18,10,26,19,24,10,13,9,26,20,13,34,19,24,16,21,11,7,14,9,13,21,19,26,9,22,24,11,13,10,9,24,19,14,14,25,17,22,14,8,15,25,7,30,15,17,14,16,20,17,38,35,25,9,6,28,27,26,26,7,13,21,13,27,16,23,17,13,9,29,13,12,20,26,6,12,9,24,36,9,19,36,23,17,12,12,17,14,24,35,20,10,24,16,15,29,17,31,15,30,12,27,16,27,24,15,11,16,27,13,4,22,26,10,16,13,10,26,12,21,17,30,9,10,22,11,28,25,16,18,21,26,30,13,16,23,23,15,18,22,19,8,20,13,7,18,38,13,28,13,15,5,17,29,23,30,16,10,9,17,10,19,13,16,17,15,11,14,14,10,21,27,36,20,13,16,10,21,11,8,32,17,9,22,11,19,23,12,18,15,21,17,7,15,11,14,13,27,19,37,27,11,33,8,22,22,11,15,14,20,15,11,15,24,18,16,13,24,13,18,7,30,24,34,28,12,13,17,21,13,30,13,15,8,35,26,8,12,13,12,26,10,18,23,11,18,11,27,17,21,13,12,11,12,17,27,15,14,15,14,23,19,13,24,13,22,7,13,60,22,35,36,11,26,18,16,11,15,12,11,43,20,21,10,10,10,37,8,9,11,18,10,34,11,12,40,26,18,23,24,18,17,6,23,25,22,21,10,15,28,13,15,16,23,11,17,18,25,21,22,13,31,29,17,13,26,14,22,13,23,16,12,21,22,14,21,18,17,35,18,11,11,9,17,27,36,23,21,13,22,20,20,18,39,13,10,25,21,10,20,24,8,11,22,15,12,23,14,13,10,7,25,27,20,30,8,18,19,9,10,13,8,28,17,14,16,19,14,37,25,15,18,17,6,10,15,22,30,48,12,9,18,19,28,33,19,26,17,10,15,8,25,13,21,8,31,17,11,7,21,4,15,21,12,19,11,10,8,13,15,9,5,11,6,12,12,11,14,18,17,21,28,11,16,9,8,16,20,20,18,14,8,42,8,31,32,26,19,12,10,18,21,27,8,15,14,33,11,23,10,15,15,16,25,12,20,12,8,33,21,21,18,14,9,17,8,19,29,17,15,10,8,17,20,26,22,11,22,19,6,20,41,34,20,23,27,15,18,21,13,13,24,14,12,37,34,18,13,12,29,52,33,14,21,28,14,21,7,20,21,16,10,7,13,21,12,20,13,31,8,21,16,23,8,15,17,18,15,21,18,15,21,10,25,8,14,11,20,5,35,6,11,11,14,46,28,12,8,15,24,21,14,30,5,15,11,23,24,16,17,23,26,22,18,19,17,17,15,16,13,32,8,14,16,30,21,16,16,6,32,25,35,13,20,54,46,11,16,9,21,18,13,8,13,21,11,24,4,18,11,42,15,14,19,19,14,17,27,18,23,17,19,21,29,6,9,26,12,19,11,9,13,13,11,17,21,10,14,30,26,19,19,24,24,13,21,9,10,17,10,16,15,7,17,16,13,14,12,26,16,17,10,25,14,31,21,29,6,14,11,7,24,18,13,16,10,32,21,11,21,15,29,10,32,25,29,20,24,17,19,13,17,17,30,20,18,28,23,29,27,9,28,17,23,23,18,22,9,13,48,27,12,31,10,21,18,19,11,21,20,22,28,38,27,20,29,25,16,15,13,19,13,18,18,14,10,18,7,26,15,17,18,13,29,7,27,25,21,27,7,9,9,15,13,19,13,14,19,13,11,13,20,21,43,22,12,24,33,6,19,11,13,13,17,8,16,28,7,18,25,13,8,15,16,18,8,31,15,9,14,24,14,13,9,28,17,17,11,9,15,10,20,9,21,19,21,23,15,36,8,20,14,13,10,20,13,10,34,19,17,13,15,23,11,23,14,21,21,20,25,12,19,17,15,33,9,17,16,13,18,9,26,16,28,16,22,29,37,12,49,19,24,22,23,18,25,16,17,18,19,8,26,10,23,8,14,12,10,15,15,11,16,12,34,10,12,22,32,19,15,23,19,29,14,16,15,17,17,20,21,9,10,22,18,10,34,16,7,13,9,20,9,22,22,29,22,16,10,18,24,21,14,13,18,19,11,10,17,6,14,18,18,21,15,14,16,24,14,19,19,19,22,12,26,22,10,20,29,15,11,19,8,17,9,19,17,12,9,16,20,20,19,12,18,17,21,5,12,15,21,12,13,12,28,10,26,18,10,13,12,11,29,13,15,35,28,16,25,21,24,14,9,21,23,17,14,13,32,22,16,17,11,13,12,35,38,27,16,17,21,11,15,25,20,11,21,15,5,19,20,28,14,13,28,16,13,11,8,26,10,24,13,30,22,19,4,40,24,16,19,3,14,30,20,15,10,17,20,16,24,10,21,25,6,15,14,18,10,6,16,7,19,12,8,15,27,9,8,13,7,13,21,23,24,7,5,22,16,19,7,19,28,17,17,15,21,10,20,18,17,29,19,15,11,19,19,21,15,18,9,17,8,23,14,14,28,16,19,20,19,17,15,27,11,38,17,16,16,11,19,15,15,28,27,12,15,19,22,5,17,21,27,6,19,19,21,34,23,26,10,29,9,12,22,22,24,28,9,19,7,27,25,16,23,27,13,11,16,8,16,16,17,28,13,43,16,15,31,13,15,35,18,14,25,28,11,17,13,12,15,16,11,23,15,10,22,30,18,3,24,33,37,15,21,19,17,22,27,24,7,8,7,21,22,22,14,12,18,13,8,19,12,13,22,8,17,12,9,40,20,19,17,10,9,12,12,12,15,16,14,27,13,8,13,17,17,17,22,14,20,26,17,8,19,18,13,18,26,10,18,36,19,20,14,15,35,22,15,45,13,11,19,21,18,13,14,39,18,13,16,14,17,12,19,12,11,39,32,14,29,30,9,14,10,9,14,23,16,15,13,15,12,11,14,14,17,26,13,19,4,17,30,25,17,14,25,23,14,17,11,24,10,22,22,26,16,29,22,18,35,27,17,11,11,19,6,12,23,16,21,11,19,21,12,18,8,17,20,32,18,10,24,11,6,21,36,14,13,35,35,11,22,15,14,24,12,22,19,8,22,24,242,12,12,33,28,9,13,19,12,19,48,21,2,21,9,20,7,19,8,19,20,30,10,10,13,10,19,22,26,18,23,7,18,8,28,14,17,11,11,16,17,19,14,19,15,32,13,12,6,15,13,14,22,29,44,24,33,11,18,19,32,55,20,27,11,25,18,12,20,34,12,25,16,13,14,12,26,19,11,23,20,10,15,10,19,15,9,26,9,19,9,13,14,5,23,28,11,9,26,23,21,39,19,16,15,25,13,13,25,13,22,18,16,26,17,7,21,26,34,21,24,36,20,19,11,5,8,8,12,13,26,20,18,5,22,24,10,20,11,9,18,19,12,26,13,17,31,18,15,4,7,21,9,12,12,6,8,31,15,36,7,10,14,18,18,15,16,11,20,16,21,22,13,22,13,12,14,13,23,25,23,23,12,13,11,7,18,20,21,36,22,13,22,21,22,10,26,20,21,15,10,30,32,19,18,23,34,12,24,9,28,31,16,9,22,5,12,34,26,11,25,19,8,9,17,28,26,13,20,9,12,13,11,27,17,14,26,10,15,46,16,8,24,28,20,28,8,19,18,12,17,16,22,27,22,18,11,18,13,18,7,11,18,12,8,18,9,33,9,25,21,21,8,7,6,24,7,18,12,16,16,23,10,23,5,24,36,33,12,16,23,9,29,10,15,31,13,13,15,31,14,12,23,15,19,34,15,25,14,11,22,9,16,13,9,9,12,26,17,15,28,8,35,20,20,35,15,10,11,23,9,15,26,14,16,21,8,21,17,25,30,14,18,8,10,16,29,22,19,25,11,28,8,29,16,33,12,6,12,14,25,10,18,18,15,18,12,16,12,22,11,23,11,14,13,11,20,25,5,33,13,16,20,20,19,22,10,15,12,14,11,24,26,27,20,9,13,13,28,33,13,9,11,12,19,12,14,10,2,15,25,25,22,32,13,11,12,28,7,20,35,11,18,17,21,11,8,7,25,12,10,27,27,6,25,22,15,13,14,16,23,11,17,11,16,38,15,19,23,16,33,22,12,18,34,18,28,6,11,18,10,11,25,17,33,15,21,18,5,28,10,11,22,9,9,20,16,13,8,9,25,14,14,14,13,14,8,12,17,14,13,30,8,6,35,21,13,8,39,15,13,28,25,29,22,24,36,12,11,22,22,22,18,16,19,23,22,35,13,18,29,8,13,9,23,9,29,12,19,27,28,16,12,18,8,14,25,12,13,19,13,24,19,25,27,13,9,15,15,15,15,24,8,14,17,22,12,15,19,29,10,16,13,16,11,7,9,23,16,15,17,20,8,17,27,7,16,17,35,13,13,17,17,14,21,16,16,11,19,6,9,13,23,30,9,21,14,24,22,13,26,14,9,20,18,11,25,14,21,10,31,25,8,9,34,20,28,36,17,18,20,8,13,20,11,20,19,9,18,9,17,8,13,12,17,8,10,14,17,15,2,10,28,14,21,27,17,18,13,14,17,37,23,21,20,19,18,19,13,20,14,14,17,16,21,6,12,8,13,6,25,13,22,25,6,18,11,20,24,21,17,13,15,6,20,13,31,10,16,12,15,24,16,9,14,8,21,25,17,15,25,17,36,45,34,16,21,15,16,20,39,24,28,13,21,21,7,9,14,15,14,13,17,12,19,10,15,32,13,28,25,9,12,18,18,15,19,14,33,17,13,14,14,16,29,13,17,27,12,28,13,15,11,26,29,22,29,9,12,9,19,23,17,11,30,17,16,16,22,16,6,24,11,38,14,12,15,17,15,15,22,24,23,20,27,29,12,33,17,13,17,13,11,24,23,7,12,20,13,27,19,31,20,13,22,20,16,12,31,9,41,15,9,12,21,21,25,8,13,14,9,13,15,17,27,10,12,8,23,26,26,18,16,25,15,21,8,13,22,26,30,23,13,23,10,11,24,6,15,24,26,18,17,13,33,6,18,10,14,30,10,10,25,14,19,12,8,14,16,14,12,14,13,18,23,14,24,33,14,18,12,8,10,5,3,21,13,18,15,18,14,18,23,10,6,17,20,25,15,15,13,30,25,20,13,24,5,12,15,12,10,12,26,46,20,22,16,12,13,21,12,17,11,29,15,13,24,21,18,23,13,19,10,27,20,7,15,27,11,19,14,18,9,18,13,14,11,20,24,14,8,18,19,28,12,24,21,8,24,15,12,38,14,15,26,18,16,24,22,9,14,9,10,10,24,16,19,13,13,12,25,12,21,21,17,10,30,20,14,18,29,12,13,10,10,24,19,20,12,16,24,12,23,25,16,12,20,15,6,21,17,27,32,22,21,9,14,9,15,24,16,14,29,22,11,16,18,16,25,10,19,33,12,8,24,22,29,20,13,11,29,15,10,32,18,8,25,31,23,13,18,16,5,29,13,27,13,19,19,26,13,22,20,19,13,13,27,17,13,11,30,18,9,15,21,29,31,19,11,7,14,11,9,8,16,10,10,14,23,14,10,14,23,16,14,8,18,26,4,18,19,12,33,16,10,29,4,9,12,10,10,20,7,36,18,10,30,16,26,6,20,11,29,10,5,15,15,21,20,6,17,19,18,25,14,16,9,27,16,21,24,26,24,11,43,27,25,26,12,11,12,16,50,10,14,18,13,12,34,20,14,28,19,15,23,17,20,9,10,8,18,33,26,16,25,39,15,17,28,34,19,19,19,17,18,18,20,17,13,27,13,9,16,21,19,12,13,15,24,10,10,23,16,12,26,12,31,20,8,18,19,22,18,19,22,18,16,18,18,8,7,24,5,9,5,11,21,12,14,29,33,14,13,10,10,10,11,10,8,3,34,21,20,14,8,28,21,16,22,20,7,18,33,42,20,27,6,18,25,27,9,14,12,9,14,24,10,23,44,25,9,21,11,18,11,9,13,15,11,15,23,13,24,11,15,21,11,13,6,16,55,13,16,20,22,10,30,25,31,34,25,10,7,26,35,7,14,19,26,11,15,13,12,29,13,9,22,18,21,15,29,19,33,9,13,11,20,14,20,31,14,19,10,24,16,23,8,18,29,14,17,13,19,22,12,10,8,19,20,26,7,16,13,24,8,11,24,7,16,23,18,19,12,12,15,18,21,18,39,7,19,14,33,17,11,18,17,13,9,33,30,29,22,8,12,18,20,17,18,23,8,13,14,27,14,14,21,18,14,16,15,22,21,9,34,21,11,33,38,20,5,13,21,15,28,14,15,8,10,9,16,19,17,8,19,14,16,23,12,26,9,317,15,12,30,7,7,14,6,22,15,12,17,21,18,10,23,21,38,10,10,14,44,36,14,27,12,19,7,16,14,20,10,25,17,6,21,25,24,12,17,31,9,10,12,9,30,20,23,16,25,10,9,32,11,32,27,23,23,13,30,16,11,39,22,16,16,20,12,12,20,13,38,17,16,27,16,20,13,35,21,14,11,13,21,14,17,14,9,2,9,13,12,10,25,12,17,20,16,14,20,19,34,16,5,26,14,23,15,16,11,21,20,34,16,25,22,31,10,13,14,9,23,21,26,23,21,16,22,9,16,21,22,16,11,28,14,20,22,11,23,17,13,25,20,19,32,17,13,13,39,21,20,12,15,31,12,9,28,24,12,33,18,20,16,22,20,11,24,9,19,34,28,9,24,11,23,8,31,10,15,26,16,9,17,23,11,23,11,16,18,34,10,8,12,15,7,22,9,21,9,31,12,22,29,26,24,13,16,26,12,14,31,9,27,16,11,13,5,15,24,23,36,10,21,22,20,23,36,15,20,14,11,28,20,28,11,28,18,25,21,7,10,28,29,38,12,17,24,21,13,18,20,11,12,12,6,14,27,35,18,15,33,12,6,20,17,21,19,53,5,3,15,31,40,10,17,18,25,31,9,18,16,22,11,34,17,10,27,42,15,8,33,25,12,25,12,16,21,11,15,9,10,12,9,21,44,10,25,12,11,15,29,27,27,17,11,18,19,11,26,11,24,15,17,10,28,11,37,17,11,8,18,7,17,15,18,15,22,8,14,25,21,10,4,11,24,45,11,14,10,27,13,20,35,18,11,11,14,30,12,11,40,11,19,13,14,12,13,18,24,8,21,14,18,18,21,8,18,9,25,27,15,21,12,27,18,28,12,23,16,24,11,16,15,30,18,19,39,20,18,17,11,17,27,25,22,7,44,28,32,14,5,20,18,9,28,14,21,18,12,19,12,17,19,21,10,12,21,36,9,30,15,25,15,28,13,24,20,33,27,32,22,11,10,11,11,17,10,28,13,27,8,19,15,15,13,25,15,32,31,17,43,27,12,31,18,16,25,10,10,23,20,10,17,17,12,12,9,16,25,34,14,15,22,15,20,22,17,30,19,26,11,17,17,11,11,13,9,18,15,22,37,4,17,16,12,8,11,12,30,17,14,28,19,17,24,23,13,8,9,13,23,17,17,23,23,13,24,10,11,23,19,17,12,29,15,10,14,13,31,18,34,10,20,14,8,16,19,12,11,15,7,16,11,8,17,17,11,33,9,13,17,22,19,34,11,33,19,25,9,20,16,9,27,13,34,20,20,20,16,15,12,16,11,9,20,37,8,16,16,10,18,22,15,8,15,25,22,10,11,14,12,13,12,28,13,19,19,31,14,21,53,13,30,8,10,16,9,30,23,14,23,26,25,17,20,15,10,22,22,19,7,12,18,10,18,21,21,21,17,7,13,9,11,15,11,28,22,27,20,11,20,22,20,14,24,14,5,17,12,24,23,11,11,11,28,7,9,22,11,16,11,19,5,17,16,15,11,23,13,7,25,13,31,21,22,27,17,24,18,13,13,23,11,14,10,46,18,14,15,24,21,39,5,12,31,18,9,15,14,7,11,16,11,6,18,25,32,29,23,33,32,27,17,18,25,15,8,22,27,25,14,8,3,8,28,20,11,26,25,23,29,20,19,15,25,15,14,14,13,15,30,26,16,33,24,12,12,12,16,15,13,21,10,19,14,11,18,13,15,19,32,4,11,13,28,29,20,28,18,10,16,14,13,19,17,15,21,19,16,22,30,7,19,14,11,16,39,10,12,18,22,14,15,15,22,25,31,15,16,26,15,22,28,25,11,33,13,14,17,22,20,9,15,43,14,14,28,29,12,19,15,14,14,7,23,28,21,33,29,35,11,12,31,21,16,18,7,17,6,10,18,9,18,14,18,24,31,12,22,17,20,13,7,11,19,12,13,16,21,13,24,35,20,25,15,9,8,13,18,14,37,16,23,17,14,26,7,12,29,21,17,18,19,21,12,13,10,11,9,15,6,22,9,6,16,5,29,15,14,12,16,15,22,28,16,15,10,20,26,16,17,10,9,6,19,34,9,6,15,9,3,18,7,12,22,19,19,41,7,11,26,14,17,12,13,13,22,19,11,17,12,25,19,18,21,18,24,10,48,15,19,11,15,21,15,16,17,11,6,25,11,7,13,13,25,24,9,18,14,12,24,7,9,25,16,19,14,9,8,10,13,17,36,12,23,17,16,10,15,13,14,9,15,19,11,22,30,11,11,13,13,22,14,23,30,11,25,11,19,26,17,19,11,14,16,23,26,21,23,14,17,12,17,15,29,42,19,31,20,13,12,18,28,23,13,17,21,20,25,10,20,6,18,12,30,17,42,13,13,26,18,13,15,17,18,12,24,22,22,13,20,21,9,16,31,9,19,12,12,34,15,13,33,18,25,12,15,11,21,17,15,3,15,17,33,23,19,16,22,20,18,20,11,25,6,29,27,11,11,10,17,10,19,11,16,13,11,10,16,23,11,25,18,16,15,11,26,21,13,11,13,14,30,12,24,12,23,32,13,18,12,15,6,10,24,12,13,12,17,11,17,12,19,20,17,16,16,16,16,22,38,21,20,30,29,23,22,12,17,21,7,12,24,11,22,11,13,9,10,14,22,13,16,11,11,12,6,16,5,21,15,12,27,29,23,21,16,18,10,16,14,13,14,28,17,10,14,31,16,7,13,23,12,12,23,23,26,21,15,37,25,14,22,13,10,17,23,15,24,15,21,18,23,42,18,26,3,19,9,13,15,31,28,22,6,29,10,19,19,16,5,13,16,16,27,23,8,9,16,25,28,21,26,25,20,24,16,31,32,17,8,23,21,9,29,19,20,20,25,17,37,20,11,26,27,17,14,6,9,30,14,11,19,14,13,16,11,16,16,8,36,20,13,27,28,17,26,22,17,22,11,13,16,13,31,10,21,18,22,18,11,19,20,6,34,7,21,16,10,14,21,12,26,17,12,10,8,28,15,35,20,24,14,49,18,16,26,12,44,13,4,15,10,13,8,6,15,8,17,20,10,35,16,17,10,7,7,10,22,13,14,18,20,19,9,32,24,19,9,9,7,26,17,14,10,23,10,17,18,21,13,21,36,15,7,6,11,34,11,26,19,22,53,7,19,41,10,15,7,23,32,23,18,10,24,12,20,11,13,6,23,10,27,36,8,19,14,10,15,11,22,15,12,17,15,28,22,16,26,33,17,21,10,19,23,10,28,14,11,16,11,26,13,29,17,22,13,24,22,15,9,29,20,11,15,8,17,12,8,18,41,24,20,15,25,28,12,23,10,31,46,8,7,23,7,18,20,16,16,16,29,14,16,9,18,22,14,23,12,13,11,29,5,18,23,16,16,8,19,32,12,32,27,6,12,37,11,33,16,6,31,14,21,21,16,16,18,18,19,10,12,29,22,18,18,16,14,17,18,13,14,16,16,31,15,17,10,17,13,19,8,13,9,22,15,22,6,26,16,16,10,26,13,20,21,24,23,10,20,23,4,18,15,9,20,26,6,6,14,23,4,11,11,9,14,17,16,12,25,32,16,39,16,21,9,35,29,11,30,13,22,26,22,20,13,9,24,11,13,22,25,8,12,14,30,22,12,13,8,22,10,17,16,22,18,25,8,12,15,12,9,13,24,9,8,25,19,15,12,15,11,12,29,25,24,20,14,25,10,25,17,10,14,20,34,16,21,11,8,14,24,21,16,12,13,8,25,31,11,10,16,10,18,42,11,16,23,11,26,18,12,15,14,14,33,9,19,7,29,21,33,10,13,34,6,14,18,41,19,19,8,21,24,37,27,14,13,11,29,16,6,19,21,33,25,19,17,23,11,13,10,12,16,15,9,9,24,20,21,6,7,28,28,40,15,15,11,14,33,12,13,24,11,23,33,14,19,11,26,23,28,19,15,7,14,22,24,10,36,14,15,16,6,20,12,15,13,24,11,11,25,21,13,21,12,17,11,23,15,17,10,18,13,5,23,14,31,21,22,21,28,24,15,11,15,24,15,21,8,21,15,14,6,26,8,15,28,18,17,12,21,21,26,12,22,16,14,17,23,13,12,21,15,16,175,18,26,7,23,24,28,10,22,15,13,6,9,9,31,13,6,11,25,12,10,15,6,17,14,7,17,32,16,12,18,18,23,20,31,10,16,20,14,7,8,20,9,35,14,23,15,13,27,9,15,28,35,37,31,25,12,21,14,29,14,21,36,13,26,12,27,10,13,14,14,11,15,16,12,11,12,15,10,16,20,20,27,16,12,16,11,7,7,20,23,20,21,13,10,13,24,16,27,15,16,28,22,12,28,4,17,12,17,20,15,13,19,25,8,9,15,9,15,11,16,18,22,26,10,14,22,7,16,13,28,14,8,29,9,7,10,19,10,13,17,20,12,25,13,7,20,11,16,18,16,7,16,18,20,20,14,17,21,13,11,15,18,23,10,17,32,12,14,21,15,8,46,18,11,11,23,22,9,17,15,20,25,28,27,19,20,12,11,14,24,10,16,22,13,23,14,12,13,15,20,12,17,20,10,39,25,26,19,19,12,17,24,18,13,18,12,24,29,16,15,10,21,9,11,20,10,12,30,13,17,13,14,12,8,18,9,28,29,13,19,20,10,13,8,21,17,10,5,17,34,33,13,14,15,10,23,12,12,14,31,30,16,14,21,8,34,9,11,22,19,23,22,13,29,18,13,25,16,11,16,6,11,15,13,21,33,17,29,24,9,13,18,19,15,14,20,13,18,4,32,15,15,22,26,8,22,26,14,18,21,10,18,26,26,13,16,21,39,15,26,17,9,16,21,21,25,21,10,41,37,12,9,30,13,7,10,10,23,22,24,31,26,16,23,17,15,23,35,13,24,7,14,12,21,16,12,30,27,17,27,11,9,26,13,16,36,24,14,16,14,10,12,9,30,22,19,12,17,20,21,16,18,15,24,20,10,14,32,12,14,25,8,30,8,9,20,9,12,18,19,31,14,17,23,9,21,10,20,28,16,29,22,33,19,18,13,6,13,28,11,8,20,8,18,8,21,14,21,18,7,32,20,7,23,21,11,18,15,24,10,27,22,20,19,29,17,22,12,17,25,9,16,11,10,17,26,17,32,18,20,13,21,10,14,19,29,19,40,10,14,28,15,7,16,12,11,23,12,19,13,21,18,13,17,5,19,20,14,16,7,16,13,29,32,18,23,27,7,19,15,24,13,23,27,11,19,12,8,16,8,15,19,17,27,14,21,12,18,9,24,10,23,10,23,12,13,8,12,21,28,13,35,14,14,17,14,13,14,11,17,19,38,11,12,22,22,32,14,7,11,11,19,32,9,8,16,16,17,35,8,29,24,6,47,17,9,11,20,6,21,7,25,12,46,12,20,9,18,13,11,14,6,11,17,24,19,65,13,15,17,14,31,12,35,10,19,27,27,12,12,8,21,13,18,6,9,17,11,24,21,15,26,19,16,17,32,24,16,19,19,10,19,37,8,16,19,10,23,17,22,10,17,40,24,22,10,15,17,13,21,7,9,14,15,15,10,22,24,11,13,24,12,17,12,14,11,22,12,17,20,19,24,25,19,22,17,28,22,6,33,18,6,12,37,10,13,23,16,12,7,20,18,23,24,13,38,9,28,10,12,5,12,12,20,9,15,18,12,11,7,18,28,34,16,28,22,9,14,18,10,25,24,22,20,12,12,29,27,19,9,30,7,12,19,32,22,16,10,34,23,7,19,21,9,11,14,12,17,20,18,15,19,26,20,21,20,25,31,22,14,23,12,24,14,14,28,13,14,18,7,14,13,18,18,34,21,18,18,24,16,29,30,36,9,18,23,9,14,22,11,18,13,15,24,20,39,24,17,19,32,17,21,30,15,15,11,21,24,16,14,10,31,28,25,20,12,27,19,17,12,15,23,17,18,18,14,23,14,7,16,9,12,22,19,25,14,11,13,9,19,12,27,34,14,16,9,21,22,23,16,12,24,10,25,13,13,20,15,26,28,31,15,16,7,20,19,19,35,37,17,14,28,11,30],\"xaxis\":\"x\",\"yaxis\":\"y\",\"type\":\"histogram\"}],                        {\"template\":{\"data\":{\"histogram2dcontour\":[{\"type\":\"histogram2dcontour\",\"colorbar\":{\"outlinewidth\":0,\"ticks\":\"\"},\"colorscale\":[[0.0,\"#0d0887\"],[0.1111111111111111,\"#46039f\"],[0.2222222222222222,\"#7201a8\"],[0.3333333333333333,\"#9c179e\"],[0.4444444444444444,\"#bd3786\"],[0.5555555555555556,\"#d8576b\"],[0.6666666666666666,\"#ed7953\"],[0.7777777777777778,\"#fb9f3a\"],[0.8888888888888888,\"#fdca26\"],[1.0,\"#f0f921\"]]}],\"choropleth\":[{\"type\":\"choropleth\",\"colorbar\":{\"outlinewidth\":0,\"ticks\":\"\"}}],\"histogram2d\":[{\"type\":\"histogram2d\",\"colorbar\":{\"outlinewidth\":0,\"ticks\":\"\"},\"colorscale\":[[0.0,\"#0d0887\"],[0.1111111111111111,\"#46039f\"],[0.2222222222222222,\"#7201a8\"],[0.3333333333333333,\"#9c179e\"],[0.4444444444444444,\"#bd3786\"],[0.5555555555555556,\"#d8576b\"],[0.6666666666666666,\"#ed7953\"],[0.7777777777777778,\"#fb9f3a\"],[0.8888888888888888,\"#fdca26\"],[1.0,\"#f0f921\"]]}],\"heatmap\":[{\"type\":\"heatmap\",\"colorbar\":{\"outlinewidth\":0,\"ticks\":\"\"},\"colorscale\":[[0.0,\"#0d0887\"],[0.1111111111111111,\"#46039f\"],[0.2222222222222222,\"#7201a8\"],[0.3333333333333333,\"#9c179e\"],[0.4444444444444444,\"#bd3786\"],[0.5555555555555556,\"#d8576b\"],[0.6666666666666666,\"#ed7953\"],[0.7777777777777778,\"#fb9f3a\"],[0.8888888888888888,\"#fdca26\"],[1.0,\"#f0f921\"]]}],\"heatmapgl\":[{\"type\":\"heatmapgl\",\"colorbar\":{\"outlinewidth\":0,\"ticks\":\"\"},\"colorscale\":[[0.0,\"#0d0887\"],[0.1111111111111111,\"#46039f\"],[0.2222222222222222,\"#7201a8\"],[0.3333333333333333,\"#9c179e\"],[0.4444444444444444,\"#bd3786\"],[0.5555555555555556,\"#d8576b\"],[0.6666666666666666,\"#ed7953\"],[0.7777777777777778,\"#fb9f3a\"],[0.8888888888888888,\"#fdca26\"],[1.0,\"#f0f921\"]]}],\"contourcarpet\":[{\"type\":\"contourcarpet\",\"colorbar\":{\"outlinewidth\":0,\"ticks\":\"\"}}],\"contour\":[{\"type\":\"contour\",\"colorbar\":{\"outlinewidth\":0,\"ticks\":\"\"},\"colorscale\":[[0.0,\"#0d0887\"],[0.1111111111111111,\"#46039f\"],[0.2222222222222222,\"#7201a8\"],[0.3333333333333333,\"#9c179e\"],[0.4444444444444444,\"#bd3786\"],[0.5555555555555556,\"#d8576b\"],[0.6666666666666666,\"#ed7953\"],[0.7777777777777778,\"#fb9f3a\"],[0.8888888888888888,\"#fdca26\"],[1.0,\"#f0f921\"]]}],\"surface\":[{\"type\":\"surface\",\"colorbar\":{\"outlinewidth\":0,\"ticks\":\"\"},\"colorscale\":[[0.0,\"#0d0887\"],[0.1111111111111111,\"#46039f\"],[0.2222222222222222,\"#7201a8\"],[0.3333333333333333,\"#9c179e\"],[0.4444444444444444,\"#bd3786\"],[0.5555555555555556,\"#d8576b\"],[0.6666666666666666,\"#ed7953\"],[0.7777777777777778,\"#fb9f3a\"],[0.8888888888888888,\"#fdca26\"],[1.0,\"#f0f921\"]]}],\"mesh3d\":[{\"type\":\"mesh3d\",\"colorbar\":{\"outlinewidth\":0,\"ticks\":\"\"}}],\"scatter\":[{\"fillpattern\":{\"fillmode\":\"overlay\",\"size\":10,\"solidity\":0.2},\"type\":\"scatter\"}],\"parcoords\":[{\"type\":\"parcoords\",\"line\":{\"colorbar\":{\"outlinewidth\":0,\"ticks\":\"\"}}}],\"scatterpolargl\":[{\"type\":\"scatterpolargl\",\"marker\":{\"colorbar\":{\"outlinewidth\":0,\"ticks\":\"\"}}}],\"bar\":[{\"error_x\":{\"color\":\"#2a3f5f\"},\"error_y\":{\"color\":\"#2a3f5f\"},\"marker\":{\"line\":{\"color\":\"#E5ECF6\",\"width\":0.5},\"pattern\":{\"fillmode\":\"overlay\",\"size\":10,\"solidity\":0.2}},\"type\":\"bar\"}],\"scattergeo\":[{\"type\":\"scattergeo\",\"marker\":{\"colorbar\":{\"outlinewidth\":0,\"ticks\":\"\"}}}],\"scatterpolar\":[{\"type\":\"scatterpolar\",\"marker\":{\"colorbar\":{\"outlinewidth\":0,\"ticks\":\"\"}}}],\"histogram\":[{\"marker\":{\"pattern\":{\"fillmode\":\"overlay\",\"size\":10,\"solidity\":0.2}},\"type\":\"histogram\"}],\"scattergl\":[{\"type\":\"scattergl\",\"marker\":{\"colorbar\":{\"outlinewidth\":0,\"ticks\":\"\"}}}],\"scatter3d\":[{\"type\":\"scatter3d\",\"line\":{\"colorbar\":{\"outlinewidth\":0,\"ticks\":\"\"}},\"marker\":{\"colorbar\":{\"outlinewidth\":0,\"ticks\":\"\"}}}],\"scattermapbox\":[{\"type\":\"scattermapbox\",\"marker\":{\"colorbar\":{\"outlinewidth\":0,\"ticks\":\"\"}}}],\"scatterternary\":[{\"type\":\"scatterternary\",\"marker\":{\"colorbar\":{\"outlinewidth\":0,\"ticks\":\"\"}}}],\"scattercarpet\":[{\"type\":\"scattercarpet\",\"marker\":{\"colorbar\":{\"outlinewidth\":0,\"ticks\":\"\"}}}],\"carpet\":[{\"aaxis\":{\"endlinecolor\":\"#2a3f5f\",\"gridcolor\":\"white\",\"linecolor\":\"white\",\"minorgridcolor\":\"white\",\"startlinecolor\":\"#2a3f5f\"},\"baxis\":{\"endlinecolor\":\"#2a3f5f\",\"gridcolor\":\"white\",\"linecolor\":\"white\",\"minorgridcolor\":\"white\",\"startlinecolor\":\"#2a3f5f\"},\"type\":\"carpet\"}],\"table\":[{\"cells\":{\"fill\":{\"color\":\"#EBF0F8\"},\"line\":{\"color\":\"white\"}},\"header\":{\"fill\":{\"color\":\"#C8D4E3\"},\"line\":{\"color\":\"white\"}},\"type\":\"table\"}],\"barpolar\":[{\"marker\":{\"line\":{\"color\":\"#E5ECF6\",\"width\":0.5},\"pattern\":{\"fillmode\":\"overlay\",\"size\":10,\"solidity\":0.2}},\"type\":\"barpolar\"}],\"pie\":[{\"automargin\":true,\"type\":\"pie\"}]},\"layout\":{\"autotypenumbers\":\"strict\",\"colorway\":[\"#636efa\",\"#EF553B\",\"#00cc96\",\"#ab63fa\",\"#FFA15A\",\"#19d3f3\",\"#FF6692\",\"#B6E880\",\"#FF97FF\",\"#FECB52\"],\"font\":{\"color\":\"#2a3f5f\"},\"hovermode\":\"closest\",\"hoverlabel\":{\"align\":\"left\"},\"paper_bgcolor\":\"white\",\"plot_bgcolor\":\"#E5ECF6\",\"polar\":{\"bgcolor\":\"#E5ECF6\",\"angularaxis\":{\"gridcolor\":\"white\",\"linecolor\":\"white\",\"ticks\":\"\"},\"radialaxis\":{\"gridcolor\":\"white\",\"linecolor\":\"white\",\"ticks\":\"\"}},\"ternary\":{\"bgcolor\":\"#E5ECF6\",\"aaxis\":{\"gridcolor\":\"white\",\"linecolor\":\"white\",\"ticks\":\"\"},\"baxis\":{\"gridcolor\":\"white\",\"linecolor\":\"white\",\"ticks\":\"\"},\"caxis\":{\"gridcolor\":\"white\",\"linecolor\":\"white\",\"ticks\":\"\"}},\"coloraxis\":{\"colorbar\":{\"outlinewidth\":0,\"ticks\":\"\"}},\"colorscale\":{\"sequential\":[[0.0,\"#0d0887\"],[0.1111111111111111,\"#46039f\"],[0.2222222222222222,\"#7201a8\"],[0.3333333333333333,\"#9c179e\"],[0.4444444444444444,\"#bd3786\"],[0.5555555555555556,\"#d8576b\"],[0.6666666666666666,\"#ed7953\"],[0.7777777777777778,\"#fb9f3a\"],[0.8888888888888888,\"#fdca26\"],[1.0,\"#f0f921\"]],\"sequentialminus\":[[0.0,\"#0d0887\"],[0.1111111111111111,\"#46039f\"],[0.2222222222222222,\"#7201a8\"],[0.3333333333333333,\"#9c179e\"],[0.4444444444444444,\"#bd3786\"],[0.5555555555555556,\"#d8576b\"],[0.6666666666666666,\"#ed7953\"],[0.7777777777777778,\"#fb9f3a\"],[0.8888888888888888,\"#fdca26\"],[1.0,\"#f0f921\"]],\"diverging\":[[0,\"#8e0152\"],[0.1,\"#c51b7d\"],[0.2,\"#de77ae\"],[0.3,\"#f1b6da\"],[0.4,\"#fde0ef\"],[0.5,\"#f7f7f7\"],[0.6,\"#e6f5d0\"],[0.7,\"#b8e186\"],[0.8,\"#7fbc41\"],[0.9,\"#4d9221\"],[1,\"#276419\"]]},\"xaxis\":{\"gridcolor\":\"white\",\"linecolor\":\"white\",\"ticks\":\"\",\"title\":{\"standoff\":15},\"zerolinecolor\":\"white\",\"automargin\":true,\"zerolinewidth\":2},\"yaxis\":{\"gridcolor\":\"white\",\"linecolor\":\"white\",\"ticks\":\"\",\"title\":{\"standoff\":15},\"zerolinecolor\":\"white\",\"automargin\":true,\"zerolinewidth\":2},\"scene\":{\"xaxis\":{\"backgroundcolor\":\"#E5ECF6\",\"gridcolor\":\"white\",\"linecolor\":\"white\",\"showbackground\":true,\"ticks\":\"\",\"zerolinecolor\":\"white\",\"gridwidth\":2},\"yaxis\":{\"backgroundcolor\":\"#E5ECF6\",\"gridcolor\":\"white\",\"linecolor\":\"white\",\"showbackground\":true,\"ticks\":\"\",\"zerolinecolor\":\"white\",\"gridwidth\":2},\"zaxis\":{\"backgroundcolor\":\"#E5ECF6\",\"gridcolor\":\"white\",\"linecolor\":\"white\",\"showbackground\":true,\"ticks\":\"\",\"zerolinecolor\":\"white\",\"gridwidth\":2}},\"shapedefaults\":{\"line\":{\"color\":\"#2a3f5f\"}},\"annotationdefaults\":{\"arrowcolor\":\"#2a3f5f\",\"arrowhead\":0,\"arrowwidth\":1},\"geo\":{\"bgcolor\":\"white\",\"landcolor\":\"#E5ECF6\",\"subunitcolor\":\"white\",\"showland\":true,\"showlakes\":true,\"lakecolor\":\"white\"},\"title\":{\"x\":0.05},\"mapbox\":{\"style\":\"light\"}}},\"xaxis\":{\"anchor\":\"y\",\"domain\":[0.0,1.0],\"title\":{\"text\":\"unigram lens\"}},\"yaxis\":{\"anchor\":\"x\",\"domain\":[0.0,1.0],\"title\":{\"text\":\"count\"}},\"legend\":{\"tracegroupgap\":0},\"title\":{\"text\":\"Unigram Length Distribution\"},\"barmode\":\"relative\"},                        {\"responsive\": true}                    ).then(function(){\n",
              "                            \n",
              "var gd = document.getElementById('743f91ee-7e4e-498a-bba0-2a83cc2ce8e1');\n",
              "var x = new MutationObserver(function (mutations, observer) {{\n",
              "        var display = window.getComputedStyle(gd).display;\n",
              "        if (!display || display === 'none') {{\n",
              "            console.log([gd, 'removed!']);\n",
              "            Plotly.purge(gd);\n",
              "            observer.disconnect();\n",
              "        }}\n",
              "}});\n",
              "\n",
              "// Listen for the removal of the full notebook cells\n",
              "var notebookContainer = gd.closest('#notebook-container');\n",
              "if (notebookContainer) {{\n",
              "    x.observe(notebookContainer, {childList: true});\n",
              "}}\n",
              "\n",
              "// Listen for the clearing of the current output cell\n",
              "var outputEl = gd.closest('.output');\n",
              "if (outputEl) {{\n",
              "    x.observe(outputEl, {childList: true});\n",
              "}}\n",
              "\n",
              "                        })                };                            </script>        </div>\n",
              "</body>\n",
              "</html>"
            ]
          },
          "metadata": {}
        }
      ]
    },
    {
      "cell_type": "code",
      "source": [
        "print(unigram_lens.median())\n",
        "print(unigram_lens.mean())\n",
        "print(unigram_lens.max())"
      ],
      "metadata": {
        "colab": {
          "base_uri": "https://localhost:8080/"
        },
        "id": "IWYVQfy7A49v",
        "outputId": "45a1bf7d-131d-4851-89c8-49ece563f016"
      },
      "execution_count": null,
      "outputs": [
        {
          "output_type": "stream",
          "name": "stdout",
          "text": [
            "17.0\n",
            "18.030859375\n",
            "479\n"
          ]
        }
      ]
    },
    {
      "cell_type": "code",
      "source": [
        "train_df[train_df.pants_fire_count == \"a television interview\"]"
      ],
      "metadata": {
        "colab": {
          "base_uri": "https://localhost:8080/",
          "height": 73
        },
        "id": "LZVdacnCBr6c",
        "outputId": "4108b23e-63d9-4ceb-9468-0ebc4b7ef7fb"
      },
      "execution_count": null,
      "outputs": [
        {
          "output_type": "execute_result",
          "data": {
            "text/plain": [
              "Empty DataFrame\n",
              "Columns: [id, statement_json, label, statement, subject, speaker, speaker_title, state_info, party_affiliation, barely_true_count, false_count, half_true_count, mostly_true_count, pants_fire_count, context, justification, binary_label]\n",
              "Index: []"
            ],
            "text/html": [
              "\n",
              "  <div id=\"df-73bb7289-c810-45f2-aca3-4bf222659d6e\" class=\"colab-df-container\">\n",
              "    <div>\n",
              "<style scoped>\n",
              "    .dataframe tbody tr th:only-of-type {\n",
              "        vertical-align: middle;\n",
              "    }\n",
              "\n",
              "    .dataframe tbody tr th {\n",
              "        vertical-align: top;\n",
              "    }\n",
              "\n",
              "    .dataframe thead th {\n",
              "        text-align: right;\n",
              "    }\n",
              "</style>\n",
              "<table border=\"1\" class=\"dataframe\">\n",
              "  <thead>\n",
              "    <tr style=\"text-align: right;\">\n",
              "      <th></th>\n",
              "      <th>id</th>\n",
              "      <th>statement_json</th>\n",
              "      <th>label</th>\n",
              "      <th>statement</th>\n",
              "      <th>subject</th>\n",
              "      <th>speaker</th>\n",
              "      <th>speaker_title</th>\n",
              "      <th>state_info</th>\n",
              "      <th>party_affiliation</th>\n",
              "      <th>barely_true_count</th>\n",
              "      <th>false_count</th>\n",
              "      <th>half_true_count</th>\n",
              "      <th>mostly_true_count</th>\n",
              "      <th>pants_fire_count</th>\n",
              "      <th>context</th>\n",
              "      <th>justification</th>\n",
              "      <th>binary_label</th>\n",
              "    </tr>\n",
              "  </thead>\n",
              "  <tbody>\n",
              "  </tbody>\n",
              "</table>\n",
              "</div>\n",
              "    <div class=\"colab-df-buttons\">\n",
              "\n",
              "  <div class=\"colab-df-container\">\n",
              "    <button class=\"colab-df-convert\" onclick=\"convertToInteractive('df-73bb7289-c810-45f2-aca3-4bf222659d6e')\"\n",
              "            title=\"Convert this dataframe to an interactive table.\"\n",
              "            style=\"display:none;\">\n",
              "\n",
              "  <svg xmlns=\"http://www.w3.org/2000/svg\" height=\"24px\" viewBox=\"0 -960 960 960\">\n",
              "    <path d=\"M120-120v-720h720v720H120Zm60-500h600v-160H180v160Zm220 220h160v-160H400v160Zm0 220h160v-160H400v160ZM180-400h160v-160H180v160Zm440 0h160v-160H620v160ZM180-180h160v-160H180v160Zm440 0h160v-160H620v160Z\"/>\n",
              "  </svg>\n",
              "    </button>\n",
              "\n",
              "  <style>\n",
              "    .colab-df-container {\n",
              "      display:flex;\n",
              "      gap: 12px;\n",
              "    }\n",
              "\n",
              "    .colab-df-convert {\n",
              "      background-color: #E8F0FE;\n",
              "      border: none;\n",
              "      border-radius: 50%;\n",
              "      cursor: pointer;\n",
              "      display: none;\n",
              "      fill: #1967D2;\n",
              "      height: 32px;\n",
              "      padding: 0 0 0 0;\n",
              "      width: 32px;\n",
              "    }\n",
              "\n",
              "    .colab-df-convert:hover {\n",
              "      background-color: #E2EBFA;\n",
              "      box-shadow: 0px 1px 2px rgba(60, 64, 67, 0.3), 0px 1px 3px 1px rgba(60, 64, 67, 0.15);\n",
              "      fill: #174EA6;\n",
              "    }\n",
              "\n",
              "    .colab-df-buttons div {\n",
              "      margin-bottom: 4px;\n",
              "    }\n",
              "\n",
              "    [theme=dark] .colab-df-convert {\n",
              "      background-color: #3B4455;\n",
              "      fill: #D2E3FC;\n",
              "    }\n",
              "\n",
              "    [theme=dark] .colab-df-convert:hover {\n",
              "      background-color: #434B5C;\n",
              "      box-shadow: 0px 1px 3px 1px rgba(0, 0, 0, 0.15);\n",
              "      filter: drop-shadow(0px 1px 2px rgba(0, 0, 0, 0.3));\n",
              "      fill: #FFFFFF;\n",
              "    }\n",
              "  </style>\n",
              "\n",
              "    <script>\n",
              "      const buttonEl =\n",
              "        document.querySelector('#df-73bb7289-c810-45f2-aca3-4bf222659d6e button.colab-df-convert');\n",
              "      buttonEl.style.display =\n",
              "        google.colab.kernel.accessAllowed ? 'block' : 'none';\n",
              "\n",
              "      async function convertToInteractive(key) {\n",
              "        const element = document.querySelector('#df-73bb7289-c810-45f2-aca3-4bf222659d6e');\n",
              "        const dataTable =\n",
              "          await google.colab.kernel.invokeFunction('convertToInteractive',\n",
              "                                                    [key], {});\n",
              "        if (!dataTable) return;\n",
              "\n",
              "        const docLinkHtml = 'Like what you see? Visit the ' +\n",
              "          '<a target=\"_blank\" href=https://colab.research.google.com/notebooks/data_table.ipynb>data table notebook</a>'\n",
              "          + ' to learn more about interactive tables.';\n",
              "        element.innerHTML = '';\n",
              "        dataTable['output_type'] = 'display_data';\n",
              "        await google.colab.output.renderOutput(dataTable, element);\n",
              "        const docLink = document.createElement('div');\n",
              "        docLink.innerHTML = docLinkHtml;\n",
              "        element.appendChild(docLink);\n",
              "      }\n",
              "    </script>\n",
              "  </div>\n",
              "\n",
              "\n",
              "    </div>\n",
              "  </div>\n"
            ],
            "application/vnd.google.colaboratory.intrinsic+json": {
              "type": "dataframe",
              "repr_error": "Out of range float values are not JSON compliant: nan"
            }
          },
          "metadata": {},
          "execution_count": 93
        }
      ]
    },
    {
      "cell_type": "code",
      "source": [
        "train_df.drop(6134, inplace=True)"
      ],
      "metadata": {
        "id": "5i7WNIL7CF1v"
      },
      "execution_count": null,
      "outputs": []
    },
    {
      "cell_type": "code",
      "source": [
        "# Separate true samples from false ones\n",
        "true_ex = train_df[train_df.binary_label == True]\n",
        "false_ex = train_df[train_df.binary_label == False]"
      ],
      "metadata": {
        "id": "8_d_Oc1PCLlX"
      },
      "execution_count": null,
      "outputs": []
    },
    {
      "cell_type": "code",
      "source": [
        "train_df.pants_fire_count.describe()"
      ],
      "metadata": {
        "colab": {
          "base_uri": "https://localhost:8080/"
        },
        "id": "WkVyPADyCOqe",
        "outputId": "55781f2c-816e-4b4f-9f73-fc6a188f200d"
      },
      "execution_count": null,
      "outputs": [
        {
          "output_type": "execute_result",
          "data": {
            "text/plain": [
              "count    10237.000000\n",
              "mean         6.201231\n",
              "std         16.129705\n",
              "min          0.000000\n",
              "25%          0.000000\n",
              "50%          1.000000\n",
              "75%          5.000000\n",
              "max        105.000000\n",
              "Name: pants_fire_count, dtype: float64"
            ]
          },
          "metadata": {},
          "execution_count": 96
        }
      ]
    },
    {
      "cell_type": "code",
      "source": [
        "# TODO (mihail): Include feature for credit history counts (binned)\n",
        "barely_true_counts = train_df.barely_true_count.value_counts().sort_index()\n",
        "px.bar(barely_true_counts, x=barely_true_counts.index, y=barely_true_counts.values, labels={\"index\": \"credit\", \"y\": \"counts\"}, title=\"Barely True Credit Distribution\")"
      ],
      "metadata": {
        "colab": {
          "base_uri": "https://localhost:8080/",
          "height": 542
        },
        "id": "gs3KOQldC5-2",
        "outputId": "9624dfe6-7fc8-4af3-de73-5292f3302f6a"
      },
      "execution_count": null,
      "outputs": [
        {
          "output_type": "display_data",
          "data": {
            "text/html": [
              "<html>\n",
              "<head><meta charset=\"utf-8\" /></head>\n",
              "<body>\n",
              "    <div>            <script src=\"https://cdnjs.cloudflare.com/ajax/libs/mathjax/2.7.5/MathJax.js?config=TeX-AMS-MML_SVG\"></script><script type=\"text/javascript\">if (window.MathJax && window.MathJax.Hub && window.MathJax.Hub.Config) {window.MathJax.Hub.Config({SVG: {font: \"STIX-Web\"}});}</script>                <script type=\"text/javascript\">window.PlotlyConfig = {MathJaxConfig: 'local'};</script>\n",
              "        <script charset=\"utf-8\" src=\"https://cdn.plot.ly/plotly-2.24.1.min.js\"></script>                <div id=\"670cc8e3-737a-44e3-ab5f-9db3423a25b5\" class=\"plotly-graph-div\" style=\"height:525px; width:100%;\"></div>            <script type=\"text/javascript\">                                    window.PLOTLYENV=window.PLOTLYENV || {};                                    if (document.getElementById(\"670cc8e3-737a-44e3-ab5f-9db3423a25b5\")) {                    Plotly.newPlot(                        \"670cc8e3-737a-44e3-ab5f-9db3423a25b5\",                        [{\"alignmentgroup\":\"True\",\"hovertemplate\":\"barely_true_count=%{x}\\u003cbr\\u003ecounts=%{y}\\u003cextra\\u003e\\u003c\\u002fextra\\u003e\",\"legendgroup\":\"\",\"marker\":{\"color\":\"#636efa\",\"pattern\":{\"shape\":\"\"}},\"name\":\"\",\"offsetgroup\":\"\",\"orientation\":\"v\",\"showlegend\":false,\"textposition\":\"auto\",\"x\":[0.0,1.0,2.0,3.0,4.0,5.0,6.0,7.0,8.0,9.0,10.0,11.0,12.0,13.0,14.0,15.0,16.0,17.0,18.0,19.0,26.0,28.0,30.0,31.0,33.0,34.0,36.0,40.0,63.0,70.0],\"xaxis\":\"x\",\"y\":[3025,1512,815,489,236,317,190,236,171,246,104,289,112,49,115,70,69,63,134,56,149,115,142,148,117,176,92,239,273,488],\"yaxis\":\"y\",\"type\":\"bar\"}],                        {\"template\":{\"data\":{\"histogram2dcontour\":[{\"type\":\"histogram2dcontour\",\"colorbar\":{\"outlinewidth\":0,\"ticks\":\"\"},\"colorscale\":[[0.0,\"#0d0887\"],[0.1111111111111111,\"#46039f\"],[0.2222222222222222,\"#7201a8\"],[0.3333333333333333,\"#9c179e\"],[0.4444444444444444,\"#bd3786\"],[0.5555555555555556,\"#d8576b\"],[0.6666666666666666,\"#ed7953\"],[0.7777777777777778,\"#fb9f3a\"],[0.8888888888888888,\"#fdca26\"],[1.0,\"#f0f921\"]]}],\"choropleth\":[{\"type\":\"choropleth\",\"colorbar\":{\"outlinewidth\":0,\"ticks\":\"\"}}],\"histogram2d\":[{\"type\":\"histogram2d\",\"colorbar\":{\"outlinewidth\":0,\"ticks\":\"\"},\"colorscale\":[[0.0,\"#0d0887\"],[0.1111111111111111,\"#46039f\"],[0.2222222222222222,\"#7201a8\"],[0.3333333333333333,\"#9c179e\"],[0.4444444444444444,\"#bd3786\"],[0.5555555555555556,\"#d8576b\"],[0.6666666666666666,\"#ed7953\"],[0.7777777777777778,\"#fb9f3a\"],[0.8888888888888888,\"#fdca26\"],[1.0,\"#f0f921\"]]}],\"heatmap\":[{\"type\":\"heatmap\",\"colorbar\":{\"outlinewidth\":0,\"ticks\":\"\"},\"colorscale\":[[0.0,\"#0d0887\"],[0.1111111111111111,\"#46039f\"],[0.2222222222222222,\"#7201a8\"],[0.3333333333333333,\"#9c179e\"],[0.4444444444444444,\"#bd3786\"],[0.5555555555555556,\"#d8576b\"],[0.6666666666666666,\"#ed7953\"],[0.7777777777777778,\"#fb9f3a\"],[0.8888888888888888,\"#fdca26\"],[1.0,\"#f0f921\"]]}],\"heatmapgl\":[{\"type\":\"heatmapgl\",\"colorbar\":{\"outlinewidth\":0,\"ticks\":\"\"},\"colorscale\":[[0.0,\"#0d0887\"],[0.1111111111111111,\"#46039f\"],[0.2222222222222222,\"#7201a8\"],[0.3333333333333333,\"#9c179e\"],[0.4444444444444444,\"#bd3786\"],[0.5555555555555556,\"#d8576b\"],[0.6666666666666666,\"#ed7953\"],[0.7777777777777778,\"#fb9f3a\"],[0.8888888888888888,\"#fdca26\"],[1.0,\"#f0f921\"]]}],\"contourcarpet\":[{\"type\":\"contourcarpet\",\"colorbar\":{\"outlinewidth\":0,\"ticks\":\"\"}}],\"contour\":[{\"type\":\"contour\",\"colorbar\":{\"outlinewidth\":0,\"ticks\":\"\"},\"colorscale\":[[0.0,\"#0d0887\"],[0.1111111111111111,\"#46039f\"],[0.2222222222222222,\"#7201a8\"],[0.3333333333333333,\"#9c179e\"],[0.4444444444444444,\"#bd3786\"],[0.5555555555555556,\"#d8576b\"],[0.6666666666666666,\"#ed7953\"],[0.7777777777777778,\"#fb9f3a\"],[0.8888888888888888,\"#fdca26\"],[1.0,\"#f0f921\"]]}],\"surface\":[{\"type\":\"surface\",\"colorbar\":{\"outlinewidth\":0,\"ticks\":\"\"},\"colorscale\":[[0.0,\"#0d0887\"],[0.1111111111111111,\"#46039f\"],[0.2222222222222222,\"#7201a8\"],[0.3333333333333333,\"#9c179e\"],[0.4444444444444444,\"#bd3786\"],[0.5555555555555556,\"#d8576b\"],[0.6666666666666666,\"#ed7953\"],[0.7777777777777778,\"#fb9f3a\"],[0.8888888888888888,\"#fdca26\"],[1.0,\"#f0f921\"]]}],\"mesh3d\":[{\"type\":\"mesh3d\",\"colorbar\":{\"outlinewidth\":0,\"ticks\":\"\"}}],\"scatter\":[{\"fillpattern\":{\"fillmode\":\"overlay\",\"size\":10,\"solidity\":0.2},\"type\":\"scatter\"}],\"parcoords\":[{\"type\":\"parcoords\",\"line\":{\"colorbar\":{\"outlinewidth\":0,\"ticks\":\"\"}}}],\"scatterpolargl\":[{\"type\":\"scatterpolargl\",\"marker\":{\"colorbar\":{\"outlinewidth\":0,\"ticks\":\"\"}}}],\"bar\":[{\"error_x\":{\"color\":\"#2a3f5f\"},\"error_y\":{\"color\":\"#2a3f5f\"},\"marker\":{\"line\":{\"color\":\"#E5ECF6\",\"width\":0.5},\"pattern\":{\"fillmode\":\"overlay\",\"size\":10,\"solidity\":0.2}},\"type\":\"bar\"}],\"scattergeo\":[{\"type\":\"scattergeo\",\"marker\":{\"colorbar\":{\"outlinewidth\":0,\"ticks\":\"\"}}}],\"scatterpolar\":[{\"type\":\"scatterpolar\",\"marker\":{\"colorbar\":{\"outlinewidth\":0,\"ticks\":\"\"}}}],\"histogram\":[{\"marker\":{\"pattern\":{\"fillmode\":\"overlay\",\"size\":10,\"solidity\":0.2}},\"type\":\"histogram\"}],\"scattergl\":[{\"type\":\"scattergl\",\"marker\":{\"colorbar\":{\"outlinewidth\":0,\"ticks\":\"\"}}}],\"scatter3d\":[{\"type\":\"scatter3d\",\"line\":{\"colorbar\":{\"outlinewidth\":0,\"ticks\":\"\"}},\"marker\":{\"colorbar\":{\"outlinewidth\":0,\"ticks\":\"\"}}}],\"scattermapbox\":[{\"type\":\"scattermapbox\",\"marker\":{\"colorbar\":{\"outlinewidth\":0,\"ticks\":\"\"}}}],\"scatterternary\":[{\"type\":\"scatterternary\",\"marker\":{\"colorbar\":{\"outlinewidth\":0,\"ticks\":\"\"}}}],\"scattercarpet\":[{\"type\":\"scattercarpet\",\"marker\":{\"colorbar\":{\"outlinewidth\":0,\"ticks\":\"\"}}}],\"carpet\":[{\"aaxis\":{\"endlinecolor\":\"#2a3f5f\",\"gridcolor\":\"white\",\"linecolor\":\"white\",\"minorgridcolor\":\"white\",\"startlinecolor\":\"#2a3f5f\"},\"baxis\":{\"endlinecolor\":\"#2a3f5f\",\"gridcolor\":\"white\",\"linecolor\":\"white\",\"minorgridcolor\":\"white\",\"startlinecolor\":\"#2a3f5f\"},\"type\":\"carpet\"}],\"table\":[{\"cells\":{\"fill\":{\"color\":\"#EBF0F8\"},\"line\":{\"color\":\"white\"}},\"header\":{\"fill\":{\"color\":\"#C8D4E3\"},\"line\":{\"color\":\"white\"}},\"type\":\"table\"}],\"barpolar\":[{\"marker\":{\"line\":{\"color\":\"#E5ECF6\",\"width\":0.5},\"pattern\":{\"fillmode\":\"overlay\",\"size\":10,\"solidity\":0.2}},\"type\":\"barpolar\"}],\"pie\":[{\"automargin\":true,\"type\":\"pie\"}]},\"layout\":{\"autotypenumbers\":\"strict\",\"colorway\":[\"#636efa\",\"#EF553B\",\"#00cc96\",\"#ab63fa\",\"#FFA15A\",\"#19d3f3\",\"#FF6692\",\"#B6E880\",\"#FF97FF\",\"#FECB52\"],\"font\":{\"color\":\"#2a3f5f\"},\"hovermode\":\"closest\",\"hoverlabel\":{\"align\":\"left\"},\"paper_bgcolor\":\"white\",\"plot_bgcolor\":\"#E5ECF6\",\"polar\":{\"bgcolor\":\"#E5ECF6\",\"angularaxis\":{\"gridcolor\":\"white\",\"linecolor\":\"white\",\"ticks\":\"\"},\"radialaxis\":{\"gridcolor\":\"white\",\"linecolor\":\"white\",\"ticks\":\"\"}},\"ternary\":{\"bgcolor\":\"#E5ECF6\",\"aaxis\":{\"gridcolor\":\"white\",\"linecolor\":\"white\",\"ticks\":\"\"},\"baxis\":{\"gridcolor\":\"white\",\"linecolor\":\"white\",\"ticks\":\"\"},\"caxis\":{\"gridcolor\":\"white\",\"linecolor\":\"white\",\"ticks\":\"\"}},\"coloraxis\":{\"colorbar\":{\"outlinewidth\":0,\"ticks\":\"\"}},\"colorscale\":{\"sequential\":[[0.0,\"#0d0887\"],[0.1111111111111111,\"#46039f\"],[0.2222222222222222,\"#7201a8\"],[0.3333333333333333,\"#9c179e\"],[0.4444444444444444,\"#bd3786\"],[0.5555555555555556,\"#d8576b\"],[0.6666666666666666,\"#ed7953\"],[0.7777777777777778,\"#fb9f3a\"],[0.8888888888888888,\"#fdca26\"],[1.0,\"#f0f921\"]],\"sequentialminus\":[[0.0,\"#0d0887\"],[0.1111111111111111,\"#46039f\"],[0.2222222222222222,\"#7201a8\"],[0.3333333333333333,\"#9c179e\"],[0.4444444444444444,\"#bd3786\"],[0.5555555555555556,\"#d8576b\"],[0.6666666666666666,\"#ed7953\"],[0.7777777777777778,\"#fb9f3a\"],[0.8888888888888888,\"#fdca26\"],[1.0,\"#f0f921\"]],\"diverging\":[[0,\"#8e0152\"],[0.1,\"#c51b7d\"],[0.2,\"#de77ae\"],[0.3,\"#f1b6da\"],[0.4,\"#fde0ef\"],[0.5,\"#f7f7f7\"],[0.6,\"#e6f5d0\"],[0.7,\"#b8e186\"],[0.8,\"#7fbc41\"],[0.9,\"#4d9221\"],[1,\"#276419\"]]},\"xaxis\":{\"gridcolor\":\"white\",\"linecolor\":\"white\",\"ticks\":\"\",\"title\":{\"standoff\":15},\"zerolinecolor\":\"white\",\"automargin\":true,\"zerolinewidth\":2},\"yaxis\":{\"gridcolor\":\"white\",\"linecolor\":\"white\",\"ticks\":\"\",\"title\":{\"standoff\":15},\"zerolinecolor\":\"white\",\"automargin\":true,\"zerolinewidth\":2},\"scene\":{\"xaxis\":{\"backgroundcolor\":\"#E5ECF6\",\"gridcolor\":\"white\",\"linecolor\":\"white\",\"showbackground\":true,\"ticks\":\"\",\"zerolinecolor\":\"white\",\"gridwidth\":2},\"yaxis\":{\"backgroundcolor\":\"#E5ECF6\",\"gridcolor\":\"white\",\"linecolor\":\"white\",\"showbackground\":true,\"ticks\":\"\",\"zerolinecolor\":\"white\",\"gridwidth\":2},\"zaxis\":{\"backgroundcolor\":\"#E5ECF6\",\"gridcolor\":\"white\",\"linecolor\":\"white\",\"showbackground\":true,\"ticks\":\"\",\"zerolinecolor\":\"white\",\"gridwidth\":2}},\"shapedefaults\":{\"line\":{\"color\":\"#2a3f5f\"}},\"annotationdefaults\":{\"arrowcolor\":\"#2a3f5f\",\"arrowhead\":0,\"arrowwidth\":1},\"geo\":{\"bgcolor\":\"white\",\"landcolor\":\"#E5ECF6\",\"subunitcolor\":\"white\",\"showland\":true,\"showlakes\":true,\"lakecolor\":\"white\"},\"title\":{\"x\":0.05},\"mapbox\":{\"style\":\"light\"}}},\"xaxis\":{\"anchor\":\"y\",\"domain\":[0.0,1.0],\"title\":{\"text\":\"barely_true_count\"}},\"yaxis\":{\"anchor\":\"x\",\"domain\":[0.0,1.0],\"title\":{\"text\":\"counts\"}},\"legend\":{\"tracegroupgap\":0},\"title\":{\"text\":\"Barely True Credit Distribution\"},\"barmode\":\"relative\"},                        {\"responsive\": true}                    ).then(function(){\n",
              "                            \n",
              "var gd = document.getElementById('670cc8e3-737a-44e3-ab5f-9db3423a25b5');\n",
              "var x = new MutationObserver(function (mutations, observer) {{\n",
              "        var display = window.getComputedStyle(gd).display;\n",
              "        if (!display || display === 'none') {{\n",
              "            console.log([gd, 'removed!']);\n",
              "            Plotly.purge(gd);\n",
              "            observer.disconnect();\n",
              "        }}\n",
              "}});\n",
              "\n",
              "// Listen for the removal of the full notebook cells\n",
              "var notebookContainer = gd.closest('#notebook-container');\n",
              "if (notebookContainer) {{\n",
              "    x.observe(notebookContainer, {childList: true});\n",
              "}}\n",
              "\n",
              "// Listen for the clearing of the current output cell\n",
              "var outputEl = gd.closest('.output');\n",
              "if (outputEl) {{\n",
              "    x.observe(outputEl, {childList: true});\n",
              "}}\n",
              "\n",
              "                        })                };                            </script>        </div>\n",
              "</body>\n",
              "</html>"
            ]
          },
          "metadata": {}
        }
      ]
    },
    {
      "cell_type": "code",
      "source": [
        "px.histogram(train_df, x=\"barely_true_count\", labels={\"x\": \"credit score\"}, title=\"Barely True Credit Histogram\", nbins=10)"
      ],
      "metadata": {
        "colab": {
          "base_uri": "https://localhost:8080/",
          "height": 542
        },
        "id": "-7NGm-l9Doyn",
        "outputId": "0cc4b922-1534-41b0-93bd-06a285650e0c"
      },
      "execution_count": null,
      "outputs": [
        {
          "output_type": "display_data",
          "data": {
            "text/html": [
              "<html>\n",
              "<head><meta charset=\"utf-8\" /></head>\n",
              "<body>\n",
              "    <div>            <script src=\"https://cdnjs.cloudflare.com/ajax/libs/mathjax/2.7.5/MathJax.js?config=TeX-AMS-MML_SVG\"></script><script type=\"text/javascript\">if (window.MathJax && window.MathJax.Hub && window.MathJax.Hub.Config) {window.MathJax.Hub.Config({SVG: {font: \"STIX-Web\"}});}</script>                <script type=\"text/javascript\">window.PlotlyConfig = {MathJaxConfig: 'local'};</script>\n",
              "        <script charset=\"utf-8\" src=\"https://cdn.plot.ly/plotly-2.24.1.min.js\"></script>                <div id=\"df0df6e1-7fa3-4be9-93a4-46b460944eb3\" class=\"plotly-graph-div\" style=\"height:525px; width:100%;\"></div>            <script type=\"text/javascript\">                                    window.PLOTLYENV=window.PLOTLYENV || {};                                    if (document.getElementById(\"df0df6e1-7fa3-4be9-93a4-46b460944eb3\")) {                    Plotly.newPlot(                        \"df0df6e1-7fa3-4be9-93a4-46b460944eb3\",                        [{\"alignmentgroup\":\"True\",\"bingroup\":\"x\",\"hovertemplate\":\"barely_true_count=%{x}\\u003cbr\\u003ecount=%{y}\\u003cextra\\u003e\\u003c\\u002fextra\\u003e\",\"legendgroup\":\"\",\"marker\":{\"color\":\"#636efa\",\"pattern\":{\"shape\":\"\"}},\"name\":\"\",\"nbinsx\":10,\"offsetgroup\":\"\",\"orientation\":\"v\",\"showlegend\":false,\"x\":[0.0,0.0,70.0,7.0,15.0,0.0,3.0,70.0,0.0,0.0,1.0,18.0,34.0,0.0,7.0,18.0,70.0,18.0,3.0,0.0,0.0,2.0,40.0,3.0,1.0,3.0,40.0,0.0,0.0,0.0,40.0,1.0,1.0,28.0,3.0,36.0,1.0,0.0,0.0,2.0,33.0,0.0,18.0,6.0,1.0,18.0,11.0,13.0,0.0,7.0,30.0,11.0,1.0,1.0,1.0,0.0,0.0,63.0,31.0,0.0,0.0,9.0,1.0,1.0,0.0,1.0,34.0,63.0,1.0,28.0,12.0,34.0,0.0,0.0,70.0,7.0,0.0,1.0,10.0,1.0,3.0,0.0,0.0,2.0,0.0,2.0,0.0,0.0,11.0,0.0,31.0,30.0,0.0,34.0,34.0,5.0,0.0,2.0,1.0,0.0,1.0,0.0,2.0,7.0,63.0,70.0,0.0,30.0,0.0,12.0,26.0,14.0,0.0,19.0,70.0,2.0,1.0,7.0,11.0,36.0,40.0,1.0,0.0,10.0,1.0,1.0,40.0,7.0,1.0,1.0,0.0,31.0,33.0,28.0,4.0,0.0,0.0,3.0,9.0,34.0,0.0,1.0,2.0,40.0,3.0,70.0,3.0,5.0,2.0,63.0,34.0,11.0,0.0,0.0,0.0,0.0,2.0,1.0,0.0,18.0,9.0,19.0,11.0,0.0,33.0,5.0,7.0,0.0,3.0,1.0,2.0,0.0,0.0,9.0,0.0,0.0,1.0,0.0,6.0,10.0,0.0,9.0,0.0,0.0,11.0,7.0,5.0,0.0,4.0,2.0,0.0,3.0,11.0,14.0,0.0,40.0,3.0,18.0,18.0,36.0,0.0,6.0,2.0,2.0,2.0,1.0,0.0,5.0,7.0,0.0,0.0,2.0,9.0,0.0,70.0,6.0,0.0,3.0,0.0,9.0,70.0,7.0,0.0,1.0,0.0,0.0,2.0,1.0,11.0,0.0,0.0,1.0,0.0,0.0,3.0,7.0,2.0,11.0,1.0,2.0,0.0,30.0,0.0,0.0,70.0,0.0,0.0,63.0,40.0,5.0,11.0,2.0,40.0,1.0,70.0,0.0,70.0,3.0,14.0,28.0,9.0,6.0,0.0,2.0,14.0,2.0,1.0,63.0,3.0,9.0,1.0,0.0,31.0,0.0,0.0,2.0,26.0,0.0,33.0,28.0,26.0,2.0,0.0,2.0,6.0,2.0,33.0,0.0,0.0,2.0,11.0,70.0,30.0,3.0,8.0,9.0,4.0,70.0,17.0,0.0,30.0,1.0,0.0,16.0,5.0,2.0,2.0,0.0,2.0,0.0,11.0,18.0,9.0,3.0,33.0,33.0,0.0,0.0,1.0,2.0,17.0,6.0,7.0,1.0,0.0,0.0,3.0,10.0,33.0,8.0,0.0,0.0,36.0,0.0,11.0,4.0,9.0,70.0,30.0,4.0,13.0,70.0,1.0,6.0,0.0,12.0,9.0,0.0,70.0,0.0,70.0,18.0,30.0,3.0,7.0,2.0,1.0,11.0,18.0,1.0,6.0,0.0,1.0,0.0,0.0,6.0,0.0,1.0,0.0,12.0,0.0,0.0,1.0,1.0,1.0,14.0,2.0,0.0,63.0,1.0,1.0,12.0,70.0,2.0,4.0,0.0,0.0,0.0,1.0,1.0,0.0,5.0,3.0,1.0,11.0,7.0,0.0,1.0,0.0,0.0,12.0,0.0,0.0,12.0,10.0,0.0,9.0,12.0,0.0,15.0,6.0,2.0,70.0,0.0,70.0,1.0,2.0,1.0,0.0,2.0,2.0,0.0,11.0,1.0,3.0,3.0,9.0,0.0,1.0,8.0,13.0,8.0,1.0,1.0,5.0,1.0,2.0,0.0,1.0,70.0,0.0,1.0,1.0,7.0,63.0,0.0,30.0,3.0,7.0,0.0,0.0,0.0,17.0,70.0,0.0,0.0,1.0,1.0,1.0,0.0,30.0,0.0,1.0,70.0,1.0,40.0,0.0,70.0,1.0,2.0,63.0,18.0,13.0,0.0,18.0,11.0,1.0,0.0,11.0,0.0,0.0,1.0,0.0,34.0,2.0,3.0,0.0,1.0,10.0,1.0,0.0,5.0,8.0,7.0,8.0,1.0,9.0,0.0,0.0,3.0,0.0,0.0,2.0,3.0,3.0,0.0,0.0,0.0,0.0,0.0,0.0,2.0,19.0,7.0,63.0,1.0,0.0,8.0,26.0,1.0,7.0,3.0,2.0,5.0,8.0,0.0,0.0,0.0,6.0,0.0,70.0,18.0,0.0,1.0,9.0,0.0,16.0,0.0,1.0,5.0,40.0,70.0,40.0,28.0,1.0,7.0,34.0,0.0,0.0,0.0,40.0,70.0,2.0,11.0,0.0,1.0,2.0,0.0,0.0,1.0,40.0,0.0,63.0,3.0,0.0,1.0,4.0,33.0,0.0,70.0,3.0,2.0,9.0,6.0,0.0,2.0,4.0,3.0,11.0,7.0,19.0,3.0,33.0,70.0,9.0,70.0,0.0,12.0,0.0,1.0,70.0,1.0,7.0,0.0,15.0,3.0,1.0,26.0,0.0,28.0,0.0,4.0,0.0,2.0,1.0,2.0,1.0,6.0,1.0,0.0,0.0,6.0,70.0,1.0,1.0,2.0,0.0,5.0,63.0,3.0,0.0,2.0,9.0,10.0,2.0,1.0,9.0,0.0,7.0,3.0,3.0,0.0,5.0,0.0,1.0,7.0,0.0,0.0,1.0,1.0,1.0,2.0,6.0,40.0,70.0,3.0,14.0,1.0,4.0,1.0,28.0,0.0,0.0,16.0,0.0,0.0,11.0,70.0,5.0,1.0,5.0,0.0,0.0,30.0,11.0,70.0,0.0,0.0,18.0,70.0,7.0,0.0,0.0,0.0,0.0,2.0,0.0,1.0,2.0,19.0,3.0,2.0,33.0,0.0,5.0,9.0,0.0,0.0,5.0,0.0,0.0,7.0,40.0,0.0,70.0,63.0,30.0,0.0,5.0,2.0,1.0,12.0,11.0,1.0,63.0,0.0,9.0,8.0,40.0,34.0,11.0,34.0,0.0,0.0,1.0,0.0,3.0,0.0,0.0,1.0,2.0,0.0,11.0,3.0,0.0,2.0,0.0,1.0,0.0,63.0,0.0,2.0,3.0,8.0,1.0,63.0,0.0,1.0,12.0,70.0,4.0,5.0,0.0,70.0,14.0,2.0,0.0,6.0,1.0,0.0,1.0,1.0,1.0,0.0,7.0,0.0,3.0,40.0,0.0,63.0,70.0,2.0,2.0,14.0,2.0,10.0,0.0,0.0,18.0,30.0,7.0,3.0,0.0,7.0,12.0,1.0,70.0,3.0,0.0,33.0,36.0,10.0,0.0,3.0,0.0,2.0,5.0,8.0,15.0,2.0,0.0,0.0,2.0,11.0,2.0,0.0,1.0,0.0,3.0,0.0,2.0,0.0,17.0,0.0,5.0,1.0,0.0,26.0,19.0,0.0,1.0,3.0,1.0,9.0,1.0,1.0,12.0,0.0,2.0,2.0,18.0,3.0,0.0,0.0,10.0,0.0,1.0,0.0,1.0,2.0,2.0,1.0,0.0,3.0,4.0,1.0,5.0,1.0,0.0,34.0,0.0,3.0,2.0,70.0,0.0,0.0,2.0,63.0,31.0,5.0,9.0,36.0,8.0,3.0,14.0,9.0,1.0,70.0,0.0,40.0,0.0,9.0,36.0,0.0,0.0,2.0,1.0,34.0,0.0,18.0,63.0,70.0,0.0,0.0,6.0,11.0,40.0,0.0,18.0,1.0,0.0,1.0,34.0,1.0,0.0,0.0,26.0,7.0,1.0,70.0,1.0,0.0,7.0,4.0,2.0,1.0,36.0,0.0,0.0,33.0,9.0,26.0,40.0,1.0,0.0,70.0,6.0,4.0,2.0,7.0,17.0,2.0,1.0,0.0,0.0,14.0,3.0,6.0,0.0,9.0,2.0,0.0,0.0,0.0,34.0,2.0,2.0,3.0,0.0,4.0,1.0,34.0,70.0,36.0,8.0,2.0,9.0,63.0,26.0,0.0,5.0,1.0,0.0,0.0,6.0,26.0,1.0,0.0,40.0,9.0,0.0,14.0,4.0,11.0,0.0,31.0,0.0,28.0,40.0,0.0,0.0,70.0,3.0,8.0,4.0,5.0,6.0,1.0,10.0,1.0,0.0,0.0,0.0,1.0,0.0,40.0,0.0,11.0,2.0,1.0,34.0,2.0,70.0,0.0,3.0,70.0,3.0,11.0,2.0,0.0,8.0,3.0,0.0,5.0,0.0,0.0,40.0,2.0,0.0,1.0,0.0,34.0,34.0,8.0,0.0,3.0,2.0,0.0,63.0,0.0,3.0,0.0,10.0,26.0,15.0,0.0,0.0,1.0,1.0,1.0,63.0,12.0,1.0,70.0,28.0,12.0,70.0,40.0,13.0,31.0,0.0,0.0,33.0,4.0,9.0,1.0,1.0,1.0,2.0,0.0,17.0,0.0,26.0,0.0,5.0,40.0,1.0,0.0,18.0,7.0,63.0,0.0,14.0,70.0,0.0,0.0,6.0,1.0,70.0,2.0,2.0,0.0,6.0,11.0,0.0,1.0,1.0,1.0,34.0,0.0,19.0,31.0,1.0,0.0,0.0,34.0,18.0,2.0,0.0,18.0,70.0,8.0,3.0,28.0,0.0,0.0,7.0,34.0,26.0,28.0,0.0,2.0,1.0,0.0,63.0,0.0,1.0,1.0,30.0,0.0,0.0,0.0,40.0,0.0,0.0,1.0,30.0,26.0,40.0,9.0,3.0,8.0,2.0,2.0,1.0,26.0,1.0,0.0,0.0,2.0,8.0,40.0,0.0,0.0,0.0,0.0,5.0,2.0,2.0,14.0,7.0,40.0,2.0,9.0,63.0,1.0,1.0,11.0,1.0,1.0,70.0,0.0,1.0,5.0,1.0,63.0,0.0,0.0,34.0,31.0,70.0,0.0,1.0,0.0,11.0,3.0,1.0,1.0,1.0,3.0,1.0,8.0,3.0,0.0,1.0,3.0,9.0,0.0,36.0,8.0,4.0,18.0,16.0,3.0,12.0,0.0,2.0,1.0,63.0,0.0,2.0,70.0,0.0,0.0,0.0,18.0,0.0,2.0,2.0,0.0,0.0,4.0,4.0,0.0,3.0,2.0,0.0,0.0,30.0,0.0,33.0,40.0,36.0,0.0,10.0,1.0,0.0,5.0,34.0,0.0,4.0,18.0,2.0,0.0,8.0,34.0,3.0,0.0,1.0,0.0,28.0,0.0,0.0,3.0,70.0,16.0,10.0,11.0,6.0,1.0,1.0,0.0,9.0,4.0,30.0,1.0,2.0,0.0,70.0,1.0,0.0,3.0,70.0,3.0,12.0,1.0,19.0,0.0,0.0,0.0,63.0,1.0,7.0,2.0,63.0,2.0,31.0,1.0,0.0,0.0,28.0,0.0,18.0,0.0,63.0,0.0,0.0,17.0,26.0,7.0,19.0,4.0,11.0,0.0,11.0,8.0,0.0,9.0,26.0,0.0,15.0,0.0,1.0,63.0,1.0,1.0,1.0,0.0,0.0,33.0,1.0,2.0,0.0,14.0,2.0,0.0,3.0,31.0,0.0,2.0,63.0,17.0,0.0,13.0,6.0,0.0,31.0,63.0,0.0,0.0,0.0,0.0,1.0,0.0,0.0,0.0,1.0,1.0,0.0,40.0,1.0,9.0,0.0,4.0,31.0,1.0,0.0,34.0,0.0,30.0,7.0,0.0,4.0,4.0,3.0,63.0,0.0,0.0,1.0,1.0,0.0,2.0,28.0,7.0,0.0,0.0,33.0,2.0,0.0,0.0,2.0,0.0,1.0,0.0,30.0,2.0,11.0,0.0,6.0,0.0,1.0,1.0,26.0,1.0,0.0,1.0,0.0,1.0,4.0,5.0,63.0,0.0,1.0,7.0,0.0,10.0,2.0,0.0,70.0,5.0,70.0,0.0,31.0,28.0,0.0,2.0,2.0,0.0,1.0,31.0,5.0,2.0,70.0,3.0,0.0,10.0,1.0,14.0,2.0,6.0,1.0,0.0,0.0,1.0,3.0,0.0,0.0,30.0,63.0,3.0,70.0,4.0,4.0,1.0,8.0,6.0,33.0,10.0,33.0,0.0,0.0,2.0,5.0,3.0,9.0,15.0,1.0,28.0,0.0,2.0,0.0,13.0,70.0,0.0,2.0,0.0,1.0,70.0,3.0,1.0,0.0,2.0,1.0,18.0,0.0,0.0,4.0,11.0,1.0,1.0,2.0,40.0,3.0,0.0,70.0,6.0,4.0,0.0,12.0,0.0,28.0,36.0,0.0,1.0,4.0,3.0,30.0,5.0,0.0,0.0,0.0,0.0,2.0,1.0,30.0,70.0,0.0,5.0,0.0,0.0,70.0,0.0,0.0,31.0,1.0,15.0,1.0,0.0,14.0,26.0,4.0,33.0,6.0,2.0,63.0,0.0,0.0,4.0,0.0,10.0,5.0,0.0,26.0,0.0,31.0,0.0,0.0,0.0,1.0,15.0,0.0,26.0,63.0,2.0,34.0,13.0,15.0,0.0,70.0,0.0,1.0,63.0,1.0,5.0,70.0,3.0,10.0,18.0,0.0,8.0,40.0,4.0,0.0,2.0,2.0,15.0,3.0,11.0,18.0,63.0,3.0,6.0,0.0,31.0,0.0,2.0,0.0,1.0,2.0,3.0,3.0,2.0,2.0,11.0,0.0,0.0,9.0,3.0,0.0,2.0,0.0,70.0,31.0,2.0,33.0,1.0,10.0,8.0,0.0,1.0,0.0,28.0,1.0,11.0,2.0,1.0,5.0,0.0,5.0,1.0,3.0,1.0,4.0,0.0,9.0,0.0,0.0,1.0,36.0,4.0,2.0,0.0,0.0,4.0,9.0,63.0,0.0,0.0,0.0,3.0,1.0,70.0,0.0,31.0,40.0,3.0,11.0,3.0,9.0,1.0,1.0,0.0,6.0,1.0,0.0,63.0,1.0,3.0,1.0,3.0,7.0,2.0,5.0,0.0,34.0,0.0,0.0,1.0,1.0,0.0,13.0,2.0,0.0,30.0,1.0,70.0,5.0,28.0,0.0,0.0,1.0,70.0,0.0,0.0,3.0,0.0,7.0,1.0,0.0,1.0,0.0,2.0,40.0,2.0,0.0,0.0,1.0,2.0,3.0,0.0,5.0,0.0,40.0,13.0,40.0,0.0,1.0,0.0,63.0,0.0,40.0,2.0,34.0,0.0,2.0,2.0,7.0,0.0,0.0,13.0,9.0,70.0,0.0,1.0,0.0,1.0,2.0,70.0,1.0,0.0,2.0,17.0,34.0,6.0,0.0,30.0,1.0,7.0,0.0,7.0,1.0,2.0,10.0,0.0,1.0,0.0,31.0,0.0,3.0,2.0,0.0,11.0,0.0,14.0,13.0,4.0,0.0,1.0,70.0,1.0,0.0,16.0,0.0,1.0,19.0,30.0,0.0,0.0,0.0,1.0,0.0,0.0,1.0,0.0,3.0,0.0,7.0,2.0,7.0,1.0,0.0,40.0,0.0,4.0,31.0,1.0,1.0,0.0,0.0,2.0,3.0,70.0,34.0,6.0,7.0,0.0,14.0,1.0,0.0,1.0,0.0,9.0,0.0,0.0,8.0,11.0,70.0,0.0,0.0,63.0,3.0,1.0,0.0,0.0,1.0,7.0,0.0,0.0,63.0,18.0,0.0,0.0,1.0,18.0,0.0,34.0,0.0,7.0,63.0,7.0,2.0,0.0,2.0,3.0,8.0,34.0,1.0,3.0,3.0,3.0,34.0,9.0,70.0,40.0,8.0,0.0,0.0,0.0,6.0,0.0,3.0,36.0,0.0,33.0,70.0,3.0,70.0,2.0,11.0,3.0,0.0,8.0,14.0,0.0,34.0,2.0,16.0,0.0,26.0,16.0,3.0,9.0,8.0,16.0,0.0,1.0,1.0,1.0,1.0,1.0,0.0,0.0,7.0,1.0,11.0,0.0,31.0,0.0,1.0,0.0,9.0,0.0,70.0,0.0,17.0,0.0,1.0,26.0,0.0,1.0,34.0,0.0,70.0,2.0,15.0,3.0,1.0,7.0,1.0,1.0,0.0,2.0,5.0,40.0,34.0,11.0,1.0,2.0,2.0,14.0,63.0,1.0,2.0,63.0,0.0,1.0,1.0,1.0,0.0,0.0,30.0,2.0,7.0,30.0,0.0,0.0,0.0,1.0,0.0,0.0,0.0,1.0,0.0,9.0,3.0,70.0,16.0,1.0,1.0,0.0,6.0,0.0,0.0,14.0,1.0,0.0,0.0,1.0,0.0,0.0,0.0,26.0,0.0,8.0,9.0,18.0,0.0,8.0,2.0,6.0,6.0,0.0,0.0,1.0,4.0,3.0,6.0,0.0,34.0,11.0,0.0,14.0,2.0,1.0,2.0,3.0,9.0,2.0,19.0,2.0,0.0,8.0,28.0,0.0,5.0,11.0,11.0,1.0,0.0,18.0,0.0,0.0,0.0,1.0,0.0,7.0,70.0,0.0,0.0,2.0,6.0,15.0,11.0,63.0,7.0,0.0,8.0,11.0,0.0,0.0,0.0,1.0,0.0,5.0,1.0,0.0,8.0,40.0,0.0,33.0,0.0,1.0,9.0,8.0,9.0,7.0,6.0,2.0,18.0,14.0,70.0,1.0,0.0,18.0,11.0,2.0,0.0,0.0,2.0,40.0,40.0,0.0,2.0,0.0,6.0,7.0,26.0,1.0,18.0,1.0,1.0,0.0,33.0,0.0,19.0,4.0,40.0,6.0,6.0,63.0,2.0,9.0,34.0,3.0,7.0,0.0,1.0,1.0,1.0,1.0,0.0,12.0,1.0,0.0,1.0,0.0,0.0,1.0,0.0,2.0,16.0,4.0,63.0,0.0,0.0,2.0,2.0,0.0,7.0,0.0,0.0,4.0,34.0,33.0,63.0,4.0,6.0,0.0,9.0,14.0,0.0,13.0,70.0,1.0,8.0,3.0,26.0,0.0,9.0,12.0,14.0,0.0,1.0,9.0,0.0,63.0,26.0,31.0,1.0,2.0,3.0,9.0,9.0,1.0,0.0,30.0,2.0,7.0,2.0,4.0,0.0,7.0,0.0,3.0,0.0,0.0,3.0,18.0,28.0,70.0,70.0,63.0,2.0,11.0,1.0,8.0,70.0,0.0,3.0,9.0,1.0,0.0,40.0,0.0,5.0,1.0,0.0,0.0,12.0,0.0,30.0,0.0,0.0,12.0,2.0,0.0,9.0,0.0,30.0,0.0,2.0,6.0,null,0.0,5.0,0.0,6.0,4.0,5.0,70.0,70.0,0.0,63.0,0.0,4.0,0.0,15.0,0.0,28.0,16.0,26.0,0.0,0.0,0.0,26.0,11.0,0.0,0.0,40.0,70.0,3.0,8.0,0.0,9.0,70.0,0.0,0.0,0.0,0.0,7.0,1.0,70.0,63.0,31.0,70.0,30.0,0.0,2.0,26.0,63.0,6.0,1.0,70.0,7.0,34.0,26.0,0.0,0.0,3.0,34.0,70.0,34.0,5.0,31.0,70.0,3.0,70.0,0.0,0.0,10.0,0.0,34.0,11.0,5.0,0.0,3.0,1.0,1.0,31.0,1.0,1.0,33.0,70.0,0.0,3.0,0.0,0.0,0.0,0.0,11.0,5.0,0.0,9.0,0.0,70.0,63.0,1.0,70.0,0.0,0.0,2.0,63.0,0.0,1.0,11.0,70.0,7.0,14.0,11.0,11.0,9.0,1.0,0.0,0.0,0.0,0.0,11.0,36.0,11.0,0.0,2.0,1.0,1.0,30.0,1.0,70.0,3.0,40.0,0.0,0.0,9.0,1.0,1.0,40.0,3.0,0.0,16.0,2.0,5.0,1.0,0.0,0.0,5.0,0.0,0.0,10.0,9.0,3.0,0.0,8.0,7.0,6.0,70.0,1.0,14.0,0.0,7.0,0.0,2.0,1.0,0.0,28.0,6.0,3.0,36.0,3.0,0.0,70.0,26.0,0.0,31.0,1.0,31.0,70.0,2.0,2.0,0.0,1.0,0.0,11.0,9.0,30.0,1.0,10.0,10.0,63.0,1.0,1.0,70.0,0.0,1.0,10.0,40.0,10.0,0.0,1.0,0.0,36.0,33.0,0.0,0.0,2.0,0.0,0.0,26.0,0.0,1.0,10.0,12.0,11.0,0.0,5.0,34.0,1.0,31.0,63.0,34.0,0.0,0.0,0.0,5.0,0.0,3.0,70.0,6.0,1.0,31.0,1.0,6.0,14.0,30.0,0.0,26.0,1.0,1.0,70.0,70.0,70.0,3.0,6.0,1.0,1.0,0.0,30.0,0.0,14.0,63.0,11.0,30.0,1.0,16.0,7.0,19.0,70.0,70.0,2.0,0.0,7.0,1.0,0.0,0.0,6.0,1.0,0.0,1.0,2.0,0.0,30.0,2.0,3.0,1.0,0.0,4.0,2.0,30.0,18.0,11.0,63.0,16.0,11.0,1.0,63.0,0.0,0.0,1.0,11.0,70.0,1.0,0.0,0.0,0.0,4.0,11.0,0.0,63.0,9.0,0.0,1.0,0.0,5.0,34.0,63.0,0.0,0.0,2.0,1.0,5.0,1.0,14.0,0.0,11.0,1.0,7.0,0.0,0.0,4.0,3.0,1.0,0.0,0.0,70.0,1.0,0.0,0.0,30.0,63.0,1.0,11.0,0.0,0.0,1.0,2.0,0.0,2.0,1.0,5.0,34.0,2.0,8.0,0.0,1.0,0.0,28.0,1.0,8.0,5.0,3.0,0.0,1.0,1.0,6.0,0.0,0.0,1.0,2.0,4.0,0.0,0.0,0.0,0.0,0.0,2.0,9.0,0.0,0.0,0.0,1.0,18.0,3.0,0.0,0.0,1.0,1.0,0.0,1.0,1.0,0.0,14.0,9.0,0.0,0.0,4.0,40.0,70.0,34.0,11.0,63.0,0.0,17.0,1.0,63.0,1.0,0.0,9.0,0.0,7.0,0.0,1.0,16.0,12.0,26.0,0.0,70.0,19.0,1.0,12.0,3.0,13.0,31.0,0.0,0.0,0.0,5.0,0.0,34.0,3.0,5.0,2.0,1.0,15.0,1.0,10.0,1.0,70.0,7.0,5.0,18.0,3.0,30.0,0.0,63.0,0.0,0.0,0.0,2.0,4.0,1.0,12.0,1.0,31.0,30.0,0.0,1.0,34.0,11.0,1.0,40.0,5.0,0.0,70.0,40.0,1.0,28.0,0.0,3.0,33.0,7.0,5.0,36.0,0.0,12.0,8.0,3.0,6.0,2.0,0.0,15.0,5.0,3.0,7.0,4.0,0.0,0.0,2.0,4.0,70.0,1.0,14.0,10.0,0.0,0.0,0.0,6.0,33.0,4.0,6.0,70.0,5.0,0.0,0.0,2.0,15.0,0.0,14.0,70.0,70.0,4.0,0.0,1.0,2.0,1.0,0.0,0.0,0.0,7.0,0.0,14.0,0.0,70.0,1.0,2.0,2.0,1.0,0.0,0.0,3.0,0.0,0.0,1.0,0.0,30.0,0.0,70.0,1.0,1.0,70.0,2.0,63.0,0.0,8.0,4.0,1.0,2.0,7.0,1.0,70.0,4.0,1.0,0.0,40.0,5.0,4.0,0.0,3.0,28.0,18.0,3.0,2.0,11.0,3.0,0.0,0.0,0.0,0.0,0.0,30.0,18.0,8.0,1.0,0.0,0.0,0.0,26.0,34.0,31.0,0.0,0.0,0.0,63.0,0.0,0.0,40.0,6.0,34.0,11.0,0.0,70.0,1.0,0.0,0.0,0.0,33.0,0.0,5.0,26.0,9.0,70.0,0.0,33.0,0.0,18.0,11.0,3.0,5.0,17.0,1.0,40.0,10.0,1.0,14.0,0.0,0.0,0.0,14.0,0.0,0.0,6.0,1.0,0.0,34.0,70.0,0.0,0.0,6.0,0.0,1.0,0.0,1.0,0.0,0.0,0.0,0.0,2.0,1.0,0.0,0.0,18.0,0.0,1.0,63.0,14.0,1.0,1.0,0.0,13.0,1.0,0.0,3.0,1.0,0.0,1.0,2.0,0.0,0.0,7.0,26.0,2.0,34.0,1.0,1.0,9.0,2.0,0.0,0.0,9.0,33.0,70.0,4.0,15.0,19.0,13.0,0.0,0.0,7.0,12.0,31.0,5.0,4.0,8.0,63.0,3.0,1.0,2.0,1.0,11.0,4.0,63.0,2.0,11.0,0.0,2.0,26.0,26.0,40.0,63.0,11.0,0.0,1.0,1.0,34.0,5.0,13.0,1.0,1.0,11.0,0.0,63.0,40.0,3.0,31.0,2.0,3.0,8.0,0.0,5.0,1.0,10.0,0.0,33.0,0.0,1.0,2.0,0.0,5.0,40.0,11.0,1.0,70.0,16.0,16.0,0.0,17.0,1.0,1.0,0.0,1.0,6.0,70.0,2.0,18.0,3.0,0.0,2.0,0.0,36.0,70.0,2.0,31.0,33.0,0.0,0.0,0.0,2.0,0.0,0.0,1.0,1.0,0.0,0.0,0.0,30.0,0.0,0.0,18.0,1.0,11.0,2.0,0.0,70.0,2.0,6.0,0.0,31.0,70.0,2.0,1.0,4.0,18.0,0.0,19.0,30.0,1.0,5.0,3.0,40.0,33.0,4.0,63.0,4.0,5.0,5.0,1.0,0.0,1.0,40.0,28.0,0.0,17.0,2.0,40.0,4.0,13.0,36.0,0.0,0.0,1.0,0.0,1.0,30.0,0.0,70.0,3.0,2.0,1.0,0.0,0.0,0.0,0.0,6.0,2.0,0.0,0.0,40.0,0.0,36.0,0.0,0.0,0.0,8.0,33.0,70.0,1.0,0.0,1.0,0.0,17.0,0.0,0.0,9.0,0.0,63.0,11.0,2.0,7.0,15.0,7.0,33.0,1.0,8.0,1.0,70.0,31.0,1.0,0.0,2.0,11.0,3.0,36.0,1.0,10.0,31.0,5.0,1.0,0.0,0.0,0.0,6.0,1.0,0.0,26.0,11.0,0.0,0.0,1.0,11.0,10.0,1.0,1.0,70.0,0.0,1.0,0.0,2.0,1.0,1.0,1.0,1.0,0.0,1.0,30.0,17.0,1.0,0.0,6.0,2.0,0.0,2.0,0.0,2.0,14.0,7.0,40.0,5.0,0.0,0.0,11.0,14.0,63.0,0.0,1.0,63.0,0.0,17.0,40.0,11.0,5.0,0.0,2.0,3.0,0.0,12.0,36.0,18.0,0.0,4.0,0.0,0.0,0.0,0.0,26.0,26.0,1.0,11.0,1.0,1.0,70.0,1.0,63.0,0.0,70.0,0.0,1.0,31.0,1.0,2.0,3.0,0.0,0.0,2.0,0.0,1.0,70.0,0.0,1.0,0.0,0.0,8.0,0.0,0.0,1.0,28.0,0.0,0.0,28.0,1.0,0.0,1.0,0.0,31.0,2.0,5.0,1.0,5.0,0.0,14.0,11.0,7.0,2.0,3.0,3.0,36.0,70.0,26.0,0.0,0.0,70.0,14.0,19.0,0.0,0.0,0.0,2.0,10.0,14.0,1.0,63.0,1.0,26.0,2.0,2.0,3.0,6.0,0.0,70.0,0.0,0.0,0.0,0.0,0.0,1.0,4.0,0.0,10.0,0.0,1.0,1.0,6.0,5.0,0.0,1.0,7.0,1.0,0.0,40.0,0.0,0.0,18.0,0.0,0.0,7.0,0.0,1.0,70.0,2.0,40.0,5.0,63.0,0.0,5.0,3.0,34.0,40.0,0.0,0.0,1.0,3.0,63.0,12.0,0.0,0.0,0.0,70.0,40.0,0.0,70.0,1.0,0.0,31.0,26.0,2.0,2.0,3.0,63.0,70.0,0.0,0.0,0.0,0.0,0.0,0.0,0.0,40.0,3.0,0.0,63.0,0.0,1.0,0.0,0.0,0.0,33.0,5.0,1.0,30.0,0.0,63.0,10.0,5.0,0.0,40.0,11.0,1.0,36.0,70.0,12.0,0.0,70.0,0.0,9.0,2.0,0.0,1.0,70.0,1.0,0.0,0.0,63.0,0.0,17.0,1.0,3.0,40.0,1.0,0.0,40.0,0.0,8.0,2.0,0.0,36.0,5.0,1.0,40.0,1.0,11.0,0.0,2.0,70.0,0.0,2.0,2.0,0.0,36.0,1.0,70.0,0.0,0.0,0.0,28.0,34.0,40.0,4.0,63.0,0.0,0.0,1.0,0.0,30.0,70.0,0.0,0.0,0.0,1.0,0.0,12.0,0.0,3.0,0.0,0.0,0.0,12.0,63.0,1.0,1.0,11.0,1.0,6.0,16.0,16.0,0.0,0.0,12.0,0.0,1.0,0.0,2.0,1.0,1.0,0.0,0.0,3.0,1.0,0.0,9.0,1.0,18.0,16.0,3.0,1.0,70.0,15.0,1.0,1.0,0.0,30.0,26.0,31.0,70.0,0.0,12.0,70.0,4.0,0.0,1.0,0.0,1.0,0.0,63.0,70.0,0.0,0.0,0.0,0.0,11.0,9.0,9.0,5.0,1.0,3.0,1.0,1.0,0.0,0.0,70.0,0.0,2.0,0.0,1.0,0.0,7.0,1.0,2.0,1.0,1.0,5.0,1.0,2.0,0.0,12.0,30.0,1.0,70.0,70.0,30.0,0.0,7.0,36.0,8.0,2.0,11.0,0.0,18.0,70.0,0.0,0.0,1.0,18.0,1.0,5.0,70.0,5.0,2.0,5.0,0.0,0.0,14.0,7.0,1.0,11.0,34.0,30.0,0.0,0.0,3.0,0.0,1.0,5.0,3.0,70.0,0.0,3.0,0.0,1.0,0.0,1.0,3.0,0.0,34.0,0.0,0.0,0.0,0.0,1.0,40.0,18.0,0.0,0.0,70.0,8.0,11.0,0.0,19.0,40.0,5.0,1.0,3.0,11.0,0.0,3.0,2.0,9.0,3.0,0.0,0.0,4.0,1.0,0.0,0.0,0.0,30.0,1.0,2.0,0.0,0.0,36.0,2.0,0.0,30.0,0.0,8.0,26.0,6.0,0.0,0.0,0.0,3.0,26.0,2.0,0.0,63.0,3.0,0.0,33.0,2.0,8.0,70.0,11.0,1.0,18.0,3.0,5.0,0.0,18.0,1.0,0.0,4.0,1.0,13.0,1.0,1.0,2.0,2.0,0.0,5.0,2.0,0.0,0.0,0.0,70.0,5.0,33.0,3.0,28.0,34.0,1.0,12.0,0.0,70.0,1.0,63.0,3.0,0.0,5.0,0.0,0.0,4.0,0.0,40.0,2.0,1.0,0.0,7.0,0.0,63.0,0.0,0.0,70.0,0.0,63.0,0.0,0.0,7.0,70.0,33.0,7.0,1.0,0.0,70.0,33.0,7.0,0.0,1.0,70.0,40.0,26.0,36.0,9.0,26.0,5.0,1.0,6.0,63.0,2.0,2.0,11.0,2.0,4.0,17.0,0.0,0.0,1.0,0.0,0.0,31.0,5.0,1.0,1.0,1.0,4.0,28.0,0.0,3.0,0.0,9.0,10.0,0.0,70.0,63.0,0.0,70.0,0.0,0.0,0.0,1.0,33.0,40.0,2.0,11.0,7.0,63.0,0.0,0.0,1.0,11.0,9.0,7.0,2.0,0.0,2.0,1.0,0.0,1.0,0.0,8.0,16.0,28.0,0.0,0.0,9.0,0.0,0.0,7.0,0.0,0.0,0.0,30.0,0.0,1.0,0.0,1.0,70.0,36.0,0.0,63.0,14.0,36.0,0.0,0.0,0.0,0.0,63.0,1.0,0.0,0.0,40.0,0.0,70.0,1.0,28.0,19.0,11.0,0.0,0.0,2.0,13.0,1.0,0.0,0.0,9.0,14.0,3.0,28.0,0.0,4.0,34.0,5.0,26.0,6.0,1.0,9.0,33.0,70.0,1.0,1.0,1.0,0.0,1.0,40.0,31.0,4.0,2.0,0.0,0.0,0.0,1.0,70.0,0.0,0.0,3.0,33.0,1.0,3.0,1.0,2.0,3.0,2.0,3.0,2.0,3.0,1.0,28.0,16.0,0.0,33.0,11.0,0.0,0.0,0.0,36.0,0.0,1.0,6.0,0.0,70.0,0.0,11.0,0.0,4.0,34.0,1.0,7.0,28.0,5.0,31.0,40.0,5.0,0.0,1.0,0.0,0.0,2.0,0.0,0.0,0.0,5.0,70.0,10.0,8.0,0.0,0.0,4.0,70.0,4.0,0.0,0.0,2.0,2.0,70.0,0.0,28.0,2.0,1.0,5.0,4.0,1.0,0.0,70.0,11.0,1.0,1.0,1.0,0.0,1.0,2.0,17.0,70.0,18.0,0.0,0.0,1.0,31.0,1.0,0.0,7.0,1.0,0.0,2.0,0.0,0.0,63.0,2.0,3.0,7.0,1.0,0.0,40.0,6.0,17.0,0.0,3.0,0.0,18.0,70.0,0.0,13.0,17.0,12.0,0.0,0.0,1.0,2.0,0.0,0.0,3.0,2.0,36.0,1.0,0.0,1.0,0.0,1.0,0.0,1.0,26.0,0.0,4.0,0.0,70.0,0.0,0.0,12.0,1.0,11.0,2.0,14.0,5.0,40.0,1.0,70.0,11.0,1.0,14.0,7.0,18.0,1.0,0.0,18.0,3.0,8.0,34.0,0.0,30.0,7.0,34.0,1.0,63.0,14.0,0.0,0.0,6.0,2.0,0.0,1.0,9.0,8.0,0.0,0.0,6.0,3.0,1.0,1.0,0.0,0.0,0.0,12.0,70.0,70.0,0.0,26.0,40.0,9.0,34.0,0.0,0.0,11.0,5.0,3.0,63.0,0.0,0.0,0.0,0.0,63.0,0.0,1.0,70.0,8.0,2.0,36.0,4.0,1.0,5.0,0.0,0.0,5.0,0.0,10.0,1.0,36.0,11.0,11.0,1.0,70.0,0.0,5.0,70.0,2.0,0.0,4.0,9.0,0.0,8.0,0.0,70.0,1.0,0.0,1.0,40.0,0.0,0.0,2.0,26.0,5.0,0.0,0.0,3.0,0.0,0.0,0.0,0.0,0.0,7.0,12.0,5.0,17.0,70.0,1.0,5.0,2.0,18.0,40.0,0.0,6.0,0.0,2.0,0.0,1.0,0.0,0.0,1.0,0.0,0.0,0.0,0.0,0.0,1.0,1.0,5.0,0.0,3.0,8.0,10.0,0.0,4.0,0.0,0.0,34.0,11.0,2.0,10.0,0.0,0.0,0.0,1.0,13.0,2.0,0.0,9.0,2.0,0.0,0.0,40.0,15.0,13.0,1.0,5.0,2.0,2.0,3.0,40.0,2.0,70.0,40.0,70.0,2.0,1.0,0.0,1.0,1.0,2.0,0.0,1.0,15.0,1.0,3.0,3.0,31.0,70.0,0.0,5.0,0.0,63.0,15.0,0.0,1.0,16.0,0.0,0.0,31.0,9.0,5.0,2.0,30.0,12.0,3.0,1.0,9.0,1.0,7.0,2.0,0.0,9.0,1.0,63.0,63.0,4.0,1.0,0.0,0.0,11.0,13.0,36.0,2.0,14.0,1.0,10.0,1.0,1.0,1.0,70.0,5.0,9.0,0.0,0.0,1.0,63.0,5.0,0.0,1.0,2.0,0.0,2.0,0.0,5.0,1.0,0.0,1.0,36.0,6.0,34.0,5.0,0.0,1.0,1.0,2.0,0.0,4.0,36.0,2.0,4.0,7.0,0.0,0.0,8.0,28.0,0.0,10.0,0.0,40.0,0.0,0.0,0.0,4.0,7.0,63.0,3.0,17.0,0.0,3.0,0.0,28.0,6.0,0.0,0.0,0.0,9.0,1.0,2.0,4.0,28.0,2.0,0.0,30.0,18.0,0.0,6.0,70.0,1.0,8.0,3.0,2.0,0.0,0.0,4.0,5.0,1.0,2.0,0.0,12.0,5.0,3.0,0.0,63.0,70.0,0.0,7.0,1.0,0.0,3.0,36.0,0.0,0.0,70.0,28.0,0.0,1.0,1.0,1.0,30.0,2.0,0.0,4.0,1.0,0.0,9.0,11.0,1.0,7.0,2.0,31.0,1.0,1.0,16.0,2.0,1.0,40.0,0.0,12.0,0.0,30.0,0.0,1.0,3.0,19.0,0.0,9.0,0.0,34.0,15.0,1.0,0.0,0.0,4.0,2.0,33.0,12.0,11.0,0.0,31.0,0.0,0.0,0.0,0.0,1.0,34.0,7.0,1.0,0.0,2.0,0.0,0.0,0.0,0.0,40.0,8.0,7.0,1.0,31.0,2.0,1.0,3.0,11.0,0.0,6.0,3.0,0.0,34.0,0.0,5.0,14.0,7.0,4.0,0.0,1.0,15.0,3.0,0.0,1.0,3.0,1.0,1.0,3.0,0.0,2.0,31.0,0.0,0.0,0.0,2.0,36.0,0.0,70.0,16.0,1.0,2.0,9.0,0.0,0.0,28.0,1.0,2.0,2.0,1.0,3.0,5.0,0.0,0.0,0.0,0.0,0.0,2.0,2.0,12.0,3.0,0.0,1.0,70.0,19.0,0.0,1.0,0.0,0.0,28.0,3.0,0.0,3.0,70.0,1.0,4.0,5.0,1.0,2.0,1.0,0.0,0.0,1.0,0.0,1.0,2.0,1.0,0.0,18.0,1.0,10.0,14.0,11.0,0.0,2.0,12.0,40.0,15.0,1.0,0.0,3.0,1.0,33.0,1.0,0.0,8.0,10.0,63.0,70.0,7.0,0.0,40.0,0.0,0.0,2.0,2.0,28.0,0.0,34.0,40.0,70.0,1.0,0.0,0.0,8.0,70.0,0.0,0.0,11.0,2.0,15.0,1.0,40.0,12.0,0.0,1.0,12.0,0.0,4.0,0.0,0.0,0.0,5.0,4.0,31.0,0.0,0.0,0.0,70.0,0.0,4.0,9.0,70.0,0.0,70.0,2.0,0.0,1.0,2.0,0.0,0.0,1.0,40.0,5.0,7.0,0.0,0.0,2.0,70.0,1.0,0.0,8.0,17.0,7.0,1.0,0.0,0.0,28.0,1.0,2.0,1.0,1.0,2.0,1.0,70.0,5.0,12.0,11.0,7.0,36.0,0.0,0.0,63.0,3.0,3.0,0.0,0.0,40.0,5.0,2.0,33.0,26.0,0.0,40.0,8.0,0.0,0.0,11.0,40.0,34.0,18.0,8.0,1.0,3.0,33.0,3.0,1.0,1.0,0.0,30.0,16.0,70.0,4.0,8.0,0.0,3.0,31.0,5.0,0.0,2.0,0.0,40.0,0.0,3.0,26.0,70.0,6.0,0.0,70.0,0.0,9.0,0.0,3.0,33.0,2.0,70.0,0.0,0.0,1.0,0.0,63.0,1.0,2.0,63.0,1.0,11.0,1.0,3.0,3.0,0.0,0.0,10.0,3.0,4.0,1.0,4.0,6.0,0.0,5.0,0.0,13.0,70.0,9.0,13.0,0.0,0.0,11.0,0.0,4.0,0.0,2.0,31.0,0.0,15.0,11.0,0.0,5.0,0.0,0.0,9.0,0.0,2.0,17.0,34.0,7.0,1.0,2.0,3.0,0.0,12.0,5.0,3.0,1.0,31.0,1.0,0.0,7.0,1.0,0.0,28.0,0.0,3.0,2.0,0.0,1.0,1.0,7.0,0.0,5.0,0.0,9.0,1.0,0.0,3.0,2.0,5.0,1.0,3.0,9.0,4.0,28.0,63.0,36.0,0.0,0.0,5.0,1.0,0.0,0.0,11.0,1.0,1.0,26.0,2.0,0.0,1.0,9.0,2.0,1.0,2.0,28.0,5.0,4.0,0.0,0.0,1.0,0.0,11.0,0.0,0.0,0.0,12.0,63.0,0.0,2.0,17.0,5.0,13.0,0.0,16.0,40.0,1.0,1.0,4.0,9.0,1.0,0.0,1.0,70.0,0.0,2.0,0.0,0.0,0.0,40.0,1.0,0.0,0.0,0.0,2.0,36.0,2.0,0.0,0.0,17.0,0.0,0.0,0.0,34.0,19.0,0.0,3.0,0.0,1.0,0.0,0.0,0.0,1.0,0.0,1.0,70.0,0.0,63.0,26.0,0.0,0.0,0.0,1.0,0.0,0.0,30.0,3.0,18.0,0.0,0.0,0.0,3.0,3.0,1.0,0.0,5.0,0.0,40.0,26.0,36.0,2.0,0.0,0.0,0.0,0.0,9.0,0.0,12.0,33.0,2.0,12.0,1.0,12.0,0.0,1.0,5.0,0.0,70.0,0.0,2.0,0.0,3.0,8.0,30.0,40.0,16.0,1.0,12.0,0.0,40.0,33.0,70.0,26.0,0.0,10.0,33.0,70.0,0.0,0.0,2.0,17.0,12.0,0.0,0.0,3.0,1.0,16.0,34.0,3.0,10.0,0.0,0.0,2.0,10.0,0.0,6.0,31.0,1.0,0.0,1.0,0.0,0.0,0.0,8.0,15.0,9.0,26.0,0.0,0.0,0.0,0.0,0.0,0.0,31.0,2.0,0.0,0.0,6.0,2.0,9.0,0.0,1.0,9.0,2.0,1.0,0.0,31.0,17.0,1.0,1.0,0.0,5.0,0.0,9.0,6.0,8.0,70.0,19.0,14.0,70.0,7.0,0.0,5.0,1.0,11.0,4.0,0.0,3.0,9.0,0.0,33.0,34.0,40.0,9.0,0.0,34.0,0.0,1.0,3.0,1.0,12.0,2.0,1.0,1.0,36.0,0.0,40.0,0.0,0.0,0.0,40.0,30.0,0.0,2.0,0.0,14.0,0.0,2.0,0.0,28.0,11.0,0.0,63.0,2.0,33.0,0.0,5.0,12.0,5.0,1.0,0.0,0.0,0.0,0.0,15.0,7.0,36.0,6.0,3.0,0.0,1.0,1.0,0.0,2.0,1.0,1.0,0.0,8.0,0.0,70.0,5.0,0.0,0.0,0.0,6.0,1.0,11.0,0.0,1.0,33.0,0.0,34.0,1.0,2.0,0.0,1.0,70.0,2.0,6.0,0.0,0.0,26.0,0.0,3.0,1.0,0.0,70.0,0.0,3.0,40.0,10.0,9.0,0.0,0.0,4.0,3.0,0.0,31.0,11.0,0.0,0.0,4.0,30.0,7.0,0.0,0.0,26.0,7.0,14.0,1.0,31.0,11.0,0.0,2.0,0.0,7.0,5.0,34.0,0.0,13.0,0.0,9.0,5.0,1.0,63.0,0.0,0.0,5.0,0.0,0.0,70.0,3.0,9.0,6.0,0.0,63.0,63.0,2.0,0.0,63.0,63.0,0.0,1.0,70.0,28.0,0.0,0.0,0.0,0.0,7.0,2.0,70.0,1.0,1.0,5.0,1.0,1.0,0.0,0.0,0.0,0.0,0.0,0.0,40.0,31.0,1.0,40.0,2.0,16.0,0.0,1.0,2.0,70.0,40.0,0.0,0.0,0.0,0.0,10.0,0.0,0.0,3.0,15.0,2.0,0.0,26.0,34.0,4.0,0.0,8.0,7.0,36.0,0.0,2.0,1.0,14.0,0.0,5.0,9.0,0.0,1.0,3.0,7.0,1.0,0.0,28.0,7.0,0.0,0.0,0.0,36.0,8.0,7.0,4.0,0.0,11.0,2.0,0.0,70.0,31.0,4.0,18.0,0.0,8.0,18.0,0.0,3.0,1.0,2.0,0.0,1.0,30.0,12.0,0.0,11.0,3.0,63.0,3.0,14.0,0.0,0.0,3.0,18.0,70.0,70.0,3.0,70.0,70.0,0.0,0.0,0.0,0.0,0.0,0.0,0.0,9.0,28.0,5.0,0.0,9.0,63.0,6.0,1.0,4.0,1.0,1.0,7.0,0.0,26.0,63.0,1.0,2.0,34.0,11.0,0.0,0.0,34.0,8.0,28.0,63.0,1.0,2.0,34.0,70.0,0.0,0.0,6.0,1.0,34.0,9.0,0.0,1.0,2.0,0.0,5.0,70.0,40.0,12.0,70.0,40.0,0.0,5.0,0.0,0.0,1.0,0.0,9.0,9.0,5.0,63.0,0.0,3.0,0.0,6.0,70.0,26.0,0.0,40.0,2.0,8.0,1.0,0.0,0.0,0.0,0.0,5.0,8.0,30.0,1.0,26.0,0.0,0.0,33.0,5.0,1.0,2.0,8.0,7.0,40.0,70.0,2.0,1.0,0.0,0.0,0.0,1.0,0.0,0.0,1.0,40.0,70.0,11.0,3.0,2.0,0.0,3.0,0.0,0.0,2.0,3.0,26.0,40.0,63.0,1.0,18.0,14.0,0.0,6.0,0.0,1.0,9.0,2.0,0.0,3.0,8.0,3.0,2.0,16.0,0.0,1.0,0.0,6.0,2.0,0.0,1.0,1.0,3.0,0.0,70.0,0.0,70.0,0.0,19.0,16.0,1.0,6.0,0.0,0.0,1.0,30.0,0.0,70.0,1.0,33.0,0.0,0.0,0.0,0.0,1.0,2.0,1.0,0.0,70.0,3.0,17.0,7.0,1.0,0.0,0.0,70.0,0.0,7.0,19.0,1.0,9.0,5.0,2.0,0.0,0.0,26.0,2.0,1.0,1.0,0.0,2.0,2.0,2.0,0.0,9.0,0.0,0.0,0.0,0.0,18.0,0.0,6.0,7.0,18.0,1.0,0.0,2.0,26.0,19.0,9.0,34.0,31.0,1.0,9.0,0.0,9.0,0.0,70.0,0.0,1.0,2.0,34.0,0.0,1.0,70.0,2.0,4.0,0.0,0.0,3.0,3.0,0.0,3.0,1.0,36.0,1.0,1.0,0.0,3.0,0.0,3.0,0.0,2.0,0.0,70.0,7.0,0.0,2.0,2.0,1.0,36.0,5.0,0.0,1.0,70.0,1.0,7.0,14.0,8.0,6.0,10.0,1.0,1.0,5.0,9.0,2.0,1.0,34.0,0.0,9.0,10.0,26.0,63.0,15.0,1.0,26.0,7.0,2.0,40.0,5.0,0.0,70.0,0.0,63.0,30.0,2.0,6.0,0.0,8.0,8.0,34.0,0.0,15.0,1.0,1.0,0.0,16.0,26.0,11.0,11.0,1.0,1.0,0.0,70.0,9.0,0.0,11.0,5.0,9.0,4.0,0.0,63.0,0.0,0.0,1.0,5.0,0.0,63.0,2.0,30.0,2.0,33.0,6.0,0.0,3.0,1.0,2.0,0.0,0.0,0.0,19.0,2.0,7.0,0.0,34.0,0.0,33.0,0.0,2.0,2.0,0.0,11.0,5.0,0.0,0.0,1.0,70.0,4.0,3.0,0.0,70.0,0.0,0.0,6.0,0.0,0.0,4.0,5.0,2.0,2.0,5.0,14.0,1.0,0.0,11.0,15.0,3.0,4.0,1.0,33.0,4.0,1.0,1.0,1.0,0.0,2.0,3.0,0.0,63.0,70.0,11.0,3.0,0.0,0.0,2.0,2.0,40.0,0.0,15.0,2.0,34.0,70.0,1.0,40.0,11.0,26.0,2.0,2.0,63.0,70.0,70.0,6.0,2.0,2.0,10.0,8.0,1.0,63.0,2.0,40.0,0.0,33.0,1.0,0.0,9.0,5.0,0.0,1.0,63.0,1.0,2.0,34.0,2.0,1.0,0.0,2.0,8.0,1.0,1.0,0.0,1.0,0.0,28.0,11.0,0.0,34.0,6.0,31.0,70.0,0.0,0.0,36.0,6.0,70.0,1.0,1.0,1.0,70.0,1.0,11.0,14.0,1.0,4.0,63.0,0.0,0.0,70.0,0.0,40.0,4.0,0.0,1.0,0.0,1.0,8.0,28.0,30.0,70.0,8.0,70.0,0.0,1.0,0.0,1.0,2.0,1.0,2.0,16.0,1.0,0.0,0.0,1.0,4.0,1.0,0.0,4.0,0.0,0.0,1.0,0.0,0.0,0.0,0.0,3.0,18.0,63.0,11.0,2.0,34.0,33.0,18.0,0.0,0.0,7.0,2.0,1.0,40.0,5.0,70.0,0.0,14.0,0.0,4.0,0.0,4.0,15.0,0.0,7.0,3.0,40.0,0.0,2.0,11.0,0.0,2.0,2.0,2.0,2.0,1.0,2.0,70.0,5.0,12.0,2.0,1.0,0.0,0.0,1.0,9.0,17.0,2.0,1.0,0.0,26.0,7.0,2.0,2.0,1.0,33.0,0.0,0.0,2.0,63.0,0.0,11.0,0.0,0.0,11.0,7.0,70.0,63.0,0.0,70.0,0.0,0.0,2.0,19.0,10.0,0.0,4.0,5.0,1.0,40.0,0.0,9.0,1.0,9.0,0.0,11.0,63.0,1.0,1.0,2.0,0.0,0.0,0.0,63.0,4.0,7.0,0.0,16.0,3.0,17.0,2.0,13.0,11.0,3.0,31.0,0.0,2.0,33.0,3.0,1.0,14.0,34.0,2.0,0.0,8.0,0.0,63.0,70.0,2.0,5.0,26.0,1.0,8.0,1.0,6.0,1.0,11.0,1.0,1.0,5.0,4.0,40.0,2.0,26.0,0.0,6.0,0.0,2.0,40.0,18.0,2.0,0.0,8.0,26.0,0.0,14.0,2.0,1.0,0.0,0.0,0.0,0.0,0.0,63.0,0.0,0.0,14.0,0.0,0.0,2.0,0.0,0.0,1.0,5.0,2.0,3.0,0.0,9.0,1.0,1.0,1.0,6.0,1.0,4.0,5.0,0.0,0.0,0.0,0.0,5.0,0.0,36.0,33.0,0.0,9.0,7.0,3.0,70.0,0.0,17.0,10.0,28.0,4.0,1.0,2.0,11.0,1.0,3.0,3.0,3.0,33.0,0.0,0.0,4.0,7.0,1.0,8.0,0.0,19.0,63.0,40.0,1.0,0.0,1.0,63.0,11.0,1.0,2.0,28.0,0.0,0.0,1.0,0.0,0.0,0.0,0.0,1.0,0.0,1.0,30.0,30.0,31.0,11.0,9.0,9.0,0.0,5.0,9.0,1.0,70.0,40.0,3.0,2.0,31.0,7.0,1.0,5.0,0.0,2.0,17.0,2.0,2.0,18.0,15.0,0.0,3.0,2.0,1.0,1.0,70.0,5.0,9.0,8.0,3.0,1.0,6.0,0.0,28.0,70.0,0.0,26.0,8.0,0.0,28.0,17.0,1.0,0.0,3.0,2.0,11.0,17.0,70.0,2.0,0.0,36.0,11.0,0.0,10.0,5.0,11.0,0.0,0.0,0.0,3.0,0.0,3.0,0.0,4.0,5.0,1.0,15.0,0.0,0.0,1.0,5.0,33.0,1.0,70.0,0.0,5.0,2.0,3.0,1.0,10.0,18.0,0.0,0.0,0.0,1.0,2.0,1.0,7.0,1.0,0.0,31.0,18.0,0.0,1.0,5.0,1.0,14.0,16.0,31.0,10.0,63.0,4.0,3.0,11.0,0.0,2.0,63.0,19.0,1.0,0.0,1.0,70.0,0.0,0.0,30.0,30.0,6.0,1.0,1.0,2.0,34.0,0.0,1.0,9.0,2.0,40.0,63.0,0.0,1.0,5.0,40.0,0.0,1.0,4.0,2.0,1.0,0.0,1.0,70.0,0.0,0.0,40.0,63.0,5.0,1.0,0.0,0.0,1.0,9.0,0.0,0.0,0.0,13.0,5.0,5.0,0.0,28.0,0.0,2.0,36.0,0.0,70.0,2.0,0.0,70.0,0.0,18.0,26.0,5.0,0.0,4.0,11.0,0.0,2.0,10.0,30.0,12.0,1.0,1.0,4.0,2.0,7.0,0.0,2.0,2.0,33.0,14.0,0.0,1.0,1.0,9.0,1.0,0.0,9.0,0.0,0.0,0.0,28.0,0.0,11.0,9.0,31.0,11.0,4.0,26.0,0.0,0.0,31.0,3.0,2.0,3.0,28.0,18.0,4.0,2.0,1.0,0.0,3.0,63.0,0.0,0.0,34.0,31.0,40.0,11.0,34.0,1.0,1.0,9.0,15.0,9.0,2.0,4.0,15.0,0.0,26.0,2.0,2.0,70.0,4.0,10.0,28.0,0.0,11.0,0.0,36.0,3.0,70.0,1.0,70.0,0.0,0.0,70.0,0.0,13.0,31.0,0.0,3.0,11.0,0.0,0.0,63.0,0.0,15.0,0.0,0.0,5.0,0.0,0.0,70.0,0.0,34.0,3.0,0.0,8.0,28.0,12.0,12.0,5.0,0.0,0.0,40.0,11.0,0.0,0.0,5.0,3.0,0.0,0.0,11.0,0.0,0.0,1.0,1.0,16.0,1.0,70.0,2.0,14.0,0.0,30.0,0.0,70.0,0.0,1.0,3.0,33.0,9.0,7.0,1.0,19.0,2.0,1.0,0.0,13.0,0.0,3.0,0.0,63.0,28.0,11.0,0.0,5.0,3.0,70.0,1.0,0.0,6.0,2.0,26.0,2.0,9.0,26.0,0.0,1.0,2.0,0.0,70.0,12.0,63.0,13.0,0.0,1.0,0.0,0.0,3.0,26.0,0.0,28.0,11.0,2.0,7.0,1.0,0.0,6.0,63.0,0.0,1.0,1.0,0.0,2.0,3.0,18.0,2.0,0.0,0.0,0.0,0.0,70.0,0.0,3.0,8.0,30.0,18.0,9.0,0.0,1.0,34.0,70.0,34.0,1.0,70.0,0.0,0.0,1.0,0.0,70.0,1.0,14.0,1.0,40.0,63.0,11.0,1.0,0.0,7.0,1.0,2.0,70.0,40.0,1.0,1.0,18.0,2.0,0.0,5.0,1.0,11.0,3.0,18.0,2.0,0.0,2.0,63.0,1.0,34.0,0.0,2.0,7.0,0.0,30.0,1.0,3.0,36.0,1.0,1.0,26.0,70.0,0.0,0.0,0.0,40.0,63.0,2.0,0.0,0.0,11.0,2.0,1.0,1.0,31.0,0.0,0.0,63.0,0.0,9.0,0.0,0.0,11.0,63.0,10.0,0.0,2.0,2.0,11.0,30.0,5.0,4.0,0.0,40.0,18.0,1.0,1.0,31.0,63.0,0.0,2.0,0.0,0.0,26.0,0.0,2.0,2.0,63.0,0.0,11.0,0.0,1.0,0.0,2.0,2.0,30.0,0.0,0.0,3.0,26.0,0.0,14.0,3.0,1.0,30.0,70.0,1.0,0.0,6.0,1.0,70.0,1.0,28.0,2.0,6.0,4.0,14.0,0.0,0.0,3.0,63.0,11.0,0.0,40.0,0.0,2.0,5.0,1.0,0.0,5.0,1.0,8.0,0.0,0.0,9.0,7.0,36.0,1.0,28.0,6.0,1.0,0.0,40.0,0.0,11.0,0.0,1.0,0.0,5.0,16.0,7.0,0.0,0.0,26.0,4.0,31.0,0.0,0.0,12.0,1.0,0.0,4.0,14.0,0.0,5.0,1.0,11.0,11.0,12.0,1.0,0.0,63.0,6.0,0.0,40.0,0.0,31.0,70.0,0.0,0.0,0.0,9.0,16.0,11.0,0.0,2.0,2.0,0.0,0.0,0.0,7.0,4.0,5.0,1.0,34.0,31.0,34.0,10.0,2.0,36.0,2.0,5.0,70.0,0.0,2.0,40.0,10.0,5.0,63.0,1.0,0.0,26.0,63.0,7.0,1.0,16.0,2.0,1.0,0.0,1.0,0.0,0.0,36.0,70.0,1.0,3.0,0.0,40.0,31.0,0.0,7.0,0.0,31.0,5.0,14.0,63.0,0.0,40.0,28.0,0.0,63.0,4.0,70.0,1.0,13.0,1.0,0.0,1.0,0.0,6.0,4.0,40.0,0.0,19.0,0.0,1.0,33.0,2.0,40.0,3.0,0.0,0.0,1.0,0.0,0.0,5.0,1.0,70.0,0.0,1.0,3.0,5.0,0.0,0.0,0.0,0.0,2.0,0.0,0.0,34.0,0.0,1.0,11.0,18.0,1.0,40.0,0.0,15.0,16.0,6.0,12.0,40.0,70.0,33.0,5.0,3.0,18.0,0.0,4.0,1.0,0.0,28.0,70.0,17.0,1.0,0.0,14.0,0.0,30.0,3.0,0.0,2.0,34.0,1.0,6.0,0.0,7.0,14.0,31.0,0.0,28.0,0.0,2.0,31.0,3.0,1.0,11.0,0.0,1.0,17.0,1.0,0.0,1.0,1.0,1.0,1.0,1.0,1.0,1.0,2.0,0.0,1.0,9.0,2.0,1.0,0.0,0.0,0.0,70.0,1.0,12.0,0.0,0.0,9.0,1.0,7.0,6.0,0.0,1.0,0.0,0.0,63.0,0.0,1.0,0.0,0.0,0.0,0.0,0.0,18.0,0.0,8.0,1.0,40.0,0.0,0.0,26.0,5.0,40.0,0.0,14.0,0.0,0.0,0.0,1.0,40.0,8.0,70.0,0.0,2.0,9.0,7.0,0.0,2.0,30.0,4.0,7.0,0.0,11.0,0.0,34.0,3.0,3.0,70.0,70.0,3.0,0.0,5.0,26.0,0.0,0.0,9.0,0.0,0.0,0.0,13.0,1.0,0.0,34.0,34.0,5.0,1.0,8.0,2.0,34.0,0.0,13.0,0.0,2.0,1.0,5.0,0.0,70.0,0.0,4.0,16.0,0.0,8.0,11.0,0.0,9.0,63.0,34.0,1.0,1.0,0.0,3.0,6.0,1.0,1.0,0.0,2.0,6.0,70.0,0.0,18.0,1.0,2.0,0.0,7.0,0.0,16.0,3.0,4.0,0.0,3.0,28.0,18.0,0.0,0.0,0.0,40.0,31.0,10.0,0.0,0.0,1.0,0.0,0.0,26.0,1.0,0.0,1.0,63.0,5.0,5.0,1.0,34.0,0.0,0.0,0.0,30.0,4.0,0.0,63.0,11.0,0.0,1.0,0.0,0.0,15.0,1.0,1.0,1.0,0.0,0.0,0.0,2.0,14.0,11.0,1.0,1.0,0.0,0.0,30.0,1.0,70.0,0.0,7.0,26.0,0.0,0.0,0.0,0.0,11.0,3.0,11.0,8.0,63.0,1.0,4.0,70.0,0.0,2.0,0.0,0.0,0.0,12.0,70.0,5.0,10.0,5.0,2.0,19.0,1.0,0.0,0.0,4.0,70.0,0.0,0.0,0.0,0.0,63.0,1.0,9.0,1.0,3.0,33.0,11.0,28.0,1.0,0.0,34.0,3.0,9.0,5.0,0.0,0.0,0.0,36.0,70.0,11.0,5.0,11.0,34.0,0.0,63.0,1.0,70.0,0.0,0.0,0.0,0.0,0.0,28.0,1.0,1.0,2.0,2.0,11.0,70.0,0.0,9.0,31.0,0.0,0.0,11.0,4.0,2.0,70.0,1.0,26.0,70.0,30.0,11.0,3.0,9.0,1.0,0.0,7.0,2.0,30.0,13.0,63.0,1.0,3.0,1.0,0.0,1.0,7.0,3.0,1.0,11.0,1.0,34.0,0.0,4.0,0.0,2.0,1.0,2.0,0.0,0.0,0.0,5.0,1.0,1.0,19.0,33.0,8.0,8.0,0.0,0.0,0.0,4.0,5.0,1.0,33.0,34.0,70.0,0.0,0.0,1.0,9.0,1.0,0.0,2.0,28.0,40.0,3.0,11.0,16.0,16.0,9.0,33.0,5.0,0.0,0.0,63.0,17.0,1.0,2.0,2.0,2.0,0.0,26.0,31.0,1.0,2.0,70.0,0.0,0.0,1.0,1.0,3.0,1.0,4.0,2.0,1.0,2.0,2.0,3.0,0.0,0.0,6.0,0.0,2.0,70.0,0.0,0.0,0.0,0.0,10.0,0.0,31.0,30.0,0.0,0.0,0.0,3.0,1.0,1.0,0.0,2.0,0.0,5.0,1.0,2.0,1.0,15.0,34.0,2.0,2.0,7.0,2.0,70.0,1.0,6.0,11.0,33.0,2.0,0.0,0.0,1.0,63.0,1.0,40.0,0.0,2.0,2.0,0.0,3.0,0.0,0.0,7.0,0.0,0.0,11.0,16.0,1.0,0.0,1.0,0.0,0.0,0.0,9.0,0.0,1.0,1.0,0.0,3.0,0.0,0.0,2.0,0.0,36.0,1.0,1.0,1.0,3.0,34.0,30.0,31.0,2.0,70.0,0.0,0.0,70.0,3.0,0.0,4.0,1.0,0.0,1.0,1.0,33.0,31.0,4.0,18.0,1.0,0.0,1.0,0.0,0.0,10.0,26.0,19.0,63.0,2.0,70.0,0.0,1.0,3.0,16.0,70.0,19.0,3.0,2.0,70.0,0.0,1.0,0.0,0.0,63.0,9.0,1.0,1.0,70.0,30.0,6.0,33.0,12.0,2.0,0.0,0.0,17.0,0.0,0.0,0.0,0.0,70.0,15.0,1.0,31.0,1.0,2.0,14.0,0.0,63.0,3.0,1.0,15.0,18.0,0.0,0.0,14.0,30.0,1.0,12.0,9.0,0.0,3.0,0.0,0.0,3.0,0.0,0.0,31.0,3.0,16.0,11.0,1.0,0.0,26.0,0.0,26.0,36.0,1.0,63.0,26.0,31.0,5.0,63.0,14.0,4.0,0.0,36.0,1.0,18.0,3.0,0.0,3.0,0.0,63.0,36.0,0.0,1.0,9.0,0.0,5.0,40.0,6.0,2.0,0.0,1.0,8.0,36.0,0.0,70.0,1.0,0.0,1.0,2.0,31.0,0.0,33.0,31.0,0.0,17.0,0.0,0.0,5.0,2.0,70.0,8.0,1.0,31.0,70.0,0.0,9.0,2.0,33.0,10.0,4.0,26.0,1.0,63.0,0.0,1.0,5.0,2.0,0.0,4.0,2.0,1.0,0.0,13.0,0.0,2.0,0.0,34.0,70.0,26.0,5.0,31.0,7.0,0.0,28.0,2.0,0.0,0.0,14.0,6.0,1.0,40.0,0.0,5.0,33.0,3.0,40.0,31.0,0.0,0.0,2.0,3.0,34.0,0.0,33.0,7.0,9.0,70.0,34.0,33.0,4.0,11.0,0.0,2.0,0.0,0.0,40.0,11.0,0.0,8.0,3.0,26.0,3.0,0.0,26.0,0.0,0.0,31.0,0.0,34.0,70.0,0.0,2.0,0.0,1.0,30.0,17.0,1.0,0.0,0.0,19.0,40.0,11.0,3.0,0.0,0.0,14.0,0.0,40.0,5.0,0.0,0.0,0.0,11.0,1.0,3.0,30.0,3.0,1.0,1.0,6.0,31.0,30.0,1.0,0.0,4.0,63.0,63.0,0.0,11.0,15.0,2.0,33.0,3.0,1.0,0.0,26.0,1.0,63.0,3.0,4.0,0.0,1.0,18.0,3.0,1.0,1.0,5.0,1.0,0.0,5.0,6.0,31.0,0.0,63.0,0.0,9.0,1.0,1.0,31.0,0.0,0.0,70.0,9.0,1.0,2.0,12.0,1.0,0.0,0.0,0.0,30.0,1.0,2.0,0.0,8.0,1.0,1.0,12.0,1.0,0.0,0.0,7.0,8.0,2.0,5.0,0.0,0.0,6.0,0.0,1.0,0.0,0.0,0.0,16.0,1.0,63.0,2.0,2.0,0.0,10.0,0.0,19.0,0.0,6.0,70.0,0.0,0.0,1.0,2.0,0.0,40.0,0.0,0.0,0.0,6.0,0.0,63.0,1.0,1.0,0.0,2.0,0.0,11.0,14.0,15.0,1.0,1.0,40.0,70.0,7.0,11.0,1.0,1.0,1.0,0.0,7.0,0.0,34.0,4.0,2.0,0.0,18.0,63.0,7.0,34.0,0.0,0.0,26.0,0.0,0.0,3.0,3.0,9.0,1.0,5.0,4.0,3.0,0.0,0.0,0.0,6.0,30.0,5.0,0.0,1.0,0.0,12.0,0.0,30.0,0.0,1.0,70.0,9.0,7.0,3.0,0.0,0.0,10.0,16.0,4.0,5.0,2.0,0.0,1.0,0.0,40.0,15.0,30.0,2.0,0.0,0.0,1.0,2.0,9.0,3.0,70.0,17.0,1.0,4.0,0.0,0.0,33.0,3.0,0.0,1.0,70.0,0.0,0.0,11.0,0.0,1.0,1.0,0.0,2.0,0.0,8.0,9.0,31.0,0.0,18.0,0.0,63.0,9.0,1.0,3.0,0.0,34.0,13.0,2.0,31.0,5.0,3.0,1.0,26.0,70.0,63.0,3.0,9.0,0.0,11.0,33.0,17.0,34.0,0.0,10.0,12.0,6.0,1.0,30.0,8.0,0.0,10.0,16.0,70.0,9.0,3.0,14.0,34.0,1.0,11.0,63.0,0.0,63.0,70.0,0.0,0.0,0.0,1.0,0.0,3.0,40.0,7.0,6.0,3.0,1.0,18.0,8.0,5.0,15.0,17.0,8.0,70.0,5.0,1.0,30.0,70.0,40.0,70.0,70.0,40.0,2.0,70.0,0.0,14.0,70.0,4.0,4.0,1.0,1.0,1.0,63.0,0.0,1.0,0.0,63.0,30.0,3.0,3.0,11.0,2.0,1.0,26.0,3.0,2.0,0.0,0.0,3.0,28.0,2.0,2.0,0.0,1.0,3.0,0.0,1.0,0.0,1.0,1.0,63.0,3.0,17.0,0.0,0.0,0.0,8.0,28.0,0.0,11.0,9.0,18.0,0.0,63.0,0.0,26.0,31.0,0.0,0.0,5.0,11.0,70.0,0.0,0.0,0.0,70.0,2.0,0.0,70.0,7.0,7.0,0.0,26.0,14.0,2.0,3.0,70.0,0.0,0.0,28.0,1.0,10.0,3.0,1.0,0.0,7.0,8.0,34.0,63.0,2.0,18.0,0.0,0.0,40.0,6.0,2.0,9.0,40.0,70.0,0.0,1.0,0.0,34.0,26.0,2.0,1.0,30.0,63.0,0.0,0.0,63.0,3.0,8.0,5.0,70.0,0.0,40.0,31.0,0.0,28.0,1.0,0.0,19.0,33.0,0.0,1.0,1.0,0.0,1.0,70.0,7.0,0.0,4.0,31.0,0.0,2.0,0.0,0.0,7.0,26.0,0.0,0.0,0.0,0.0,0.0,70.0,2.0,34.0,0.0,4.0,10.0,1.0,70.0,40.0,0.0,63.0,1.0,0.0,1.0,34.0,2.0,0.0,0.0,0.0,3.0,0.0,4.0,1.0,63.0,0.0,17.0,0.0,11.0,18.0,8.0,2.0,0.0,4.0,1.0,0.0,6.0,18.0,0.0,3.0,13.0,70.0,0.0,1.0,2.0,63.0,0.0,31.0,0.0,1.0,2.0,1.0,1.0,2.0,0.0,1.0,17.0,17.0,0.0,0.0,1.0,0.0,0.0,2.0,1.0,1.0,0.0,34.0,2.0,30.0,36.0,11.0,0.0,11.0,1.0,1.0,2.0,0.0,7.0,9.0,31.0,0.0,17.0,8.0,1.0,1.0,1.0,1.0,0.0,1.0,34.0,1.0,17.0,3.0,34.0,11.0,70.0,2.0,0.0,2.0,0.0,1.0,1.0,0.0,0.0,9.0,40.0,1.0,0.0,0.0,0.0,0.0,0.0,0.0,3.0,31.0,63.0,0.0,2.0,10.0,0.0,1.0,3.0,63.0,1.0,0.0,0.0,2.0,9.0,17.0,2.0,30.0,1.0,0.0,3.0,0.0,30.0,70.0,8.0,70.0,0.0,0.0,2.0,0.0,2.0,0.0,0.0,36.0,1.0,0.0,7.0,31.0,2.0,0.0,13.0,10.0,0.0,11.0,0.0,6.0,0.0,1.0,0.0,7.0,4.0,0.0,0.0,18.0,12.0,0.0,0.0,0.0,31.0,4.0,2.0,3.0,70.0,63.0,9.0,6.0,26.0,3.0,70.0,2.0,5.0,70.0,18.0,0.0,36.0,3.0,16.0,5.0,2.0,30.0,33.0,0.0,9.0,0.0,6.0,1.0,1.0,5.0,63.0,7.0,0.0,0.0,63.0,9.0,1.0,0.0,11.0,0.0,8.0,1.0,6.0,6.0,0.0,2.0,30.0,11.0,11.0,0.0,2.0,1.0,19.0,1.0,1.0,1.0,2.0,0.0,28.0,1.0,0.0,2.0,2.0,5.0,0.0,0.0,9.0,1.0,11.0,0.0,70.0,0.0,70.0,5.0,11.0,0.0,40.0,0.0,1.0,0.0,6.0,12.0,11.0,2.0,2.0,9.0,3.0,6.0,0.0,9.0,1.0,0.0,0.0,11.0,30.0,0.0,11.0,1.0,0.0,1.0,0.0,0.0,2.0,1.0,0.0,0.0,2.0,2.0,15.0,31.0,0.0,0.0,18.0,1.0,0.0,1.0,3.0,0.0,2.0,1.0,36.0,7.0,1.0,70.0,7.0,0.0,0.0,1.0,0.0,0.0,31.0,1.0,30.0,0.0,0.0,31.0,1.0,4.0,3.0,0.0,6.0,0.0,0.0,4.0,0.0,40.0,0.0,1.0,2.0,0.0,3.0,70.0,1.0,5.0,0.0,0.0,0.0,3.0,0.0,3.0,40.0,1.0,9.0,36.0,8.0,2.0,5.0,0.0,1.0,2.0,1.0,1.0,12.0,26.0,2.0,0.0,1.0,40.0,70.0,5.0,3.0,1.0,26.0,0.0,1.0,1.0,9.0,2.0,0.0,0.0,13.0,1.0,1.0,12.0,30.0,1.0,7.0,6.0,1.0,0.0,0.0,0.0,0.0,0.0,0.0,1.0,0.0,70.0,0.0,70.0,6.0,3.0,1.0,1.0,4.0,26.0,40.0,1.0,8.0,7.0,10.0,3.0,26.0,2.0,0.0,2.0,8.0,33.0,36.0,19.0,0.0,1.0,0.0,9.0,0.0,8.0,5.0,2.0,5.0,5.0,0.0,18.0,0.0,1.0,31.0,0.0,1.0,0.0,0.0,70.0,1.0,2.0,12.0,70.0,3.0,0.0,26.0,1.0,0.0,15.0,1.0,5.0,63.0,2.0,17.0,5.0,0.0,70.0,63.0,1.0,70.0,2.0,8.0,2.0,18.0,2.0,70.0,1.0,5.0,34.0,2.0,18.0,2.0,12.0,6.0,28.0,0.0,26.0,0.0,1.0,2.0,1.0,0.0,70.0,2.0,0.0,0.0,14.0,0.0,0.0,7.0,7.0,14.0,1.0,12.0,1.0,0.0,3.0,3.0,1.0,9.0,1.0,0.0,15.0,0.0,1.0,4.0,0.0,0.0,0.0,4.0,12.0,11.0,63.0,1.0,0.0,0.0,0.0,0.0,2.0,0.0,0.0,7.0,4.0,2.0,2.0,1.0,0.0,1.0,0.0,7.0,1.0,14.0,26.0,2.0,4.0,2.0,1.0,7.0,2.0,0.0,13.0,1.0,34.0,2.0,1.0,17.0,2.0,0.0,2.0,5.0,7.0,34.0,0.0,1.0,12.0,1.0,0.0,40.0,0.0,0.0,63.0,0.0,2.0,70.0,70.0,0.0,1.0,0.0,26.0,0.0,31.0,3.0,11.0,0.0,7.0,40.0,0.0,15.0,1.0,33.0,4.0,3.0,0.0,2.0,0.0,28.0,33.0,33.0,0.0,33.0,0.0,2.0,2.0,7.0,63.0,0.0,0.0,3.0,0.0,30.0,0.0,18.0,0.0,0.0,0.0,30.0,6.0,1.0,13.0,1.0,63.0,0.0,11.0,10.0,0.0,0.0,0.0,3.0,1.0,0.0,10.0,19.0,70.0,7.0,26.0,0.0,0.0,1.0,0.0,4.0,0.0,63.0,2.0,0.0,31.0,40.0,0.0,6.0,40.0,7.0,1.0,30.0,0.0,14.0,2.0,3.0,0.0,0.0,0.0,8.0,8.0,9.0,2.0,11.0,7.0,8.0,10.0,15.0,1.0,1.0,40.0,63.0,63.0,0.0,8.0,31.0,26.0,70.0,0.0,18.0,8.0,1.0,0.0,28.0,0.0,1.0,28.0,7.0,11.0,1.0,0.0,14.0,40.0,0.0,0.0,1.0,2.0,1.0,0.0,2.0,4.0,9.0,2.0,63.0,1.0,31.0,26.0,8.0,5.0,2.0,1.0,2.0,3.0,0.0,6.0,19.0,1.0,7.0,1.0,5.0,2.0,14.0,2.0,1.0,8.0,63.0,11.0,8.0,0.0,17.0,19.0,11.0,1.0,3.0,63.0,7.0,7.0,7.0,9.0,11.0,19.0,0.0,70.0,63.0,26.0,6.0,1.0,4.0,2.0,1.0,34.0,2.0,1.0,0.0,2.0,2.0,0.0,3.0,0.0,2.0,0.0,28.0,2.0,14.0,0.0,0.0,0.0,63.0,2.0,0.0,40.0,0.0,2.0,1.0,2.0,0.0,0.0,10.0,4.0,0.0,0.0,4.0,0.0,0.0,26.0,3.0,0.0,2.0,4.0,1.0,16.0,10.0,0.0,1.0,3.0,0.0,0.0,0.0,1.0,11.0,70.0,5.0,17.0,0.0,18.0,14.0,1.0,8.0,63.0,0.0,0.0,1.0,8.0,0.0,17.0,13.0,5.0,12.0,63.0,8.0,12.0,3.0,0.0,5.0,0.0,63.0,3.0,0.0,1.0,8.0,11.0,26.0,0.0,70.0,3.0,0.0,28.0,9.0,19.0,70.0,14.0,0.0,9.0,10.0,63.0,0.0,30.0,0.0,1.0,0.0,40.0,1.0,1.0,1.0,0.0,0.0,0.0,1.0,2.0,0.0,1.0,70.0,7.0,1.0,1.0,1.0,36.0,34.0,10.0,0.0,0.0,0.0,1.0,7.0,2.0,5.0,1.0,2.0,2.0,5.0,31.0,1.0,30.0,0.0,12.0,2.0,28.0,7.0,1.0,0.0,0.0,31.0,3.0,8.0,0.0,0.0,0.0,11.0,0.0,31.0,3.0,0.0,26.0,0.0,1.0,63.0,30.0,0.0,3.0,0.0,0.0,70.0,1.0,0.0,4.0,1.0,6.0,0.0,9.0,70.0,28.0,4.0,70.0,0.0,26.0,0.0,1.0,4.0,34.0,12.0,0.0,1.0,0.0,1.0,31.0,0.0,1.0,1.0,0.0,14.0,70.0,9.0,0.0,0.0,40.0,8.0,1.0,31.0,6.0,1.0,0.0,26.0,63.0,34.0,14.0,1.0,18.0,63.0,4.0,0.0,8.0,1.0,1.0,0.0,5.0,1.0,6.0,0.0,31.0,28.0,0.0,28.0,11.0,18.0,0.0,0.0,1.0,5.0,4.0,15.0,11.0,3.0,70.0,40.0,1.0,2.0,7.0,1.0,0.0,34.0,18.0,3.0,3.0,28.0,11.0,11.0,70.0,8.0,2.0,2.0,2.0,6.0,2.0,1.0,0.0,0.0,0.0,2.0,2.0,1.0,1.0,30.0,0.0,31.0,1.0,16.0,10.0,17.0,0.0,0.0,6.0,0.0,30.0,1.0,7.0,0.0,1.0,0.0,0.0,30.0,2.0,1.0,0.0,0.0,34.0,9.0,0.0,63.0,11.0,0.0,6.0,1.0,11.0,0.0,0.0,4.0,3.0,0.0,1.0,1.0,1.0,11.0,1.0,0.0,70.0,1.0,70.0,63.0,2.0,63.0,2.0,26.0,70.0,0.0,0.0,7.0,31.0,40.0,63.0,0.0,26.0,0.0,8.0,3.0,3.0,11.0,0.0,0.0,11.0,28.0,63.0,0.0,0.0,3.0,0.0,0.0,2.0,1.0,5.0,5.0,0.0,70.0,1.0,1.0,63.0,0.0,14.0,6.0,0.0,11.0,8.0,0.0,26.0,0.0,0.0,0.0,0.0,1.0,8.0,6.0,0.0,1.0,1.0,0.0,4.0,2.0,2.0,40.0,5.0,9.0,1.0,0.0,31.0,0.0,36.0,18.0,5.0,0.0,2.0,12.0,70.0,12.0,9.0,26.0,1.0,11.0,70.0,14.0,9.0,1.0,1.0,0.0,1.0,6.0,2.0,34.0,0.0,2.0,8.0,3.0,0.0,0.0,2.0,2.0,18.0,3.0,1.0,1.0,11.0,18.0,1.0,31.0,40.0,19.0,9.0,70.0,0.0,1.0,40.0,0.0,1.0,30.0,0.0,34.0,1.0,0.0,2.0,3.0,1.0,1.0,11.0,5.0,63.0,1.0,6.0,63.0,0.0,12.0,0.0,2.0,9.0,0.0,0.0,1.0,10.0,1.0,28.0,0.0,70.0,2.0,2.0,1.0,3.0,0.0,5.0,3.0,2.0,4.0,1.0,40.0,1.0,1.0,0.0,2.0,0.0,0.0,14.0,0.0,1.0,0.0,1.0,0.0,70.0,4.0,2.0,4.0,1.0,11.0,14.0,3.0,2.0,0.0,8.0,15.0,0.0,1.0,0.0,0.0,0.0,0.0,1.0,3.0,0.0,1.0,0.0,0.0,3.0,9.0,19.0,1.0,0.0,0.0,70.0,0.0,0.0,40.0,1.0,63.0,11.0,1.0,8.0,0.0,0.0,1.0,0.0,0.0,1.0,3.0,0.0,4.0,1.0,11.0,0.0,14.0,36.0,34.0,3.0,11.0,0.0,40.0,0.0,6.0,6.0,63.0,7.0,0.0,2.0,0.0,6.0,10.0,0.0,0.0,70.0,0.0,5.0,70.0,4.0,2.0,1.0,40.0,5.0,6.0,0.0,0.0,4.0,6.0,70.0,40.0,0.0,2.0,1.0,28.0,1.0,1.0,0.0,40.0,40.0,19.0,0.0,10.0,1.0,63.0,2.0,34.0,4.0,11.0,5.0,16.0,1.0,1.0,7.0,5.0,33.0,0.0,10.0,0.0,10.0,5.0,9.0,2.0,0.0,2.0,70.0,0.0,3.0,5.0,9.0,9.0,2.0,0.0,7.0,0.0,1.0,6.0,0.0,4.0,36.0,3.0,0.0,70.0,2.0,3.0,0.0,0.0,0.0,2.0,0.0,0.0,40.0,8.0,2.0,2.0,9.0,0.0,2.0,0.0,0.0,14.0,1.0,30.0,0.0,0.0,1.0,7.0,9.0,1.0,63.0,0.0,0.0,2.0,0.0,40.0,11.0,9.0,2.0,5.0,0.0,70.0,0.0,34.0,5.0,0.0,3.0,0.0,6.0,5.0,0.0,1.0,0.0,0.0,0.0,0.0,0.0,1.0,2.0,0.0,0.0,0.0,0.0,3.0,11.0,2.0,6.0,31.0,40.0,0.0,0.0,5.0,1.0,11.0,1.0,0.0,70.0,2.0,1.0,70.0,1.0,1.0,2.0,10.0,0.0,4.0,1.0,0.0,40.0,0.0,5.0,1.0,0.0,2.0,28.0,31.0,0.0,8.0,11.0,0.0,0.0,63.0,0.0,3.0,1.0,0.0,0.0,0.0,15.0,0.0,1.0,1.0,0.0,12.0,70.0,70.0,8.0,4.0,3.0,3.0,8.0,30.0,63.0,9.0,70.0,16.0,0.0,0.0,0.0,4.0,0.0,1.0,0.0,10.0,0.0,3.0,5.0,1.0,34.0,8.0,26.0,2.0,2.0,9.0,0.0,1.0,0.0,5.0,8.0,3.0,40.0,2.0,0.0,36.0,2.0,1.0,5.0,3.0,1.0,0.0,1.0,6.0,1.0,8.0,5.0,11.0,0.0,2.0,0.0,30.0,0.0,40.0,36.0,34.0,5.0,2.0,3.0,33.0,2.0,5.0,0.0,9.0,0.0,1.0,0.0,5.0,6.0,3.0,70.0,1.0,0.0,28.0,2.0,1.0,3.0,0.0,8.0,1.0,18.0,17.0,0.0,11.0,3.0,36.0,2.0,33.0,7.0,0.0,0.0,0.0,1.0,4.0,13.0,0.0,18.0,70.0,15.0,1.0,30.0,0.0,70.0,2.0,0.0,40.0,40.0,2.0,9.0,13.0,2.0,2.0,0.0,1.0,1.0,7.0,0.0,34.0,1.0,14.0,40.0,19.0,0.0,2.0,33.0,1.0,4.0,0.0,0.0,33.0,63.0,28.0,7.0,1.0,15.0,5.0,1.0,40.0,0.0,0.0,0.0,1.0,1.0,0.0,28.0,0.0,7.0,0.0,11.0,70.0,63.0,0.0,3.0,34.0,63.0,6.0,40.0,28.0,0.0,33.0,9.0,1.0,34.0,70.0,0.0,70.0,16.0,14.0,0.0,34.0,1.0,14.0,0.0,1.0,10.0,0.0,0.0,2.0,0.0,2.0,7.0,5.0,0.0,1.0,2.0,5.0,19.0,1.0,31.0,33.0,2.0,0.0,0.0,34.0,15.0,40.0,0.0,5.0,9.0,63.0,70.0,19.0,63.0,1.0,0.0,1.0,9.0,10.0,0.0,11.0,10.0,31.0,1.0,1.0,4.0,1.0,2.0,30.0,1.0,0.0,26.0,0.0,0.0,2.0,1.0,1.0,6.0,70.0,0.0,7.0,3.0,0.0,6.0,26.0,2.0,0.0,7.0,70.0,0.0,0.0,2.0,0.0,1.0,1.0,1.0,7.0,0.0,0.0,1.0,5.0,70.0,3.0,0.0,7.0,6.0,1.0,19.0,2.0,3.0,3.0,4.0,1.0,1.0,6.0,14.0,28.0,70.0,40.0,12.0,6.0,63.0,0.0,5.0,2.0,0.0,11.0,2.0,0.0,0.0,1.0,0.0,1.0,0.0,12.0,70.0,2.0,0.0,4.0,40.0,1.0,63.0,3.0,70.0,0.0,9.0,0.0,16.0,1.0,3.0,0.0,3.0,2.0,63.0,10.0,40.0,0.0,2.0,1.0,3.0,70.0,2.0,0.0,70.0,4.0,0.0,70.0,4.0,2.0,0.0,18.0,0.0,1.0,3.0,2.0,0.0,34.0,40.0,1.0,19.0,0.0,1.0,1.0,2.0,40.0,11.0,0.0,0.0,26.0,0.0,10.0,11.0,70.0,0.0,3.0,36.0,0.0,1.0,1.0,5.0,0.0,3.0,8.0,1.0,1.0,70.0,0.0,0.0,9.0,36.0,7.0,1.0,34.0,0.0,0.0,34.0,0.0,4.0,2.0,8.0,18.0,3.0,70.0,10.0,0.0,0.0,16.0,12.0,63.0,5.0,0.0,70.0,1.0,0.0,12.0,2.0,0.0,3.0,11.0,0.0,8.0,0.0,3.0,1.0,3.0,31.0,null,1.0,0.0,31.0,6.0,0.0,3.0,1.0,0.0,70.0,0.0,11.0,34.0,0.0,2.0,0.0,40.0,12.0,70.0,4.0,2.0,0.0,63.0,0.0,0.0,1.0,4.0,7.0,16.0,0.0,11.0,0.0,16.0,40.0,0.0,11.0,0.0,1.0,11.0,28.0,1.0,1.0,0.0,33.0,0.0,0.0,14.0,12.0,6.0,33.0,34.0,0.0,9.0,70.0,0.0,0.0,8.0,34.0,0.0,0.0,6.0,26.0,0.0,1.0,33.0,1.0,16.0,2.0,2.0,33.0,2.0,11.0,0.0,0.0,0.0,0.0,1.0,31.0,0.0,1.0,12.0,15.0,16.0,31.0,4.0,36.0,0.0,28.0,11.0,26.0,2.0,0.0,0.0,0.0,30.0,0.0,0.0,8.0,70.0,0.0,30.0,40.0,0.0,18.0,70.0,2.0,15.0,0.0,0.0,3.0,0.0,3.0,70.0,0.0,2.0,0.0,11.0,15.0,0.0,11.0,0.0,2.0,1.0,0.0,0.0,0.0,12.0,1.0,0.0,7.0,0.0,30.0,0.0,30.0,28.0,2.0,2.0,0.0,70.0,0.0,1.0,1.0,3.0,70.0,0.0,70.0,0.0,0.0,0.0,7.0,18.0,1.0,1.0,0.0,1.0,1.0,0.0,0.0,0.0,1.0,33.0,30.0,6.0,0.0,6.0,33.0,12.0,0.0,17.0,8.0,1.0,4.0,9.0,0.0,18.0,0.0,33.0,3.0,30.0,0.0,0.0,0.0,14.0,3.0,3.0,4.0,0.0,1.0,9.0,5.0,0.0,1.0,0.0,2.0,9.0,5.0,1.0,1.0,28.0,1.0,0.0,9.0,3.0,0.0,18.0,0.0,6.0,2.0,1.0,0.0,33.0,0.0,9.0,1.0,0.0,0.0,1.0,1.0,0.0,36.0,1.0,3.0,18.0,1.0,0.0,3.0,3.0,34.0,26.0,1.0,1.0,3.0,2.0,1.0,3.0,31.0,5.0,0.0,15.0,70.0,2.0,1.0,11.0,1.0,1.0,5.0,7.0,0.0,0.0,70.0,63.0,5.0,0.0,1.0,34.0,0.0,63.0,2.0,0.0,0.0,1.0,63.0,8.0,1.0,0.0,70.0,0.0,70.0,0.0,0.0,16.0,13.0,1.0,0.0,1.0,0.0,1.0,0.0,31.0,0.0,11.0,0.0,0.0,2.0,5.0,0.0,0.0,1.0,0.0,0.0,4.0,5.0,7.0,70.0,0.0,34.0,1.0,1.0,1.0,12.0,0.0,8.0,0.0,2.0,70.0,0.0,28.0,17.0,0.0,70.0,0.0,16.0,8.0,0.0,1.0,7.0,0.0,0.0,1.0,18.0,1.0,6.0,1.0,0.0,0.0,3.0,0.0,2.0,3.0,1.0,0.0,0.0,0.0,2.0,0.0,0.0,0.0,5.0,0.0,1.0,2.0,30.0,0.0,33.0,0.0,5.0,1.0,3.0,2.0,1.0,33.0,1.0,70.0,0.0,36.0,1.0,40.0,9.0,1.0,3.0,28.0,2.0,0.0,0.0,34.0,34.0,26.0,1.0,0.0,3.0,36.0,30.0,0.0,0.0,16.0,1.0,26.0,70.0,7.0,6.0,9.0,18.0,7.0,4.0,33.0,0.0,3.0,1.0,1.0,12.0,2.0,2.0,33.0,3.0,2.0,0.0,0.0,5.0,1.0,1.0,0.0,1.0,70.0,0.0,2.0,1.0,28.0,4.0,4.0,7.0,3.0,0.0,12.0,2.0,1.0,0.0,9.0,0.0,0.0,0.0,34.0,11.0,12.0,70.0,0.0,2.0,1.0,0.0,2.0,0.0,12.0,2.0,26.0,63.0,10.0,0.0,0.0,0.0,1.0,3.0,70.0,9.0,0.0,9.0,0.0,63.0,2.0,1.0,14.0,1.0,0.0,34.0,5.0,63.0,70.0,0.0,6.0,9.0,1.0,18.0,2.0,16.0,0.0,0.0,2.0,3.0,2.0,7.0,9.0,1.0,6.0,31.0,40.0,40.0,0.0,30.0,31.0,1.0,0.0,31.0,40.0,8.0,3.0,2.0,0.0,0.0,1.0,10.0,2.0,40.0,4.0,0.0,31.0,0.0,0.0,0.0,0.0,1.0,34.0,0.0,0.0,70.0,70.0,11.0,13.0,0.0,5.0,1.0,0.0,0.0,63.0,0.0,0.0,1.0,18.0,9.0,0.0,0.0,0.0,4.0,9.0,70.0,1.0,0.0,1.0,31.0,0.0,0.0,1.0,3.0,11.0,18.0,1.0,1.0,0.0,34.0,0.0,0.0,15.0,28.0,0.0,7.0,26.0,1.0,0.0,1.0,0.0,12.0,0.0,34.0,70.0,30.0,0.0,3.0,34.0,0.0,0.0,0.0,11.0,0.0,2.0,0.0,63.0,0.0,1.0,14.0,1.0,7.0,70.0,31.0,1.0,1.0,0.0,4.0,2.0,30.0,0.0,0.0,1.0,1.0,0.0,0.0,36.0,34.0,33.0,2.0,4.0,5.0,1.0,1.0,70.0,1.0,14.0,1.0,70.0,12.0,1.0,18.0,1.0,70.0,16.0,0.0,0.0,2.0,36.0,9.0,31.0,5.0,6.0,0.0,1.0,0.0,40.0,63.0,11.0,2.0,3.0,1.0,5.0,15.0,5.0,11.0,0.0,0.0,40.0,7.0,30.0,0.0,0.0,1.0,0.0,1.0,63.0,0.0,18.0,0.0,0.0,1.0,0.0,40.0,0.0,9.0,1.0,26.0,70.0,0.0,36.0,70.0,3.0,0.0,36.0,18.0,1.0,34.0,0.0,11.0,3.0,1.0,40.0,2.0,0.0,40.0,0.0,0.0,1.0,3.0,0.0,0.0,19.0,70.0,0.0,1.0,1.0,0.0,40.0,0.0,63.0,3.0,0.0,1.0,30.0,0.0,0.0,1.0,14.0,1.0,9.0,28.0,1.0,0.0,0.0,15.0,6.0,0.0,70.0,2.0,36.0,0.0,0.0,18.0,5.0,1.0,1.0,2.0,0.0,18.0,70.0,0.0,33.0,11.0,28.0,1.0,70.0,3.0,11.0,0.0,70.0,33.0,2.0,40.0,0.0,2.0,19.0,0.0,0.0,0.0,8.0,0.0,70.0,0.0,1.0,1.0,0.0,2.0,0.0,3.0,8.0,2.0,4.0,3.0,0.0,1.0,5.0,0.0,0.0,17.0,2.0,1.0,0.0,0.0,30.0,5.0,10.0,0.0,28.0,15.0,1.0,1.0,70.0,1.0,9.0,0.0,70.0,1.0,1.0,11.0,0.0,1.0,0.0,2.0,2.0,1.0,11.0,10.0,2.0,18.0,11.0,4.0,2.0,0.0,8.0,0.0,63.0,70.0,0.0,14.0,2.0,2.0,1.0,7.0,63.0,1.0,26.0,40.0,40.0,26.0,0.0,11.0,3.0,40.0,11.0,0.0,14.0,9.0,30.0,63.0,70.0,2.0,9.0,0.0,14.0,0.0,0.0,5.0,1.0,0.0,34.0,70.0,0.0,5.0,2.0,1.0,12.0,0.0,0.0,1.0,28.0,12.0,7.0,0.0,40.0,1.0,34.0,0.0,0.0,0.0,2.0,2.0,1.0,2.0,36.0,0.0,1.0,0.0,0.0,70.0,5.0,0.0,2.0,15.0,0.0,0.0,0.0,63.0,0.0,36.0,1.0,0.0,0.0,2.0,0.0,0.0,4.0,3.0,0.0],\"xaxis\":\"x\",\"yaxis\":\"y\",\"type\":\"histogram\"}],                        {\"template\":{\"data\":{\"histogram2dcontour\":[{\"type\":\"histogram2dcontour\",\"colorbar\":{\"outlinewidth\":0,\"ticks\":\"\"},\"colorscale\":[[0.0,\"#0d0887\"],[0.1111111111111111,\"#46039f\"],[0.2222222222222222,\"#7201a8\"],[0.3333333333333333,\"#9c179e\"],[0.4444444444444444,\"#bd3786\"],[0.5555555555555556,\"#d8576b\"],[0.6666666666666666,\"#ed7953\"],[0.7777777777777778,\"#fb9f3a\"],[0.8888888888888888,\"#fdca26\"],[1.0,\"#f0f921\"]]}],\"choropleth\":[{\"type\":\"choropleth\",\"colorbar\":{\"outlinewidth\":0,\"ticks\":\"\"}}],\"histogram2d\":[{\"type\":\"histogram2d\",\"colorbar\":{\"outlinewidth\":0,\"ticks\":\"\"},\"colorscale\":[[0.0,\"#0d0887\"],[0.1111111111111111,\"#46039f\"],[0.2222222222222222,\"#7201a8\"],[0.3333333333333333,\"#9c179e\"],[0.4444444444444444,\"#bd3786\"],[0.5555555555555556,\"#d8576b\"],[0.6666666666666666,\"#ed7953\"],[0.7777777777777778,\"#fb9f3a\"],[0.8888888888888888,\"#fdca26\"],[1.0,\"#f0f921\"]]}],\"heatmap\":[{\"type\":\"heatmap\",\"colorbar\":{\"outlinewidth\":0,\"ticks\":\"\"},\"colorscale\":[[0.0,\"#0d0887\"],[0.1111111111111111,\"#46039f\"],[0.2222222222222222,\"#7201a8\"],[0.3333333333333333,\"#9c179e\"],[0.4444444444444444,\"#bd3786\"],[0.5555555555555556,\"#d8576b\"],[0.6666666666666666,\"#ed7953\"],[0.7777777777777778,\"#fb9f3a\"],[0.8888888888888888,\"#fdca26\"],[1.0,\"#f0f921\"]]}],\"heatmapgl\":[{\"type\":\"heatmapgl\",\"colorbar\":{\"outlinewidth\":0,\"ticks\":\"\"},\"colorscale\":[[0.0,\"#0d0887\"],[0.1111111111111111,\"#46039f\"],[0.2222222222222222,\"#7201a8\"],[0.3333333333333333,\"#9c179e\"],[0.4444444444444444,\"#bd3786\"],[0.5555555555555556,\"#d8576b\"],[0.6666666666666666,\"#ed7953\"],[0.7777777777777778,\"#fb9f3a\"],[0.8888888888888888,\"#fdca26\"],[1.0,\"#f0f921\"]]}],\"contourcarpet\":[{\"type\":\"contourcarpet\",\"colorbar\":{\"outlinewidth\":0,\"ticks\":\"\"}}],\"contour\":[{\"type\":\"contour\",\"colorbar\":{\"outlinewidth\":0,\"ticks\":\"\"},\"colorscale\":[[0.0,\"#0d0887\"],[0.1111111111111111,\"#46039f\"],[0.2222222222222222,\"#7201a8\"],[0.3333333333333333,\"#9c179e\"],[0.4444444444444444,\"#bd3786\"],[0.5555555555555556,\"#d8576b\"],[0.6666666666666666,\"#ed7953\"],[0.7777777777777778,\"#fb9f3a\"],[0.8888888888888888,\"#fdca26\"],[1.0,\"#f0f921\"]]}],\"surface\":[{\"type\":\"surface\",\"colorbar\":{\"outlinewidth\":0,\"ticks\":\"\"},\"colorscale\":[[0.0,\"#0d0887\"],[0.1111111111111111,\"#46039f\"],[0.2222222222222222,\"#7201a8\"],[0.3333333333333333,\"#9c179e\"],[0.4444444444444444,\"#bd3786\"],[0.5555555555555556,\"#d8576b\"],[0.6666666666666666,\"#ed7953\"],[0.7777777777777778,\"#fb9f3a\"],[0.8888888888888888,\"#fdca26\"],[1.0,\"#f0f921\"]]}],\"mesh3d\":[{\"type\":\"mesh3d\",\"colorbar\":{\"outlinewidth\":0,\"ticks\":\"\"}}],\"scatter\":[{\"fillpattern\":{\"fillmode\":\"overlay\",\"size\":10,\"solidity\":0.2},\"type\":\"scatter\"}],\"parcoords\":[{\"type\":\"parcoords\",\"line\":{\"colorbar\":{\"outlinewidth\":0,\"ticks\":\"\"}}}],\"scatterpolargl\":[{\"type\":\"scatterpolargl\",\"marker\":{\"colorbar\":{\"outlinewidth\":0,\"ticks\":\"\"}}}],\"bar\":[{\"error_x\":{\"color\":\"#2a3f5f\"},\"error_y\":{\"color\":\"#2a3f5f\"},\"marker\":{\"line\":{\"color\":\"#E5ECF6\",\"width\":0.5},\"pattern\":{\"fillmode\":\"overlay\",\"size\":10,\"solidity\":0.2}},\"type\":\"bar\"}],\"scattergeo\":[{\"type\":\"scattergeo\",\"marker\":{\"colorbar\":{\"outlinewidth\":0,\"ticks\":\"\"}}}],\"scatterpolar\":[{\"type\":\"scatterpolar\",\"marker\":{\"colorbar\":{\"outlinewidth\":0,\"ticks\":\"\"}}}],\"histogram\":[{\"marker\":{\"pattern\":{\"fillmode\":\"overlay\",\"size\":10,\"solidity\":0.2}},\"type\":\"histogram\"}],\"scattergl\":[{\"type\":\"scattergl\",\"marker\":{\"colorbar\":{\"outlinewidth\":0,\"ticks\":\"\"}}}],\"scatter3d\":[{\"type\":\"scatter3d\",\"line\":{\"colorbar\":{\"outlinewidth\":0,\"ticks\":\"\"}},\"marker\":{\"colorbar\":{\"outlinewidth\":0,\"ticks\":\"\"}}}],\"scattermapbox\":[{\"type\":\"scattermapbox\",\"marker\":{\"colorbar\":{\"outlinewidth\":0,\"ticks\":\"\"}}}],\"scatterternary\":[{\"type\":\"scatterternary\",\"marker\":{\"colorbar\":{\"outlinewidth\":0,\"ticks\":\"\"}}}],\"scattercarpet\":[{\"type\":\"scattercarpet\",\"marker\":{\"colorbar\":{\"outlinewidth\":0,\"ticks\":\"\"}}}],\"carpet\":[{\"aaxis\":{\"endlinecolor\":\"#2a3f5f\",\"gridcolor\":\"white\",\"linecolor\":\"white\",\"minorgridcolor\":\"white\",\"startlinecolor\":\"#2a3f5f\"},\"baxis\":{\"endlinecolor\":\"#2a3f5f\",\"gridcolor\":\"white\",\"linecolor\":\"white\",\"minorgridcolor\":\"white\",\"startlinecolor\":\"#2a3f5f\"},\"type\":\"carpet\"}],\"table\":[{\"cells\":{\"fill\":{\"color\":\"#EBF0F8\"},\"line\":{\"color\":\"white\"}},\"header\":{\"fill\":{\"color\":\"#C8D4E3\"},\"line\":{\"color\":\"white\"}},\"type\":\"table\"}],\"barpolar\":[{\"marker\":{\"line\":{\"color\":\"#E5ECF6\",\"width\":0.5},\"pattern\":{\"fillmode\":\"overlay\",\"size\":10,\"solidity\":0.2}},\"type\":\"barpolar\"}],\"pie\":[{\"automargin\":true,\"type\":\"pie\"}]},\"layout\":{\"autotypenumbers\":\"strict\",\"colorway\":[\"#636efa\",\"#EF553B\",\"#00cc96\",\"#ab63fa\",\"#FFA15A\",\"#19d3f3\",\"#FF6692\",\"#B6E880\",\"#FF97FF\",\"#FECB52\"],\"font\":{\"color\":\"#2a3f5f\"},\"hovermode\":\"closest\",\"hoverlabel\":{\"align\":\"left\"},\"paper_bgcolor\":\"white\",\"plot_bgcolor\":\"#E5ECF6\",\"polar\":{\"bgcolor\":\"#E5ECF6\",\"angularaxis\":{\"gridcolor\":\"white\",\"linecolor\":\"white\",\"ticks\":\"\"},\"radialaxis\":{\"gridcolor\":\"white\",\"linecolor\":\"white\",\"ticks\":\"\"}},\"ternary\":{\"bgcolor\":\"#E5ECF6\",\"aaxis\":{\"gridcolor\":\"white\",\"linecolor\":\"white\",\"ticks\":\"\"},\"baxis\":{\"gridcolor\":\"white\",\"linecolor\":\"white\",\"ticks\":\"\"},\"caxis\":{\"gridcolor\":\"white\",\"linecolor\":\"white\",\"ticks\":\"\"}},\"coloraxis\":{\"colorbar\":{\"outlinewidth\":0,\"ticks\":\"\"}},\"colorscale\":{\"sequential\":[[0.0,\"#0d0887\"],[0.1111111111111111,\"#46039f\"],[0.2222222222222222,\"#7201a8\"],[0.3333333333333333,\"#9c179e\"],[0.4444444444444444,\"#bd3786\"],[0.5555555555555556,\"#d8576b\"],[0.6666666666666666,\"#ed7953\"],[0.7777777777777778,\"#fb9f3a\"],[0.8888888888888888,\"#fdca26\"],[1.0,\"#f0f921\"]],\"sequentialminus\":[[0.0,\"#0d0887\"],[0.1111111111111111,\"#46039f\"],[0.2222222222222222,\"#7201a8\"],[0.3333333333333333,\"#9c179e\"],[0.4444444444444444,\"#bd3786\"],[0.5555555555555556,\"#d8576b\"],[0.6666666666666666,\"#ed7953\"],[0.7777777777777778,\"#fb9f3a\"],[0.8888888888888888,\"#fdca26\"],[1.0,\"#f0f921\"]],\"diverging\":[[0,\"#8e0152\"],[0.1,\"#c51b7d\"],[0.2,\"#de77ae\"],[0.3,\"#f1b6da\"],[0.4,\"#fde0ef\"],[0.5,\"#f7f7f7\"],[0.6,\"#e6f5d0\"],[0.7,\"#b8e186\"],[0.8,\"#7fbc41\"],[0.9,\"#4d9221\"],[1,\"#276419\"]]},\"xaxis\":{\"gridcolor\":\"white\",\"linecolor\":\"white\",\"ticks\":\"\",\"title\":{\"standoff\":15},\"zerolinecolor\":\"white\",\"automargin\":true,\"zerolinewidth\":2},\"yaxis\":{\"gridcolor\":\"white\",\"linecolor\":\"white\",\"ticks\":\"\",\"title\":{\"standoff\":15},\"zerolinecolor\":\"white\",\"automargin\":true,\"zerolinewidth\":2},\"scene\":{\"xaxis\":{\"backgroundcolor\":\"#E5ECF6\",\"gridcolor\":\"white\",\"linecolor\":\"white\",\"showbackground\":true,\"ticks\":\"\",\"zerolinecolor\":\"white\",\"gridwidth\":2},\"yaxis\":{\"backgroundcolor\":\"#E5ECF6\",\"gridcolor\":\"white\",\"linecolor\":\"white\",\"showbackground\":true,\"ticks\":\"\",\"zerolinecolor\":\"white\",\"gridwidth\":2},\"zaxis\":{\"backgroundcolor\":\"#E5ECF6\",\"gridcolor\":\"white\",\"linecolor\":\"white\",\"showbackground\":true,\"ticks\":\"\",\"zerolinecolor\":\"white\",\"gridwidth\":2}},\"shapedefaults\":{\"line\":{\"color\":\"#2a3f5f\"}},\"annotationdefaults\":{\"arrowcolor\":\"#2a3f5f\",\"arrowhead\":0,\"arrowwidth\":1},\"geo\":{\"bgcolor\":\"white\",\"landcolor\":\"#E5ECF6\",\"subunitcolor\":\"white\",\"showland\":true,\"showlakes\":true,\"lakecolor\":\"white\"},\"title\":{\"x\":0.05},\"mapbox\":{\"style\":\"light\"}}},\"xaxis\":{\"anchor\":\"y\",\"domain\":[0.0,1.0],\"title\":{\"text\":\"barely_true_count\"}},\"yaxis\":{\"anchor\":\"x\",\"domain\":[0.0,1.0],\"title\":{\"text\":\"count\"}},\"legend\":{\"tracegroupgap\":0},\"title\":{\"text\":\"Barely True Credit Histogram\"},\"barmode\":\"relative\"},                        {\"responsive\": true}                    ).then(function(){\n",
              "                            \n",
              "var gd = document.getElementById('df0df6e1-7fa3-4be9-93a4-46b460944eb3');\n",
              "var x = new MutationObserver(function (mutations, observer) {{\n",
              "        var display = window.getComputedStyle(gd).display;\n",
              "        if (!display || display === 'none') {{\n",
              "            console.log([gd, 'removed!']);\n",
              "            Plotly.purge(gd);\n",
              "            observer.disconnect();\n",
              "        }}\n",
              "}});\n",
              "\n",
              "// Listen for the removal of the full notebook cells\n",
              "var notebookContainer = gd.closest('#notebook-container');\n",
              "if (notebookContainer) {{\n",
              "    x.observe(notebookContainer, {childList: true});\n",
              "}}\n",
              "\n",
              "// Listen for the clearing of the current output cell\n",
              "var outputEl = gd.closest('.output');\n",
              "if (outputEl) {{\n",
              "    x.observe(outputEl, {childList: true});\n",
              "}}\n",
              "\n",
              "                        })                };                            </script>        </div>\n",
              "</body>\n",
              "</html>"
            ]
          },
          "metadata": {}
        }
      ]
    },
    {
      "cell_type": "code",
      "source": [
        "barely_true_counts.values"
      ],
      "metadata": {
        "colab": {
          "base_uri": "https://localhost:8080/"
        },
        "id": "Dl9K_2B9DujK",
        "outputId": "58100aa2-36c1-45b3-f416-6677d300199d"
      },
      "execution_count": null,
      "outputs": [
        {
          "output_type": "execute_result",
          "data": {
            "text/plain": [
              "array([3025, 1512,  815,  489,  236,  317,  190,  236,  171,  246,  104,\n",
              "        289,  112,   49,  115,   70,   69,   63,  134,   56,  149,  115,\n",
              "        142,  148,  117,  176,   92,  239,  273,  488])"
            ]
          },
          "metadata": {},
          "execution_count": 99
        }
      ]
    },
    {
      "cell_type": "markdown",
      "source": [
        "***Describe function gives the following details***"
      ],
      "metadata": {
        "id": "tTZAu76LUJ_c"
      }
    },
    {
      "cell_type": "code",
      "source": [
        "train_df.false_count.describe()"
      ],
      "metadata": {
        "colab": {
          "base_uri": "https://localhost:8080/"
        },
        "id": "jmKpR4R2RlZN",
        "outputId": "60b5ce99-a585-4ff1-be5a-b57c62b03339"
      },
      "execution_count": null,
      "outputs": [
        {
          "output_type": "execute_result",
          "data": {
            "text/plain": [
              "count    10237.000000\n",
              "mean        13.284556\n",
              "std         24.113327\n",
              "min          0.000000\n",
              "25%          0.000000\n",
              "50%          2.000000\n",
              "75%         12.000000\n",
              "max        114.000000\n",
              "Name: false_count, dtype: float64"
            ]
          },
          "metadata": {},
          "execution_count": 100
        }
      ]
    },
    {
      "cell_type": "code",
      "source": [
        "train_df.half_true_count.describe()"
      ],
      "metadata": {
        "colab": {
          "base_uri": "https://localhost:8080/"
        },
        "id": "U7azggjKTq6a",
        "outputId": "541b1de2-1db0-48f1-97ba-7fdf00e2f4dd"
      },
      "execution_count": null,
      "outputs": [
        {
          "output_type": "execute_result",
          "data": {
            "text/plain": [
              "count    10237.000000\n",
              "mean        17.133926\n",
              "std         35.848256\n",
              "min          0.000000\n",
              "25%          0.000000\n",
              "50%          3.000000\n",
              "75%         13.000000\n",
              "max        160.000000\n",
              "Name: half_true_count, dtype: float64"
            ]
          },
          "metadata": {},
          "execution_count": 101
        }
      ]
    },
    {
      "cell_type": "code",
      "source": [
        "train_df.mostly_true_count.describe()"
      ],
      "metadata": {
        "colab": {
          "base_uri": "https://localhost:8080/"
        },
        "id": "MV7NoyZbTxmD",
        "outputId": "6d5407df-b37a-42a1-a37b-7d6d31c850d2"
      },
      "execution_count": null,
      "outputs": [
        {
          "output_type": "execute_result",
          "data": {
            "text/plain": [
              "count    10237.000000\n",
              "mean        16.434014\n",
              "std         36.153445\n",
              "min          0.000000\n",
              "25%          0.000000\n",
              "50%          3.000000\n",
              "75%         11.000000\n",
              "max        163.000000\n",
              "Name: mostly_true_count, dtype: float64"
            ]
          },
          "metadata": {},
          "execution_count": 102
        }
      ]
    },
    {
      "cell_type": "code",
      "source": [
        "train_df.pants_fire_count.astype(float).describe()"
      ],
      "metadata": {
        "colab": {
          "base_uri": "https://localhost:8080/"
        },
        "id": "XXDb3mQ0T3kC",
        "outputId": "100e4996-78dc-4d81-8166-933622e71ad0"
      },
      "execution_count": null,
      "outputs": [
        {
          "output_type": "execute_result",
          "data": {
            "text/plain": [
              "count    10237.000000\n",
              "mean         6.201231\n",
              "std         16.129705\n",
              "min          0.000000\n",
              "25%          0.000000\n",
              "50%          1.000000\n",
              "75%          5.000000\n",
              "max        105.000000\n",
              "Name: pants_fire_count, dtype: float64"
            ]
          },
          "metadata": {},
          "execution_count": 103
        }
      ]
    },
    {
      "cell_type": "code",
      "source": [
        "true_ex.statement.str.split().str.len().describe()"
      ],
      "metadata": {
        "colab": {
          "base_uri": "https://localhost:8080/"
        },
        "id": "7-ow4cQeT7Kw",
        "outputId": "96c94c12-446e-401e-e86b-1ec88c390675"
      },
      "execution_count": null,
      "outputs": [
        {
          "output_type": "execute_result",
          "data": {
            "text/plain": [
              "count    5751.000000\n",
              "mean       18.455921\n",
              "std        10.318785\n",
              "min         2.000000\n",
              "25%        13.000000\n",
              "50%        17.000000\n",
              "75%        23.000000\n",
              "max       479.000000\n",
              "Name: statement, dtype: float64"
            ]
          },
          "metadata": {},
          "execution_count": 104
        }
      ]
    },
    {
      "cell_type": "code",
      "source": [
        "false_ex.statement.str.split().str.len().describe()"
      ],
      "metadata": {
        "colab": {
          "base_uri": "https://localhost:8080/"
        },
        "id": "vyGbkUiwUCuq",
        "outputId": "d68ada76-610a-4f08-cad6-03f979523552"
      },
      "execution_count": null,
      "outputs": [
        {
          "output_type": "execute_result",
          "data": {
            "text/plain": [
              "count    4488.000000\n",
              "mean       17.488191\n",
              "std         9.371839\n",
              "min         2.000000\n",
              "25%        12.000000\n",
              "50%        16.000000\n",
              "75%        22.000000\n",
              "max       317.000000\n",
              "Name: statement, dtype: float64"
            ]
          },
          "metadata": {},
          "execution_count": 105
        }
      ]
    },
    {
      "cell_type": "markdown",
      "source": [
        "***In pandas, the sample() function is used to randomly sample data from a DataFrame. .head(25): This method is called to display the first 25 rows of the sampled DataFrame.***"
      ],
      "metadata": {
        "id": "-WfYsyMJUQz8"
      }
    },
    {
      "cell_type": "code",
      "source": [
        "true_ex.sample(frac=0.2).head(15)"
      ],
      "metadata": {
        "colab": {
          "base_uri": "https://localhost:8080/",
          "height": 1000
        },
        "id": "aLZFFgtuUEqd",
        "outputId": "dc416f63-1245-4c7c-80d6-2897f9a184ce"
      },
      "execution_count": null,
      "outputs": [
        {
          "output_type": "execute_result",
          "data": {
            "text/plain": [
              "            id statement_json        label  \\\n",
              "9265    9293.0      1840.json  mostly-true   \n",
              "5898    5910.0      2597.json  mostly-true   \n",
              "7591    7619.0     11511.json  mostly-true   \n",
              "2720    2732.0     11029.json         true   \n",
              "9459    9486.0      4761.json    half-true   \n",
              "641      641.0      2647.json  mostly-true   \n",
              "1741    1753.0     13372.json    half-true   \n",
              "5193    5205.0      6985.json    half-true   \n",
              "3477    3489.0      1487.json    half-true   \n",
              "2336    2348.0     13296.json  mostly-true   \n",
              "9643    9670.0      4047.json    half-true   \n",
              "5352    5364.0     11680.json  mostly-true   \n",
              "10135  10162.0      6797.json  mostly-true   \n",
              "3739    3751.0     12127.json    half-true   \n",
              "616      616.0      9199.json    half-true   \n",
              "\n",
              "                                                                                                                                                                                                           statement  \\\n",
              "9265   The Interior Department has only 30 days to review an exploration plan submitted by an oil company. That leaves no time for the appropriate environmental review. The result is, they are continually waived.   \n",
              "5898                                                                                                                                       Georgia lawmakers balanced the budget without raising taxes on residents.   \n",
              "7591                                         If you look at the three people on the (debate) stage from the United States Senate, all three of them have a combined two bills that became law that theyve sponsored.   \n",
              "2720                                                                                                                                          Greece is not a big economy. Its about the size of metropolitan Miami.   \n",
              "9459                                                         Under President Barack Obama, more Americans are in poverty ... than at any time since the Census Bureau began keeping records on it over 50 years ago.   \n",
              "641                                                                                                                                                             Carly Fiorina, shes against banning assault weapons.   \n",
              "1741                                                                                                                                                                           We are seeing kids who are healthier.   \n",
              "5193                                                                                                                                                Latin Americas economy is almost as big as the economy of China.   \n",
              "3477                                                                                   Among the money spent on health care in the United States, \"46 cents on every dollar spent is through Medicare and Medicaid.\"   \n",
              "2336                     Says the U.S. Attorneys Office said that neither I nor my campaign had any idea what was going on regarding my fathers illegal campaign contributions. And thats why they closed this case.   \n",
              "9643                  Says that in 2009, Jon Huntsman said that the Recovery Act wasnt large enough and as governor he asked for $14.4 billion in federal stimulus funds. Now hes saying that he never supported it.   \n",
              "5352                                                                                                              Three or four countries out of roughly 60 in the anti-ISIS coalition are providing military force.   \n",
              "10135                                                                                                                                    Taxes are lower on families than theyve been probably in the last 50 years.   \n",
              "3739                                                                                                Mitt Romney did not endorse Ted Cruz, even though he said he is voting for Cruz and urged others to do likewise.   \n",
              "616                                                                                                           The U.S. spends more money on its military than the 16 biggest military budgets in the world combined.   \n",
              "\n",
              "                                                     subject          speaker  \\\n",
              "9265                            energy,environment,oil-spill     barack-obama   \n",
              "5898                                                   taxes      casey-cagle   \n",
              "7591   candidates-biography,congress,corrections-and-updates         jeb-bush   \n",
              "2720                                  economy,foreign-policy     paul-krugman   \n",
              "9459                                         history,poverty    newt-gingrich   \n",
              "641                                     guns,message-machine    barbara-boxer   \n",
              "1741                                  children,public-health  hillary-clinton   \n",
              "5193                                  economy,foreign-policy      mitt-romney   \n",
              "3477                     federal-budget,health-care,medicare        joe-biden   \n",
              "2336                                  elections,legal-issues         ami-bera   \n",
              "9643                     economy,new-hampshire-2012,stimulus    richard-swett   \n",
              "5352                                      military,terrorism      marco-rubio   \n",
              "10135                                          history,taxes     barack-obama   \n",
              "3739                                                 pundits    romney-allies   \n",
              "616                                  federal-budget,military    anissa-naouai   \n",
              "\n",
              "                       speaker_title     state_info party_affiliation  \\\n",
              "9265                       President       Illinois          democrat   \n",
              "5898                             NaN            NaN        republican   \n",
              "7591                             NaN        Florida        republican   \n",
              "2720        New York Times columnist            NaN              none   \n",
              "9459    Co-host on CNN's \"Crossfire\"        Georgia        republican   \n",
              "641                     U.S. Senator     California          democrat   \n",
              "1741          Presidential candidate       New York          democrat   \n",
              "5193                 Former governor  Massachusetts        republican   \n",
              "3477                    U.S. senator       Delaware          democrat   \n",
              "2336   U.S. House of Representatives     California          democrat   \n",
              "9643      Former U.S. Representative  New Hampshire          democrat   \n",
              "5352                    U.S. Senator        Florida        republican   \n",
              "10135                      President       Illinois          democrat   \n",
              "3739                             NaN            NaN              none   \n",
              "616                 RT correspondent            NaN              none   \n",
              "\n",
              "       barely_true_count  false_count  half_true_count  mostly_true_count  \\\n",
              "9265                70.0         71.0            160.0              163.0   \n",
              "5898                 1.0          0.0              0.0                2.0   \n",
              "7591                17.0          5.0             17.0               24.0   \n",
              "2720                 0.0          2.0              3.0                4.0   \n",
              "9459                16.0         15.0             20.0               10.0   \n",
              "641                  2.0          0.0              3.0                4.0   \n",
              "1741                40.0         29.0             69.0               76.0   \n",
              "5193                34.0         32.0             58.0               33.0   \n",
              "3477                11.0         10.0             21.0               16.0   \n",
              "2336                 1.0          0.0              1.0                1.0   \n",
              "9643                 0.0          0.0              1.0                0.0   \n",
              "5352                33.0         24.0             32.0               35.0   \n",
              "10135               70.0         71.0            160.0              163.0   \n",
              "3739                 0.0          0.0              1.0                0.0   \n",
              "616                  0.0          0.0              1.0                0.0   \n",
              "\n",
              "       pants_fire_count  \\\n",
              "9265                9.0   \n",
              "5898                0.0   \n",
              "7591                2.0   \n",
              "2720                0.0   \n",
              "9459               11.0   \n",
              "641                 1.0   \n",
              "1741                7.0   \n",
              "5193               19.0   \n",
              "3477                4.0   \n",
              "2336                0.0   \n",
              "9643                0.0   \n",
              "5352                5.0   \n",
              "10135               9.0   \n",
              "3739                0.0   \n",
              "616                 0.0   \n",
              "\n",
              "                                                            context  \\\n",
              "9265                          a press conference at the White House   \n",
              "5898                                                       a speech   \n",
              "7591                                   comments on \"Meet the Press\"   \n",
              "2720   an interview on ABC's \"This Week with George Stephanopoulos\"   \n",
              "9459                       a written opening statement for a debate   \n",
              "641                                                   a campaign ad   \n",
              "1741                     a get-out-the-vote rally in North Carolina   \n",
              "5193              the third presidential debate in Boca Raton, Fla.   \n",
              "3477                         an interview on NBC's 'Meet the Press'   \n",
              "2336                           a U.S. Congressional campaign debate   \n",
              "9643                              a conference call with reporters.   \n",
              "5352                       an interview with NBC's \"Meet the Press\"   \n",
              "10135                             an interview on CBS' \"60 Minutes\"   \n",
              "3739                                             The New York Times   \n",
              "616                                                 comments on CNN   \n",
              "\n",
              "                                                                                                                                                                                                                                                                                                                                                                                                                                                                                                             justification  \\\n",
              "9265                                                                                                                                                                                                                                                                                                            That's for the entire year. Kucinich is correct that the Great Lakes compact allows water to be removed in small containers. But experts appear skeptical that that \"loophole\" will have a serious impact.   \n",
              "5898                                                                                                                                                                                                                                                   But he errs on several fronts. The latest cost projection from the Texas health commission is $27 billion, not $30 billion; the estimate covers 2014 through 2023, not the next 10 years; and it speaks only to a single state entity, not all of state government.   \n",
              "7591   Also, the e-mail says Obama would \"stand with the Muslims should the political winds shift in an ugly direction,\" implying he made a statement to that effect. But it's clear in reading the text that the words actually represent a question Obama is being asked by his audiences: \"they need specific assurances . . . that I will stand with them should the political winds shift in an ugly direction. \"Though Obama doesn't say so explicitly, he gives the impression his answer is yes. The e-mail dis...   \n",
              "2720                                Rep.  Edith H.  Ajello said, \"Lots of studies seem to indicate that minors find it very easy to get marijuana, easier than to get alcohol. \"The verb choice and timing of Ajellos comment proved crucial here. If shed referred to how easily young people could purchase one or the other, and shed said it in 2009, there would be more support. But all the most recent, credible, national studies we found showed that teenagers report its easier to get alcohol than marijuana.   \n",
              "9459                                                                                                                                                    \"Whatever it is called, presidents are always reviewing regulations to eliminate ones that impose unnecessary burdens. \"In fact, a U. S.  Government Accountability Office report on July 16, 2007, states that, \"Every president since President Carter has directed agencies to evaluate or reconsider existing regulations. \"Lots of presidents have done that.   \n",
              "641                                                                   The NRA said it endorses her because she \"opposes re-enacting the Clinton gun and magazine ban. \"In ruling on the statement \"Carly Fiorina, she's against banning assault weapons,\" we find it compelling that she opposed the 1994 ban and thatthe NRA said she told them she would oppose re-enacting it. Is it possible some sort of new compromise bill might win Fiorina's support?It's possible, but there's little to indicate that's likely.   \n",
              "1741                                                                                                                                                                                                                                           It was a $27 million-dollar plant, operating full steam, and we closed it down. \"(As for the different estimates for the cost of the plant, Wilson said by phone: \"You know how long thats been?But after 20 years, her memory inthe Washington Post article was on target.   \n",
              "5193                                A: They are all Draft Dodgers,\" referring to Romney, Trump, Cheney, Limbaugh, Nugent and OReilly. Liberals Are Cool doesnt acknowledge that the six registered properly for the draft, then applied for and received legal deferments so they could complete their education  an opportunity given more than half the men eligible for the U. S.  draft during the Vietnam era. To comment on this story, go to NJ. com. To see a list of military classification codes from the U. S.   \n",
              "3477                                                              SUNY: -16 percent  Our rating    Reilly said UW System's reserves are in the \"mid- to low-range\" of comparable university systems, as though that fact has been clearly established. Using a key measure, Wisconsins level of reserves is below that of some of its peers. But there is debate about whether some of the state systems the UW System considers to be peers are in fact peers. And figures simply arent available for other peer systems.   \n",
              "2336   If he had said that, we would have reached a different ruling. Click on over to OregonLive. com/politics and leave a comment          . factbox {      font-family: 'Roboto', 'Helvetica', sans-serif;      color: rgba(0, 0, 0, 0. 86);      font-weight: 400;      margin: 0px;      margin-top:40px;      padding: 0;      background-color:#f5f5f5;      padding:32px;      padding-bottom:24px;      display: block;      margin: auto;      margin:0 auto;      background-color: #ffffff;      width:75%;...   \n",
              "9643   The Florida Stop Common Core Coalition said that the American Institutes for Research promotes the identification of homosexual lifestyles in young children. This is one piece of the groups initiatives, which also include work on disease management and student assessments. AIR does not advocate a homosexual lifestyle for children, nor is it an advocacy group at all. There is no indication that the organization or the state will have a homosexual agenda in its state testing. The statement is ...   \n",
              "5352                                                                                                                                              Reid said the Koch brothers are \"the richest people in the world. Put them together they're the richest in the world. \"If you look at families -- which is what Reid is essentially doing -- then Charles and David Koch rank second internationally to six members of the Walton family, at least according to Forbes. Thats still pretty close to the top of the list.   \n",
              "10135  In fact, the dropoff happened across all ethnic groups with white voters actually seeing the biggest share of that overall third of a percentage point drop in voting because of the law, he said. \"It doesn't affect minorities disproportionately -- they were impacted the same or slightly less than whites by the law,\" said Hood in a phone interview. \"From my observation and from my research, it's sort of a been a wash. \"    Speaker Batchelder was correct when he said voting increased in Georgia...   \n",
              "3739                                                                                                                                                         It's not clear that such a statistic exists and the Obama campaign didn't seem to have it. But Obama's statement, coming from House Democrats, suggests that 'non-producing' acreage where drilling is permitted is land that oil companies are ignoring. Years of exploration and federal permitting must be completed before leased land yields oil or gas.   \n",
              "616                                                                                                                                                         Naouai said, \"The U. S.  spends more money on its military than the 16 biggest military budgets in the world. \"The United States is definitely No. 1 on the worlds defense spending list. While we don't think viewers would get a markedly different impression if Naouai had said 8 or 12 instead of 16, her figures are off by a significant-enough margin.   \n",
              "\n",
              "       binary_label  \n",
              "9265           True  \n",
              "5898           True  \n",
              "7591           True  \n",
              "2720           True  \n",
              "9459           True  \n",
              "641            True  \n",
              "1741           True  \n",
              "5193           True  \n",
              "3477           True  \n",
              "2336           True  \n",
              "9643           True  \n",
              "5352           True  \n",
              "10135          True  \n",
              "3739           True  \n",
              "616            True  "
            ],
            "text/html": [
              "\n",
              "  <div id=\"df-c01bdc87-b3c1-4139-b8e5-798e7f62cf10\" class=\"colab-df-container\">\n",
              "    <div>\n",
              "<style scoped>\n",
              "    .dataframe tbody tr th:only-of-type {\n",
              "        vertical-align: middle;\n",
              "    }\n",
              "\n",
              "    .dataframe tbody tr th {\n",
              "        vertical-align: top;\n",
              "    }\n",
              "\n",
              "    .dataframe thead th {\n",
              "        text-align: right;\n",
              "    }\n",
              "</style>\n",
              "<table border=\"1\" class=\"dataframe\">\n",
              "  <thead>\n",
              "    <tr style=\"text-align: right;\">\n",
              "      <th></th>\n",
              "      <th>id</th>\n",
              "      <th>statement_json</th>\n",
              "      <th>label</th>\n",
              "      <th>statement</th>\n",
              "      <th>subject</th>\n",
              "      <th>speaker</th>\n",
              "      <th>speaker_title</th>\n",
              "      <th>state_info</th>\n",
              "      <th>party_affiliation</th>\n",
              "      <th>barely_true_count</th>\n",
              "      <th>false_count</th>\n",
              "      <th>half_true_count</th>\n",
              "      <th>mostly_true_count</th>\n",
              "      <th>pants_fire_count</th>\n",
              "      <th>context</th>\n",
              "      <th>justification</th>\n",
              "      <th>binary_label</th>\n",
              "    </tr>\n",
              "  </thead>\n",
              "  <tbody>\n",
              "    <tr>\n",
              "      <th>9265</th>\n",
              "      <td>9293.0</td>\n",
              "      <td>1840.json</td>\n",
              "      <td>mostly-true</td>\n",
              "      <td>The Interior Department has only 30 days to review an exploration plan submitted by an oil company. That leaves no time for the appropriate environmental review. The result is, they are continually waived.</td>\n",
              "      <td>energy,environment,oil-spill</td>\n",
              "      <td>barack-obama</td>\n",
              "      <td>President</td>\n",
              "      <td>Illinois</td>\n",
              "      <td>democrat</td>\n",
              "      <td>70.0</td>\n",
              "      <td>71.0</td>\n",
              "      <td>160.0</td>\n",
              "      <td>163.0</td>\n",
              "      <td>9.0</td>\n",
              "      <td>a press conference at the White House</td>\n",
              "      <td>That's for the entire year. Kucinich is correct that the Great Lakes compact allows water to be removed in small containers. But experts appear skeptical that that \"loophole\" will have a serious impact.</td>\n",
              "      <td>True</td>\n",
              "    </tr>\n",
              "    <tr>\n",
              "      <th>5898</th>\n",
              "      <td>5910.0</td>\n",
              "      <td>2597.json</td>\n",
              "      <td>mostly-true</td>\n",
              "      <td>Georgia lawmakers balanced the budget without raising taxes on residents.</td>\n",
              "      <td>taxes</td>\n",
              "      <td>casey-cagle</td>\n",
              "      <td>NaN</td>\n",
              "      <td>NaN</td>\n",
              "      <td>republican</td>\n",
              "      <td>1.0</td>\n",
              "      <td>0.0</td>\n",
              "      <td>0.0</td>\n",
              "      <td>2.0</td>\n",
              "      <td>0.0</td>\n",
              "      <td>a speech</td>\n",
              "      <td>But he errs on several fronts. The latest cost projection from the Texas health commission is $27 billion, not $30 billion; the estimate covers 2014 through 2023, not the next 10 years; and it speaks only to a single state entity, not all of state government.</td>\n",
              "      <td>True</td>\n",
              "    </tr>\n",
              "    <tr>\n",
              "      <th>7591</th>\n",
              "      <td>7619.0</td>\n",
              "      <td>11511.json</td>\n",
              "      <td>mostly-true</td>\n",
              "      <td>If you look at the three people on the (debate) stage from the United States Senate, all three of them have a combined two bills that became law that theyve sponsored.</td>\n",
              "      <td>candidates-biography,congress,corrections-and-updates</td>\n",
              "      <td>jeb-bush</td>\n",
              "      <td>NaN</td>\n",
              "      <td>Florida</td>\n",
              "      <td>republican</td>\n",
              "      <td>17.0</td>\n",
              "      <td>5.0</td>\n",
              "      <td>17.0</td>\n",
              "      <td>24.0</td>\n",
              "      <td>2.0</td>\n",
              "      <td>comments on \"Meet the Press\"</td>\n",
              "      <td>Also, the e-mail says Obama would \"stand with the Muslims should the political winds shift in an ugly direction,\" implying he made a statement to that effect. But it's clear in reading the text that the words actually represent a question Obama is being asked by his audiences: \"they need specific assurances . . . that I will stand with them should the political winds shift in an ugly direction. \"Though Obama doesn't say so explicitly, he gives the impression his answer is yes. The e-mail dis...</td>\n",
              "      <td>True</td>\n",
              "    </tr>\n",
              "    <tr>\n",
              "      <th>2720</th>\n",
              "      <td>2732.0</td>\n",
              "      <td>11029.json</td>\n",
              "      <td>true</td>\n",
              "      <td>Greece is not a big economy. Its about the size of metropolitan Miami.</td>\n",
              "      <td>economy,foreign-policy</td>\n",
              "      <td>paul-krugman</td>\n",
              "      <td>New York Times columnist</td>\n",
              "      <td>NaN</td>\n",
              "      <td>none</td>\n",
              "      <td>0.0</td>\n",
              "      <td>2.0</td>\n",
              "      <td>3.0</td>\n",
              "      <td>4.0</td>\n",
              "      <td>0.0</td>\n",
              "      <td>an interview on ABC's \"This Week with George Stephanopoulos\"</td>\n",
              "      <td>Rep.  Edith H.  Ajello said, \"Lots of studies seem to indicate that minors find it very easy to get marijuana, easier than to get alcohol. \"The verb choice and timing of Ajellos comment proved crucial here. If shed referred to how easily young people could purchase one or the other, and shed said it in 2009, there would be more support. But all the most recent, credible, national studies we found showed that teenagers report its easier to get alcohol than marijuana.</td>\n",
              "      <td>True</td>\n",
              "    </tr>\n",
              "    <tr>\n",
              "      <th>9459</th>\n",
              "      <td>9486.0</td>\n",
              "      <td>4761.json</td>\n",
              "      <td>half-true</td>\n",
              "      <td>Under President Barack Obama, more Americans are in poverty ... than at any time since the Census Bureau began keeping records on it over 50 years ago.</td>\n",
              "      <td>history,poverty</td>\n",
              "      <td>newt-gingrich</td>\n",
              "      <td>Co-host on CNN's \"Crossfire\"</td>\n",
              "      <td>Georgia</td>\n",
              "      <td>republican</td>\n",
              "      <td>16.0</td>\n",
              "      <td>15.0</td>\n",
              "      <td>20.0</td>\n",
              "      <td>10.0</td>\n",
              "      <td>11.0</td>\n",
              "      <td>a written opening statement for a debate</td>\n",
              "      <td>\"Whatever it is called, presidents are always reviewing regulations to eliminate ones that impose unnecessary burdens. \"In fact, a U. S.  Government Accountability Office report on July 16, 2007, states that, \"Every president since President Carter has directed agencies to evaluate or reconsider existing regulations. \"Lots of presidents have done that.</td>\n",
              "      <td>True</td>\n",
              "    </tr>\n",
              "    <tr>\n",
              "      <th>641</th>\n",
              "      <td>641.0</td>\n",
              "      <td>2647.json</td>\n",
              "      <td>mostly-true</td>\n",
              "      <td>Carly Fiorina, shes against banning assault weapons.</td>\n",
              "      <td>guns,message-machine</td>\n",
              "      <td>barbara-boxer</td>\n",
              "      <td>U.S. Senator</td>\n",
              "      <td>California</td>\n",
              "      <td>democrat</td>\n",
              "      <td>2.0</td>\n",
              "      <td>0.0</td>\n",
              "      <td>3.0</td>\n",
              "      <td>4.0</td>\n",
              "      <td>1.0</td>\n",
              "      <td>a campaign ad</td>\n",
              "      <td>The NRA said it endorses her because she \"opposes re-enacting the Clinton gun and magazine ban. \"In ruling on the statement \"Carly Fiorina, she's against banning assault weapons,\" we find it compelling that she opposed the 1994 ban and thatthe NRA said she told them she would oppose re-enacting it. Is it possible some sort of new compromise bill might win Fiorina's support?It's possible, but there's little to indicate that's likely.</td>\n",
              "      <td>True</td>\n",
              "    </tr>\n",
              "    <tr>\n",
              "      <th>1741</th>\n",
              "      <td>1753.0</td>\n",
              "      <td>13372.json</td>\n",
              "      <td>half-true</td>\n",
              "      <td>We are seeing kids who are healthier.</td>\n",
              "      <td>children,public-health</td>\n",
              "      <td>hillary-clinton</td>\n",
              "      <td>Presidential candidate</td>\n",
              "      <td>New York</td>\n",
              "      <td>democrat</td>\n",
              "      <td>40.0</td>\n",
              "      <td>29.0</td>\n",
              "      <td>69.0</td>\n",
              "      <td>76.0</td>\n",
              "      <td>7.0</td>\n",
              "      <td>a get-out-the-vote rally in North Carolina</td>\n",
              "      <td>It was a $27 million-dollar plant, operating full steam, and we closed it down. \"(As for the different estimates for the cost of the plant, Wilson said by phone: \"You know how long thats been?But after 20 years, her memory inthe Washington Post article was on target.</td>\n",
              "      <td>True</td>\n",
              "    </tr>\n",
              "    <tr>\n",
              "      <th>5193</th>\n",
              "      <td>5205.0</td>\n",
              "      <td>6985.json</td>\n",
              "      <td>half-true</td>\n",
              "      <td>Latin Americas economy is almost as big as the economy of China.</td>\n",
              "      <td>economy,foreign-policy</td>\n",
              "      <td>mitt-romney</td>\n",
              "      <td>Former governor</td>\n",
              "      <td>Massachusetts</td>\n",
              "      <td>republican</td>\n",
              "      <td>34.0</td>\n",
              "      <td>32.0</td>\n",
              "      <td>58.0</td>\n",
              "      <td>33.0</td>\n",
              "      <td>19.0</td>\n",
              "      <td>the third presidential debate in Boca Raton, Fla.</td>\n",
              "      <td>A: They are all Draft Dodgers,\" referring to Romney, Trump, Cheney, Limbaugh, Nugent and OReilly. Liberals Are Cool doesnt acknowledge that the six registered properly for the draft, then applied for and received legal deferments so they could complete their education  an opportunity given more than half the men eligible for the U. S.  draft during the Vietnam era. To comment on this story, go to NJ. com. To see a list of military classification codes from the U. S.</td>\n",
              "      <td>True</td>\n",
              "    </tr>\n",
              "    <tr>\n",
              "      <th>3477</th>\n",
              "      <td>3489.0</td>\n",
              "      <td>1487.json</td>\n",
              "      <td>half-true</td>\n",
              "      <td>Among the money spent on health care in the United States, \"46 cents on every dollar spent is through Medicare and Medicaid.\"</td>\n",
              "      <td>federal-budget,health-care,medicare</td>\n",
              "      <td>joe-biden</td>\n",
              "      <td>U.S. senator</td>\n",
              "      <td>Delaware</td>\n",
              "      <td>democrat</td>\n",
              "      <td>11.0</td>\n",
              "      <td>10.0</td>\n",
              "      <td>21.0</td>\n",
              "      <td>16.0</td>\n",
              "      <td>4.0</td>\n",
              "      <td>an interview on NBC's 'Meet the Press'</td>\n",
              "      <td>SUNY: -16 percent  Our rating    Reilly said UW System's reserves are in the \"mid- to low-range\" of comparable university systems, as though that fact has been clearly established. Using a key measure, Wisconsins level of reserves is below that of some of its peers. But there is debate about whether some of the state systems the UW System considers to be peers are in fact peers. And figures simply arent available for other peer systems.</td>\n",
              "      <td>True</td>\n",
              "    </tr>\n",
              "    <tr>\n",
              "      <th>2336</th>\n",
              "      <td>2348.0</td>\n",
              "      <td>13296.json</td>\n",
              "      <td>mostly-true</td>\n",
              "      <td>Says the U.S. Attorneys Office said that neither I nor my campaign had any idea what was going on regarding my fathers illegal campaign contributions. And thats why they closed this case.</td>\n",
              "      <td>elections,legal-issues</td>\n",
              "      <td>ami-bera</td>\n",
              "      <td>U.S. House of Representatives</td>\n",
              "      <td>California</td>\n",
              "      <td>democrat</td>\n",
              "      <td>1.0</td>\n",
              "      <td>0.0</td>\n",
              "      <td>1.0</td>\n",
              "      <td>1.0</td>\n",
              "      <td>0.0</td>\n",
              "      <td>a U.S. Congressional campaign debate</td>\n",
              "      <td>If he had said that, we would have reached a different ruling. Click on over to OregonLive. com/politics and leave a comment          . factbox {      font-family: 'Roboto', 'Helvetica', sans-serif;      color: rgba(0, 0, 0, 0. 86);      font-weight: 400;      margin: 0px;      margin-top:40px;      padding: 0;      background-color:#f5f5f5;      padding:32px;      padding-bottom:24px;      display: block;      margin: auto;      margin:0 auto;      background-color: #ffffff;      width:75%;...</td>\n",
              "      <td>True</td>\n",
              "    </tr>\n",
              "    <tr>\n",
              "      <th>9643</th>\n",
              "      <td>9670.0</td>\n",
              "      <td>4047.json</td>\n",
              "      <td>half-true</td>\n",
              "      <td>Says that in 2009, Jon Huntsman said that the Recovery Act wasnt large enough and as governor he asked for $14.4 billion in federal stimulus funds. Now hes saying that he never supported it.</td>\n",
              "      <td>economy,new-hampshire-2012,stimulus</td>\n",
              "      <td>richard-swett</td>\n",
              "      <td>Former U.S. Representative</td>\n",
              "      <td>New Hampshire</td>\n",
              "      <td>democrat</td>\n",
              "      <td>0.0</td>\n",
              "      <td>0.0</td>\n",
              "      <td>1.0</td>\n",
              "      <td>0.0</td>\n",
              "      <td>0.0</td>\n",
              "      <td>a conference call with reporters.</td>\n",
              "      <td>The Florida Stop Common Core Coalition said that the American Institutes for Research promotes the identification of homosexual lifestyles in young children. This is one piece of the groups initiatives, which also include work on disease management and student assessments. AIR does not advocate a homosexual lifestyle for children, nor is it an advocacy group at all. There is no indication that the organization or the state will have a homosexual agenda in its state testing. The statement is ...</td>\n",
              "      <td>True</td>\n",
              "    </tr>\n",
              "    <tr>\n",
              "      <th>5352</th>\n",
              "      <td>5364.0</td>\n",
              "      <td>11680.json</td>\n",
              "      <td>mostly-true</td>\n",
              "      <td>Three or four countries out of roughly 60 in the anti-ISIS coalition are providing military force.</td>\n",
              "      <td>military,terrorism</td>\n",
              "      <td>marco-rubio</td>\n",
              "      <td>U.S. Senator</td>\n",
              "      <td>Florida</td>\n",
              "      <td>republican</td>\n",
              "      <td>33.0</td>\n",
              "      <td>24.0</td>\n",
              "      <td>32.0</td>\n",
              "      <td>35.0</td>\n",
              "      <td>5.0</td>\n",
              "      <td>an interview with NBC's \"Meet the Press\"</td>\n",
              "      <td>Reid said the Koch brothers are \"the richest people in the world. Put them together they're the richest in the world. \"If you look at families -- which is what Reid is essentially doing -- then Charles and David Koch rank second internationally to six members of the Walton family, at least according to Forbes. Thats still pretty close to the top of the list.</td>\n",
              "      <td>True</td>\n",
              "    </tr>\n",
              "    <tr>\n",
              "      <th>10135</th>\n",
              "      <td>10162.0</td>\n",
              "      <td>6797.json</td>\n",
              "      <td>mostly-true</td>\n",
              "      <td>Taxes are lower on families than theyve been probably in the last 50 years.</td>\n",
              "      <td>history,taxes</td>\n",
              "      <td>barack-obama</td>\n",
              "      <td>President</td>\n",
              "      <td>Illinois</td>\n",
              "      <td>democrat</td>\n",
              "      <td>70.0</td>\n",
              "      <td>71.0</td>\n",
              "      <td>160.0</td>\n",
              "      <td>163.0</td>\n",
              "      <td>9.0</td>\n",
              "      <td>an interview on CBS' \"60 Minutes\"</td>\n",
              "      <td>In fact, the dropoff happened across all ethnic groups with white voters actually seeing the biggest share of that overall third of a percentage point drop in voting because of the law, he said. \"It doesn't affect minorities disproportionately -- they were impacted the same or slightly less than whites by the law,\" said Hood in a phone interview. \"From my observation and from my research, it's sort of a been a wash. \"    Speaker Batchelder was correct when he said voting increased in Georgia...</td>\n",
              "      <td>True</td>\n",
              "    </tr>\n",
              "    <tr>\n",
              "      <th>3739</th>\n",
              "      <td>3751.0</td>\n",
              "      <td>12127.json</td>\n",
              "      <td>half-true</td>\n",
              "      <td>Mitt Romney did not endorse Ted Cruz, even though he said he is voting for Cruz and urged others to do likewise.</td>\n",
              "      <td>pundits</td>\n",
              "      <td>romney-allies</td>\n",
              "      <td>NaN</td>\n",
              "      <td>NaN</td>\n",
              "      <td>none</td>\n",
              "      <td>0.0</td>\n",
              "      <td>0.0</td>\n",
              "      <td>1.0</td>\n",
              "      <td>0.0</td>\n",
              "      <td>0.0</td>\n",
              "      <td>The New York Times</td>\n",
              "      <td>It's not clear that such a statistic exists and the Obama campaign didn't seem to have it. But Obama's statement, coming from House Democrats, suggests that 'non-producing' acreage where drilling is permitted is land that oil companies are ignoring. Years of exploration and federal permitting must be completed before leased land yields oil or gas.</td>\n",
              "      <td>True</td>\n",
              "    </tr>\n",
              "    <tr>\n",
              "      <th>616</th>\n",
              "      <td>616.0</td>\n",
              "      <td>9199.json</td>\n",
              "      <td>half-true</td>\n",
              "      <td>The U.S. spends more money on its military than the 16 biggest military budgets in the world combined.</td>\n",
              "      <td>federal-budget,military</td>\n",
              "      <td>anissa-naouai</td>\n",
              "      <td>RT correspondent</td>\n",
              "      <td>NaN</td>\n",
              "      <td>none</td>\n",
              "      <td>0.0</td>\n",
              "      <td>0.0</td>\n",
              "      <td>1.0</td>\n",
              "      <td>0.0</td>\n",
              "      <td>0.0</td>\n",
              "      <td>comments on CNN</td>\n",
              "      <td>Naouai said, \"The U. S.  spends more money on its military than the 16 biggest military budgets in the world. \"The United States is definitely No. 1 on the worlds defense spending list. While we don't think viewers would get a markedly different impression if Naouai had said 8 or 12 instead of 16, her figures are off by a significant-enough margin.</td>\n",
              "      <td>True</td>\n",
              "    </tr>\n",
              "  </tbody>\n",
              "</table>\n",
              "</div>\n",
              "    <div class=\"colab-df-buttons\">\n",
              "\n",
              "  <div class=\"colab-df-container\">\n",
              "    <button class=\"colab-df-convert\" onclick=\"convertToInteractive('df-c01bdc87-b3c1-4139-b8e5-798e7f62cf10')\"\n",
              "            title=\"Convert this dataframe to an interactive table.\"\n",
              "            style=\"display:none;\">\n",
              "\n",
              "  <svg xmlns=\"http://www.w3.org/2000/svg\" height=\"24px\" viewBox=\"0 -960 960 960\">\n",
              "    <path d=\"M120-120v-720h720v720H120Zm60-500h600v-160H180v160Zm220 220h160v-160H400v160Zm0 220h160v-160H400v160ZM180-400h160v-160H180v160Zm440 0h160v-160H620v160ZM180-180h160v-160H180v160Zm440 0h160v-160H620v160Z\"/>\n",
              "  </svg>\n",
              "    </button>\n",
              "\n",
              "  <style>\n",
              "    .colab-df-container {\n",
              "      display:flex;\n",
              "      gap: 12px;\n",
              "    }\n",
              "\n",
              "    .colab-df-convert {\n",
              "      background-color: #E8F0FE;\n",
              "      border: none;\n",
              "      border-radius: 50%;\n",
              "      cursor: pointer;\n",
              "      display: none;\n",
              "      fill: #1967D2;\n",
              "      height: 32px;\n",
              "      padding: 0 0 0 0;\n",
              "      width: 32px;\n",
              "    }\n",
              "\n",
              "    .colab-df-convert:hover {\n",
              "      background-color: #E2EBFA;\n",
              "      box-shadow: 0px 1px 2px rgba(60, 64, 67, 0.3), 0px 1px 3px 1px rgba(60, 64, 67, 0.15);\n",
              "      fill: #174EA6;\n",
              "    }\n",
              "\n",
              "    .colab-df-buttons div {\n",
              "      margin-bottom: 4px;\n",
              "    }\n",
              "\n",
              "    [theme=dark] .colab-df-convert {\n",
              "      background-color: #3B4455;\n",
              "      fill: #D2E3FC;\n",
              "    }\n",
              "\n",
              "    [theme=dark] .colab-df-convert:hover {\n",
              "      background-color: #434B5C;\n",
              "      box-shadow: 0px 1px 3px 1px rgba(0, 0, 0, 0.15);\n",
              "      filter: drop-shadow(0px 1px 2px rgba(0, 0, 0, 0.3));\n",
              "      fill: #FFFFFF;\n",
              "    }\n",
              "  </style>\n",
              "\n",
              "    <script>\n",
              "      const buttonEl =\n",
              "        document.querySelector('#df-c01bdc87-b3c1-4139-b8e5-798e7f62cf10 button.colab-df-convert');\n",
              "      buttonEl.style.display =\n",
              "        google.colab.kernel.accessAllowed ? 'block' : 'none';\n",
              "\n",
              "      async function convertToInteractive(key) {\n",
              "        const element = document.querySelector('#df-c01bdc87-b3c1-4139-b8e5-798e7f62cf10');\n",
              "        const dataTable =\n",
              "          await google.colab.kernel.invokeFunction('convertToInteractive',\n",
              "                                                    [key], {});\n",
              "        if (!dataTable) return;\n",
              "\n",
              "        const docLinkHtml = 'Like what you see? Visit the ' +\n",
              "          '<a target=\"_blank\" href=https://colab.research.google.com/notebooks/data_table.ipynb>data table notebook</a>'\n",
              "          + ' to learn more about interactive tables.';\n",
              "        element.innerHTML = '';\n",
              "        dataTable['output_type'] = 'display_data';\n",
              "        await google.colab.output.renderOutput(dataTable, element);\n",
              "        const docLink = document.createElement('div');\n",
              "        docLink.innerHTML = docLinkHtml;\n",
              "        element.appendChild(docLink);\n",
              "      }\n",
              "    </script>\n",
              "  </div>\n",
              "\n",
              "\n",
              "<div id=\"df-e693cafa-21a2-4269-af59-e0b145528fa7\">\n",
              "  <button class=\"colab-df-quickchart\" onclick=\"quickchart('df-e693cafa-21a2-4269-af59-e0b145528fa7')\"\n",
              "            title=\"Suggest charts\"\n",
              "            style=\"display:none;\">\n",
              "\n",
              "<svg xmlns=\"http://www.w3.org/2000/svg\" height=\"24px\"viewBox=\"0 0 24 24\"\n",
              "     width=\"24px\">\n",
              "    <g>\n",
              "        <path d=\"M19 3H5c-1.1 0-2 .9-2 2v14c0 1.1.9 2 2 2h14c1.1 0 2-.9 2-2V5c0-1.1-.9-2-2-2zM9 17H7v-7h2v7zm4 0h-2V7h2v10zm4 0h-2v-4h2v4z\"/>\n",
              "    </g>\n",
              "</svg>\n",
              "  </button>\n",
              "\n",
              "<style>\n",
              "  .colab-df-quickchart {\n",
              "      --bg-color: #E8F0FE;\n",
              "      --fill-color: #1967D2;\n",
              "      --hover-bg-color: #E2EBFA;\n",
              "      --hover-fill-color: #174EA6;\n",
              "      --disabled-fill-color: #AAA;\n",
              "      --disabled-bg-color: #DDD;\n",
              "  }\n",
              "\n",
              "  [theme=dark] .colab-df-quickchart {\n",
              "      --bg-color: #3B4455;\n",
              "      --fill-color: #D2E3FC;\n",
              "      --hover-bg-color: #434B5C;\n",
              "      --hover-fill-color: #FFFFFF;\n",
              "      --disabled-bg-color: #3B4455;\n",
              "      --disabled-fill-color: #666;\n",
              "  }\n",
              "\n",
              "  .colab-df-quickchart {\n",
              "    background-color: var(--bg-color);\n",
              "    border: none;\n",
              "    border-radius: 50%;\n",
              "    cursor: pointer;\n",
              "    display: none;\n",
              "    fill: var(--fill-color);\n",
              "    height: 32px;\n",
              "    padding: 0;\n",
              "    width: 32px;\n",
              "  }\n",
              "\n",
              "  .colab-df-quickchart:hover {\n",
              "    background-color: var(--hover-bg-color);\n",
              "    box-shadow: 0 1px 2px rgba(60, 64, 67, 0.3), 0 1px 3px 1px rgba(60, 64, 67, 0.15);\n",
              "    fill: var(--button-hover-fill-color);\n",
              "  }\n",
              "\n",
              "  .colab-df-quickchart-complete:disabled,\n",
              "  .colab-df-quickchart-complete:disabled:hover {\n",
              "    background-color: var(--disabled-bg-color);\n",
              "    fill: var(--disabled-fill-color);\n",
              "    box-shadow: none;\n",
              "  }\n",
              "\n",
              "  .colab-df-spinner {\n",
              "    border: 2px solid var(--fill-color);\n",
              "    border-color: transparent;\n",
              "    border-bottom-color: var(--fill-color);\n",
              "    animation:\n",
              "      spin 1s steps(1) infinite;\n",
              "  }\n",
              "\n",
              "  @keyframes spin {\n",
              "    0% {\n",
              "      border-color: transparent;\n",
              "      border-bottom-color: var(--fill-color);\n",
              "      border-left-color: var(--fill-color);\n",
              "    }\n",
              "    20% {\n",
              "      border-color: transparent;\n",
              "      border-left-color: var(--fill-color);\n",
              "      border-top-color: var(--fill-color);\n",
              "    }\n",
              "    30% {\n",
              "      border-color: transparent;\n",
              "      border-left-color: var(--fill-color);\n",
              "      border-top-color: var(--fill-color);\n",
              "      border-right-color: var(--fill-color);\n",
              "    }\n",
              "    40% {\n",
              "      border-color: transparent;\n",
              "      border-right-color: var(--fill-color);\n",
              "      border-top-color: var(--fill-color);\n",
              "    }\n",
              "    60% {\n",
              "      border-color: transparent;\n",
              "      border-right-color: var(--fill-color);\n",
              "    }\n",
              "    80% {\n",
              "      border-color: transparent;\n",
              "      border-right-color: var(--fill-color);\n",
              "      border-bottom-color: var(--fill-color);\n",
              "    }\n",
              "    90% {\n",
              "      border-color: transparent;\n",
              "      border-bottom-color: var(--fill-color);\n",
              "    }\n",
              "  }\n",
              "</style>\n",
              "\n",
              "  <script>\n",
              "    async function quickchart(key) {\n",
              "      const quickchartButtonEl =\n",
              "        document.querySelector('#' + key + ' button');\n",
              "      quickchartButtonEl.disabled = true;  // To prevent multiple clicks.\n",
              "      quickchartButtonEl.classList.add('colab-df-spinner');\n",
              "      try {\n",
              "        const charts = await google.colab.kernel.invokeFunction(\n",
              "            'suggestCharts', [key], {});\n",
              "      } catch (error) {\n",
              "        console.error('Error during call to suggestCharts:', error);\n",
              "      }\n",
              "      quickchartButtonEl.classList.remove('colab-df-spinner');\n",
              "      quickchartButtonEl.classList.add('colab-df-quickchart-complete');\n",
              "    }\n",
              "    (() => {\n",
              "      let quickchartButtonEl =\n",
              "        document.querySelector('#df-e693cafa-21a2-4269-af59-e0b145528fa7 button');\n",
              "      quickchartButtonEl.style.display =\n",
              "        google.colab.kernel.accessAllowed ? 'block' : 'none';\n",
              "    })();\n",
              "  </script>\n",
              "</div>\n",
              "\n",
              "    </div>\n",
              "  </div>\n"
            ],
            "application/vnd.google.colaboratory.intrinsic+json": {
              "type": "dataframe",
              "summary": "{\n  \"name\": \"true_ex\",\n  \"rows\": 15,\n  \"fields\": [\n    {\n      \"column\": \"id\",\n      \"properties\": {\n        \"dtype\": \"number\",\n        \"std\": 3370.445769585128,\n        \"min\": 616.0,\n        \"max\": 10162.0,\n        \"num_unique_values\": 15,\n        \"samples\": [\n          2348.0,\n          5364.0,\n          9293.0\n        ],\n        \"semantic_type\": \"\",\n        \"description\": \"\"\n      }\n    },\n    {\n      \"column\": \"statement_json\",\n      \"properties\": {\n        \"dtype\": \"string\",\n        \"num_unique_values\": 15,\n        \"samples\": [\n          \"13296.json\",\n          \"11680.json\",\n          \"1840.json\"\n        ],\n        \"semantic_type\": \"\",\n        \"description\": \"\"\n      }\n    },\n    {\n      \"column\": \"label\",\n      \"properties\": {\n        \"dtype\": \"category\",\n        \"num_unique_values\": 3,\n        \"samples\": [\n          \"mostly-true\",\n          \"true\",\n          \"half-true\"\n        ],\n        \"semantic_type\": \"\",\n        \"description\": \"\"\n      }\n    },\n    {\n      \"column\": \"statement\",\n      \"properties\": {\n        \"dtype\": \"string\",\n        \"num_unique_values\": 15,\n        \"samples\": [\n          \"Says the U.S. Attorneys Office said that neither I nor my campaign had any idea what was going on regarding my fathers illegal campaign contributions. And thats why they closed this case.\",\n          \"Three or four countries out of roughly 60 in the anti-ISIS coalition are providing military force.\",\n          \"The Interior Department has only 30 days to review an exploration plan submitted by an oil company. That leaves no time for the appropriate environmental review. The result is, they are continually waived.\"\n        ],\n        \"semantic_type\": \"\",\n        \"description\": \"\"\n      }\n    },\n    {\n      \"column\": \"subject\",\n      \"properties\": {\n        \"dtype\": \"string\",\n        \"num_unique_values\": 14,\n        \"samples\": [\n          \"economy,new-hampshire-2012,stimulus\",\n          \"history,taxes\",\n          \"energy,environment,oil-spill\"\n        ],\n        \"semantic_type\": \"\",\n        \"description\": \"\"\n      }\n    },\n    {\n      \"column\": \"speaker\",\n      \"properties\": {\n        \"dtype\": \"string\",\n        \"num_unique_values\": 14,\n        \"samples\": [\n          \"ami-bera\",\n          \"marco-rubio\",\n          \"barack-obama\"\n        ],\n        \"semantic_type\": \"\",\n        \"description\": \"\"\n      }\n    },\n    {\n      \"column\": \"speaker_title\",\n      \"properties\": {\n        \"dtype\": \"string\",\n        \"num_unique_values\": 10,\n        \"samples\": [\n          \"Former U.S. Representative\",\n          \"New York Times columnist\",\n          \"Former governor\"\n        ],\n        \"semantic_type\": \"\",\n        \"description\": \"\"\n      }\n    },\n    {\n      \"column\": \"state_info\",\n      \"properties\": {\n        \"dtype\": \"string\",\n        \"num_unique_values\": 8,\n        \"samples\": [\n          \"Florida\",\n          \"Massachusetts\",\n          \"Illinois\"\n        ],\n        \"semantic_type\": \"\",\n        \"description\": \"\"\n      }\n    },\n    {\n      \"column\": \"party_affiliation\",\n      \"properties\": {\n        \"dtype\": \"category\",\n        \"num_unique_values\": 3,\n        \"samples\": [\n          \"democrat\",\n          \"republican\",\n          \"none\"\n        ],\n        \"semantic_type\": \"\",\n        \"description\": \"\"\n      }\n    },\n    {\n      \"column\": \"barely_true_count\",\n      \"properties\": {\n        \"dtype\": \"number\",\n        \"std\": 24.662483557786615,\n        \"min\": 0.0,\n        \"max\": 70.0,\n        \"num_unique_values\": 10,\n        \"samples\": [\n          11.0,\n          1.0,\n          2.0\n        ],\n        \"semantic_type\": \"\",\n        \"description\": \"\"\n      }\n    },\n    {\n      \"column\": \"false_count\",\n      \"properties\": {\n        \"dtype\": \"number\",\n        \"std\": 24.502089318104712,\n        \"min\": 0.0,\n        \"max\": 71.0,\n        \"num_unique_values\": 9,\n        \"samples\": [\n          10.0,\n          0.0,\n          29.0\n        ],\n        \"semantic_type\": \"\",\n        \"description\": \"\"\n      }\n    },\n    {\n      \"column\": \"half_true_count\",\n      \"properties\": {\n        \"dtype\": \"number\",\n        \"std\": 54.480490173307075,\n        \"min\": 0.0,\n        \"max\": 160.0,\n        \"num_unique_values\": 10,\n        \"samples\": [\n          1.0,\n          0.0,\n          69.0\n        ],\n        \"semantic_type\": \"\",\n        \"description\": \"\"\n      }\n    },\n    {\n      \"column\": \"mostly_true_count\",\n      \"properties\": {\n        \"dtype\": \"number\",\n        \"std\": 55.67738704870613,\n        \"min\": 0.0,\n        \"max\": 163.0,\n        \"num_unique_values\": 11,\n        \"samples\": [\n          76.0,\n          163.0,\n          0.0\n        ],\n        \"semantic_type\": \"\",\n        \"description\": \"\"\n      }\n    },\n    {\n      \"column\": \"pants_fire_count\",\n      \"properties\": {\n        \"dtype\": \"number\",\n        \"std\": 5.604420024366822,\n        \"min\": 0.0,\n        \"max\": 19.0,\n        \"num_unique_values\": 9,\n        \"samples\": [\n          4.0,\n          0.0,\n          7.0\n        ],\n        \"semantic_type\": \"\",\n        \"description\": \"\"\n      }\n    },\n    {\n      \"column\": \"context\",\n      \"properties\": {\n        \"dtype\": \"string\",\n        \"num_unique_values\": 15,\n        \"samples\": [\n          \"a U.S. Congressional campaign debate\",\n          \"an interview with NBC's \\\"Meet the Press\\\"\",\n          \"a press conference at the White House\"\n        ],\n        \"semantic_type\": \"\",\n        \"description\": \"\"\n      }\n    },\n    {\n      \"column\": \"justification\",\n      \"properties\": {\n        \"dtype\": \"string\",\n        \"num_unique_values\": 15,\n        \"samples\": [\n          \"If he had said that, we would have reached a different ruling. Click on over to OregonLive. com/politics and leave a comment          . factbox {      font-family: 'Roboto', 'Helvetica', sans-serif;      color: rgba(0, 0, 0, 0. 86);      font-weight: 400;      margin: 0px;      margin-top:40px;      padding: 0;      background-color:#f5f5f5;      padding:32px;      padding-bottom:24px;      display: block;      margin: auto;      margin:0 auto;      background-color: #ffffff;      width:75%;      height:auto;      max-width:600px;      min-width:260px;      box-shadow: 0 2px 2px 0 rgba(0,0,0,. 34),0 3px 1px -2px rgba(0,0,0,. 4),0 1px 5px 0 rgba(0,0,0,. 32);      position: relative;    }        . factbox . factbox-header {      height: 25px;      margin-top: -20px;      border-bottom-width: 1px;      border-bottom-color: silver;      border-bottom-style: solid;      margin-bottom: 20px;      font-size: 16px;      color: rgba(0,0,0,0. 86);    }      . factbox . name {      display: inline-block;      height:64px;      float:left;      margin-bottom: 32px;    }        . factbox . name img {      display: inline-block;      float:left;      padding-bottom: 32px;      padding-right: 32px;    }        . factbox . speaker{    float:left;    padding-top: 10px;    }    . factbox . speaker . speaker-name {      font-weight: 500;      font-size: 20px;      padding-bottom: 8px;    }        . factbox . speaker . speaker-title {      color: rgba(0,0,0,0. 54);      font-size:14px;    }      . factbox . rating {      padding-left:32px;      float: right;      width:120px;      height:auto;      display: inline;      max-height: 200px;    }      . factbox . rating img {      width: 100%;      padding-bottom:24px;    }      . factbox h1 {      display: inline-block;      font-weight: 500;      font-size: 20px;      line-height: 1. 35em;      -webkit-margin-before: . 35em;      -webkit-margin-after: 0em;      -webkit-margin-start: 0px;      -webkit-margin-end: 0px;    }      . factbox p {      text-indent: -0. 35em;      margin-top: 96px;      width: 100%;      display: block;      font-size: 16px;      line-height: 26px;    }        . factbox . dateline {      font-size: 14px;      color: rgba(0,0,0,0. 54);      font-weight: 400;      margin-top: 8px;    }      . factbox hr {      border-bottom: 1px;       border-left: 0px;       border-right: 0px;       border-top: 0px;       border-style:solid;      border-color:#e0e0e0;      padding-top: 0px;      padding-bottom: 0px;    }      . factbox . links {      display:block;      padding-top: 20px;    }      . factbox a:-webkit-any-link {      color: #2196f3;      text-decoration: none;      cursor: pointer;    }      . factbox . links a {      margin-right: 32px;      font-size: 14px;      text-transform: uppercase;      color: #2196f3;      text-decoration: none;      font-weight: 500;    }      . factbox . links a:hover {      cursor: pointer;    }      . factbox a :hover {     cursor: pointer;    }      . factbox ul {      padding-left: 0px;      display:block;      padding-top: 10px;      padding-bottom: 0px;    }      . factbox li {      display: inline;      margin-right: 32px;      font-size: 14px;      text-transform: uppercase;      color: #2196f3;      text-decoration: none;      font-weight: 500;      cursor: pointer;    }      . factbox li a {      font-size: 14px;      text-transform: uppercase;      color: #2196f3;      text-decoration: none;      font-weight: 500;    }      . factbox li a:visited {      color: #2196f3;    }      . factbox . menu . share {       display: none;      margin-top: 32px;    }        . factbox . menu . share . share-button {      display: inline-block;      height: 64px;      width: 64px;      border-radius: 0px;      position: relative;    }    . factbox . menu . share . share-button . share-label{      position: absolute;      top: 50%; left: 50%;      transform: translate(-50%, -50%);      font-size: 18px;      color: white;    }        . factbox . menu . share . share-button . share-label a:-webkit-any-link{    color:white;        }    . factbox . menu . share . share-button . share-label a{    color:white;        }        . factbox . menu . share . facebook {      background-color: rgb(64,94,145);    }    . factbox . menu . share . twitter {      background-color: rgb(104,172,216);    }    . factbox . menu . share . google-plus {      background-color: rgb(215,84,81);    }        . factbox . menu . share . embed-button {      display: inline-block;      height: 64px;      width: 275px;      background: #ffffff;      box-shadow: 0px 0px 2px 0px rgba(0,0,0,. 12), 0px 2px 2px 0px rgba(0,0,0,. 24);      border-radius: 2px;      font-weight: 500;      font-size: 14px;      color: #2196f3;      letter-spacing: 0. 5px;      line-height: 16px;      position: relative;      margin-left: 24px;    }        . factbox . menu . share . embed-button . embed-label {      position: absolute;      top: 50%; left: 50%;      transform: translate(-50%, -50%);    }        . factbox . menu . share . embed-button . embed-label a {      text-decoration: none;    }        . factbox . menu . share . embed-button . embed-label a:visited {        color: #2196f3;    }          . factbox . share . embed_box {       display: none;      height: 300px;      margin-top: 16px;      width: 100%;    }      . factbox . menu li {      color: rgba(0, 0, 0, 0. 87);      text-transform: none;      cursor: default;      display: inline;    }      . factbox . menu li span {      margin-right: 0px;    }      . factbox . menu li img {      width: 100%;      display: -webkit-flex;      display: flex;    }         . factbox . menu ul. dropit-submenu  {      padding-top:32px;      width: 100%;    }      . factbox . menu ul. dropit-submenu a {      font-size: 14px;      line-height: 25px;      padding: 0 18px;    }      . factbox a {    }      @media screen and (max-width: 560px) {      . factbox . rating {        padding-left: 24px;        float: right;        width: 100px;        height: auto;        display: inline;      }      . factbox . name {        padding-bottom: 8px;      }      . factbox p {      clear: left;      }    }      @media screen and (max-width: 460px) {  /*    . factbox . rating {        padding-left: 24px;        float: right;        width: 90px;        height: auto;        display: inline;      }      . factbox . name {        width: 100%;        padding-bottom: 12px;      }      . factbox p {      }  */          . factbox . menu . share . embed-button {      margin-top: 24px;      margin-left: 0px;      width: 100%;    }      }      @media screen and (max-width: 364px) {      . factbox {        padding: 24px;        display: block;        margin: auto;        margin: 0 auto;        background-color: #ffffff;        width: 75%;        height: auto;        max-width: 600px;        min-width: 260px;        box-shadow: 0 2px 2px 0 rgba(0,0,0,. 14),0 3px 1px -2px rgba(0,0,0,. 2),0 1px 5px 0 rgba(0,0,0,. 12);        position: relative;      }      . factbox . rating {        padding-left: 24px;        float: right;        width: 90px;        height: auto;        display: inline;      }      . factbox . name {        height: 64px;        float: left;      }            . factbox . name {        padding-bottom: 8px;        margin-bottom: 8px;      }      . factbox . name img {        float: left;      }            . factbox . speaker . speaker-title {        font-size: 9px;      }        . factbox p {        font-size: 16px;        line-height: 24px;      }    }           function toggleEmbedBox(e) {        var embed_box = e. parentElement. parentElement. parentElement. getElementsByClassName('embed_box')[0];        if(embed_box. style. display == 'block'){        embed_box. style. display = 'none';      } else {          var factbox = e;          while (!factbox. classList. contains('factbox')) {            factbox = factbox. parentElement;          }              var container = document. createElement(\\\"div\\\");          container. appendChild(factbox. innerHTML = container. innerHTML;          embed_box. style. display = 'block';      }      }        function toggleShareVisibility(e) {        var e = e. parentElement. parentElement. getElementsByClassName('share')[0];        if (e. style. display === 'block') {          e. style. display = 'none';        } else {         e. style. display = 'block';        }      }            //adopted from       function facebookShare(url, picture, winWidth, winHeight) {        openShare(' + url + '&picture=' + picture, winWidth, winHeight);      }            function twitterShare(tweet_id, winWidth, winHeight){        openShare(' + tweet_id, winWidth, winHeight);      }            function openShare(url, winWidth, winHeight){        var winTop = (screen. height / 2) - (winHeight / 2);        var winLeft = (screen. width / 2) - (winWidth / 2);        window. open(url, 'sharer', 'top=' + winTop + ',left=' + winLeft + ',toolbar=0,status=0,width=' + winWidth + ',height=' + winHeight);      }       Share The Facts    John Kitzhaber Governor of Oregon              \\\"Oregon \\\"is the most trade-dependent state in the nation.\",\n          \"Reid said the Koch brothers are \\\"the richest people in the world. Put them together they're the richest in the world. \\\"If you look at families -- which is what Reid is essentially doing -- then Charles and David Koch rank second internationally to six members of the Walton family, at least according to Forbes. Thats still pretty close to the top of the list.\",\n          \"That's for the entire year. Kucinich is correct that the Great Lakes compact allows water to be removed in small containers. But experts appear skeptical that that \\\"loophole\\\" will have a serious impact.\"\n        ],\n        \"semantic_type\": \"\",\n        \"description\": \"\"\n      }\n    },\n    {\n      \"column\": \"binary_label\",\n      \"properties\": {\n        \"dtype\": \"boolean\",\n        \"num_unique_values\": 1,\n        \"samples\": [\n          true\n        ],\n        \"semantic_type\": \"\",\n        \"description\": \"\"\n      }\n    }\n  ]\n}"
            }
          },
          "metadata": {},
          "execution_count": 106
        }
      ]
    },
    {
      "cell_type": "code",
      "source": [
        "false_ex.sample(frac=0.2).head(15)"
      ],
      "metadata": {
        "colab": {
          "base_uri": "https://localhost:8080/",
          "height": 1000
        },
        "id": "qXg8dNmPUxnW",
        "outputId": "11521c40-6560-4aad-cdbb-56e629f9dfbf"
      },
      "execution_count": null,
      "outputs": [
        {
          "output_type": "execute_result",
          "data": {
            "text/plain": [
              "            id statement_json        label  \\\n",
              "397      397.0      5740.json  barely-true   \n",
              "8747    8775.0      2768.json        false   \n",
              "3537    3549.0      4322.json        false   \n",
              "6166    6185.0      4075.json        false   \n",
              "9928    9955.0      4494.json   pants-fire   \n",
              "9633    9660.0     13442.json   pants-fire   \n",
              "7008    7028.0      1181.json        false   \n",
              "8236    8264.0     11600.json        false   \n",
              "678      678.0      1191.json  barely-true   \n",
              "7307    7327.0      6328.json   pants-fire   \n",
              "1192    1192.0      9659.json        false   \n",
              "10129  10156.0      7835.json  barely-true   \n",
              "3078    3090.0      1513.json   pants-fire   \n",
              "8200    8228.0      5290.json   pants-fire   \n",
              "9752    9779.0      5822.json  barely-true   \n",
              "\n",
              "                                                                                                                                  statement  \\\n",
              "397                           Says the treasurers office has saved $37 million in management costs for the oversight of public investments.   \n",
              "8747                        If all of the [Bush-era] tax cuts expire on schedule, the budget will be close to being balanced in four years.   \n",
              "3537                                         Says Gov. Rick Scott is spending a quarter of a million of our tax dollars to robocall people.   \n",
              "6166                               Says legislative debate of airport pat-down procedures initiated federal changes in security procedures.   \n",
              "9928                                                                    The federal government has not engaged in (border security) at all.   \n",
              "9633       Says that at a campaign rally President Barack Obama spent so much time screaming at a protester, and frankly it was a disgrace.   \n",
              "7008                                    You lie! (in response to President Obama saying health reform would not insure illegal immigrants.)   \n",
              "8236             Says President Barack Obama did not invite a Republican senator to dine at the White House until his fifth year in office.   \n",
              "678                                                                                  Health insurance companies pay CEOs $24 million a year   \n",
              "7307                                           Says Mitt Romney backed a bill that outlaws all abortions, even in cases of rape and incest.   \n",
              "1192                                                                     We have a 40 to 50 percent dropout rate in our inner-city schools.   \n",
              "10129                                                      Two weeks after signing a taxpayer protection pledge, (Charlie Crist) breaks it.   \n",
              "3078                                                     The Democratic health care plan is a \"government takeover of our health programs.\"   \n",
              "8200                             AIDS was transmitted to humans because one guy had sex with a monkey and then started having sex with men.   \n",
              "9752   Some 20,000 Delphi salaried retirees lost up to 70 percent of their pensions as a result of political favoritism and backroom deals.   \n",
              "\n",
              "                                                                       subject  \\\n",
              "397                                                      government-efficiency   \n",
              "8747                                              deficit,federal-budget,taxes   \n",
              "3537                                                              state-budget   \n",
              "6166                                          homeland-security,transportation   \n",
              "9928                                                               immigration   \n",
              "9633                                                                 elections   \n",
              "7008                                                   health-care,immigration   \n",
              "8236                                                            bipartisanship   \n",
              "678                                                   corporations,health-care   \n",
              "7307                                             abortion,message-machine-2012   \n",
              "1192                                         corrections-and-updates,education   \n",
              "10129                                         public-health,state-budget,taxes   \n",
              "3078                                                               health-care   \n",
              "8200   education,gays-and-lesbians,health-care,history,public-health,sexuality   \n",
              "9752                                                      corporations,economy   \n",
              "\n",
              "                        speaker  \\\n",
              "397                 ted-wheeler   \n",
              "8747                bobby-scott   \n",
              "3537              florida-voter   \n",
              "6166                 rick-perry   \n",
              "9928                 rick-perry   \n",
              "9633               donald-trump   \n",
              "7008                 joe-wilson   \n",
              "8236                   jeb-bush   \n",
              "678     health-care-america-now   \n",
              "7307               barack-obama   \n",
              "1192                dan-patrick   \n",
              "10129  republican-party-florida   \n",
              "3078              cw-bill-young   \n",
              "8200           stacey-campfield   \n",
              "9752             michael-turner   \n",
              "\n",
              "                                               speaker_title  \\\n",
              "397                                                      NaN   \n",
              "8747                                        U.S. Congressman   \n",
              "3537                                                     NaN   \n",
              "6166                                                Governor   \n",
              "9928                                                Governor   \n",
              "9633                                         President-Elect   \n",
              "7008                                             Congressman   \n",
              "8236                                                     NaN   \n",
              "678                        health care reform advocacy group   \n",
              "7307                                               President   \n",
              "1192                               Lieutenant governor-elect   \n",
              "10129                                                    NaN   \n",
              "3078                U.S. Representative, Florida District 10   \n",
              "8200                                           State Senator   \n",
              "9752   Representative from Ohio's 3rd Congressional District   \n",
              "\n",
              "             state_info party_affiliation  barely_true_count  false_count  \\\n",
              "397                 NaN          democrat                1.0          0.0   \n",
              "8747           Virginia          democrat                1.0          2.0   \n",
              "3537            Florida              none                0.0          1.0   \n",
              "6166              Texas        republican               30.0         30.0   \n",
              "9928              Texas        republican               30.0         30.0   \n",
              "9633           New York        republican               63.0        114.0   \n",
              "7008     South Carolina        republican                0.0          1.0   \n",
              "8236            Florida        republican               17.0          5.0   \n",
              "678    Washington, D.C.              none                2.0          1.0   \n",
              "7307           Illinois          democrat               70.0         71.0   \n",
              "1192              Texas        republican                4.0          4.0   \n",
              "10129               NaN        republican               10.0          6.0   \n",
              "3078            Florida        republican                0.0          1.0   \n",
              "8200          Tennessee        republican                0.0          1.0   \n",
              "9752               Ohio        republican                1.0          0.0   \n",
              "\n",
              "       half_true_count  mostly_true_count  pants_fire_count  \\\n",
              "397                0.0                0.0               0.0   \n",
              "8747               1.0                5.0               0.0   \n",
              "3537               0.0                1.0               0.0   \n",
              "6166              42.0               23.0              18.0   \n",
              "9928              42.0               23.0              18.0   \n",
              "9633              51.0               37.0              61.0   \n",
              "7008               0.0                0.0               0.0   \n",
              "8236              17.0               24.0               2.0   \n",
              "678                0.0                0.0               0.0   \n",
              "7307             160.0              163.0               9.0   \n",
              "1192               3.0                4.0               4.0   \n",
              "10129              6.0                6.0               4.0   \n",
              "3078               1.0                0.0               1.0   \n",
              "8200               0.0                1.0               1.0   \n",
              "9752               2.0                0.0               0.0   \n",
              "\n",
              "                                                                                   context  \\\n",
              "397                                                                       campaign website   \n",
              "8747                                       a statement in the Times-Dispatch voters' guide   \n",
              "3537   a robocall from the Pink Slip Rick website, played on MSNBC's \"Rachel Maddow\" show.   \n",
              "6166                                                                       a press release   \n",
              "9928                                              in the Fox News Google debate in Orlando   \n",
              "9633                                                              a rally in Hershey, Pa.    \n",
              "7008                                           the audience at a joint session of Congress   \n",
              "8236                                              Atlantic, Iowa, during a campaign event.   \n",
              "678                                                             a television advertisement   \n",
              "7307                                                                               a TV ad   \n",
              "1192                   his speech at the state convention of the Republican Party of Texas   \n",
              "10129                                                                             a Web ad   \n",
              "3078                                              a speech to Pinellas County Republicans.   \n",
              "8200   an interview with Michelangelo Signorile on the Sirius satellite radio show “OutQ.”   \n",
              "9752                                                    a statement supporting Mitt Romney   \n",
              "\n",
              "                                                                                                                                                                                                                                                                                                                                                                                                                                                                                                             justification  \\\n",
              "397                                                       A third-party report showed that Oregon paid $39 million less in fees than its peers. But just because a peer group spent more than Oregon doesnt mean Oregon was ever at risk of spending that much. Moreover, a key reason for our lower-than-peer-average fees is that our private investments are older, a crop of decisions that have nothing to do with Wheeler. These are critical facts that would give a different impression of the savings statement.   \n",
              "8747                                                                                                                           The data comes from the department's annual statistical reports. The reports on the Revenue Department's Web site, however, only go back to 2000. The Revenue Department has reports that date to 1997 with annual low-income credit figures in its north DeKalb County offices. But Thurmond's website gives him some serious wiggle room by saying \"more than $250 million in tax relief.   \n",
              "3537                                                                                                                                                                                    Those in charge of overseeing New Hampshires elections and investigating election complaints said any instances of voter fraud in the state have historically been extremely rare. The most recent election was no exception, with no complaints of voter fraud filed in an election in which more than 728,000 ballots were cast.   \n",
              "6166                                                                                                                                                                                                                                                             She said, \"Atwater's bank was so weak that just a few months ago it was shut down by the FDIC. \"At the time, it wasn't Atwater's bank. It may have been his former bank, or best yet, it was a bank where he used to work as an executive vice president.   \n",
              "9928                                                                                  Our rating Tate declared that a Republican budget proposal \"would have Wisconsin have the weakest standards for who can be a teacher in the classroom in the country. \"If the proposal becomes law, Wisconsin apparently would become the only state not to have a bachelors degree as a minimum requirement for teaching some subjects, including health and foreign languages. But that applies only to sixth through 12th grades.   \n",
              "9633                                                                                                  But that designation in 1994 and earlier didnt stop the kind of \"cheating\" Romneys talking about. Meanwhile, the ad makes it sound as though Obama \"refused\" to take on China over unfair trade practices. The administration hasnt done as much as some on the right and left have demanded, but among other things it has filed seven trade cases with the WTO  with more coming  and engaged in diplomatic talks.   \n",
              "7008   Its not fully accurate for Crossroads to say Nelson took land that was receiving agricultural tax breaks and sold it for \"home development\" at a profit of $1. 4 million. For one, the land that earned the tax break -- a 55-acre pasture -- is still a pasture. He did not sell that land \"for home development. \"Nelson has sold two agricultural lots, but those sales do not total $1. 4 million. To get there, you have to factor in two more sales of residential lots adjoining the pasture. Those lots ...   \n",
              "8236   We realize that Reid was taking some linguistic liberties, and we agree that he has a point that the biggest culprit in the anemic job market is the situation with government jobs, not private-sector jobs. Still, at PolitiFact, we often say that words matter, and the notion that \"private-sector jobs have been doing fine\" is not at all \"very clear,\" to use Reids characterization. Current levels of job growth are, at best, treading water, and perhaps not even that. For the economy to gain stea...   \n",
              "678                                                                                                                                                                                                                                                                                                                                       But in fact, it is the highest example and the average of the others is considerably lower  just under $4 million. So HCAN has certainly cherry-picked the most dramatic number.   \n",
              "7307   In an ad targeted at New Hampshire voters, a super PAC supporting Bush said Kasich had \"the worst rating on spending of any governor in the country, Republican or Democrat. \"Right to Rise is accurately citing a portion of a study by the Cato Institute that looked at one measure of spending for 48 of Americas governors in 2014. But Kasich disputes the study itself, and correctly notes that there are other ways to measure state spending, and that a shifting of dollars from one part of the budg...   \n",
              "1192   Patrick said: \"We have a 40 to 50 percent dropout rate in our inner-city schools. \"Asked to back up his statement, Patrick failed to account for all the states inner-city high schools and the handful of schools he singled out had official 2012 dropout rates of 5 percent to 27 percent, far short of 40 percent or more. Click here for more on the six PolitiFact ratings and how we select facts to check. CORRECTION, July 28, 2014: This story has been amended to clarify that Lori Taylor is on an a...   \n",
              "10129  Republican Senate candidate Barry Hinckley said, \"30 percent of [Sheldon Whitehouse's campaign] money is coming from special interests. \"If Hinckley was referring exclusively to political action committees, we would rate his statement True. But \"special-interest group\" is a broader -- if ill-defined -- category that includes lots of individual donors. By one rough estimate the amount could be 84 percent. By an even rougher estimate it could be 72 percent. Hinckley's 30 percent figure is way ...   \n",
              "3078   Jackson says Obama \"is reducing our naval fleet to 1917 levels. \"Even if we give Jackson a break and start his comparison at the end of 1916 -- prior to the U. S.  entry into World War I -- his statement has significant problems. No doubt, our military is facing cuts from sequestration and, if the automatic reductions for defense and domestic programs continue, the Navy has said its number of active ships could fall to pre-World War I levels. But this has not been a solo act by the president...   \n",
              "8200                               Our ruling: Paul said, \"It cost us more to shut the government down than to keep it open. \"Numerous independent economic research groups found that the shutdown resulted in overall costs, in terms of lost revenue, hindered GDP growth, stalled private-sector activity and actual expenditures associated with the logistics of closing the government for two weeks. The government had to pay all of what it normally would have spent during that two-week period and then some.   \n",
              "9752                                                                                                                                                                                                        (He and his campaign later clarified that he did not mean to suggest the law had changed. )Oregon Revised Statutes, says systems development charges may be used only for \"capital improvement. \"That improvement \"does not include the costs of the operation or routine maintenance of capital improvements.   \n",
              "\n",
              "       binary_label  \n",
              "397           False  \n",
              "8747          False  \n",
              "3537          False  \n",
              "6166          False  \n",
              "9928          False  \n",
              "9633          False  \n",
              "7008          False  \n",
              "8236          False  \n",
              "678           False  \n",
              "7307          False  \n",
              "1192          False  \n",
              "10129         False  \n",
              "3078          False  \n",
              "8200          False  \n",
              "9752          False  "
            ],
            "text/html": [
              "\n",
              "  <div id=\"df-5b8d0569-93de-4d63-aa74-506a8129ec7c\" class=\"colab-df-container\">\n",
              "    <div>\n",
              "<style scoped>\n",
              "    .dataframe tbody tr th:only-of-type {\n",
              "        vertical-align: middle;\n",
              "    }\n",
              "\n",
              "    .dataframe tbody tr th {\n",
              "        vertical-align: top;\n",
              "    }\n",
              "\n",
              "    .dataframe thead th {\n",
              "        text-align: right;\n",
              "    }\n",
              "</style>\n",
              "<table border=\"1\" class=\"dataframe\">\n",
              "  <thead>\n",
              "    <tr style=\"text-align: right;\">\n",
              "      <th></th>\n",
              "      <th>id</th>\n",
              "      <th>statement_json</th>\n",
              "      <th>label</th>\n",
              "      <th>statement</th>\n",
              "      <th>subject</th>\n",
              "      <th>speaker</th>\n",
              "      <th>speaker_title</th>\n",
              "      <th>state_info</th>\n",
              "      <th>party_affiliation</th>\n",
              "      <th>barely_true_count</th>\n",
              "      <th>false_count</th>\n",
              "      <th>half_true_count</th>\n",
              "      <th>mostly_true_count</th>\n",
              "      <th>pants_fire_count</th>\n",
              "      <th>context</th>\n",
              "      <th>justification</th>\n",
              "      <th>binary_label</th>\n",
              "    </tr>\n",
              "  </thead>\n",
              "  <tbody>\n",
              "    <tr>\n",
              "      <th>397</th>\n",
              "      <td>397.0</td>\n",
              "      <td>5740.json</td>\n",
              "      <td>barely-true</td>\n",
              "      <td>Says the treasurers office has saved $37 million in management costs for the oversight of public investments.</td>\n",
              "      <td>government-efficiency</td>\n",
              "      <td>ted-wheeler</td>\n",
              "      <td>NaN</td>\n",
              "      <td>NaN</td>\n",
              "      <td>democrat</td>\n",
              "      <td>1.0</td>\n",
              "      <td>0.0</td>\n",
              "      <td>0.0</td>\n",
              "      <td>0.0</td>\n",
              "      <td>0.0</td>\n",
              "      <td>campaign website</td>\n",
              "      <td>A third-party report showed that Oregon paid $39 million less in fees than its peers. But just because a peer group spent more than Oregon doesnt mean Oregon was ever at risk of spending that much. Moreover, a key reason for our lower-than-peer-average fees is that our private investments are older, a crop of decisions that have nothing to do with Wheeler. These are critical facts that would give a different impression of the savings statement.</td>\n",
              "      <td>False</td>\n",
              "    </tr>\n",
              "    <tr>\n",
              "      <th>8747</th>\n",
              "      <td>8775.0</td>\n",
              "      <td>2768.json</td>\n",
              "      <td>false</td>\n",
              "      <td>If all of the [Bush-era] tax cuts expire on schedule, the budget will be close to being balanced in four years.</td>\n",
              "      <td>deficit,federal-budget,taxes</td>\n",
              "      <td>bobby-scott</td>\n",
              "      <td>U.S. Congressman</td>\n",
              "      <td>Virginia</td>\n",
              "      <td>democrat</td>\n",
              "      <td>1.0</td>\n",
              "      <td>2.0</td>\n",
              "      <td>1.0</td>\n",
              "      <td>5.0</td>\n",
              "      <td>0.0</td>\n",
              "      <td>a statement in the Times-Dispatch voters' guide</td>\n",
              "      <td>The data comes from the department's annual statistical reports. The reports on the Revenue Department's Web site, however, only go back to 2000. The Revenue Department has reports that date to 1997 with annual low-income credit figures in its north DeKalb County offices. But Thurmond's website gives him some serious wiggle room by saying \"more than $250 million in tax relief.</td>\n",
              "      <td>False</td>\n",
              "    </tr>\n",
              "    <tr>\n",
              "      <th>3537</th>\n",
              "      <td>3549.0</td>\n",
              "      <td>4322.json</td>\n",
              "      <td>false</td>\n",
              "      <td>Says Gov. Rick Scott is spending a quarter of a million of our tax dollars to robocall people.</td>\n",
              "      <td>state-budget</td>\n",
              "      <td>florida-voter</td>\n",
              "      <td>NaN</td>\n",
              "      <td>Florida</td>\n",
              "      <td>none</td>\n",
              "      <td>0.0</td>\n",
              "      <td>1.0</td>\n",
              "      <td>0.0</td>\n",
              "      <td>1.0</td>\n",
              "      <td>0.0</td>\n",
              "      <td>a robocall from the Pink Slip Rick website, played on MSNBC's \"Rachel Maddow\" show.</td>\n",
              "      <td>Those in charge of overseeing New Hampshires elections and investigating election complaints said any instances of voter fraud in the state have historically been extremely rare. The most recent election was no exception, with no complaints of voter fraud filed in an election in which more than 728,000 ballots were cast.</td>\n",
              "      <td>False</td>\n",
              "    </tr>\n",
              "    <tr>\n",
              "      <th>6166</th>\n",
              "      <td>6185.0</td>\n",
              "      <td>4075.json</td>\n",
              "      <td>false</td>\n",
              "      <td>Says legislative debate of airport pat-down procedures initiated federal changes in security procedures.</td>\n",
              "      <td>homeland-security,transportation</td>\n",
              "      <td>rick-perry</td>\n",
              "      <td>Governor</td>\n",
              "      <td>Texas</td>\n",
              "      <td>republican</td>\n",
              "      <td>30.0</td>\n",
              "      <td>30.0</td>\n",
              "      <td>42.0</td>\n",
              "      <td>23.0</td>\n",
              "      <td>18.0</td>\n",
              "      <td>a press release</td>\n",
              "      <td>She said, \"Atwater's bank was so weak that just a few months ago it was shut down by the FDIC. \"At the time, it wasn't Atwater's bank. It may have been his former bank, or best yet, it was a bank where he used to work as an executive vice president.</td>\n",
              "      <td>False</td>\n",
              "    </tr>\n",
              "    <tr>\n",
              "      <th>9928</th>\n",
              "      <td>9955.0</td>\n",
              "      <td>4494.json</td>\n",
              "      <td>pants-fire</td>\n",
              "      <td>The federal government has not engaged in (border security) at all.</td>\n",
              "      <td>immigration</td>\n",
              "      <td>rick-perry</td>\n",
              "      <td>Governor</td>\n",
              "      <td>Texas</td>\n",
              "      <td>republican</td>\n",
              "      <td>30.0</td>\n",
              "      <td>30.0</td>\n",
              "      <td>42.0</td>\n",
              "      <td>23.0</td>\n",
              "      <td>18.0</td>\n",
              "      <td>in the Fox News Google debate in Orlando</td>\n",
              "      <td>Our rating Tate declared that a Republican budget proposal \"would have Wisconsin have the weakest standards for who can be a teacher in the classroom in the country. \"If the proposal becomes law, Wisconsin apparently would become the only state not to have a bachelors degree as a minimum requirement for teaching some subjects, including health and foreign languages. But that applies only to sixth through 12th grades.</td>\n",
              "      <td>False</td>\n",
              "    </tr>\n",
              "    <tr>\n",
              "      <th>9633</th>\n",
              "      <td>9660.0</td>\n",
              "      <td>13442.json</td>\n",
              "      <td>pants-fire</td>\n",
              "      <td>Says that at a campaign rally President Barack Obama spent so much time screaming at a protester, and frankly it was a disgrace.</td>\n",
              "      <td>elections</td>\n",
              "      <td>donald-trump</td>\n",
              "      <td>President-Elect</td>\n",
              "      <td>New York</td>\n",
              "      <td>republican</td>\n",
              "      <td>63.0</td>\n",
              "      <td>114.0</td>\n",
              "      <td>51.0</td>\n",
              "      <td>37.0</td>\n",
              "      <td>61.0</td>\n",
              "      <td>a rally in Hershey, Pa.</td>\n",
              "      <td>But that designation in 1994 and earlier didnt stop the kind of \"cheating\" Romneys talking about. Meanwhile, the ad makes it sound as though Obama \"refused\" to take on China over unfair trade practices. The administration hasnt done as much as some on the right and left have demanded, but among other things it has filed seven trade cases with the WTO  with more coming  and engaged in diplomatic talks.</td>\n",
              "      <td>False</td>\n",
              "    </tr>\n",
              "    <tr>\n",
              "      <th>7008</th>\n",
              "      <td>7028.0</td>\n",
              "      <td>1181.json</td>\n",
              "      <td>false</td>\n",
              "      <td>You lie! (in response to President Obama saying health reform would not insure illegal immigrants.)</td>\n",
              "      <td>health-care,immigration</td>\n",
              "      <td>joe-wilson</td>\n",
              "      <td>Congressman</td>\n",
              "      <td>South Carolina</td>\n",
              "      <td>republican</td>\n",
              "      <td>0.0</td>\n",
              "      <td>1.0</td>\n",
              "      <td>0.0</td>\n",
              "      <td>0.0</td>\n",
              "      <td>0.0</td>\n",
              "      <td>the audience at a joint session of Congress</td>\n",
              "      <td>Its not fully accurate for Crossroads to say Nelson took land that was receiving agricultural tax breaks and sold it for \"home development\" at a profit of $1. 4 million. For one, the land that earned the tax break -- a 55-acre pasture -- is still a pasture. He did not sell that land \"for home development. \"Nelson has sold two agricultural lots, but those sales do not total $1. 4 million. To get there, you have to factor in two more sales of residential lots adjoining the pasture. Those lots ...</td>\n",
              "      <td>False</td>\n",
              "    </tr>\n",
              "    <tr>\n",
              "      <th>8236</th>\n",
              "      <td>8264.0</td>\n",
              "      <td>11600.json</td>\n",
              "      <td>false</td>\n",
              "      <td>Says President Barack Obama did not invite a Republican senator to dine at the White House until his fifth year in office.</td>\n",
              "      <td>bipartisanship</td>\n",
              "      <td>jeb-bush</td>\n",
              "      <td>NaN</td>\n",
              "      <td>Florida</td>\n",
              "      <td>republican</td>\n",
              "      <td>17.0</td>\n",
              "      <td>5.0</td>\n",
              "      <td>17.0</td>\n",
              "      <td>24.0</td>\n",
              "      <td>2.0</td>\n",
              "      <td>Atlantic, Iowa, during a campaign event.</td>\n",
              "      <td>We realize that Reid was taking some linguistic liberties, and we agree that he has a point that the biggest culprit in the anemic job market is the situation with government jobs, not private-sector jobs. Still, at PolitiFact, we often say that words matter, and the notion that \"private-sector jobs have been doing fine\" is not at all \"very clear,\" to use Reids characterization. Current levels of job growth are, at best, treading water, and perhaps not even that. For the economy to gain stea...</td>\n",
              "      <td>False</td>\n",
              "    </tr>\n",
              "    <tr>\n",
              "      <th>678</th>\n",
              "      <td>678.0</td>\n",
              "      <td>1191.json</td>\n",
              "      <td>barely-true</td>\n",
              "      <td>Health insurance companies pay CEOs $24 million a year</td>\n",
              "      <td>corporations,health-care</td>\n",
              "      <td>health-care-america-now</td>\n",
              "      <td>health care reform advocacy group</td>\n",
              "      <td>Washington, D.C.</td>\n",
              "      <td>none</td>\n",
              "      <td>2.0</td>\n",
              "      <td>1.0</td>\n",
              "      <td>0.0</td>\n",
              "      <td>0.0</td>\n",
              "      <td>0.0</td>\n",
              "      <td>a television advertisement</td>\n",
              "      <td>But in fact, it is the highest example and the average of the others is considerably lower  just under $4 million. So HCAN has certainly cherry-picked the most dramatic number.</td>\n",
              "      <td>False</td>\n",
              "    </tr>\n",
              "    <tr>\n",
              "      <th>7307</th>\n",
              "      <td>7327.0</td>\n",
              "      <td>6328.json</td>\n",
              "      <td>pants-fire</td>\n",
              "      <td>Says Mitt Romney backed a bill that outlaws all abortions, even in cases of rape and incest.</td>\n",
              "      <td>abortion,message-machine-2012</td>\n",
              "      <td>barack-obama</td>\n",
              "      <td>President</td>\n",
              "      <td>Illinois</td>\n",
              "      <td>democrat</td>\n",
              "      <td>70.0</td>\n",
              "      <td>71.0</td>\n",
              "      <td>160.0</td>\n",
              "      <td>163.0</td>\n",
              "      <td>9.0</td>\n",
              "      <td>a TV ad</td>\n",
              "      <td>In an ad targeted at New Hampshire voters, a super PAC supporting Bush said Kasich had \"the worst rating on spending of any governor in the country, Republican or Democrat. \"Right to Rise is accurately citing a portion of a study by the Cato Institute that looked at one measure of spending for 48 of Americas governors in 2014. But Kasich disputes the study itself, and correctly notes that there are other ways to measure state spending, and that a shifting of dollars from one part of the budg...</td>\n",
              "      <td>False</td>\n",
              "    </tr>\n",
              "    <tr>\n",
              "      <th>1192</th>\n",
              "      <td>1192.0</td>\n",
              "      <td>9659.json</td>\n",
              "      <td>false</td>\n",
              "      <td>We have a 40 to 50 percent dropout rate in our inner-city schools.</td>\n",
              "      <td>corrections-and-updates,education</td>\n",
              "      <td>dan-patrick</td>\n",
              "      <td>Lieutenant governor-elect</td>\n",
              "      <td>Texas</td>\n",
              "      <td>republican</td>\n",
              "      <td>4.0</td>\n",
              "      <td>4.0</td>\n",
              "      <td>3.0</td>\n",
              "      <td>4.0</td>\n",
              "      <td>4.0</td>\n",
              "      <td>his speech at the state convention of the Republican Party of Texas</td>\n",
              "      <td>Patrick said: \"We have a 40 to 50 percent dropout rate in our inner-city schools. \"Asked to back up his statement, Patrick failed to account for all the states inner-city high schools and the handful of schools he singled out had official 2012 dropout rates of 5 percent to 27 percent, far short of 40 percent or more. Click here for more on the six PolitiFact ratings and how we select facts to check. CORRECTION, July 28, 2014: This story has been amended to clarify that Lori Taylor is on an a...</td>\n",
              "      <td>False</td>\n",
              "    </tr>\n",
              "    <tr>\n",
              "      <th>10129</th>\n",
              "      <td>10156.0</td>\n",
              "      <td>7835.json</td>\n",
              "      <td>barely-true</td>\n",
              "      <td>Two weeks after signing a taxpayer protection pledge, (Charlie Crist) breaks it.</td>\n",
              "      <td>public-health,state-budget,taxes</td>\n",
              "      <td>republican-party-florida</td>\n",
              "      <td>NaN</td>\n",
              "      <td>NaN</td>\n",
              "      <td>republican</td>\n",
              "      <td>10.0</td>\n",
              "      <td>6.0</td>\n",
              "      <td>6.0</td>\n",
              "      <td>6.0</td>\n",
              "      <td>4.0</td>\n",
              "      <td>a Web ad</td>\n",
              "      <td>Republican Senate candidate Barry Hinckley said, \"30 percent of [Sheldon Whitehouse's campaign] money is coming from special interests. \"If Hinckley was referring exclusively to political action committees, we would rate his statement True. But \"special-interest group\" is a broader -- if ill-defined -- category that includes lots of individual donors. By one rough estimate the amount could be 84 percent. By an even rougher estimate it could be 72 percent. Hinckley's 30 percent figure is way ...</td>\n",
              "      <td>False</td>\n",
              "    </tr>\n",
              "    <tr>\n",
              "      <th>3078</th>\n",
              "      <td>3090.0</td>\n",
              "      <td>1513.json</td>\n",
              "      <td>pants-fire</td>\n",
              "      <td>The Democratic health care plan is a \"government takeover of our health programs.\"</td>\n",
              "      <td>health-care</td>\n",
              "      <td>cw-bill-young</td>\n",
              "      <td>U.S. Representative, Florida District 10</td>\n",
              "      <td>Florida</td>\n",
              "      <td>republican</td>\n",
              "      <td>0.0</td>\n",
              "      <td>1.0</td>\n",
              "      <td>1.0</td>\n",
              "      <td>0.0</td>\n",
              "      <td>1.0</td>\n",
              "      <td>a speech to Pinellas County Republicans.</td>\n",
              "      <td>Jackson says Obama \"is reducing our naval fleet to 1917 levels. \"Even if we give Jackson a break and start his comparison at the end of 1916 -- prior to the U. S.  entry into World War I -- his statement has significant problems. No doubt, our military is facing cuts from sequestration and, if the automatic reductions for defense and domestic programs continue, the Navy has said its number of active ships could fall to pre-World War I levels. But this has not been a solo act by the president...</td>\n",
              "      <td>False</td>\n",
              "    </tr>\n",
              "    <tr>\n",
              "      <th>8200</th>\n",
              "      <td>8228.0</td>\n",
              "      <td>5290.json</td>\n",
              "      <td>pants-fire</td>\n",
              "      <td>AIDS was transmitted to humans because one guy had sex with a monkey and then started having sex with men.</td>\n",
              "      <td>education,gays-and-lesbians,health-care,history,public-health,sexuality</td>\n",
              "      <td>stacey-campfield</td>\n",
              "      <td>State Senator</td>\n",
              "      <td>Tennessee</td>\n",
              "      <td>republican</td>\n",
              "      <td>0.0</td>\n",
              "      <td>1.0</td>\n",
              "      <td>0.0</td>\n",
              "      <td>1.0</td>\n",
              "      <td>1.0</td>\n",
              "      <td>an interview with Michelangelo Signorile on the Sirius satellite radio show “OutQ.”</td>\n",
              "      <td>Our ruling: Paul said, \"It cost us more to shut the government down than to keep it open. \"Numerous independent economic research groups found that the shutdown resulted in overall costs, in terms of lost revenue, hindered GDP growth, stalled private-sector activity and actual expenditures associated with the logistics of closing the government for two weeks. The government had to pay all of what it normally would have spent during that two-week period and then some.</td>\n",
              "      <td>False</td>\n",
              "    </tr>\n",
              "    <tr>\n",
              "      <th>9752</th>\n",
              "      <td>9779.0</td>\n",
              "      <td>5822.json</td>\n",
              "      <td>barely-true</td>\n",
              "      <td>Some 20,000 Delphi salaried retirees lost up to 70 percent of their pensions as a result of political favoritism and backroom deals.</td>\n",
              "      <td>corporations,economy</td>\n",
              "      <td>michael-turner</td>\n",
              "      <td>Representative from Ohio's 3rd Congressional District</td>\n",
              "      <td>Ohio</td>\n",
              "      <td>republican</td>\n",
              "      <td>1.0</td>\n",
              "      <td>0.0</td>\n",
              "      <td>2.0</td>\n",
              "      <td>0.0</td>\n",
              "      <td>0.0</td>\n",
              "      <td>a statement supporting Mitt Romney</td>\n",
              "      <td>(He and his campaign later clarified that he did not mean to suggest the law had changed. )Oregon Revised Statutes, says systems development charges may be used only for \"capital improvement. \"That improvement \"does not include the costs of the operation or routine maintenance of capital improvements.</td>\n",
              "      <td>False</td>\n",
              "    </tr>\n",
              "  </tbody>\n",
              "</table>\n",
              "</div>\n",
              "    <div class=\"colab-df-buttons\">\n",
              "\n",
              "  <div class=\"colab-df-container\">\n",
              "    <button class=\"colab-df-convert\" onclick=\"convertToInteractive('df-5b8d0569-93de-4d63-aa74-506a8129ec7c')\"\n",
              "            title=\"Convert this dataframe to an interactive table.\"\n",
              "            style=\"display:none;\">\n",
              "\n",
              "  <svg xmlns=\"http://www.w3.org/2000/svg\" height=\"24px\" viewBox=\"0 -960 960 960\">\n",
              "    <path d=\"M120-120v-720h720v720H120Zm60-500h600v-160H180v160Zm220 220h160v-160H400v160Zm0 220h160v-160H400v160ZM180-400h160v-160H180v160Zm440 0h160v-160H620v160ZM180-180h160v-160H180v160Zm440 0h160v-160H620v160Z\"/>\n",
              "  </svg>\n",
              "    </button>\n",
              "\n",
              "  <style>\n",
              "    .colab-df-container {\n",
              "      display:flex;\n",
              "      gap: 12px;\n",
              "    }\n",
              "\n",
              "    .colab-df-convert {\n",
              "      background-color: #E8F0FE;\n",
              "      border: none;\n",
              "      border-radius: 50%;\n",
              "      cursor: pointer;\n",
              "      display: none;\n",
              "      fill: #1967D2;\n",
              "      height: 32px;\n",
              "      padding: 0 0 0 0;\n",
              "      width: 32px;\n",
              "    }\n",
              "\n",
              "    .colab-df-convert:hover {\n",
              "      background-color: #E2EBFA;\n",
              "      box-shadow: 0px 1px 2px rgba(60, 64, 67, 0.3), 0px 1px 3px 1px rgba(60, 64, 67, 0.15);\n",
              "      fill: #174EA6;\n",
              "    }\n",
              "\n",
              "    .colab-df-buttons div {\n",
              "      margin-bottom: 4px;\n",
              "    }\n",
              "\n",
              "    [theme=dark] .colab-df-convert {\n",
              "      background-color: #3B4455;\n",
              "      fill: #D2E3FC;\n",
              "    }\n",
              "\n",
              "    [theme=dark] .colab-df-convert:hover {\n",
              "      background-color: #434B5C;\n",
              "      box-shadow: 0px 1px 3px 1px rgba(0, 0, 0, 0.15);\n",
              "      filter: drop-shadow(0px 1px 2px rgba(0, 0, 0, 0.3));\n",
              "      fill: #FFFFFF;\n",
              "    }\n",
              "  </style>\n",
              "\n",
              "    <script>\n",
              "      const buttonEl =\n",
              "        document.querySelector('#df-5b8d0569-93de-4d63-aa74-506a8129ec7c button.colab-df-convert');\n",
              "      buttonEl.style.display =\n",
              "        google.colab.kernel.accessAllowed ? 'block' : 'none';\n",
              "\n",
              "      async function convertToInteractive(key) {\n",
              "        const element = document.querySelector('#df-5b8d0569-93de-4d63-aa74-506a8129ec7c');\n",
              "        const dataTable =\n",
              "          await google.colab.kernel.invokeFunction('convertToInteractive',\n",
              "                                                    [key], {});\n",
              "        if (!dataTable) return;\n",
              "\n",
              "        const docLinkHtml = 'Like what you see? Visit the ' +\n",
              "          '<a target=\"_blank\" href=https://colab.research.google.com/notebooks/data_table.ipynb>data table notebook</a>'\n",
              "          + ' to learn more about interactive tables.';\n",
              "        element.innerHTML = '';\n",
              "        dataTable['output_type'] = 'display_data';\n",
              "        await google.colab.output.renderOutput(dataTable, element);\n",
              "        const docLink = document.createElement('div');\n",
              "        docLink.innerHTML = docLinkHtml;\n",
              "        element.appendChild(docLink);\n",
              "      }\n",
              "    </script>\n",
              "  </div>\n",
              "\n",
              "\n",
              "<div id=\"df-4f1d6673-f0da-4eff-9bee-22dc60928e51\">\n",
              "  <button class=\"colab-df-quickchart\" onclick=\"quickchart('df-4f1d6673-f0da-4eff-9bee-22dc60928e51')\"\n",
              "            title=\"Suggest charts\"\n",
              "            style=\"display:none;\">\n",
              "\n",
              "<svg xmlns=\"http://www.w3.org/2000/svg\" height=\"24px\"viewBox=\"0 0 24 24\"\n",
              "     width=\"24px\">\n",
              "    <g>\n",
              "        <path d=\"M19 3H5c-1.1 0-2 .9-2 2v14c0 1.1.9 2 2 2h14c1.1 0 2-.9 2-2V5c0-1.1-.9-2-2-2zM9 17H7v-7h2v7zm4 0h-2V7h2v10zm4 0h-2v-4h2v4z\"/>\n",
              "    </g>\n",
              "</svg>\n",
              "  </button>\n",
              "\n",
              "<style>\n",
              "  .colab-df-quickchart {\n",
              "      --bg-color: #E8F0FE;\n",
              "      --fill-color: #1967D2;\n",
              "      --hover-bg-color: #E2EBFA;\n",
              "      --hover-fill-color: #174EA6;\n",
              "      --disabled-fill-color: #AAA;\n",
              "      --disabled-bg-color: #DDD;\n",
              "  }\n",
              "\n",
              "  [theme=dark] .colab-df-quickchart {\n",
              "      --bg-color: #3B4455;\n",
              "      --fill-color: #D2E3FC;\n",
              "      --hover-bg-color: #434B5C;\n",
              "      --hover-fill-color: #FFFFFF;\n",
              "      --disabled-bg-color: #3B4455;\n",
              "      --disabled-fill-color: #666;\n",
              "  }\n",
              "\n",
              "  .colab-df-quickchart {\n",
              "    background-color: var(--bg-color);\n",
              "    border: none;\n",
              "    border-radius: 50%;\n",
              "    cursor: pointer;\n",
              "    display: none;\n",
              "    fill: var(--fill-color);\n",
              "    height: 32px;\n",
              "    padding: 0;\n",
              "    width: 32px;\n",
              "  }\n",
              "\n",
              "  .colab-df-quickchart:hover {\n",
              "    background-color: var(--hover-bg-color);\n",
              "    box-shadow: 0 1px 2px rgba(60, 64, 67, 0.3), 0 1px 3px 1px rgba(60, 64, 67, 0.15);\n",
              "    fill: var(--button-hover-fill-color);\n",
              "  }\n",
              "\n",
              "  .colab-df-quickchart-complete:disabled,\n",
              "  .colab-df-quickchart-complete:disabled:hover {\n",
              "    background-color: var(--disabled-bg-color);\n",
              "    fill: var(--disabled-fill-color);\n",
              "    box-shadow: none;\n",
              "  }\n",
              "\n",
              "  .colab-df-spinner {\n",
              "    border: 2px solid var(--fill-color);\n",
              "    border-color: transparent;\n",
              "    border-bottom-color: var(--fill-color);\n",
              "    animation:\n",
              "      spin 1s steps(1) infinite;\n",
              "  }\n",
              "\n",
              "  @keyframes spin {\n",
              "    0% {\n",
              "      border-color: transparent;\n",
              "      border-bottom-color: var(--fill-color);\n",
              "      border-left-color: var(--fill-color);\n",
              "    }\n",
              "    20% {\n",
              "      border-color: transparent;\n",
              "      border-left-color: var(--fill-color);\n",
              "      border-top-color: var(--fill-color);\n",
              "    }\n",
              "    30% {\n",
              "      border-color: transparent;\n",
              "      border-left-color: var(--fill-color);\n",
              "      border-top-color: var(--fill-color);\n",
              "      border-right-color: var(--fill-color);\n",
              "    }\n",
              "    40% {\n",
              "      border-color: transparent;\n",
              "      border-right-color: var(--fill-color);\n",
              "      border-top-color: var(--fill-color);\n",
              "    }\n",
              "    60% {\n",
              "      border-color: transparent;\n",
              "      border-right-color: var(--fill-color);\n",
              "    }\n",
              "    80% {\n",
              "      border-color: transparent;\n",
              "      border-right-color: var(--fill-color);\n",
              "      border-bottom-color: var(--fill-color);\n",
              "    }\n",
              "    90% {\n",
              "      border-color: transparent;\n",
              "      border-bottom-color: var(--fill-color);\n",
              "    }\n",
              "  }\n",
              "</style>\n",
              "\n",
              "  <script>\n",
              "    async function quickchart(key) {\n",
              "      const quickchartButtonEl =\n",
              "        document.querySelector('#' + key + ' button');\n",
              "      quickchartButtonEl.disabled = true;  // To prevent multiple clicks.\n",
              "      quickchartButtonEl.classList.add('colab-df-spinner');\n",
              "      try {\n",
              "        const charts = await google.colab.kernel.invokeFunction(\n",
              "            'suggestCharts', [key], {});\n",
              "      } catch (error) {\n",
              "        console.error('Error during call to suggestCharts:', error);\n",
              "      }\n",
              "      quickchartButtonEl.classList.remove('colab-df-spinner');\n",
              "      quickchartButtonEl.classList.add('colab-df-quickchart-complete');\n",
              "    }\n",
              "    (() => {\n",
              "      let quickchartButtonEl =\n",
              "        document.querySelector('#df-4f1d6673-f0da-4eff-9bee-22dc60928e51 button');\n",
              "      quickchartButtonEl.style.display =\n",
              "        google.colab.kernel.accessAllowed ? 'block' : 'none';\n",
              "    })();\n",
              "  </script>\n",
              "</div>\n",
              "\n",
              "    </div>\n",
              "  </div>\n"
            ],
            "application/vnd.google.colaboratory.intrinsic+json": {
              "type": "dataframe",
              "summary": "{\n  \"name\": \"false_ex\",\n  \"rows\": 15,\n  \"fields\": [\n    {\n      \"column\": \"id\",\n      \"properties\": {\n        \"dtype\": \"number\",\n        \"std\": 3559.0042588181477,\n        \"min\": 397.0,\n        \"max\": 10156.0,\n        \"num_unique_values\": 15,\n        \"samples\": [\n          7327.0,\n          10156.0,\n          397.0\n        ],\n        \"semantic_type\": \"\",\n        \"description\": \"\"\n      }\n    },\n    {\n      \"column\": \"statement_json\",\n      \"properties\": {\n        \"dtype\": \"string\",\n        \"num_unique_values\": 15,\n        \"samples\": [\n          \"6328.json\",\n          \"7835.json\",\n          \"5740.json\"\n        ],\n        \"semantic_type\": \"\",\n        \"description\": \"\"\n      }\n    },\n    {\n      \"column\": \"label\",\n      \"properties\": {\n        \"dtype\": \"category\",\n        \"num_unique_values\": 3,\n        \"samples\": [\n          \"barely-true\",\n          \"false\",\n          \"pants-fire\"\n        ],\n        \"semantic_type\": \"\",\n        \"description\": \"\"\n      }\n    },\n    {\n      \"column\": \"statement\",\n      \"properties\": {\n        \"dtype\": \"string\",\n        \"num_unique_values\": 15,\n        \"samples\": [\n          \"Says Mitt Romney backed a bill that outlaws all abortions, even in cases of rape and incest.\",\n          \"Two weeks after signing a taxpayer protection pledge, (Charlie Crist) breaks it.\",\n          \"Says the treasurers office has saved $37 million in management costs for the oversight of public investments.\"\n        ],\n        \"semantic_type\": \"\",\n        \"description\": \"\"\n      }\n    },\n    {\n      \"column\": \"subject\",\n      \"properties\": {\n        \"dtype\": \"string\",\n        \"num_unique_values\": 15,\n        \"samples\": [\n          \"abortion,message-machine-2012\",\n          \"public-health,state-budget,taxes\",\n          \"government-efficiency\"\n        ],\n        \"semantic_type\": \"\",\n        \"description\": \"\"\n      }\n    },\n    {\n      \"column\": \"speaker\",\n      \"properties\": {\n        \"dtype\": \"string\",\n        \"num_unique_values\": 14,\n        \"samples\": [\n          \"dan-patrick\",\n          \"cw-bill-young\",\n          \"ted-wheeler\"\n        ],\n        \"semantic_type\": \"\",\n        \"description\": \"\"\n      }\n    },\n    {\n      \"column\": \"speaker_title\",\n      \"properties\": {\n        \"dtype\": \"string\",\n        \"num_unique_values\": 10,\n        \"samples\": [\n          \"State Senator\",\n          \"Governor\",\n          \"President\"\n        ],\n        \"semantic_type\": \"\",\n        \"description\": \"\"\n      }\n    },\n    {\n      \"column\": \"state_info\",\n      \"properties\": {\n        \"dtype\": \"string\",\n        \"num_unique_values\": 9,\n        \"samples\": [\n          \"Tennessee\",\n          \"Florida\",\n          \"Washington, D.C.\"\n        ],\n        \"semantic_type\": \"\",\n        \"description\": \"\"\n      }\n    },\n    {\n      \"column\": \"party_affiliation\",\n      \"properties\": {\n        \"dtype\": \"category\",\n        \"num_unique_values\": 3,\n        \"samples\": [\n          \"democrat\",\n          \"none\",\n          \"republican\"\n        ],\n        \"semantic_type\": \"\",\n        \"description\": \"\"\n      }\n    },\n    {\n      \"column\": \"barely_true_count\",\n      \"properties\": {\n        \"dtype\": \"number\",\n        \"std\": 23.276188527784193,\n        \"min\": 0.0,\n        \"max\": 70.0,\n        \"num_unique_values\": 9,\n        \"samples\": [\n          4.0,\n          0.0,\n          2.0\n        ],\n        \"semantic_type\": \"\",\n        \"description\": \"\"\n      }\n    },\n    {\n      \"column\": \"false_count\",\n      \"properties\": {\n        \"dtype\": \"number\",\n        \"std\": 32.918080138428486,\n        \"min\": 0.0,\n        \"max\": 114.0,\n        \"num_unique_values\": 9,\n        \"samples\": [\n          4.0,\n          2.0,\n          5.0\n        ],\n        \"semantic_type\": \"\",\n        \"description\": \"\"\n      }\n    },\n    {\n      \"column\": \"half_true_count\",\n      \"properties\": {\n        \"dtype\": \"number\",\n        \"std\": 42.28080730859649,\n        \"min\": 0.0,\n        \"max\": 160.0,\n        \"num_unique_values\": 9,\n        \"samples\": [\n          6.0,\n          1.0,\n          160.0\n        ],\n        \"semantic_type\": \"\",\n        \"description\": \"\"\n      }\n    },\n    {\n      \"column\": \"mostly_true_count\",\n      \"properties\": {\n        \"dtype\": \"number\",\n        \"std\": 41.54148815455747,\n        \"min\": 0.0,\n        \"max\": 163.0,\n        \"num_unique_values\": 9,\n        \"samples\": [\n          4.0,\n          5.0,\n          24.0\n        ],\n        \"semantic_type\": \"\",\n        \"description\": \"\"\n      }\n    },\n    {\n      \"column\": \"pants_fire_count\",\n      \"properties\": {\n        \"dtype\": \"number\",\n        \"std\": 15.945741333242136,\n        \"min\": 0.0,\n        \"max\": 61.0,\n        \"num_unique_values\": 7,\n        \"samples\": [\n          0.0,\n          18.0,\n          4.0\n        ],\n        \"semantic_type\": \"\",\n        \"description\": \"\"\n      }\n    },\n    {\n      \"column\": \"context\",\n      \"properties\": {\n        \"dtype\": \"string\",\n        \"num_unique_values\": 15,\n        \"samples\": [\n          \"a TV ad\",\n          \"a Web ad\",\n          \"campaign website\"\n        ],\n        \"semantic_type\": \"\",\n        \"description\": \"\"\n      }\n    },\n    {\n      \"column\": \"justification\",\n      \"properties\": {\n        \"dtype\": \"string\",\n        \"num_unique_values\": 15,\n        \"samples\": [\n          \"In an ad targeted at New Hampshire voters, a super PAC supporting Bush said Kasich had \\\"the worst rating on spending of any governor in the country, Republican or Democrat. \\\"Right to Rise is accurately citing a portion of a study by the Cato Institute that looked at one measure of spending for 48 of Americas governors in 2014. But Kasich disputes the study itself, and correctly notes that there are other ways to measure state spending, and that a shifting of dollars from one part of the budget to another affected the results. What to make of it all?This reminds us of some previous attempts to look at the spending records of governors running for president. And like in those cases, the result here might be a tad unsatisfying for people seeking clarity. Cato, in our judgment, did nothing to unfairly target Kasich. Yet, there is more to Ohios particular budget story that may leave viewers with a different impression.\",\n          \"Republican Senate candidate Barry Hinckley said, \\\"30 percent of [Sheldon Whitehouse's campaign] money is coming from special interests. \\\"If Hinckley was referring exclusively to political action committees, we would rate his statement True. But \\\"special-interest group\\\" is a broader -- if ill-defined -- category that includes lots of individual donors. By one rough estimate the amount could be 84 percent. By an even rougher estimate it could be 72 percent. Hinckley's 30 percent figure is way off the mark, which makes him ineligible for a True reading on the Truth-O-Meter. But our judges felt that, in this case, the data back up his point that Whitehouse is getting a significant amount of money from special interests. We will note, for the record, that while Hinckley is saying he has only gotten 1 percent of his money from special interests, the fact that 78 percent of his funds come from larger donors (not much different from Whitehouse's 84 percent) argues otherwise. A list of his donors by industry, we suspect, would also show a significant special-interest pattern, based on how Hinckley's campaign is defining special-interest money. However, OpenSecrets has not complied that list for Hinckley's donors because it doesn't have the resources to do every challenger, according to the organization. (Get updates from PolitiFact Rhode Island on Twitter: @politifactri.\",\n          \"A third-party report showed that Oregon paid $39 million less in fees than its peers. But just because a peer group spent more than Oregon doesnt mean Oregon was ever at risk of spending that much. Moreover, a key reason for our lower-than-peer-average fees is that our private investments are older, a crop of decisions that have nothing to do with Wheeler. These are critical facts that would give a different impression of the savings statement.\"\n        ],\n        \"semantic_type\": \"\",\n        \"description\": \"\"\n      }\n    },\n    {\n      \"column\": \"binary_label\",\n      \"properties\": {\n        \"dtype\": \"boolean\",\n        \"num_unique_values\": 1,\n        \"samples\": [\n          false\n        ],\n        \"semantic_type\": \"\",\n        \"description\": \"\"\n      }\n    }\n  ]\n}"
            }
          },
          "metadata": {},
          "execution_count": 107
        }
      ]
    },
    {
      "cell_type": "markdown",
      "source": [
        "***strip all the leading and trailing whitespaces of the specific colunn with str.strip()***"
      ],
      "metadata": {
        "id": "9aUSFkazhgwd"
      }
    },
    {
      "cell_type": "code",
      "source": [
        "stripped = false_ex.state_info.copy().str.strip()\n",
        "false_ex.loc[:, \"state_info\"] = stripped\n",
        "\n",
        "stripped = true_ex.state_info.copy().str.strip()\n",
        "true_ex.loc[:, \"state_info\"] = stripped"
      ],
      "metadata": {
        "id": "vhh4ufS-U-k1"
      },
      "execution_count": null,
      "outputs": []
    },
    {
      "cell_type": "code",
      "source": [
        "# Clean up the variants of state info\n",
        "CANONICAL_TO_VARIANTS = {\n",
        "    \"Tennessee\": {\"Tennessee\", \"Tennesse\"},\n",
        "    \"Washington D.C.\": {\"District of Columbia\", \"Washington D.C.\", \"Washington, D.C.\", \"Washington DC\"},\n",
        "    \"Texas\": {\"Tex\", \"Texas\"},\n",
        "    \"Washington\": {\"Washington\", \"Washington state\"},\n",
        "    \"Virginia\": {\"Virginia\", \"Virgina\", \"Virgiia\"},\n",
        "    \"Pennsylvania\": {\"Pennsylvania\", \"PA - Pennsylvania\"},\n",
        "    \"Rhode Island\": {\"Rhode Island\", \"Rhode island\"},\n",
        "    \"Ohio\": {\"Ohio\", \"ohio\"}\n",
        "}"
      ],
      "metadata": {
        "id": "9LHaOSjdeKvf"
      },
      "execution_count": null,
      "outputs": []
    },
    {
      "cell_type": "code",
      "source": [
        "def get_variant_to_canonical(can_to_var: Dict):\n",
        "    variant_to_canonical = {}\n",
        "    for canonical, variant in can_to_var.items():\n",
        "      for var in variant:\n",
        "        variant_to_canonical[var] = canonical\n",
        "    return variant_to_canonical\n",
        "\n",
        "variant_to_canonical = get_variant_to_canonical(CANONICAL_TO_VARIANTS)"
      ],
      "metadata": {
        "id": "YQkDE4gQniQV"
      },
      "execution_count": null,
      "outputs": []
    },
    {
      "cell_type": "markdown",
      "source": [
        "***lambda x is itself a one-line function that takes parameter x as argument. whatever is on RHS of : is its inside here another function***"
      ],
      "metadata": {
        "id": "2EuUKxZqqhIz"
      }
    },
    {
      "cell_type": "code",
      "source": [
        "def clean_variant(state_info, variant_to_canonical):\n",
        "  if state_info in variant_to_canonical.keys():\n",
        "    return variant_to_canonical[state_info]\n",
        "  return state_info\n",
        "\n",
        "true_ex.loc[:, \"state_info\"] = true_ex.state_info.apply(lambda x: clean_variant(x, variant_to_canonical))\n",
        "false_ex.loc[:, \"state_info\"] = false_ex.state_info.apply(lambda x: clean_variant(x, variant_to_canonical))"
      ],
      "metadata": {
        "id": "pjEKRAfwoMvx"
      },
      "execution_count": null,
      "outputs": []
    },
    {
      "cell_type": "code",
      "source": [
        "state_true_counts = true_ex.state_info.value_counts()\n",
        "px.bar(state_true_counts, x=state_true_counts.index, y=state_true_counts.values, labels={\"index\": \"state\", \"y\": \"counts\"}, title=\"True Statement State Distribution\")"
      ],
      "metadata": {
        "colab": {
          "base_uri": "https://localhost:8080/",
          "height": 542
        },
        "id": "l34NTfB1qc1O",
        "outputId": "5da4824d-0014-483f-e2c4-375146c50713"
      },
      "execution_count": null,
      "outputs": [
        {
          "output_type": "display_data",
          "data": {
            "text/html": [
              "<html>\n",
              "<head><meta charset=\"utf-8\" /></head>\n",
              "<body>\n",
              "    <div>            <script src=\"https://cdnjs.cloudflare.com/ajax/libs/mathjax/2.7.5/MathJax.js?config=TeX-AMS-MML_SVG\"></script><script type=\"text/javascript\">if (window.MathJax && window.MathJax.Hub && window.MathJax.Hub.Config) {window.MathJax.Hub.Config({SVG: {font: \"STIX-Web\"}});}</script>                <script type=\"text/javascript\">window.PlotlyConfig = {MathJaxConfig: 'local'};</script>\n",
              "        <script charset=\"utf-8\" src=\"https://cdn.plot.ly/plotly-2.24.1.min.js\"></script>                <div id=\"858cfac8-a1fc-4134-bd57-0187eb73ea85\" class=\"plotly-graph-div\" style=\"height:525px; width:100%;\"></div>            <script type=\"text/javascript\">                                    window.PLOTLYENV=window.PLOTLYENV || {};                                    if (document.getElementById(\"858cfac8-a1fc-4134-bd57-0187eb73ea85\")) {                    Plotly.newPlot(                        \"858cfac8-a1fc-4134-bd57-0187eb73ea85\",                        [{\"alignmentgroup\":\"True\",\"hovertemplate\":\"state_info=%{x}\\u003cbr\\u003ecounts=%{y}\\u003cextra\\u003e\\u003c\\u002fextra\\u003e\",\"legendgroup\":\"\",\"marker\":{\"color\":\"#636efa\",\"pattern\":{\"shape\":\"\"}},\"name\":\"\",\"offsetgroup\":\"\",\"orientation\":\"v\",\"showlegend\":false,\"textposition\":\"auto\",\"x\":[\"Florida\",\"Texas\",\"Illinois\",\"Wisconsin\",\"New York\",\"Ohio\",\"Georgia\",\"Virginia\",\"Rhode Island\",\"Oregon\",\"New Jersey\",\"Massachusetts\",\"Arizona\",\"California\",\"Washington D.C.\",\"Vermont\",\"Arkansas\",\"New Hampshire\",\"Maryland\",\"Delaware\",\"Kentucky\",\"Pennsylvania\",\"North Carolina\",\"Tennessee\",\"Alaska\",\"Nevada\",\"New Mexico\",\"Missouri\",\"Louisiana\",\"Indiana\",\"Minnesota\",\"Connecticut\",\"Utah\",\"Michigan\",\"South Carolina\",\"Colorado\",\"Washington\",\"Oklahoma\",\"Kansas\",\"Iowa\",\"Alabama\",\"West Virginia\",\"Wyoming\",\"Nebraska\",\"Unknown\",\"South Dakota\",\"North Dakota\",\"Idaho\",\"Maine\",\"Virginia director, Coalition to Stop Gun Violence\",\"Hawaii\",\"Atlanta\"],\"xaxis\":\"x\",\"y\":[601,541,398,364,328,302,274,229,217,151,150,128,107,102,80,69,52,49,46,43,43,42,39,37,30,23,21,21,18,17,16,16,13,13,12,10,10,9,9,7,6,3,3,2,2,2,2,1,1,1,1,1],\"yaxis\":\"y\",\"type\":\"bar\"}],                        {\"template\":{\"data\":{\"histogram2dcontour\":[{\"type\":\"histogram2dcontour\",\"colorbar\":{\"outlinewidth\":0,\"ticks\":\"\"},\"colorscale\":[[0.0,\"#0d0887\"],[0.1111111111111111,\"#46039f\"],[0.2222222222222222,\"#7201a8\"],[0.3333333333333333,\"#9c179e\"],[0.4444444444444444,\"#bd3786\"],[0.5555555555555556,\"#d8576b\"],[0.6666666666666666,\"#ed7953\"],[0.7777777777777778,\"#fb9f3a\"],[0.8888888888888888,\"#fdca26\"],[1.0,\"#f0f921\"]]}],\"choropleth\":[{\"type\":\"choropleth\",\"colorbar\":{\"outlinewidth\":0,\"ticks\":\"\"}}],\"histogram2d\":[{\"type\":\"histogram2d\",\"colorbar\":{\"outlinewidth\":0,\"ticks\":\"\"},\"colorscale\":[[0.0,\"#0d0887\"],[0.1111111111111111,\"#46039f\"],[0.2222222222222222,\"#7201a8\"],[0.3333333333333333,\"#9c179e\"],[0.4444444444444444,\"#bd3786\"],[0.5555555555555556,\"#d8576b\"],[0.6666666666666666,\"#ed7953\"],[0.7777777777777778,\"#fb9f3a\"],[0.8888888888888888,\"#fdca26\"],[1.0,\"#f0f921\"]]}],\"heatmap\":[{\"type\":\"heatmap\",\"colorbar\":{\"outlinewidth\":0,\"ticks\":\"\"},\"colorscale\":[[0.0,\"#0d0887\"],[0.1111111111111111,\"#46039f\"],[0.2222222222222222,\"#7201a8\"],[0.3333333333333333,\"#9c179e\"],[0.4444444444444444,\"#bd3786\"],[0.5555555555555556,\"#d8576b\"],[0.6666666666666666,\"#ed7953\"],[0.7777777777777778,\"#fb9f3a\"],[0.8888888888888888,\"#fdca26\"],[1.0,\"#f0f921\"]]}],\"heatmapgl\":[{\"type\":\"heatmapgl\",\"colorbar\":{\"outlinewidth\":0,\"ticks\":\"\"},\"colorscale\":[[0.0,\"#0d0887\"],[0.1111111111111111,\"#46039f\"],[0.2222222222222222,\"#7201a8\"],[0.3333333333333333,\"#9c179e\"],[0.4444444444444444,\"#bd3786\"],[0.5555555555555556,\"#d8576b\"],[0.6666666666666666,\"#ed7953\"],[0.7777777777777778,\"#fb9f3a\"],[0.8888888888888888,\"#fdca26\"],[1.0,\"#f0f921\"]]}],\"contourcarpet\":[{\"type\":\"contourcarpet\",\"colorbar\":{\"outlinewidth\":0,\"ticks\":\"\"}}],\"contour\":[{\"type\":\"contour\",\"colorbar\":{\"outlinewidth\":0,\"ticks\":\"\"},\"colorscale\":[[0.0,\"#0d0887\"],[0.1111111111111111,\"#46039f\"],[0.2222222222222222,\"#7201a8\"],[0.3333333333333333,\"#9c179e\"],[0.4444444444444444,\"#bd3786\"],[0.5555555555555556,\"#d8576b\"],[0.6666666666666666,\"#ed7953\"],[0.7777777777777778,\"#fb9f3a\"],[0.8888888888888888,\"#fdca26\"],[1.0,\"#f0f921\"]]}],\"surface\":[{\"type\":\"surface\",\"colorbar\":{\"outlinewidth\":0,\"ticks\":\"\"},\"colorscale\":[[0.0,\"#0d0887\"],[0.1111111111111111,\"#46039f\"],[0.2222222222222222,\"#7201a8\"],[0.3333333333333333,\"#9c179e\"],[0.4444444444444444,\"#bd3786\"],[0.5555555555555556,\"#d8576b\"],[0.6666666666666666,\"#ed7953\"],[0.7777777777777778,\"#fb9f3a\"],[0.8888888888888888,\"#fdca26\"],[1.0,\"#f0f921\"]]}],\"mesh3d\":[{\"type\":\"mesh3d\",\"colorbar\":{\"outlinewidth\":0,\"ticks\":\"\"}}],\"scatter\":[{\"fillpattern\":{\"fillmode\":\"overlay\",\"size\":10,\"solidity\":0.2},\"type\":\"scatter\"}],\"parcoords\":[{\"type\":\"parcoords\",\"line\":{\"colorbar\":{\"outlinewidth\":0,\"ticks\":\"\"}}}],\"scatterpolargl\":[{\"type\":\"scatterpolargl\",\"marker\":{\"colorbar\":{\"outlinewidth\":0,\"ticks\":\"\"}}}],\"bar\":[{\"error_x\":{\"color\":\"#2a3f5f\"},\"error_y\":{\"color\":\"#2a3f5f\"},\"marker\":{\"line\":{\"color\":\"#E5ECF6\",\"width\":0.5},\"pattern\":{\"fillmode\":\"overlay\",\"size\":10,\"solidity\":0.2}},\"type\":\"bar\"}],\"scattergeo\":[{\"type\":\"scattergeo\",\"marker\":{\"colorbar\":{\"outlinewidth\":0,\"ticks\":\"\"}}}],\"scatterpolar\":[{\"type\":\"scatterpolar\",\"marker\":{\"colorbar\":{\"outlinewidth\":0,\"ticks\":\"\"}}}],\"histogram\":[{\"marker\":{\"pattern\":{\"fillmode\":\"overlay\",\"size\":10,\"solidity\":0.2}},\"type\":\"histogram\"}],\"scattergl\":[{\"type\":\"scattergl\",\"marker\":{\"colorbar\":{\"outlinewidth\":0,\"ticks\":\"\"}}}],\"scatter3d\":[{\"type\":\"scatter3d\",\"line\":{\"colorbar\":{\"outlinewidth\":0,\"ticks\":\"\"}},\"marker\":{\"colorbar\":{\"outlinewidth\":0,\"ticks\":\"\"}}}],\"scattermapbox\":[{\"type\":\"scattermapbox\",\"marker\":{\"colorbar\":{\"outlinewidth\":0,\"ticks\":\"\"}}}],\"scatterternary\":[{\"type\":\"scatterternary\",\"marker\":{\"colorbar\":{\"outlinewidth\":0,\"ticks\":\"\"}}}],\"scattercarpet\":[{\"type\":\"scattercarpet\",\"marker\":{\"colorbar\":{\"outlinewidth\":0,\"ticks\":\"\"}}}],\"carpet\":[{\"aaxis\":{\"endlinecolor\":\"#2a3f5f\",\"gridcolor\":\"white\",\"linecolor\":\"white\",\"minorgridcolor\":\"white\",\"startlinecolor\":\"#2a3f5f\"},\"baxis\":{\"endlinecolor\":\"#2a3f5f\",\"gridcolor\":\"white\",\"linecolor\":\"white\",\"minorgridcolor\":\"white\",\"startlinecolor\":\"#2a3f5f\"},\"type\":\"carpet\"}],\"table\":[{\"cells\":{\"fill\":{\"color\":\"#EBF0F8\"},\"line\":{\"color\":\"white\"}},\"header\":{\"fill\":{\"color\":\"#C8D4E3\"},\"line\":{\"color\":\"white\"}},\"type\":\"table\"}],\"barpolar\":[{\"marker\":{\"line\":{\"color\":\"#E5ECF6\",\"width\":0.5},\"pattern\":{\"fillmode\":\"overlay\",\"size\":10,\"solidity\":0.2}},\"type\":\"barpolar\"}],\"pie\":[{\"automargin\":true,\"type\":\"pie\"}]},\"layout\":{\"autotypenumbers\":\"strict\",\"colorway\":[\"#636efa\",\"#EF553B\",\"#00cc96\",\"#ab63fa\",\"#FFA15A\",\"#19d3f3\",\"#FF6692\",\"#B6E880\",\"#FF97FF\",\"#FECB52\"],\"font\":{\"color\":\"#2a3f5f\"},\"hovermode\":\"closest\",\"hoverlabel\":{\"align\":\"left\"},\"paper_bgcolor\":\"white\",\"plot_bgcolor\":\"#E5ECF6\",\"polar\":{\"bgcolor\":\"#E5ECF6\",\"angularaxis\":{\"gridcolor\":\"white\",\"linecolor\":\"white\",\"ticks\":\"\"},\"radialaxis\":{\"gridcolor\":\"white\",\"linecolor\":\"white\",\"ticks\":\"\"}},\"ternary\":{\"bgcolor\":\"#E5ECF6\",\"aaxis\":{\"gridcolor\":\"white\",\"linecolor\":\"white\",\"ticks\":\"\"},\"baxis\":{\"gridcolor\":\"white\",\"linecolor\":\"white\",\"ticks\":\"\"},\"caxis\":{\"gridcolor\":\"white\",\"linecolor\":\"white\",\"ticks\":\"\"}},\"coloraxis\":{\"colorbar\":{\"outlinewidth\":0,\"ticks\":\"\"}},\"colorscale\":{\"sequential\":[[0.0,\"#0d0887\"],[0.1111111111111111,\"#46039f\"],[0.2222222222222222,\"#7201a8\"],[0.3333333333333333,\"#9c179e\"],[0.4444444444444444,\"#bd3786\"],[0.5555555555555556,\"#d8576b\"],[0.6666666666666666,\"#ed7953\"],[0.7777777777777778,\"#fb9f3a\"],[0.8888888888888888,\"#fdca26\"],[1.0,\"#f0f921\"]],\"sequentialminus\":[[0.0,\"#0d0887\"],[0.1111111111111111,\"#46039f\"],[0.2222222222222222,\"#7201a8\"],[0.3333333333333333,\"#9c179e\"],[0.4444444444444444,\"#bd3786\"],[0.5555555555555556,\"#d8576b\"],[0.6666666666666666,\"#ed7953\"],[0.7777777777777778,\"#fb9f3a\"],[0.8888888888888888,\"#fdca26\"],[1.0,\"#f0f921\"]],\"diverging\":[[0,\"#8e0152\"],[0.1,\"#c51b7d\"],[0.2,\"#de77ae\"],[0.3,\"#f1b6da\"],[0.4,\"#fde0ef\"],[0.5,\"#f7f7f7\"],[0.6,\"#e6f5d0\"],[0.7,\"#b8e186\"],[0.8,\"#7fbc41\"],[0.9,\"#4d9221\"],[1,\"#276419\"]]},\"xaxis\":{\"gridcolor\":\"white\",\"linecolor\":\"white\",\"ticks\":\"\",\"title\":{\"standoff\":15},\"zerolinecolor\":\"white\",\"automargin\":true,\"zerolinewidth\":2},\"yaxis\":{\"gridcolor\":\"white\",\"linecolor\":\"white\",\"ticks\":\"\",\"title\":{\"standoff\":15},\"zerolinecolor\":\"white\",\"automargin\":true,\"zerolinewidth\":2},\"scene\":{\"xaxis\":{\"backgroundcolor\":\"#E5ECF6\",\"gridcolor\":\"white\",\"linecolor\":\"white\",\"showbackground\":true,\"ticks\":\"\",\"zerolinecolor\":\"white\",\"gridwidth\":2},\"yaxis\":{\"backgroundcolor\":\"#E5ECF6\",\"gridcolor\":\"white\",\"linecolor\":\"white\",\"showbackground\":true,\"ticks\":\"\",\"zerolinecolor\":\"white\",\"gridwidth\":2},\"zaxis\":{\"backgroundcolor\":\"#E5ECF6\",\"gridcolor\":\"white\",\"linecolor\":\"white\",\"showbackground\":true,\"ticks\":\"\",\"zerolinecolor\":\"white\",\"gridwidth\":2}},\"shapedefaults\":{\"line\":{\"color\":\"#2a3f5f\"}},\"annotationdefaults\":{\"arrowcolor\":\"#2a3f5f\",\"arrowhead\":0,\"arrowwidth\":1},\"geo\":{\"bgcolor\":\"white\",\"landcolor\":\"#E5ECF6\",\"subunitcolor\":\"white\",\"showland\":true,\"showlakes\":true,\"lakecolor\":\"white\"},\"title\":{\"x\":0.05},\"mapbox\":{\"style\":\"light\"}}},\"xaxis\":{\"anchor\":\"y\",\"domain\":[0.0,1.0],\"title\":{\"text\":\"state_info\"}},\"yaxis\":{\"anchor\":\"x\",\"domain\":[0.0,1.0],\"title\":{\"text\":\"counts\"}},\"legend\":{\"tracegroupgap\":0},\"title\":{\"text\":\"True Statement State Distribution\"},\"barmode\":\"relative\"},                        {\"responsive\": true}                    ).then(function(){\n",
              "                            \n",
              "var gd = document.getElementById('858cfac8-a1fc-4134-bd57-0187eb73ea85');\n",
              "var x = new MutationObserver(function (mutations, observer) {{\n",
              "        var display = window.getComputedStyle(gd).display;\n",
              "        if (!display || display === 'none') {{\n",
              "            console.log([gd, 'removed!']);\n",
              "            Plotly.purge(gd);\n",
              "            observer.disconnect();\n",
              "        }}\n",
              "}});\n",
              "\n",
              "// Listen for the removal of the full notebook cells\n",
              "var notebookContainer = gd.closest('#notebook-container');\n",
              "if (notebookContainer) {{\n",
              "    x.observe(notebookContainer, {childList: true});\n",
              "}}\n",
              "\n",
              "// Listen for the clearing of the current output cell\n",
              "var outputEl = gd.closest('.output');\n",
              "if (outputEl) {{\n",
              "    x.observe(outputEl, {childList: true});\n",
              "}}\n",
              "\n",
              "                        })                };                            </script>        </div>\n",
              "</body>\n",
              "</html>"
            ]
          },
          "metadata": {}
        }
      ]
    },
    {
      "cell_type": "code",
      "source": [
        "state_false_counts = false_ex.state_info.value_counts()\n",
        "px.bar(state_false_counts, x=state_false_counts.index, y=state_false_counts.values, labels={\"index\": \"state\", \"y\": \"counts\"}, title=\"False Statement State Distribution\")"
      ],
      "metadata": {
        "colab": {
          "base_uri": "https://localhost:8080/",
          "height": 542
        },
        "id": "PgbZulrmy4nJ",
        "outputId": "f2886563-f20e-4116-d81b-1b9d096ecb58"
      },
      "execution_count": null,
      "outputs": [
        {
          "output_type": "display_data",
          "data": {
            "text/html": [
              "<html>\n",
              "<head><meta charset=\"utf-8\" /></head>\n",
              "<body>\n",
              "    <div>            <script src=\"https://cdnjs.cloudflare.com/ajax/libs/mathjax/2.7.5/MathJax.js?config=TeX-AMS-MML_SVG\"></script><script type=\"text/javascript\">if (window.MathJax && window.MathJax.Hub && window.MathJax.Hub.Config) {window.MathJax.Hub.Config({SVG: {font: \"STIX-Web\"}});}</script>                <script type=\"text/javascript\">window.PlotlyConfig = {MathJaxConfig: 'local'};</script>\n",
              "        <script charset=\"utf-8\" src=\"https://cdn.plot.ly/plotly-2.24.1.min.js\"></script>                <div id=\"b82d5878-8ad3-41c2-a945-86fe3825e362\" class=\"plotly-graph-div\" style=\"height:525px; width:100%;\"></div>            <script type=\"text/javascript\">                                    window.PLOTLYENV=window.PLOTLYENV || {};                                    if (document.getElementById(\"b82d5878-8ad3-41c2-a945-86fe3825e362\")) {                    Plotly.newPlot(                        \"b82d5878-8ad3-41c2-a945-86fe3825e362\",                        [{\"alignmentgroup\":\"True\",\"hovertemplate\":\"state_info=%{x}\\u003cbr\\u003ecounts=%{y}\\u003cextra\\u003e\\u003c\\u002fextra\\u003e\",\"legendgroup\":\"\",\"marker\":{\"color\":\"#636efa\",\"pattern\":{\"shape\":\"\"}},\"name\":\"\",\"offsetgroup\":\"\",\"orientation\":\"v\",\"showlegend\":false,\"textposition\":\"auto\",\"x\":[\"Texas\",\"Florida\",\"Wisconsin\",\"New York\",\"Virginia\",\"Illinois\",\"Georgia\",\"Rhode Island\",\"Ohio\",\"Oregon\",\"New Jersey\",\"Massachusetts\",\"Arizona\",\"Washington D.C.\",\"California\",\"Pennsylvania\",\"Minnesota\",\"Tennessee\",\"New Hampshire\",\"Alaska\",\"Arkansas\",\"Kentucky\",\"Vermont\",\"Delaware\",\"Nevada\",\"Maryland\",\"Indiana\",\"South Carolina\",\"North Carolina\",\"Missouri\",\"Colorado\",\"Iowa\",\"Louisiana\",\"New Mexico\",\"Michigan\",\"Alabama\",\"Kansas\",\"Utah\",\"Connecticut\",\"Oklahoma\",\"West Virginia\",\"Washington\",\"Mississippi\",\"Idaho\",\"Nebraska\",\"Russia\",\"China\",\"United Kingdom\",\"Qatar\",\"Montana\",\"Maine\",\"South Dakota\",\"Wyoming\",\"the United States\"],\"xaxis\":\"x\",\"y\":[468,402,350,331,183,160,159,154,146,91,91,84,75,67,61,49,40,39,38,35,32,31,29,25,25,23,21,17,17,15,15,12,11,9,9,8,7,6,6,5,4,3,2,2,1,1,1,1,1,1,1,1,1,1],\"yaxis\":\"y\",\"type\":\"bar\"}],                        {\"template\":{\"data\":{\"histogram2dcontour\":[{\"type\":\"histogram2dcontour\",\"colorbar\":{\"outlinewidth\":0,\"ticks\":\"\"},\"colorscale\":[[0.0,\"#0d0887\"],[0.1111111111111111,\"#46039f\"],[0.2222222222222222,\"#7201a8\"],[0.3333333333333333,\"#9c179e\"],[0.4444444444444444,\"#bd3786\"],[0.5555555555555556,\"#d8576b\"],[0.6666666666666666,\"#ed7953\"],[0.7777777777777778,\"#fb9f3a\"],[0.8888888888888888,\"#fdca26\"],[1.0,\"#f0f921\"]]}],\"choropleth\":[{\"type\":\"choropleth\",\"colorbar\":{\"outlinewidth\":0,\"ticks\":\"\"}}],\"histogram2d\":[{\"type\":\"histogram2d\",\"colorbar\":{\"outlinewidth\":0,\"ticks\":\"\"},\"colorscale\":[[0.0,\"#0d0887\"],[0.1111111111111111,\"#46039f\"],[0.2222222222222222,\"#7201a8\"],[0.3333333333333333,\"#9c179e\"],[0.4444444444444444,\"#bd3786\"],[0.5555555555555556,\"#d8576b\"],[0.6666666666666666,\"#ed7953\"],[0.7777777777777778,\"#fb9f3a\"],[0.8888888888888888,\"#fdca26\"],[1.0,\"#f0f921\"]]}],\"heatmap\":[{\"type\":\"heatmap\",\"colorbar\":{\"outlinewidth\":0,\"ticks\":\"\"},\"colorscale\":[[0.0,\"#0d0887\"],[0.1111111111111111,\"#46039f\"],[0.2222222222222222,\"#7201a8\"],[0.3333333333333333,\"#9c179e\"],[0.4444444444444444,\"#bd3786\"],[0.5555555555555556,\"#d8576b\"],[0.6666666666666666,\"#ed7953\"],[0.7777777777777778,\"#fb9f3a\"],[0.8888888888888888,\"#fdca26\"],[1.0,\"#f0f921\"]]}],\"heatmapgl\":[{\"type\":\"heatmapgl\",\"colorbar\":{\"outlinewidth\":0,\"ticks\":\"\"},\"colorscale\":[[0.0,\"#0d0887\"],[0.1111111111111111,\"#46039f\"],[0.2222222222222222,\"#7201a8\"],[0.3333333333333333,\"#9c179e\"],[0.4444444444444444,\"#bd3786\"],[0.5555555555555556,\"#d8576b\"],[0.6666666666666666,\"#ed7953\"],[0.7777777777777778,\"#fb9f3a\"],[0.8888888888888888,\"#fdca26\"],[1.0,\"#f0f921\"]]}],\"contourcarpet\":[{\"type\":\"contourcarpet\",\"colorbar\":{\"outlinewidth\":0,\"ticks\":\"\"}}],\"contour\":[{\"type\":\"contour\",\"colorbar\":{\"outlinewidth\":0,\"ticks\":\"\"},\"colorscale\":[[0.0,\"#0d0887\"],[0.1111111111111111,\"#46039f\"],[0.2222222222222222,\"#7201a8\"],[0.3333333333333333,\"#9c179e\"],[0.4444444444444444,\"#bd3786\"],[0.5555555555555556,\"#d8576b\"],[0.6666666666666666,\"#ed7953\"],[0.7777777777777778,\"#fb9f3a\"],[0.8888888888888888,\"#fdca26\"],[1.0,\"#f0f921\"]]}],\"surface\":[{\"type\":\"surface\",\"colorbar\":{\"outlinewidth\":0,\"ticks\":\"\"},\"colorscale\":[[0.0,\"#0d0887\"],[0.1111111111111111,\"#46039f\"],[0.2222222222222222,\"#7201a8\"],[0.3333333333333333,\"#9c179e\"],[0.4444444444444444,\"#bd3786\"],[0.5555555555555556,\"#d8576b\"],[0.6666666666666666,\"#ed7953\"],[0.7777777777777778,\"#fb9f3a\"],[0.8888888888888888,\"#fdca26\"],[1.0,\"#f0f921\"]]}],\"mesh3d\":[{\"type\":\"mesh3d\",\"colorbar\":{\"outlinewidth\":0,\"ticks\":\"\"}}],\"scatter\":[{\"fillpattern\":{\"fillmode\":\"overlay\",\"size\":10,\"solidity\":0.2},\"type\":\"scatter\"}],\"parcoords\":[{\"type\":\"parcoords\",\"line\":{\"colorbar\":{\"outlinewidth\":0,\"ticks\":\"\"}}}],\"scatterpolargl\":[{\"type\":\"scatterpolargl\",\"marker\":{\"colorbar\":{\"outlinewidth\":0,\"ticks\":\"\"}}}],\"bar\":[{\"error_x\":{\"color\":\"#2a3f5f\"},\"error_y\":{\"color\":\"#2a3f5f\"},\"marker\":{\"line\":{\"color\":\"#E5ECF6\",\"width\":0.5},\"pattern\":{\"fillmode\":\"overlay\",\"size\":10,\"solidity\":0.2}},\"type\":\"bar\"}],\"scattergeo\":[{\"type\":\"scattergeo\",\"marker\":{\"colorbar\":{\"outlinewidth\":0,\"ticks\":\"\"}}}],\"scatterpolar\":[{\"type\":\"scatterpolar\",\"marker\":{\"colorbar\":{\"outlinewidth\":0,\"ticks\":\"\"}}}],\"histogram\":[{\"marker\":{\"pattern\":{\"fillmode\":\"overlay\",\"size\":10,\"solidity\":0.2}},\"type\":\"histogram\"}],\"scattergl\":[{\"type\":\"scattergl\",\"marker\":{\"colorbar\":{\"outlinewidth\":0,\"ticks\":\"\"}}}],\"scatter3d\":[{\"type\":\"scatter3d\",\"line\":{\"colorbar\":{\"outlinewidth\":0,\"ticks\":\"\"}},\"marker\":{\"colorbar\":{\"outlinewidth\":0,\"ticks\":\"\"}}}],\"scattermapbox\":[{\"type\":\"scattermapbox\",\"marker\":{\"colorbar\":{\"outlinewidth\":0,\"ticks\":\"\"}}}],\"scatterternary\":[{\"type\":\"scatterternary\",\"marker\":{\"colorbar\":{\"outlinewidth\":0,\"ticks\":\"\"}}}],\"scattercarpet\":[{\"type\":\"scattercarpet\",\"marker\":{\"colorbar\":{\"outlinewidth\":0,\"ticks\":\"\"}}}],\"carpet\":[{\"aaxis\":{\"endlinecolor\":\"#2a3f5f\",\"gridcolor\":\"white\",\"linecolor\":\"white\",\"minorgridcolor\":\"white\",\"startlinecolor\":\"#2a3f5f\"},\"baxis\":{\"endlinecolor\":\"#2a3f5f\",\"gridcolor\":\"white\",\"linecolor\":\"white\",\"minorgridcolor\":\"white\",\"startlinecolor\":\"#2a3f5f\"},\"type\":\"carpet\"}],\"table\":[{\"cells\":{\"fill\":{\"color\":\"#EBF0F8\"},\"line\":{\"color\":\"white\"}},\"header\":{\"fill\":{\"color\":\"#C8D4E3\"},\"line\":{\"color\":\"white\"}},\"type\":\"table\"}],\"barpolar\":[{\"marker\":{\"line\":{\"color\":\"#E5ECF6\",\"width\":0.5},\"pattern\":{\"fillmode\":\"overlay\",\"size\":10,\"solidity\":0.2}},\"type\":\"barpolar\"}],\"pie\":[{\"automargin\":true,\"type\":\"pie\"}]},\"layout\":{\"autotypenumbers\":\"strict\",\"colorway\":[\"#636efa\",\"#EF553B\",\"#00cc96\",\"#ab63fa\",\"#FFA15A\",\"#19d3f3\",\"#FF6692\",\"#B6E880\",\"#FF97FF\",\"#FECB52\"],\"font\":{\"color\":\"#2a3f5f\"},\"hovermode\":\"closest\",\"hoverlabel\":{\"align\":\"left\"},\"paper_bgcolor\":\"white\",\"plot_bgcolor\":\"#E5ECF6\",\"polar\":{\"bgcolor\":\"#E5ECF6\",\"angularaxis\":{\"gridcolor\":\"white\",\"linecolor\":\"white\",\"ticks\":\"\"},\"radialaxis\":{\"gridcolor\":\"white\",\"linecolor\":\"white\",\"ticks\":\"\"}},\"ternary\":{\"bgcolor\":\"#E5ECF6\",\"aaxis\":{\"gridcolor\":\"white\",\"linecolor\":\"white\",\"ticks\":\"\"},\"baxis\":{\"gridcolor\":\"white\",\"linecolor\":\"white\",\"ticks\":\"\"},\"caxis\":{\"gridcolor\":\"white\",\"linecolor\":\"white\",\"ticks\":\"\"}},\"coloraxis\":{\"colorbar\":{\"outlinewidth\":0,\"ticks\":\"\"}},\"colorscale\":{\"sequential\":[[0.0,\"#0d0887\"],[0.1111111111111111,\"#46039f\"],[0.2222222222222222,\"#7201a8\"],[0.3333333333333333,\"#9c179e\"],[0.4444444444444444,\"#bd3786\"],[0.5555555555555556,\"#d8576b\"],[0.6666666666666666,\"#ed7953\"],[0.7777777777777778,\"#fb9f3a\"],[0.8888888888888888,\"#fdca26\"],[1.0,\"#f0f921\"]],\"sequentialminus\":[[0.0,\"#0d0887\"],[0.1111111111111111,\"#46039f\"],[0.2222222222222222,\"#7201a8\"],[0.3333333333333333,\"#9c179e\"],[0.4444444444444444,\"#bd3786\"],[0.5555555555555556,\"#d8576b\"],[0.6666666666666666,\"#ed7953\"],[0.7777777777777778,\"#fb9f3a\"],[0.8888888888888888,\"#fdca26\"],[1.0,\"#f0f921\"]],\"diverging\":[[0,\"#8e0152\"],[0.1,\"#c51b7d\"],[0.2,\"#de77ae\"],[0.3,\"#f1b6da\"],[0.4,\"#fde0ef\"],[0.5,\"#f7f7f7\"],[0.6,\"#e6f5d0\"],[0.7,\"#b8e186\"],[0.8,\"#7fbc41\"],[0.9,\"#4d9221\"],[1,\"#276419\"]]},\"xaxis\":{\"gridcolor\":\"white\",\"linecolor\":\"white\",\"ticks\":\"\",\"title\":{\"standoff\":15},\"zerolinecolor\":\"white\",\"automargin\":true,\"zerolinewidth\":2},\"yaxis\":{\"gridcolor\":\"white\",\"linecolor\":\"white\",\"ticks\":\"\",\"title\":{\"standoff\":15},\"zerolinecolor\":\"white\",\"automargin\":true,\"zerolinewidth\":2},\"scene\":{\"xaxis\":{\"backgroundcolor\":\"#E5ECF6\",\"gridcolor\":\"white\",\"linecolor\":\"white\",\"showbackground\":true,\"ticks\":\"\",\"zerolinecolor\":\"white\",\"gridwidth\":2},\"yaxis\":{\"backgroundcolor\":\"#E5ECF6\",\"gridcolor\":\"white\",\"linecolor\":\"white\",\"showbackground\":true,\"ticks\":\"\",\"zerolinecolor\":\"white\",\"gridwidth\":2},\"zaxis\":{\"backgroundcolor\":\"#E5ECF6\",\"gridcolor\":\"white\",\"linecolor\":\"white\",\"showbackground\":true,\"ticks\":\"\",\"zerolinecolor\":\"white\",\"gridwidth\":2}},\"shapedefaults\":{\"line\":{\"color\":\"#2a3f5f\"}},\"annotationdefaults\":{\"arrowcolor\":\"#2a3f5f\",\"arrowhead\":0,\"arrowwidth\":1},\"geo\":{\"bgcolor\":\"white\",\"landcolor\":\"#E5ECF6\",\"subunitcolor\":\"white\",\"showland\":true,\"showlakes\":true,\"lakecolor\":\"white\"},\"title\":{\"x\":0.05},\"mapbox\":{\"style\":\"light\"}}},\"xaxis\":{\"anchor\":\"y\",\"domain\":[0.0,1.0],\"title\":{\"text\":\"state_info\"}},\"yaxis\":{\"anchor\":\"x\",\"domain\":[0.0,1.0],\"title\":{\"text\":\"counts\"}},\"legend\":{\"tracegroupgap\":0},\"title\":{\"text\":\"False Statement State Distribution\"},\"barmode\":\"relative\"},                        {\"responsive\": true}                    ).then(function(){\n",
              "                            \n",
              "var gd = document.getElementById('b82d5878-8ad3-41c2-a945-86fe3825e362');\n",
              "var x = new MutationObserver(function (mutations, observer) {{\n",
              "        var display = window.getComputedStyle(gd).display;\n",
              "        if (!display || display === 'none') {{\n",
              "            console.log([gd, 'removed!']);\n",
              "            Plotly.purge(gd);\n",
              "            observer.disconnect();\n",
              "        }}\n",
              "}});\n",
              "\n",
              "// Listen for the removal of the full notebook cells\n",
              "var notebookContainer = gd.closest('#notebook-container');\n",
              "if (notebookContainer) {{\n",
              "    x.observe(notebookContainer, {childList: true});\n",
              "}}\n",
              "\n",
              "// Listen for the clearing of the current output cell\n",
              "var outputEl = gd.closest('.output');\n",
              "if (outputEl) {{\n",
              "    x.observe(outputEl, {childList: true});\n",
              "}}\n",
              "\n",
              "                        })                };                            </script>        </div>\n",
              "</body>\n",
              "</html>"
            ]
          },
          "metadata": {}
        }
      ]
    },
    {
      "cell_type": "markdown",
      "source": [
        "***Learn CoutVectorizer from sklearn online. Bag of words is num_lines * all_word_frequency matrix, index of a particular word can be found from vectorizer.vocabulary_.items() method. Learn ngrams online, (stretch of words selected) ***"
      ],
      "metadata": {
        "id": "aOk8VsHjBQAj"
      }
    },
    {
      "cell_type": "code",
      "source": [
        "def get_top_ngrams(corpus, ngram_len: int=1, num: int=None) -> List:\n",
        "  vec = CountVectorizer(ngram_range=(ngram_len, ngram_len), stop_words = 'english').fit(corpus)\n",
        "  bag_of_words = vec.transform(corpus)\n",
        "  sum_words = bag_of_words.sum(axis=0)\n",
        "  words_freq = [(word, sum_words[0, idx]) for word, idx in vec.vocabulary_.items()]\n",
        "  words_freq = sorted(words_freq, key = lambda x: x[1], reverse=True)\n",
        "  return words_freq[:num]"
      ],
      "metadata": {
        "id": "fLsFcD_ky9DG"
      },
      "execution_count": null,
      "outputs": []
    },
    {
      "cell_type": "code",
      "source": [
        "top_unigrams_true = get_top_ngrams(true_ex.statement, 1, 30)\n",
        "top_unigrams_true"
      ],
      "metadata": {
        "colab": {
          "base_uri": "https://localhost:8080/"
        },
        "id": "xcAYl7hvA7Nc",
        "outputId": "3180702b-ddcc-4d71-b05b-946f113d27af"
      },
      "execution_count": null,
      "outputs": [
        {
          "output_type": "execute_result",
          "data": {
            "text/plain": [
              "[('says', 1216),\n",
              " ('percent', 839),\n",
              " ('state', 513),\n",
              " ('000', 466),\n",
              " ('year', 398),\n",
              " ('tax', 386),\n",
              " ('years', 381),\n",
              " ('states', 359),\n",
              " ('million', 357),\n",
              " ('obama', 338),\n",
              " ('people', 336),\n",
              " ('health', 305),\n",
              " ('president', 291),\n",
              " ('jobs', 289),\n",
              " ('new', 268),\n",
              " ('texas', 244),\n",
              " ('care', 234),\n",
              " ('taxes', 229),\n",
              " ('billion', 224),\n",
              " ('country', 224),\n",
              " ('federal', 208),\n",
              " ('united', 202),\n",
              " ('said', 194),\n",
              " ('budget', 190),\n",
              " ('rate', 186),\n",
              " ('pay', 177),\n",
              " ('voted', 177),\n",
              " ('10', 176),\n",
              " ('time', 172),\n",
              " ('government', 165)]"
            ]
          },
          "metadata": {},
          "execution_count": 115
        }
      ]
    },
    {
      "cell_type": "code",
      "source": [
        "true_state_distr = pd.DataFrame(top_unigrams_true, columns=[\"unigram\", \"count\"])\n",
        "px.bar(true_state_distr, x=\"unigram\", y=\"count\", title=\"Top True Unigrams Frequency\")"
      ],
      "metadata": {
        "colab": {
          "base_uri": "https://localhost:8080/",
          "height": 542
        },
        "id": "Skh7notUA_Fn",
        "outputId": "c989cada-adf6-4828-dd2f-bb8ecb6a904a"
      },
      "execution_count": null,
      "outputs": [
        {
          "output_type": "display_data",
          "data": {
            "text/html": [
              "<html>\n",
              "<head><meta charset=\"utf-8\" /></head>\n",
              "<body>\n",
              "    <div>            <script src=\"https://cdnjs.cloudflare.com/ajax/libs/mathjax/2.7.5/MathJax.js?config=TeX-AMS-MML_SVG\"></script><script type=\"text/javascript\">if (window.MathJax && window.MathJax.Hub && window.MathJax.Hub.Config) {window.MathJax.Hub.Config({SVG: {font: \"STIX-Web\"}});}</script>                <script type=\"text/javascript\">window.PlotlyConfig = {MathJaxConfig: 'local'};</script>\n",
              "        <script charset=\"utf-8\" src=\"https://cdn.plot.ly/plotly-2.24.1.min.js\"></script>                <div id=\"b4f28afa-43ca-444b-a523-5e788a9fb078\" class=\"plotly-graph-div\" style=\"height:525px; width:100%;\"></div>            <script type=\"text/javascript\">                                    window.PLOTLYENV=window.PLOTLYENV || {};                                    if (document.getElementById(\"b4f28afa-43ca-444b-a523-5e788a9fb078\")) {                    Plotly.newPlot(                        \"b4f28afa-43ca-444b-a523-5e788a9fb078\",                        [{\"alignmentgroup\":\"True\",\"hovertemplate\":\"unigram=%{x}\\u003cbr\\u003ecount=%{y}\\u003cextra\\u003e\\u003c\\u002fextra\\u003e\",\"legendgroup\":\"\",\"marker\":{\"color\":\"#636efa\",\"pattern\":{\"shape\":\"\"}},\"name\":\"\",\"offsetgroup\":\"\",\"orientation\":\"v\",\"showlegend\":false,\"textposition\":\"auto\",\"x\":[\"says\",\"percent\",\"state\",\"000\",\"year\",\"tax\",\"years\",\"states\",\"million\",\"obama\",\"people\",\"health\",\"president\",\"jobs\",\"new\",\"texas\",\"care\",\"taxes\",\"billion\",\"country\",\"federal\",\"united\",\"said\",\"budget\",\"rate\",\"pay\",\"voted\",\"10\",\"time\",\"government\"],\"xaxis\":\"x\",\"y\":[1216,839,513,466,398,386,381,359,357,338,336,305,291,289,268,244,234,229,224,224,208,202,194,190,186,177,177,176,172,165],\"yaxis\":\"y\",\"type\":\"bar\"}],                        {\"template\":{\"data\":{\"histogram2dcontour\":[{\"type\":\"histogram2dcontour\",\"colorbar\":{\"outlinewidth\":0,\"ticks\":\"\"},\"colorscale\":[[0.0,\"#0d0887\"],[0.1111111111111111,\"#46039f\"],[0.2222222222222222,\"#7201a8\"],[0.3333333333333333,\"#9c179e\"],[0.4444444444444444,\"#bd3786\"],[0.5555555555555556,\"#d8576b\"],[0.6666666666666666,\"#ed7953\"],[0.7777777777777778,\"#fb9f3a\"],[0.8888888888888888,\"#fdca26\"],[1.0,\"#f0f921\"]]}],\"choropleth\":[{\"type\":\"choropleth\",\"colorbar\":{\"outlinewidth\":0,\"ticks\":\"\"}}],\"histogram2d\":[{\"type\":\"histogram2d\",\"colorbar\":{\"outlinewidth\":0,\"ticks\":\"\"},\"colorscale\":[[0.0,\"#0d0887\"],[0.1111111111111111,\"#46039f\"],[0.2222222222222222,\"#7201a8\"],[0.3333333333333333,\"#9c179e\"],[0.4444444444444444,\"#bd3786\"],[0.5555555555555556,\"#d8576b\"],[0.6666666666666666,\"#ed7953\"],[0.7777777777777778,\"#fb9f3a\"],[0.8888888888888888,\"#fdca26\"],[1.0,\"#f0f921\"]]}],\"heatmap\":[{\"type\":\"heatmap\",\"colorbar\":{\"outlinewidth\":0,\"ticks\":\"\"},\"colorscale\":[[0.0,\"#0d0887\"],[0.1111111111111111,\"#46039f\"],[0.2222222222222222,\"#7201a8\"],[0.3333333333333333,\"#9c179e\"],[0.4444444444444444,\"#bd3786\"],[0.5555555555555556,\"#d8576b\"],[0.6666666666666666,\"#ed7953\"],[0.7777777777777778,\"#fb9f3a\"],[0.8888888888888888,\"#fdca26\"],[1.0,\"#f0f921\"]]}],\"heatmapgl\":[{\"type\":\"heatmapgl\",\"colorbar\":{\"outlinewidth\":0,\"ticks\":\"\"},\"colorscale\":[[0.0,\"#0d0887\"],[0.1111111111111111,\"#46039f\"],[0.2222222222222222,\"#7201a8\"],[0.3333333333333333,\"#9c179e\"],[0.4444444444444444,\"#bd3786\"],[0.5555555555555556,\"#d8576b\"],[0.6666666666666666,\"#ed7953\"],[0.7777777777777778,\"#fb9f3a\"],[0.8888888888888888,\"#fdca26\"],[1.0,\"#f0f921\"]]}],\"contourcarpet\":[{\"type\":\"contourcarpet\",\"colorbar\":{\"outlinewidth\":0,\"ticks\":\"\"}}],\"contour\":[{\"type\":\"contour\",\"colorbar\":{\"outlinewidth\":0,\"ticks\":\"\"},\"colorscale\":[[0.0,\"#0d0887\"],[0.1111111111111111,\"#46039f\"],[0.2222222222222222,\"#7201a8\"],[0.3333333333333333,\"#9c179e\"],[0.4444444444444444,\"#bd3786\"],[0.5555555555555556,\"#d8576b\"],[0.6666666666666666,\"#ed7953\"],[0.7777777777777778,\"#fb9f3a\"],[0.8888888888888888,\"#fdca26\"],[1.0,\"#f0f921\"]]}],\"surface\":[{\"type\":\"surface\",\"colorbar\":{\"outlinewidth\":0,\"ticks\":\"\"},\"colorscale\":[[0.0,\"#0d0887\"],[0.1111111111111111,\"#46039f\"],[0.2222222222222222,\"#7201a8\"],[0.3333333333333333,\"#9c179e\"],[0.4444444444444444,\"#bd3786\"],[0.5555555555555556,\"#d8576b\"],[0.6666666666666666,\"#ed7953\"],[0.7777777777777778,\"#fb9f3a\"],[0.8888888888888888,\"#fdca26\"],[1.0,\"#f0f921\"]]}],\"mesh3d\":[{\"type\":\"mesh3d\",\"colorbar\":{\"outlinewidth\":0,\"ticks\":\"\"}}],\"scatter\":[{\"fillpattern\":{\"fillmode\":\"overlay\",\"size\":10,\"solidity\":0.2},\"type\":\"scatter\"}],\"parcoords\":[{\"type\":\"parcoords\",\"line\":{\"colorbar\":{\"outlinewidth\":0,\"ticks\":\"\"}}}],\"scatterpolargl\":[{\"type\":\"scatterpolargl\",\"marker\":{\"colorbar\":{\"outlinewidth\":0,\"ticks\":\"\"}}}],\"bar\":[{\"error_x\":{\"color\":\"#2a3f5f\"},\"error_y\":{\"color\":\"#2a3f5f\"},\"marker\":{\"line\":{\"color\":\"#E5ECF6\",\"width\":0.5},\"pattern\":{\"fillmode\":\"overlay\",\"size\":10,\"solidity\":0.2}},\"type\":\"bar\"}],\"scattergeo\":[{\"type\":\"scattergeo\",\"marker\":{\"colorbar\":{\"outlinewidth\":0,\"ticks\":\"\"}}}],\"scatterpolar\":[{\"type\":\"scatterpolar\",\"marker\":{\"colorbar\":{\"outlinewidth\":0,\"ticks\":\"\"}}}],\"histogram\":[{\"marker\":{\"pattern\":{\"fillmode\":\"overlay\",\"size\":10,\"solidity\":0.2}},\"type\":\"histogram\"}],\"scattergl\":[{\"type\":\"scattergl\",\"marker\":{\"colorbar\":{\"outlinewidth\":0,\"ticks\":\"\"}}}],\"scatter3d\":[{\"type\":\"scatter3d\",\"line\":{\"colorbar\":{\"outlinewidth\":0,\"ticks\":\"\"}},\"marker\":{\"colorbar\":{\"outlinewidth\":0,\"ticks\":\"\"}}}],\"scattermapbox\":[{\"type\":\"scattermapbox\",\"marker\":{\"colorbar\":{\"outlinewidth\":0,\"ticks\":\"\"}}}],\"scatterternary\":[{\"type\":\"scatterternary\",\"marker\":{\"colorbar\":{\"outlinewidth\":0,\"ticks\":\"\"}}}],\"scattercarpet\":[{\"type\":\"scattercarpet\",\"marker\":{\"colorbar\":{\"outlinewidth\":0,\"ticks\":\"\"}}}],\"carpet\":[{\"aaxis\":{\"endlinecolor\":\"#2a3f5f\",\"gridcolor\":\"white\",\"linecolor\":\"white\",\"minorgridcolor\":\"white\",\"startlinecolor\":\"#2a3f5f\"},\"baxis\":{\"endlinecolor\":\"#2a3f5f\",\"gridcolor\":\"white\",\"linecolor\":\"white\",\"minorgridcolor\":\"white\",\"startlinecolor\":\"#2a3f5f\"},\"type\":\"carpet\"}],\"table\":[{\"cells\":{\"fill\":{\"color\":\"#EBF0F8\"},\"line\":{\"color\":\"white\"}},\"header\":{\"fill\":{\"color\":\"#C8D4E3\"},\"line\":{\"color\":\"white\"}},\"type\":\"table\"}],\"barpolar\":[{\"marker\":{\"line\":{\"color\":\"#E5ECF6\",\"width\":0.5},\"pattern\":{\"fillmode\":\"overlay\",\"size\":10,\"solidity\":0.2}},\"type\":\"barpolar\"}],\"pie\":[{\"automargin\":true,\"type\":\"pie\"}]},\"layout\":{\"autotypenumbers\":\"strict\",\"colorway\":[\"#636efa\",\"#EF553B\",\"#00cc96\",\"#ab63fa\",\"#FFA15A\",\"#19d3f3\",\"#FF6692\",\"#B6E880\",\"#FF97FF\",\"#FECB52\"],\"font\":{\"color\":\"#2a3f5f\"},\"hovermode\":\"closest\",\"hoverlabel\":{\"align\":\"left\"},\"paper_bgcolor\":\"white\",\"plot_bgcolor\":\"#E5ECF6\",\"polar\":{\"bgcolor\":\"#E5ECF6\",\"angularaxis\":{\"gridcolor\":\"white\",\"linecolor\":\"white\",\"ticks\":\"\"},\"radialaxis\":{\"gridcolor\":\"white\",\"linecolor\":\"white\",\"ticks\":\"\"}},\"ternary\":{\"bgcolor\":\"#E5ECF6\",\"aaxis\":{\"gridcolor\":\"white\",\"linecolor\":\"white\",\"ticks\":\"\"},\"baxis\":{\"gridcolor\":\"white\",\"linecolor\":\"white\",\"ticks\":\"\"},\"caxis\":{\"gridcolor\":\"white\",\"linecolor\":\"white\",\"ticks\":\"\"}},\"coloraxis\":{\"colorbar\":{\"outlinewidth\":0,\"ticks\":\"\"}},\"colorscale\":{\"sequential\":[[0.0,\"#0d0887\"],[0.1111111111111111,\"#46039f\"],[0.2222222222222222,\"#7201a8\"],[0.3333333333333333,\"#9c179e\"],[0.4444444444444444,\"#bd3786\"],[0.5555555555555556,\"#d8576b\"],[0.6666666666666666,\"#ed7953\"],[0.7777777777777778,\"#fb9f3a\"],[0.8888888888888888,\"#fdca26\"],[1.0,\"#f0f921\"]],\"sequentialminus\":[[0.0,\"#0d0887\"],[0.1111111111111111,\"#46039f\"],[0.2222222222222222,\"#7201a8\"],[0.3333333333333333,\"#9c179e\"],[0.4444444444444444,\"#bd3786\"],[0.5555555555555556,\"#d8576b\"],[0.6666666666666666,\"#ed7953\"],[0.7777777777777778,\"#fb9f3a\"],[0.8888888888888888,\"#fdca26\"],[1.0,\"#f0f921\"]],\"diverging\":[[0,\"#8e0152\"],[0.1,\"#c51b7d\"],[0.2,\"#de77ae\"],[0.3,\"#f1b6da\"],[0.4,\"#fde0ef\"],[0.5,\"#f7f7f7\"],[0.6,\"#e6f5d0\"],[0.7,\"#b8e186\"],[0.8,\"#7fbc41\"],[0.9,\"#4d9221\"],[1,\"#276419\"]]},\"xaxis\":{\"gridcolor\":\"white\",\"linecolor\":\"white\",\"ticks\":\"\",\"title\":{\"standoff\":15},\"zerolinecolor\":\"white\",\"automargin\":true,\"zerolinewidth\":2},\"yaxis\":{\"gridcolor\":\"white\",\"linecolor\":\"white\",\"ticks\":\"\",\"title\":{\"standoff\":15},\"zerolinecolor\":\"white\",\"automargin\":true,\"zerolinewidth\":2},\"scene\":{\"xaxis\":{\"backgroundcolor\":\"#E5ECF6\",\"gridcolor\":\"white\",\"linecolor\":\"white\",\"showbackground\":true,\"ticks\":\"\",\"zerolinecolor\":\"white\",\"gridwidth\":2},\"yaxis\":{\"backgroundcolor\":\"#E5ECF6\",\"gridcolor\":\"white\",\"linecolor\":\"white\",\"showbackground\":true,\"ticks\":\"\",\"zerolinecolor\":\"white\",\"gridwidth\":2},\"zaxis\":{\"backgroundcolor\":\"#E5ECF6\",\"gridcolor\":\"white\",\"linecolor\":\"white\",\"showbackground\":true,\"ticks\":\"\",\"zerolinecolor\":\"white\",\"gridwidth\":2}},\"shapedefaults\":{\"line\":{\"color\":\"#2a3f5f\"}},\"annotationdefaults\":{\"arrowcolor\":\"#2a3f5f\",\"arrowhead\":0,\"arrowwidth\":1},\"geo\":{\"bgcolor\":\"white\",\"landcolor\":\"#E5ECF6\",\"subunitcolor\":\"white\",\"showland\":true,\"showlakes\":true,\"lakecolor\":\"white\"},\"title\":{\"x\":0.05},\"mapbox\":{\"style\":\"light\"}}},\"xaxis\":{\"anchor\":\"y\",\"domain\":[0.0,1.0],\"title\":{\"text\":\"unigram\"}},\"yaxis\":{\"anchor\":\"x\",\"domain\":[0.0,1.0],\"title\":{\"text\":\"count\"}},\"legend\":{\"tracegroupgap\":0},\"title\":{\"text\":\"Top True Unigrams Frequency\"},\"barmode\":\"relative\"},                        {\"responsive\": true}                    ).then(function(){\n",
              "                            \n",
              "var gd = document.getElementById('b4f28afa-43ca-444b-a523-5e788a9fb078');\n",
              "var x = new MutationObserver(function (mutations, observer) {{\n",
              "        var display = window.getComputedStyle(gd).display;\n",
              "        if (!display || display === 'none') {{\n",
              "            console.log([gd, 'removed!']);\n",
              "            Plotly.purge(gd);\n",
              "            observer.disconnect();\n",
              "        }}\n",
              "}});\n",
              "\n",
              "// Listen for the removal of the full notebook cells\n",
              "var notebookContainer = gd.closest('#notebook-container');\n",
              "if (notebookContainer) {{\n",
              "    x.observe(notebookContainer, {childList: true});\n",
              "}}\n",
              "\n",
              "// Listen for the clearing of the current output cell\n",
              "var outputEl = gd.closest('.output');\n",
              "if (outputEl) {{\n",
              "    x.observe(outputEl, {childList: true});\n",
              "}}\n",
              "\n",
              "                        })                };                            </script>        </div>\n",
              "</body>\n",
              "</html>"
            ]
          },
          "metadata": {}
        }
      ]
    },
    {
      "cell_type": "code",
      "source": [
        "top_unigrams_false = get_top_ngrams(false_ex[false_ex.statement.notnull()].statement.str.lower(), num=30)\n",
        "false_state_distr = pd.DataFrame(top_unigrams_false, columns=[\"unigram\", \"count\"])\n",
        "px.bar(false_state_distr, x=\"unigram\", y=\"count\", title=\"Top False Unigrams Frequency\")"
      ],
      "metadata": {
        "colab": {
          "base_uri": "https://localhost:8080/",
          "height": 542
        },
        "id": "-MdafvjAB9G0",
        "outputId": "2b520be8-e95a-4f63-9c48-d890211a43e9"
      },
      "execution_count": null,
      "outputs": [
        {
          "output_type": "display_data",
          "data": {
            "text/html": [
              "<html>\n",
              "<head><meta charset=\"utf-8\" /></head>\n",
              "<body>\n",
              "    <div>            <script src=\"https://cdnjs.cloudflare.com/ajax/libs/mathjax/2.7.5/MathJax.js?config=TeX-AMS-MML_SVG\"></script><script type=\"text/javascript\">if (window.MathJax && window.MathJax.Hub && window.MathJax.Hub.Config) {window.MathJax.Hub.Config({SVG: {font: \"STIX-Web\"}});}</script>                <script type=\"text/javascript\">window.PlotlyConfig = {MathJaxConfig: 'local'};</script>\n",
              "        <script charset=\"utf-8\" src=\"https://cdn.plot.ly/plotly-2.24.1.min.js\"></script>                <div id=\"81bf94cf-318c-444a-ba94-618f5aefd7a8\" class=\"plotly-graph-div\" style=\"height:525px; width:100%;\"></div>            <script type=\"text/javascript\">                                    window.PLOTLYENV=window.PLOTLYENV || {};                                    if (document.getElementById(\"81bf94cf-318c-444a-ba94-618f5aefd7a8\")) {                    Plotly.newPlot(                        \"81bf94cf-318c-444a-ba94-618f5aefd7a8\",                        [{\"alignmentgroup\":\"True\",\"hovertemplate\":\"unigram=%{x}\\u003cbr\\u003ecount=%{y}\\u003cextra\\u003e\\u003c\\u002fextra\\u003e\",\"legendgroup\":\"\",\"marker\":{\"color\":\"#636efa\",\"pattern\":{\"shape\":\"\"}},\"name\":\"\",\"offsetgroup\":\"\",\"orientation\":\"v\",\"showlegend\":false,\"textposition\":\"auto\",\"x\":[\"says\",\"obama\",\"percent\",\"state\",\"president\",\"health\",\"tax\",\"care\",\"000\",\"people\",\"years\",\"year\",\"barack\",\"new\",\"states\",\"jobs\",\"said\",\"government\",\"million\",\"voted\",\"billion\",\"federal\",\"budget\",\"law\",\"wisconsin\",\"clinton\",\"texas\",\"taxes\",\"plan\",\"obamacare\"],\"xaxis\":\"x\",\"y\":[1155,410,352,342,316,309,306,284,270,261,231,224,208,200,193,193,186,185,184,183,179,157,156,155,153,151,149,149,148,135],\"yaxis\":\"y\",\"type\":\"bar\"}],                        {\"template\":{\"data\":{\"histogram2dcontour\":[{\"type\":\"histogram2dcontour\",\"colorbar\":{\"outlinewidth\":0,\"ticks\":\"\"},\"colorscale\":[[0.0,\"#0d0887\"],[0.1111111111111111,\"#46039f\"],[0.2222222222222222,\"#7201a8\"],[0.3333333333333333,\"#9c179e\"],[0.4444444444444444,\"#bd3786\"],[0.5555555555555556,\"#d8576b\"],[0.6666666666666666,\"#ed7953\"],[0.7777777777777778,\"#fb9f3a\"],[0.8888888888888888,\"#fdca26\"],[1.0,\"#f0f921\"]]}],\"choropleth\":[{\"type\":\"choropleth\",\"colorbar\":{\"outlinewidth\":0,\"ticks\":\"\"}}],\"histogram2d\":[{\"type\":\"histogram2d\",\"colorbar\":{\"outlinewidth\":0,\"ticks\":\"\"},\"colorscale\":[[0.0,\"#0d0887\"],[0.1111111111111111,\"#46039f\"],[0.2222222222222222,\"#7201a8\"],[0.3333333333333333,\"#9c179e\"],[0.4444444444444444,\"#bd3786\"],[0.5555555555555556,\"#d8576b\"],[0.6666666666666666,\"#ed7953\"],[0.7777777777777778,\"#fb9f3a\"],[0.8888888888888888,\"#fdca26\"],[1.0,\"#f0f921\"]]}],\"heatmap\":[{\"type\":\"heatmap\",\"colorbar\":{\"outlinewidth\":0,\"ticks\":\"\"},\"colorscale\":[[0.0,\"#0d0887\"],[0.1111111111111111,\"#46039f\"],[0.2222222222222222,\"#7201a8\"],[0.3333333333333333,\"#9c179e\"],[0.4444444444444444,\"#bd3786\"],[0.5555555555555556,\"#d8576b\"],[0.6666666666666666,\"#ed7953\"],[0.7777777777777778,\"#fb9f3a\"],[0.8888888888888888,\"#fdca26\"],[1.0,\"#f0f921\"]]}],\"heatmapgl\":[{\"type\":\"heatmapgl\",\"colorbar\":{\"outlinewidth\":0,\"ticks\":\"\"},\"colorscale\":[[0.0,\"#0d0887\"],[0.1111111111111111,\"#46039f\"],[0.2222222222222222,\"#7201a8\"],[0.3333333333333333,\"#9c179e\"],[0.4444444444444444,\"#bd3786\"],[0.5555555555555556,\"#d8576b\"],[0.6666666666666666,\"#ed7953\"],[0.7777777777777778,\"#fb9f3a\"],[0.8888888888888888,\"#fdca26\"],[1.0,\"#f0f921\"]]}],\"contourcarpet\":[{\"type\":\"contourcarpet\",\"colorbar\":{\"outlinewidth\":0,\"ticks\":\"\"}}],\"contour\":[{\"type\":\"contour\",\"colorbar\":{\"outlinewidth\":0,\"ticks\":\"\"},\"colorscale\":[[0.0,\"#0d0887\"],[0.1111111111111111,\"#46039f\"],[0.2222222222222222,\"#7201a8\"],[0.3333333333333333,\"#9c179e\"],[0.4444444444444444,\"#bd3786\"],[0.5555555555555556,\"#d8576b\"],[0.6666666666666666,\"#ed7953\"],[0.7777777777777778,\"#fb9f3a\"],[0.8888888888888888,\"#fdca26\"],[1.0,\"#f0f921\"]]}],\"surface\":[{\"type\":\"surface\",\"colorbar\":{\"outlinewidth\":0,\"ticks\":\"\"},\"colorscale\":[[0.0,\"#0d0887\"],[0.1111111111111111,\"#46039f\"],[0.2222222222222222,\"#7201a8\"],[0.3333333333333333,\"#9c179e\"],[0.4444444444444444,\"#bd3786\"],[0.5555555555555556,\"#d8576b\"],[0.6666666666666666,\"#ed7953\"],[0.7777777777777778,\"#fb9f3a\"],[0.8888888888888888,\"#fdca26\"],[1.0,\"#f0f921\"]]}],\"mesh3d\":[{\"type\":\"mesh3d\",\"colorbar\":{\"outlinewidth\":0,\"ticks\":\"\"}}],\"scatter\":[{\"fillpattern\":{\"fillmode\":\"overlay\",\"size\":10,\"solidity\":0.2},\"type\":\"scatter\"}],\"parcoords\":[{\"type\":\"parcoords\",\"line\":{\"colorbar\":{\"outlinewidth\":0,\"ticks\":\"\"}}}],\"scatterpolargl\":[{\"type\":\"scatterpolargl\",\"marker\":{\"colorbar\":{\"outlinewidth\":0,\"ticks\":\"\"}}}],\"bar\":[{\"error_x\":{\"color\":\"#2a3f5f\"},\"error_y\":{\"color\":\"#2a3f5f\"},\"marker\":{\"line\":{\"color\":\"#E5ECF6\",\"width\":0.5},\"pattern\":{\"fillmode\":\"overlay\",\"size\":10,\"solidity\":0.2}},\"type\":\"bar\"}],\"scattergeo\":[{\"type\":\"scattergeo\",\"marker\":{\"colorbar\":{\"outlinewidth\":0,\"ticks\":\"\"}}}],\"scatterpolar\":[{\"type\":\"scatterpolar\",\"marker\":{\"colorbar\":{\"outlinewidth\":0,\"ticks\":\"\"}}}],\"histogram\":[{\"marker\":{\"pattern\":{\"fillmode\":\"overlay\",\"size\":10,\"solidity\":0.2}},\"type\":\"histogram\"}],\"scattergl\":[{\"type\":\"scattergl\",\"marker\":{\"colorbar\":{\"outlinewidth\":0,\"ticks\":\"\"}}}],\"scatter3d\":[{\"type\":\"scatter3d\",\"line\":{\"colorbar\":{\"outlinewidth\":0,\"ticks\":\"\"}},\"marker\":{\"colorbar\":{\"outlinewidth\":0,\"ticks\":\"\"}}}],\"scattermapbox\":[{\"type\":\"scattermapbox\",\"marker\":{\"colorbar\":{\"outlinewidth\":0,\"ticks\":\"\"}}}],\"scatterternary\":[{\"type\":\"scatterternary\",\"marker\":{\"colorbar\":{\"outlinewidth\":0,\"ticks\":\"\"}}}],\"scattercarpet\":[{\"type\":\"scattercarpet\",\"marker\":{\"colorbar\":{\"outlinewidth\":0,\"ticks\":\"\"}}}],\"carpet\":[{\"aaxis\":{\"endlinecolor\":\"#2a3f5f\",\"gridcolor\":\"white\",\"linecolor\":\"white\",\"minorgridcolor\":\"white\",\"startlinecolor\":\"#2a3f5f\"},\"baxis\":{\"endlinecolor\":\"#2a3f5f\",\"gridcolor\":\"white\",\"linecolor\":\"white\",\"minorgridcolor\":\"white\",\"startlinecolor\":\"#2a3f5f\"},\"type\":\"carpet\"}],\"table\":[{\"cells\":{\"fill\":{\"color\":\"#EBF0F8\"},\"line\":{\"color\":\"white\"}},\"header\":{\"fill\":{\"color\":\"#C8D4E3\"},\"line\":{\"color\":\"white\"}},\"type\":\"table\"}],\"barpolar\":[{\"marker\":{\"line\":{\"color\":\"#E5ECF6\",\"width\":0.5},\"pattern\":{\"fillmode\":\"overlay\",\"size\":10,\"solidity\":0.2}},\"type\":\"barpolar\"}],\"pie\":[{\"automargin\":true,\"type\":\"pie\"}]},\"layout\":{\"autotypenumbers\":\"strict\",\"colorway\":[\"#636efa\",\"#EF553B\",\"#00cc96\",\"#ab63fa\",\"#FFA15A\",\"#19d3f3\",\"#FF6692\",\"#B6E880\",\"#FF97FF\",\"#FECB52\"],\"font\":{\"color\":\"#2a3f5f\"},\"hovermode\":\"closest\",\"hoverlabel\":{\"align\":\"left\"},\"paper_bgcolor\":\"white\",\"plot_bgcolor\":\"#E5ECF6\",\"polar\":{\"bgcolor\":\"#E5ECF6\",\"angularaxis\":{\"gridcolor\":\"white\",\"linecolor\":\"white\",\"ticks\":\"\"},\"radialaxis\":{\"gridcolor\":\"white\",\"linecolor\":\"white\",\"ticks\":\"\"}},\"ternary\":{\"bgcolor\":\"#E5ECF6\",\"aaxis\":{\"gridcolor\":\"white\",\"linecolor\":\"white\",\"ticks\":\"\"},\"baxis\":{\"gridcolor\":\"white\",\"linecolor\":\"white\",\"ticks\":\"\"},\"caxis\":{\"gridcolor\":\"white\",\"linecolor\":\"white\",\"ticks\":\"\"}},\"coloraxis\":{\"colorbar\":{\"outlinewidth\":0,\"ticks\":\"\"}},\"colorscale\":{\"sequential\":[[0.0,\"#0d0887\"],[0.1111111111111111,\"#46039f\"],[0.2222222222222222,\"#7201a8\"],[0.3333333333333333,\"#9c179e\"],[0.4444444444444444,\"#bd3786\"],[0.5555555555555556,\"#d8576b\"],[0.6666666666666666,\"#ed7953\"],[0.7777777777777778,\"#fb9f3a\"],[0.8888888888888888,\"#fdca26\"],[1.0,\"#f0f921\"]],\"sequentialminus\":[[0.0,\"#0d0887\"],[0.1111111111111111,\"#46039f\"],[0.2222222222222222,\"#7201a8\"],[0.3333333333333333,\"#9c179e\"],[0.4444444444444444,\"#bd3786\"],[0.5555555555555556,\"#d8576b\"],[0.6666666666666666,\"#ed7953\"],[0.7777777777777778,\"#fb9f3a\"],[0.8888888888888888,\"#fdca26\"],[1.0,\"#f0f921\"]],\"diverging\":[[0,\"#8e0152\"],[0.1,\"#c51b7d\"],[0.2,\"#de77ae\"],[0.3,\"#f1b6da\"],[0.4,\"#fde0ef\"],[0.5,\"#f7f7f7\"],[0.6,\"#e6f5d0\"],[0.7,\"#b8e186\"],[0.8,\"#7fbc41\"],[0.9,\"#4d9221\"],[1,\"#276419\"]]},\"xaxis\":{\"gridcolor\":\"white\",\"linecolor\":\"white\",\"ticks\":\"\",\"title\":{\"standoff\":15},\"zerolinecolor\":\"white\",\"automargin\":true,\"zerolinewidth\":2},\"yaxis\":{\"gridcolor\":\"white\",\"linecolor\":\"white\",\"ticks\":\"\",\"title\":{\"standoff\":15},\"zerolinecolor\":\"white\",\"automargin\":true,\"zerolinewidth\":2},\"scene\":{\"xaxis\":{\"backgroundcolor\":\"#E5ECF6\",\"gridcolor\":\"white\",\"linecolor\":\"white\",\"showbackground\":true,\"ticks\":\"\",\"zerolinecolor\":\"white\",\"gridwidth\":2},\"yaxis\":{\"backgroundcolor\":\"#E5ECF6\",\"gridcolor\":\"white\",\"linecolor\":\"white\",\"showbackground\":true,\"ticks\":\"\",\"zerolinecolor\":\"white\",\"gridwidth\":2},\"zaxis\":{\"backgroundcolor\":\"#E5ECF6\",\"gridcolor\":\"white\",\"linecolor\":\"white\",\"showbackground\":true,\"ticks\":\"\",\"zerolinecolor\":\"white\",\"gridwidth\":2}},\"shapedefaults\":{\"line\":{\"color\":\"#2a3f5f\"}},\"annotationdefaults\":{\"arrowcolor\":\"#2a3f5f\",\"arrowhead\":0,\"arrowwidth\":1},\"geo\":{\"bgcolor\":\"white\",\"landcolor\":\"#E5ECF6\",\"subunitcolor\":\"white\",\"showland\":true,\"showlakes\":true,\"lakecolor\":\"white\"},\"title\":{\"x\":0.05},\"mapbox\":{\"style\":\"light\"}}},\"xaxis\":{\"anchor\":\"y\",\"domain\":[0.0,1.0],\"title\":{\"text\":\"unigram\"}},\"yaxis\":{\"anchor\":\"x\",\"domain\":[0.0,1.0],\"title\":{\"text\":\"count\"}},\"legend\":{\"tracegroupgap\":0},\"title\":{\"text\":\"Top False Unigrams Frequency\"},\"barmode\":\"relative\"},                        {\"responsive\": true}                    ).then(function(){\n",
              "                            \n",
              "var gd = document.getElementById('81bf94cf-318c-444a-ba94-618f5aefd7a8');\n",
              "var x = new MutationObserver(function (mutations, observer) {{\n",
              "        var display = window.getComputedStyle(gd).display;\n",
              "        if (!display || display === 'none') {{\n",
              "            console.log([gd, 'removed!']);\n",
              "            Plotly.purge(gd);\n",
              "            observer.disconnect();\n",
              "        }}\n",
              "}});\n",
              "\n",
              "// Listen for the removal of the full notebook cells\n",
              "var notebookContainer = gd.closest('#notebook-container');\n",
              "if (notebookContainer) {{\n",
              "    x.observe(notebookContainer, {childList: true});\n",
              "}}\n",
              "\n",
              "// Listen for the clearing of the current output cell\n",
              "var outputEl = gd.closest('.output');\n",
              "if (outputEl) {{\n",
              "    x.observe(outputEl, {childList: true});\n",
              "}}\n",
              "\n",
              "                        })                };                            </script>        </div>\n",
              "</body>\n",
              "</html>"
            ]
          },
          "metadata": {}
        }
      ]
    },
    {
      "cell_type": "code",
      "source": [
        "top_bigrams_false = get_top_ngrams(false_ex[false_ex.statement.notnull()].statement.str.lower(), ngram_len=2, num=30)\n",
        "false_state_distr = pd.DataFrame(top_bigrams_false, columns=[\"bigram\", \"count\"])\n",
        "px.bar(false_state_distr, x=\"bigram\", y=\"count\", title=\"Top False Bigrams Frequency\")"
      ],
      "metadata": {
        "colab": {
          "base_uri": "https://localhost:8080/",
          "height": 542
        },
        "id": "kK7siWFLCCh8",
        "outputId": "f7cc894b-af57-4ad2-ba58-77c2607998d5"
      },
      "execution_count": null,
      "outputs": [
        {
          "output_type": "display_data",
          "data": {
            "text/html": [
              "<html>\n",
              "<head><meta charset=\"utf-8\" /></head>\n",
              "<body>\n",
              "    <div>            <script src=\"https://cdnjs.cloudflare.com/ajax/libs/mathjax/2.7.5/MathJax.js?config=TeX-AMS-MML_SVG\"></script><script type=\"text/javascript\">if (window.MathJax && window.MathJax.Hub && window.MathJax.Hub.Config) {window.MathJax.Hub.Config({SVG: {font: \"STIX-Web\"}});}</script>                <script type=\"text/javascript\">window.PlotlyConfig = {MathJaxConfig: 'local'};</script>\n",
              "        <script charset=\"utf-8\" src=\"https://cdn.plot.ly/plotly-2.24.1.min.js\"></script>                <div id=\"998b9203-2ebd-49c5-a4ea-7429f8911c34\" class=\"plotly-graph-div\" style=\"height:525px; width:100%;\"></div>            <script type=\"text/javascript\">                                    window.PLOTLYENV=window.PLOTLYENV || {};                                    if (document.getElementById(\"998b9203-2ebd-49c5-a4ea-7429f8911c34\")) {                    Plotly.newPlot(                        \"998b9203-2ebd-49c5-a4ea-7429f8911c34\",                        [{\"alignmentgroup\":\"True\",\"hovertemplate\":\"bigram=%{x}\\u003cbr\\u003ecount=%{y}\\u003cextra\\u003e\\u003c\\u002fextra\\u003e\",\"legendgroup\":\"\",\"marker\":{\"color\":\"#636efa\",\"pattern\":{\"shape\":\"\"}},\"name\":\"\",\"offsetgroup\":\"\",\"orientation\":\"v\",\"showlegend\":false,\"textposition\":\"auto\",\"x\":[\"health care\",\"barack obama\",\"united states\",\"hillary clinton\",\"president barack\",\"social security\",\"scott walker\",\"president obama\",\"says president\",\"care law\",\"says hillary\",\"gov scott\",\"health insurance\",\"donald trump\",\"middle class\",\"obama administration\",\"mitt romney\",\"supreme court\",\"federal government\",\"illegal immigrants\",\"says barack\",\"barack obamas\",\"000 jobs\",\"says rep\",\"tax increase\",\"new york\",\"says gov\",\"white house\",\"raise taxes\",\"planned parenthood\"],\"xaxis\":\"x\",\"y\":[226,172,100,97,89,75,69,61,59,50,49,46,45,40,39,36,35,34,34,34,32,31,31,31,30,30,29,28,27,26],\"yaxis\":\"y\",\"type\":\"bar\"}],                        {\"template\":{\"data\":{\"histogram2dcontour\":[{\"type\":\"histogram2dcontour\",\"colorbar\":{\"outlinewidth\":0,\"ticks\":\"\"},\"colorscale\":[[0.0,\"#0d0887\"],[0.1111111111111111,\"#46039f\"],[0.2222222222222222,\"#7201a8\"],[0.3333333333333333,\"#9c179e\"],[0.4444444444444444,\"#bd3786\"],[0.5555555555555556,\"#d8576b\"],[0.6666666666666666,\"#ed7953\"],[0.7777777777777778,\"#fb9f3a\"],[0.8888888888888888,\"#fdca26\"],[1.0,\"#f0f921\"]]}],\"choropleth\":[{\"type\":\"choropleth\",\"colorbar\":{\"outlinewidth\":0,\"ticks\":\"\"}}],\"histogram2d\":[{\"type\":\"histogram2d\",\"colorbar\":{\"outlinewidth\":0,\"ticks\":\"\"},\"colorscale\":[[0.0,\"#0d0887\"],[0.1111111111111111,\"#46039f\"],[0.2222222222222222,\"#7201a8\"],[0.3333333333333333,\"#9c179e\"],[0.4444444444444444,\"#bd3786\"],[0.5555555555555556,\"#d8576b\"],[0.6666666666666666,\"#ed7953\"],[0.7777777777777778,\"#fb9f3a\"],[0.8888888888888888,\"#fdca26\"],[1.0,\"#f0f921\"]]}],\"heatmap\":[{\"type\":\"heatmap\",\"colorbar\":{\"outlinewidth\":0,\"ticks\":\"\"},\"colorscale\":[[0.0,\"#0d0887\"],[0.1111111111111111,\"#46039f\"],[0.2222222222222222,\"#7201a8\"],[0.3333333333333333,\"#9c179e\"],[0.4444444444444444,\"#bd3786\"],[0.5555555555555556,\"#d8576b\"],[0.6666666666666666,\"#ed7953\"],[0.7777777777777778,\"#fb9f3a\"],[0.8888888888888888,\"#fdca26\"],[1.0,\"#f0f921\"]]}],\"heatmapgl\":[{\"type\":\"heatmapgl\",\"colorbar\":{\"outlinewidth\":0,\"ticks\":\"\"},\"colorscale\":[[0.0,\"#0d0887\"],[0.1111111111111111,\"#46039f\"],[0.2222222222222222,\"#7201a8\"],[0.3333333333333333,\"#9c179e\"],[0.4444444444444444,\"#bd3786\"],[0.5555555555555556,\"#d8576b\"],[0.6666666666666666,\"#ed7953\"],[0.7777777777777778,\"#fb9f3a\"],[0.8888888888888888,\"#fdca26\"],[1.0,\"#f0f921\"]]}],\"contourcarpet\":[{\"type\":\"contourcarpet\",\"colorbar\":{\"outlinewidth\":0,\"ticks\":\"\"}}],\"contour\":[{\"type\":\"contour\",\"colorbar\":{\"outlinewidth\":0,\"ticks\":\"\"},\"colorscale\":[[0.0,\"#0d0887\"],[0.1111111111111111,\"#46039f\"],[0.2222222222222222,\"#7201a8\"],[0.3333333333333333,\"#9c179e\"],[0.4444444444444444,\"#bd3786\"],[0.5555555555555556,\"#d8576b\"],[0.6666666666666666,\"#ed7953\"],[0.7777777777777778,\"#fb9f3a\"],[0.8888888888888888,\"#fdca26\"],[1.0,\"#f0f921\"]]}],\"surface\":[{\"type\":\"surface\",\"colorbar\":{\"outlinewidth\":0,\"ticks\":\"\"},\"colorscale\":[[0.0,\"#0d0887\"],[0.1111111111111111,\"#46039f\"],[0.2222222222222222,\"#7201a8\"],[0.3333333333333333,\"#9c179e\"],[0.4444444444444444,\"#bd3786\"],[0.5555555555555556,\"#d8576b\"],[0.6666666666666666,\"#ed7953\"],[0.7777777777777778,\"#fb9f3a\"],[0.8888888888888888,\"#fdca26\"],[1.0,\"#f0f921\"]]}],\"mesh3d\":[{\"type\":\"mesh3d\",\"colorbar\":{\"outlinewidth\":0,\"ticks\":\"\"}}],\"scatter\":[{\"fillpattern\":{\"fillmode\":\"overlay\",\"size\":10,\"solidity\":0.2},\"type\":\"scatter\"}],\"parcoords\":[{\"type\":\"parcoords\",\"line\":{\"colorbar\":{\"outlinewidth\":0,\"ticks\":\"\"}}}],\"scatterpolargl\":[{\"type\":\"scatterpolargl\",\"marker\":{\"colorbar\":{\"outlinewidth\":0,\"ticks\":\"\"}}}],\"bar\":[{\"error_x\":{\"color\":\"#2a3f5f\"},\"error_y\":{\"color\":\"#2a3f5f\"},\"marker\":{\"line\":{\"color\":\"#E5ECF6\",\"width\":0.5},\"pattern\":{\"fillmode\":\"overlay\",\"size\":10,\"solidity\":0.2}},\"type\":\"bar\"}],\"scattergeo\":[{\"type\":\"scattergeo\",\"marker\":{\"colorbar\":{\"outlinewidth\":0,\"ticks\":\"\"}}}],\"scatterpolar\":[{\"type\":\"scatterpolar\",\"marker\":{\"colorbar\":{\"outlinewidth\":0,\"ticks\":\"\"}}}],\"histogram\":[{\"marker\":{\"pattern\":{\"fillmode\":\"overlay\",\"size\":10,\"solidity\":0.2}},\"type\":\"histogram\"}],\"scattergl\":[{\"type\":\"scattergl\",\"marker\":{\"colorbar\":{\"outlinewidth\":0,\"ticks\":\"\"}}}],\"scatter3d\":[{\"type\":\"scatter3d\",\"line\":{\"colorbar\":{\"outlinewidth\":0,\"ticks\":\"\"}},\"marker\":{\"colorbar\":{\"outlinewidth\":0,\"ticks\":\"\"}}}],\"scattermapbox\":[{\"type\":\"scattermapbox\",\"marker\":{\"colorbar\":{\"outlinewidth\":0,\"ticks\":\"\"}}}],\"scatterternary\":[{\"type\":\"scatterternary\",\"marker\":{\"colorbar\":{\"outlinewidth\":0,\"ticks\":\"\"}}}],\"scattercarpet\":[{\"type\":\"scattercarpet\",\"marker\":{\"colorbar\":{\"outlinewidth\":0,\"ticks\":\"\"}}}],\"carpet\":[{\"aaxis\":{\"endlinecolor\":\"#2a3f5f\",\"gridcolor\":\"white\",\"linecolor\":\"white\",\"minorgridcolor\":\"white\",\"startlinecolor\":\"#2a3f5f\"},\"baxis\":{\"endlinecolor\":\"#2a3f5f\",\"gridcolor\":\"white\",\"linecolor\":\"white\",\"minorgridcolor\":\"white\",\"startlinecolor\":\"#2a3f5f\"},\"type\":\"carpet\"}],\"table\":[{\"cells\":{\"fill\":{\"color\":\"#EBF0F8\"},\"line\":{\"color\":\"white\"}},\"header\":{\"fill\":{\"color\":\"#C8D4E3\"},\"line\":{\"color\":\"white\"}},\"type\":\"table\"}],\"barpolar\":[{\"marker\":{\"line\":{\"color\":\"#E5ECF6\",\"width\":0.5},\"pattern\":{\"fillmode\":\"overlay\",\"size\":10,\"solidity\":0.2}},\"type\":\"barpolar\"}],\"pie\":[{\"automargin\":true,\"type\":\"pie\"}]},\"layout\":{\"autotypenumbers\":\"strict\",\"colorway\":[\"#636efa\",\"#EF553B\",\"#00cc96\",\"#ab63fa\",\"#FFA15A\",\"#19d3f3\",\"#FF6692\",\"#B6E880\",\"#FF97FF\",\"#FECB52\"],\"font\":{\"color\":\"#2a3f5f\"},\"hovermode\":\"closest\",\"hoverlabel\":{\"align\":\"left\"},\"paper_bgcolor\":\"white\",\"plot_bgcolor\":\"#E5ECF6\",\"polar\":{\"bgcolor\":\"#E5ECF6\",\"angularaxis\":{\"gridcolor\":\"white\",\"linecolor\":\"white\",\"ticks\":\"\"},\"radialaxis\":{\"gridcolor\":\"white\",\"linecolor\":\"white\",\"ticks\":\"\"}},\"ternary\":{\"bgcolor\":\"#E5ECF6\",\"aaxis\":{\"gridcolor\":\"white\",\"linecolor\":\"white\",\"ticks\":\"\"},\"baxis\":{\"gridcolor\":\"white\",\"linecolor\":\"white\",\"ticks\":\"\"},\"caxis\":{\"gridcolor\":\"white\",\"linecolor\":\"white\",\"ticks\":\"\"}},\"coloraxis\":{\"colorbar\":{\"outlinewidth\":0,\"ticks\":\"\"}},\"colorscale\":{\"sequential\":[[0.0,\"#0d0887\"],[0.1111111111111111,\"#46039f\"],[0.2222222222222222,\"#7201a8\"],[0.3333333333333333,\"#9c179e\"],[0.4444444444444444,\"#bd3786\"],[0.5555555555555556,\"#d8576b\"],[0.6666666666666666,\"#ed7953\"],[0.7777777777777778,\"#fb9f3a\"],[0.8888888888888888,\"#fdca26\"],[1.0,\"#f0f921\"]],\"sequentialminus\":[[0.0,\"#0d0887\"],[0.1111111111111111,\"#46039f\"],[0.2222222222222222,\"#7201a8\"],[0.3333333333333333,\"#9c179e\"],[0.4444444444444444,\"#bd3786\"],[0.5555555555555556,\"#d8576b\"],[0.6666666666666666,\"#ed7953\"],[0.7777777777777778,\"#fb9f3a\"],[0.8888888888888888,\"#fdca26\"],[1.0,\"#f0f921\"]],\"diverging\":[[0,\"#8e0152\"],[0.1,\"#c51b7d\"],[0.2,\"#de77ae\"],[0.3,\"#f1b6da\"],[0.4,\"#fde0ef\"],[0.5,\"#f7f7f7\"],[0.6,\"#e6f5d0\"],[0.7,\"#b8e186\"],[0.8,\"#7fbc41\"],[0.9,\"#4d9221\"],[1,\"#276419\"]]},\"xaxis\":{\"gridcolor\":\"white\",\"linecolor\":\"white\",\"ticks\":\"\",\"title\":{\"standoff\":15},\"zerolinecolor\":\"white\",\"automargin\":true,\"zerolinewidth\":2},\"yaxis\":{\"gridcolor\":\"white\",\"linecolor\":\"white\",\"ticks\":\"\",\"title\":{\"standoff\":15},\"zerolinecolor\":\"white\",\"automargin\":true,\"zerolinewidth\":2},\"scene\":{\"xaxis\":{\"backgroundcolor\":\"#E5ECF6\",\"gridcolor\":\"white\",\"linecolor\":\"white\",\"showbackground\":true,\"ticks\":\"\",\"zerolinecolor\":\"white\",\"gridwidth\":2},\"yaxis\":{\"backgroundcolor\":\"#E5ECF6\",\"gridcolor\":\"white\",\"linecolor\":\"white\",\"showbackground\":true,\"ticks\":\"\",\"zerolinecolor\":\"white\",\"gridwidth\":2},\"zaxis\":{\"backgroundcolor\":\"#E5ECF6\",\"gridcolor\":\"white\",\"linecolor\":\"white\",\"showbackground\":true,\"ticks\":\"\",\"zerolinecolor\":\"white\",\"gridwidth\":2}},\"shapedefaults\":{\"line\":{\"color\":\"#2a3f5f\"}},\"annotationdefaults\":{\"arrowcolor\":\"#2a3f5f\",\"arrowhead\":0,\"arrowwidth\":1},\"geo\":{\"bgcolor\":\"white\",\"landcolor\":\"#E5ECF6\",\"subunitcolor\":\"white\",\"showland\":true,\"showlakes\":true,\"lakecolor\":\"white\"},\"title\":{\"x\":0.05},\"mapbox\":{\"style\":\"light\"}}},\"xaxis\":{\"anchor\":\"y\",\"domain\":[0.0,1.0],\"title\":{\"text\":\"bigram\"}},\"yaxis\":{\"anchor\":\"x\",\"domain\":[0.0,1.0],\"title\":{\"text\":\"count\"}},\"legend\":{\"tracegroupgap\":0},\"title\":{\"text\":\"Top False Bigrams Frequency\"},\"barmode\":\"relative\"},                        {\"responsive\": true}                    ).then(function(){\n",
              "                            \n",
              "var gd = document.getElementById('998b9203-2ebd-49c5-a4ea-7429f8911c34');\n",
              "var x = new MutationObserver(function (mutations, observer) {{\n",
              "        var display = window.getComputedStyle(gd).display;\n",
              "        if (!display || display === 'none') {{\n",
              "            console.log([gd, 'removed!']);\n",
              "            Plotly.purge(gd);\n",
              "            observer.disconnect();\n",
              "        }}\n",
              "}});\n",
              "\n",
              "// Listen for the removal of the full notebook cells\n",
              "var notebookContainer = gd.closest('#notebook-container');\n",
              "if (notebookContainer) {{\n",
              "    x.observe(notebookContainer, {childList: true});\n",
              "}}\n",
              "\n",
              "// Listen for the clearing of the current output cell\n",
              "var outputEl = gd.closest('.output');\n",
              "if (outputEl) {{\n",
              "    x.observe(outputEl, {childList: true});\n",
              "}}\n",
              "\n",
              "                        })                };                            </script>        </div>\n",
              "</body>\n",
              "</html>"
            ]
          },
          "metadata": {}
        }
      ]
    },
    {
      "cell_type": "code",
      "source": [
        "top_bigrams_true = get_top_ngrams(true_ex[true_ex.statement.notnull()].statement.str.lower(), ngram_len=2, num=30)\n",
        "true_state_distr = pd.DataFrame(top_bigrams_true, columns=[\"bigram\", \"count\"])\n",
        "px.bar(true_state_distr, x=\"bigram\", y=\"count\", title=\"Top True Bigrams Frequency\")"
      ],
      "metadata": {
        "colab": {
          "base_uri": "https://localhost:8080/",
          "height": 542
        },
        "id": "rYTcgYe3CRPd",
        "outputId": "7f9764cd-b7cc-4d29-d92c-71c96c296082"
      },
      "execution_count": null,
      "outputs": [
        {
          "output_type": "display_data",
          "data": {
            "text/html": [
              "<html>\n",
              "<head><meta charset=\"utf-8\" /></head>\n",
              "<body>\n",
              "    <div>            <script src=\"https://cdnjs.cloudflare.com/ajax/libs/mathjax/2.7.5/MathJax.js?config=TeX-AMS-MML_SVG\"></script><script type=\"text/javascript\">if (window.MathJax && window.MathJax.Hub && window.MathJax.Hub.Config) {window.MathJax.Hub.Config({SVG: {font: \"STIX-Web\"}});}</script>                <script type=\"text/javascript\">window.PlotlyConfig = {MathJaxConfig: 'local'};</script>\n",
              "        <script charset=\"utf-8\" src=\"https://cdn.plot.ly/plotly-2.24.1.min.js\"></script>                <div id=\"1885a85d-7c8f-4ca3-bf3e-9bb57f9725dc\" class=\"plotly-graph-div\" style=\"height:525px; width:100%;\"></div>            <script type=\"text/javascript\">                                    window.PLOTLYENV=window.PLOTLYENV || {};                                    if (document.getElementById(\"1885a85d-7c8f-4ca3-bf3e-9bb57f9725dc\")) {                    Plotly.newPlot(                        \"1885a85d-7c8f-4ca3-bf3e-9bb57f9725dc\",                        [{\"alignmentgroup\":\"True\",\"hovertemplate\":\"bigram=%{x}\\u003cbr\\u003ecount=%{y}\\u003cextra\\u003e\\u003c\\u002fextra\\u003e\",\"legendgroup\":\"\",\"marker\":{\"color\":\"#636efa\",\"pattern\":{\"shape\":\"\"}},\"name\":\"\",\"offsetgroup\":\"\",\"orientation\":\"v\",\"showlegend\":false,\"textposition\":\"auto\",\"x\":[\"united states\",\"health care\",\"barack obama\",\"donald trump\",\"hillary clinton\",\"mitt romney\",\"president obama\",\"president barack\",\"health insurance\",\"rhode island\",\"social security\",\"new jersey\",\"minimum wage\",\"says donald\",\"private sector\",\"40 percent\",\"federal government\",\"says mitt\",\"took office\",\"000 jobs\",\"john mccain\",\"unemployment rate\",\"new york\",\"years ago\",\"tax cuts\",\"says hillary\",\"says president\",\"50 percent\",\"10 years\",\"national debt\"],\"xaxis\":\"x\",\"y\":[198,187,128,80,74,73,68,67,67,62,56,50,49,49,46,45,44,43,42,41,40,39,38,38,38,36,36,35,34,34],\"yaxis\":\"y\",\"type\":\"bar\"}],                        {\"template\":{\"data\":{\"histogram2dcontour\":[{\"type\":\"histogram2dcontour\",\"colorbar\":{\"outlinewidth\":0,\"ticks\":\"\"},\"colorscale\":[[0.0,\"#0d0887\"],[0.1111111111111111,\"#46039f\"],[0.2222222222222222,\"#7201a8\"],[0.3333333333333333,\"#9c179e\"],[0.4444444444444444,\"#bd3786\"],[0.5555555555555556,\"#d8576b\"],[0.6666666666666666,\"#ed7953\"],[0.7777777777777778,\"#fb9f3a\"],[0.8888888888888888,\"#fdca26\"],[1.0,\"#f0f921\"]]}],\"choropleth\":[{\"type\":\"choropleth\",\"colorbar\":{\"outlinewidth\":0,\"ticks\":\"\"}}],\"histogram2d\":[{\"type\":\"histogram2d\",\"colorbar\":{\"outlinewidth\":0,\"ticks\":\"\"},\"colorscale\":[[0.0,\"#0d0887\"],[0.1111111111111111,\"#46039f\"],[0.2222222222222222,\"#7201a8\"],[0.3333333333333333,\"#9c179e\"],[0.4444444444444444,\"#bd3786\"],[0.5555555555555556,\"#d8576b\"],[0.6666666666666666,\"#ed7953\"],[0.7777777777777778,\"#fb9f3a\"],[0.8888888888888888,\"#fdca26\"],[1.0,\"#f0f921\"]]}],\"heatmap\":[{\"type\":\"heatmap\",\"colorbar\":{\"outlinewidth\":0,\"ticks\":\"\"},\"colorscale\":[[0.0,\"#0d0887\"],[0.1111111111111111,\"#46039f\"],[0.2222222222222222,\"#7201a8\"],[0.3333333333333333,\"#9c179e\"],[0.4444444444444444,\"#bd3786\"],[0.5555555555555556,\"#d8576b\"],[0.6666666666666666,\"#ed7953\"],[0.7777777777777778,\"#fb9f3a\"],[0.8888888888888888,\"#fdca26\"],[1.0,\"#f0f921\"]]}],\"heatmapgl\":[{\"type\":\"heatmapgl\",\"colorbar\":{\"outlinewidth\":0,\"ticks\":\"\"},\"colorscale\":[[0.0,\"#0d0887\"],[0.1111111111111111,\"#46039f\"],[0.2222222222222222,\"#7201a8\"],[0.3333333333333333,\"#9c179e\"],[0.4444444444444444,\"#bd3786\"],[0.5555555555555556,\"#d8576b\"],[0.6666666666666666,\"#ed7953\"],[0.7777777777777778,\"#fb9f3a\"],[0.8888888888888888,\"#fdca26\"],[1.0,\"#f0f921\"]]}],\"contourcarpet\":[{\"type\":\"contourcarpet\",\"colorbar\":{\"outlinewidth\":0,\"ticks\":\"\"}}],\"contour\":[{\"type\":\"contour\",\"colorbar\":{\"outlinewidth\":0,\"ticks\":\"\"},\"colorscale\":[[0.0,\"#0d0887\"],[0.1111111111111111,\"#46039f\"],[0.2222222222222222,\"#7201a8\"],[0.3333333333333333,\"#9c179e\"],[0.4444444444444444,\"#bd3786\"],[0.5555555555555556,\"#d8576b\"],[0.6666666666666666,\"#ed7953\"],[0.7777777777777778,\"#fb9f3a\"],[0.8888888888888888,\"#fdca26\"],[1.0,\"#f0f921\"]]}],\"surface\":[{\"type\":\"surface\",\"colorbar\":{\"outlinewidth\":0,\"ticks\":\"\"},\"colorscale\":[[0.0,\"#0d0887\"],[0.1111111111111111,\"#46039f\"],[0.2222222222222222,\"#7201a8\"],[0.3333333333333333,\"#9c179e\"],[0.4444444444444444,\"#bd3786\"],[0.5555555555555556,\"#d8576b\"],[0.6666666666666666,\"#ed7953\"],[0.7777777777777778,\"#fb9f3a\"],[0.8888888888888888,\"#fdca26\"],[1.0,\"#f0f921\"]]}],\"mesh3d\":[{\"type\":\"mesh3d\",\"colorbar\":{\"outlinewidth\":0,\"ticks\":\"\"}}],\"scatter\":[{\"fillpattern\":{\"fillmode\":\"overlay\",\"size\":10,\"solidity\":0.2},\"type\":\"scatter\"}],\"parcoords\":[{\"type\":\"parcoords\",\"line\":{\"colorbar\":{\"outlinewidth\":0,\"ticks\":\"\"}}}],\"scatterpolargl\":[{\"type\":\"scatterpolargl\",\"marker\":{\"colorbar\":{\"outlinewidth\":0,\"ticks\":\"\"}}}],\"bar\":[{\"error_x\":{\"color\":\"#2a3f5f\"},\"error_y\":{\"color\":\"#2a3f5f\"},\"marker\":{\"line\":{\"color\":\"#E5ECF6\",\"width\":0.5},\"pattern\":{\"fillmode\":\"overlay\",\"size\":10,\"solidity\":0.2}},\"type\":\"bar\"}],\"scattergeo\":[{\"type\":\"scattergeo\",\"marker\":{\"colorbar\":{\"outlinewidth\":0,\"ticks\":\"\"}}}],\"scatterpolar\":[{\"type\":\"scatterpolar\",\"marker\":{\"colorbar\":{\"outlinewidth\":0,\"ticks\":\"\"}}}],\"histogram\":[{\"marker\":{\"pattern\":{\"fillmode\":\"overlay\",\"size\":10,\"solidity\":0.2}},\"type\":\"histogram\"}],\"scattergl\":[{\"type\":\"scattergl\",\"marker\":{\"colorbar\":{\"outlinewidth\":0,\"ticks\":\"\"}}}],\"scatter3d\":[{\"type\":\"scatter3d\",\"line\":{\"colorbar\":{\"outlinewidth\":0,\"ticks\":\"\"}},\"marker\":{\"colorbar\":{\"outlinewidth\":0,\"ticks\":\"\"}}}],\"scattermapbox\":[{\"type\":\"scattermapbox\",\"marker\":{\"colorbar\":{\"outlinewidth\":0,\"ticks\":\"\"}}}],\"scatterternary\":[{\"type\":\"scatterternary\",\"marker\":{\"colorbar\":{\"outlinewidth\":0,\"ticks\":\"\"}}}],\"scattercarpet\":[{\"type\":\"scattercarpet\",\"marker\":{\"colorbar\":{\"outlinewidth\":0,\"ticks\":\"\"}}}],\"carpet\":[{\"aaxis\":{\"endlinecolor\":\"#2a3f5f\",\"gridcolor\":\"white\",\"linecolor\":\"white\",\"minorgridcolor\":\"white\",\"startlinecolor\":\"#2a3f5f\"},\"baxis\":{\"endlinecolor\":\"#2a3f5f\",\"gridcolor\":\"white\",\"linecolor\":\"white\",\"minorgridcolor\":\"white\",\"startlinecolor\":\"#2a3f5f\"},\"type\":\"carpet\"}],\"table\":[{\"cells\":{\"fill\":{\"color\":\"#EBF0F8\"},\"line\":{\"color\":\"white\"}},\"header\":{\"fill\":{\"color\":\"#C8D4E3\"},\"line\":{\"color\":\"white\"}},\"type\":\"table\"}],\"barpolar\":[{\"marker\":{\"line\":{\"color\":\"#E5ECF6\",\"width\":0.5},\"pattern\":{\"fillmode\":\"overlay\",\"size\":10,\"solidity\":0.2}},\"type\":\"barpolar\"}],\"pie\":[{\"automargin\":true,\"type\":\"pie\"}]},\"layout\":{\"autotypenumbers\":\"strict\",\"colorway\":[\"#636efa\",\"#EF553B\",\"#00cc96\",\"#ab63fa\",\"#FFA15A\",\"#19d3f3\",\"#FF6692\",\"#B6E880\",\"#FF97FF\",\"#FECB52\"],\"font\":{\"color\":\"#2a3f5f\"},\"hovermode\":\"closest\",\"hoverlabel\":{\"align\":\"left\"},\"paper_bgcolor\":\"white\",\"plot_bgcolor\":\"#E5ECF6\",\"polar\":{\"bgcolor\":\"#E5ECF6\",\"angularaxis\":{\"gridcolor\":\"white\",\"linecolor\":\"white\",\"ticks\":\"\"},\"radialaxis\":{\"gridcolor\":\"white\",\"linecolor\":\"white\",\"ticks\":\"\"}},\"ternary\":{\"bgcolor\":\"#E5ECF6\",\"aaxis\":{\"gridcolor\":\"white\",\"linecolor\":\"white\",\"ticks\":\"\"},\"baxis\":{\"gridcolor\":\"white\",\"linecolor\":\"white\",\"ticks\":\"\"},\"caxis\":{\"gridcolor\":\"white\",\"linecolor\":\"white\",\"ticks\":\"\"}},\"coloraxis\":{\"colorbar\":{\"outlinewidth\":0,\"ticks\":\"\"}},\"colorscale\":{\"sequential\":[[0.0,\"#0d0887\"],[0.1111111111111111,\"#46039f\"],[0.2222222222222222,\"#7201a8\"],[0.3333333333333333,\"#9c179e\"],[0.4444444444444444,\"#bd3786\"],[0.5555555555555556,\"#d8576b\"],[0.6666666666666666,\"#ed7953\"],[0.7777777777777778,\"#fb9f3a\"],[0.8888888888888888,\"#fdca26\"],[1.0,\"#f0f921\"]],\"sequentialminus\":[[0.0,\"#0d0887\"],[0.1111111111111111,\"#46039f\"],[0.2222222222222222,\"#7201a8\"],[0.3333333333333333,\"#9c179e\"],[0.4444444444444444,\"#bd3786\"],[0.5555555555555556,\"#d8576b\"],[0.6666666666666666,\"#ed7953\"],[0.7777777777777778,\"#fb9f3a\"],[0.8888888888888888,\"#fdca26\"],[1.0,\"#f0f921\"]],\"diverging\":[[0,\"#8e0152\"],[0.1,\"#c51b7d\"],[0.2,\"#de77ae\"],[0.3,\"#f1b6da\"],[0.4,\"#fde0ef\"],[0.5,\"#f7f7f7\"],[0.6,\"#e6f5d0\"],[0.7,\"#b8e186\"],[0.8,\"#7fbc41\"],[0.9,\"#4d9221\"],[1,\"#276419\"]]},\"xaxis\":{\"gridcolor\":\"white\",\"linecolor\":\"white\",\"ticks\":\"\",\"title\":{\"standoff\":15},\"zerolinecolor\":\"white\",\"automargin\":true,\"zerolinewidth\":2},\"yaxis\":{\"gridcolor\":\"white\",\"linecolor\":\"white\",\"ticks\":\"\",\"title\":{\"standoff\":15},\"zerolinecolor\":\"white\",\"automargin\":true,\"zerolinewidth\":2},\"scene\":{\"xaxis\":{\"backgroundcolor\":\"#E5ECF6\",\"gridcolor\":\"white\",\"linecolor\":\"white\",\"showbackground\":true,\"ticks\":\"\",\"zerolinecolor\":\"white\",\"gridwidth\":2},\"yaxis\":{\"backgroundcolor\":\"#E5ECF6\",\"gridcolor\":\"white\",\"linecolor\":\"white\",\"showbackground\":true,\"ticks\":\"\",\"zerolinecolor\":\"white\",\"gridwidth\":2},\"zaxis\":{\"backgroundcolor\":\"#E5ECF6\",\"gridcolor\":\"white\",\"linecolor\":\"white\",\"showbackground\":true,\"ticks\":\"\",\"zerolinecolor\":\"white\",\"gridwidth\":2}},\"shapedefaults\":{\"line\":{\"color\":\"#2a3f5f\"}},\"annotationdefaults\":{\"arrowcolor\":\"#2a3f5f\",\"arrowhead\":0,\"arrowwidth\":1},\"geo\":{\"bgcolor\":\"white\",\"landcolor\":\"#E5ECF6\",\"subunitcolor\":\"white\",\"showland\":true,\"showlakes\":true,\"lakecolor\":\"white\"},\"title\":{\"x\":0.05},\"mapbox\":{\"style\":\"light\"}}},\"xaxis\":{\"anchor\":\"y\",\"domain\":[0.0,1.0],\"title\":{\"text\":\"bigram\"}},\"yaxis\":{\"anchor\":\"x\",\"domain\":[0.0,1.0],\"title\":{\"text\":\"count\"}},\"legend\":{\"tracegroupgap\":0},\"title\":{\"text\":\"Top True Bigrams Frequency\"},\"barmode\":\"relative\"},                        {\"responsive\": true}                    ).then(function(){\n",
              "                            \n",
              "var gd = document.getElementById('1885a85d-7c8f-4ca3-bf3e-9bb57f9725dc');\n",
              "var x = new MutationObserver(function (mutations, observer) {{\n",
              "        var display = window.getComputedStyle(gd).display;\n",
              "        if (!display || display === 'none') {{\n",
              "            console.log([gd, 'removed!']);\n",
              "            Plotly.purge(gd);\n",
              "            observer.disconnect();\n",
              "        }}\n",
              "}});\n",
              "\n",
              "// Listen for the removal of the full notebook cells\n",
              "var notebookContainer = gd.closest('#notebook-container');\n",
              "if (notebookContainer) {{\n",
              "    x.observe(notebookContainer, {childList: true});\n",
              "}}\n",
              "\n",
              "// Listen for the clearing of the current output cell\n",
              "var outputEl = gd.closest('.output');\n",
              "if (outputEl) {{\n",
              "    x.observe(outputEl, {childList: true});\n",
              "}}\n",
              "\n",
              "                        })                };                            </script>        </div>\n",
              "</body>\n",
              "</html>"
            ]
          },
          "metadata": {}
        }
      ]
    },
    {
      "cell_type": "code",
      "source": [
        "true_ex.statement.str.split().str.len().describe()"
      ],
      "metadata": {
        "colab": {
          "base_uri": "https://localhost:8080/"
        },
        "id": "ZSFK47cUCnqi",
        "outputId": "f4bf706c-2135-40d1-9182-190f6a606eb5"
      },
      "execution_count": null,
      "outputs": [
        {
          "output_type": "execute_result",
          "data": {
            "text/plain": [
              "count    5751.000000\n",
              "mean       18.455921\n",
              "std        10.318785\n",
              "min         2.000000\n",
              "25%        13.000000\n",
              "50%        17.000000\n",
              "75%        23.000000\n",
              "max       479.000000\n",
              "Name: statement, dtype: float64"
            ]
          },
          "metadata": {},
          "execution_count": 120
        }
      ]
    },
    {
      "cell_type": "code",
      "source": [
        "false_ex.statement.str.split().str.len().describe()"
      ],
      "metadata": {
        "colab": {
          "base_uri": "https://localhost:8080/"
        },
        "id": "-UZkFIdDC3PW",
        "outputId": "948a7cf5-77d9-4def-e6a4-2e596fe7c0fd"
      },
      "execution_count": null,
      "outputs": [
        {
          "output_type": "execute_result",
          "data": {
            "text/plain": [
              "count    4488.000000\n",
              "mean       17.488191\n",
              "std         9.371839\n",
              "min         2.000000\n",
              "25%        12.000000\n",
              "50%        16.000000\n",
              "75%        22.000000\n",
              "max       317.000000\n",
              "Name: statement, dtype: float64"
            ]
          },
          "metadata": {},
          "execution_count": 121
        }
      ]
    },
    {
      "cell_type": "code",
      "source": [
        "train_df.statement.str.split().str.len().describe()"
      ],
      "metadata": {
        "colab": {
          "base_uri": "https://localhost:8080/"
        },
        "id": "WTzoaLP3C5Zx",
        "outputId": "d82d1140-d7c3-4f28-90ad-25ed1a5e2f92"
      },
      "execution_count": null,
      "outputs": [
        {
          "output_type": "execute_result",
          "data": {
            "text/plain": [
              "count    10239.000000\n",
              "mean        18.031741\n",
              "std          9.926004\n",
              "min          2.000000\n",
              "25%         12.000000\n",
              "50%         17.000000\n",
              "75%         22.000000\n",
              "max        479.000000\n",
              "Name: statement, dtype: float64"
            ]
          },
          "metadata": {},
          "execution_count": 122
        }
      ]
    },
    {
      "cell_type": "code",
      "source": [
        "def print_topics(model: TruncatedSVD, vectorizer: TfidfVectorizer, top_n: int=10) -> None:\n",
        "  for idx, topic in enumerate(model.components_):\n",
        "    print(\"Topic %d: \" % (idx))\n",
        "    print([(vectorizer.get_feature_names_out()[i], topic[i]) for i in topic.argsort()[:-top_n - 1:-1]])\n",
        "    print(\"\\n\")\n",
        "\n",
        "def run_lsa_and_print_topics(df: pd.DataFrame, num_topics: int=5, num_words: int=5) -> None:\n",
        "  tfidf_vectorizer = TfidfVectorizer(stop_words = 'english', use_idf = True, smooth_idf = True)\n",
        "  lsa_model = TruncatedSVD(n_components = num_topics)\n",
        "  tfidf_transformed = tfidf_vectorizer.fit_transform(df.statement)\n",
        "  lsa_transform = lsa_model.fit_transform(tfidf_transformed)\n",
        "  print_topics(lsa_model, tfidf_vectorizer)\n"
      ],
      "metadata": {
        "id": "rIfS7kDmC9uZ"
      },
      "execution_count": null,
      "outputs": []
    },
    {
      "cell_type": "code",
      "source": [
        "run_lsa_and_print_topics(true_ex)"
      ],
      "metadata": {
        "colab": {
          "base_uri": "https://localhost:8080/"
        },
        "id": "SKmfRbol41ca",
        "outputId": "a29b6fbf-8709-4c0a-8bdd-56da30e11365"
      },
      "execution_count": null,
      "outputs": [
        {
          "output_type": "stream",
          "name": "stdout",
          "text": [
            "Topic 0: \n",
            "[('percent', 0.34365886323176853), ('says', 0.3014539900910456), ('tax', 0.17625146664855085), ('000', 0.17525748523590642), ('state', 0.17490032860768573), ('years', 0.16249611894931945), ('year', 0.15978338223601965), ('health', 0.15295273286858885), ('jobs', 0.15154022175354118), ('obama', 0.15095141481724134)]\n",
            "\n",
            "\n",
            "Topic 1: \n",
            "[('percent', 0.7140668224605929), ('rate', 0.14380209485251413), ('income', 0.11154039165207252), ('unemployment', 0.08677133363410074), ('40', 0.07835297716506294), ('highest', 0.0695667426248471), ('90', 0.05491096944150093), ('10', 0.05188182759646851), ('states', 0.04922356933623877), ('pay', 0.04765142488643022)]\n",
            "\n",
            "\n",
            "Topic 2: \n",
            "[('health', 0.6142773248685527), ('care', 0.5067072449982734), ('insurance', 0.22363242714937653), ('percent', 0.15540691162097447), ('americans', 0.0917444053156239), ('plan', 0.08798888176601243), ('people', 0.08155811520002532), ('reform', 0.07614622152467995), ('coverage', 0.06638817118485459), ('law', 0.061964141216471355)]\n",
            "\n",
            "\n",
            "Topic 3: \n",
            "[('jobs', 0.41190836647106127), ('000', 0.346386586179699), ('million', 0.21010852532100913), ('year', 0.19026401599904216), ('created', 0.181547787785414), ('state', 0.15488043306363977), ('new', 0.13429000272046057), ('lost', 0.09786745081224706), ('sector', 0.09410941362787836), ('private', 0.08567405234796066)]\n",
            "\n",
            "\n",
            "Topic 4: \n",
            "[('states', 0.38324161097485704), ('united', 0.27680187471873546), ('says', 0.24787926742085145), ('tax', 0.22286124153834105), ('highest', 0.21668902964039802), ('world', 0.16512811996830246), ('rate', 0.1515387798295603), ('state', 0.12611934222266363), ('texas', 0.09336636125075858), ('corporate', 0.08941201800583547)]\n",
            "\n",
            "\n"
          ]
        }
      ]
    },
    {
      "cell_type": "code",
      "source": [
        "run_lsa_and_print_topics(false_ex)"
      ],
      "metadata": {
        "colab": {
          "base_uri": "https://localhost:8080/"
        },
        "id": "ftVfp-Gv5c2i",
        "outputId": "796db18f-bd50-4a2e-e994-a4b06cd62a40"
      },
      "execution_count": null,
      "outputs": [
        {
          "output_type": "stream",
          "name": "stdout",
          "text": [
            "Topic 0: \n",
            "[('says', 0.3716295298398604), ('health', 0.2585918333317766), ('obama', 0.24433481221139478), ('care', 0.23833260294406386), ('president', 0.20452341540219185), ('percent', 0.18166456484781623), ('barack', 0.18101375250601584), ('tax', 0.18073563233100132), ('state', 0.15352315597884464), ('000', 0.13402476683054593)]\n",
            "\n",
            "\n",
            "Topic 1: \n",
            "[('health', 0.5350736485220289), ('care', 0.5081839121380584), ('law', 0.16036660177025633), ('insurance', 0.12020647280019874), ('government', 0.09775124163117661), ('reform', 0.07599792024571048), ('plan', 0.05393973151725916), ('affordable', 0.05261193907309096), ('federal', 0.05138550787840349), ('takeover', 0.05020922443378132)]\n",
            "\n",
            "\n",
            "Topic 2: \n",
            "[('obama', 0.4297613183110935), ('barack', 0.3625309644065311), ('president', 0.35574805766283785), ('health', 0.24984047360016365), ('care', 0.23943718698092406), ('obamas', 0.07416435330708715), ('law', 0.06567394934951139), ('muslim', 0.047761124674434), ('government', 0.04343639556135951), ('going', 0.03444312044790555)]\n",
            "\n",
            "\n",
            "Topic 3: \n",
            "[('says', 0.38088751453615166), ('tax', 0.27789008097688067), ('voted', 0.1770372136631191), ('taxes', 0.16872285105213453), ('security', 0.12517502394229393), ('social', 0.11882755494198916), ('increase', 0.10082358587900629), ('hillary', 0.09615198466849015), ('clinton', 0.09561851171652871), ('raise', 0.08445924186583732)]\n",
            "\n",
            "\n",
            "Topic 4: \n",
            "[('tax', 0.6166454829974181), ('increase', 0.22967426190916818), ('percent', 0.1663124071025625), ('taxes', 0.14670283864763667), ('history', 0.12528157423101452), ('largest', 0.11132003356785496), ('middle', 0.11067343458204205), ('class', 0.10792720041990152), ('income', 0.104537192761149), ('plan', 0.0890781998775406)]\n",
            "\n",
            "\n"
          ]
        }
      ]
    },
    {
      "cell_type": "code",
      "source": [
        "run_lsa_and_print_topics(true_ex, num_topics=10, num_words=8)"
      ],
      "metadata": {
        "colab": {
          "base_uri": "https://localhost:8080/"
        },
        "id": "X0qk42cwDWVq",
        "outputId": "bb6e7ee9-476a-47ee-b9de-3320eb2762cd"
      },
      "execution_count": null,
      "outputs": [
        {
          "output_type": "stream",
          "name": "stdout",
          "text": [
            "Topic 0: \n",
            "[('percent', 0.3436323640080215), ('says', 0.301445141709043), ('tax', 0.17624157802907994), ('000', 0.1751950566616789), ('state', 0.17490107162393292), ('years', 0.16255199361911304), ('year', 0.15999043468805402), ('health', 0.1529475351719705), ('jobs', 0.15161582689293288), ('obama', 0.15088592255042946)]\n",
            "\n",
            "\n",
            "Topic 1: \n",
            "[('percent', 0.7156427692489826), ('rate', 0.13506817594519618), ('income', 0.1144947027892323), ('unemployment', 0.08222847231438644), ('40', 0.07785847965406731), ('highest', 0.06511303174269241), ('90', 0.05540744245929783), ('10', 0.05304632632052616), ('pay', 0.05243834402740241), ('states', 0.05120009472029188)]\n",
            "\n",
            "\n",
            "Topic 2: \n",
            "[('health', 0.6127558921764125), ('care', 0.5149787283088898), ('insurance', 0.2079046581755199), ('percent', 0.17492317889057835), ('plan', 0.0947356004771294), ('americans', 0.09271058872883957), ('reform', 0.07646733225409307), ('law', 0.06922197690859858), ('coverage', 0.06606918535160154), ('people', 0.06256869250670691)]\n",
            "\n",
            "\n",
            "Topic 3: \n",
            "[('jobs', 0.4004897162980374), ('000', 0.35089966253765753), ('year', 0.18712170077877024), ('million', 0.18522971472447056), ('created', 0.17460196683251022), ('new', 0.1378321229509478), ('state', 0.13013700052383081), ('lost', 0.09520062852976684), ('sector', 0.09199461461239934), ('private', 0.08386622227244646)]\n",
            "\n",
            "\n",
            "Topic 4: \n",
            "[('states', 0.4329653751296482), ('united', 0.31700877022089696), ('tax', 0.22934080577177163), ('highest', 0.22217798166985347), ('says', 0.21479247634702933), ('world', 0.17842472087812206), ('rate', 0.16254687112165503), ('corporate', 0.09479670459018517), ('state', 0.09145176426687929), ('texas', 0.09010507220490838)]\n",
            "\n",
            "\n",
            "Topic 5: \n",
            "[('states', 0.4492336761150176), ('united', 0.36107200546266527), ('obama', 0.27818895062892446), ('president', 0.27390973848466516), ('barack', 0.19043970747625136), ('jobs', 0.12236481311959113), ('world', 0.11899770406931617), ('rate', 0.09571680148156045), ('million', 0.09521648000254268), ('people', 0.09197582018709224)]\n",
            "\n",
            "\n",
            "Topic 6: \n",
            "[('tax', 0.4421800053025058), ('taxes', 0.29134662706958214), ('billion', 0.25725941668690305), ('year', 0.16305716832906625), ('cut', 0.1535752312141041), ('debt', 0.14046854596610608), ('income', 0.1309040377552145), ('obama', 0.1094225722475594), ('cuts', 0.10778256984912041), ('highest', 0.1039946528347585)]\n",
            "\n",
            "\n",
            "Topic 7: \n",
            "[('state', 0.3767317509819851), ('years', 0.3327892249220091), ('billion', 0.1908030937497916), ('year', 0.1877659946698488), ('budget', 0.16400571233685046), ('states', 0.138062226425519), ('spending', 0.13744103476353764), ('united', 0.11238461089838314), ('debt', 0.10995735847870362), ('time', 0.0908296938549165)]\n",
            "\n",
            "\n",
            "Topic 8: \n",
            "[('000', 0.3018978890815219), ('year', 0.2885774975465756), ('people', 0.2274215623165743), ('trump', 0.13858485290423903), ('states', 0.1384837712003154), ('united', 0.13240041499847022), ('donald', 0.12473356465577652), ('says', 0.12180603072199064), ('federal', 0.09344595369829468), ('pay', 0.09288520239457337)]\n",
            "\n",
            "\n",
            "Topic 9: \n",
            "[('taxes', 0.3550073974499498), ('years', 0.2357391658032196), ('states', 0.23292854256565937), ('jobs', 0.21297710684085502), ('cut', 0.18466364669029087), ('united', 0.1677705366231615), ('created', 0.12193785781118947), ('new', 0.11215878813902601), ('budget', 0.10623512794686736), ('care', 0.07916632347370066)]\n",
            "\n",
            "\n"
          ]
        }
      ]
    },
    {
      "cell_type": "code",
      "source": [
        "run_lsa_and_print_topics(false_ex, num_topics=10, num_words=8)"
      ],
      "metadata": {
        "colab": {
          "base_uri": "https://localhost:8080/"
        },
        "id": "5zov8eRJDcs3",
        "outputId": "41b2fe75-0cd2-47e7-f562-44445818fa0e"
      },
      "execution_count": null,
      "outputs": [
        {
          "output_type": "stream",
          "name": "stdout",
          "text": [
            "Topic 0: \n",
            "[('says', 0.3716600900944513), ('health', 0.2586232651783615), ('obama', 0.24437234218678325), ('care', 0.23830687681912935), ('president', 0.20442530931130778), ('percent', 0.18173728390151375), ('barack', 0.18104869198149404), ('tax', 0.18081235856665118), ('state', 0.1534178720587333), ('000', 0.13397391791148933)]\n",
            "\n",
            "\n",
            "Topic 1: \n",
            "[('health', 0.5355904255668226), ('care', 0.5091066246089576), ('law', 0.1595257686969578), ('insurance', 0.1192151005869636), ('government', 0.09654055012663408), ('reform', 0.07643417675581841), ('plan', 0.05594020696262338), ('affordable', 0.05283670733929387), ('takeover', 0.05013713080448965), ('federal', 0.04910462984812852)]\n",
            "\n",
            "\n",
            "Topic 2: \n",
            "[('obama', 0.4315331799263446), ('barack', 0.3643249308791459), ('president', 0.3560833232867857), ('health', 0.2542460386388046), ('care', 0.241266501045214), ('obamas', 0.073317568616281), ('law', 0.06359684982892312), ('muslim', 0.04831300282624229), ('insurance', 0.03917870022482461), ('going', 0.03292846567789169)]\n",
            "\n",
            "\n",
            "Topic 3: \n",
            "[('says', 0.360056875314169), ('tax', 0.2953719309074515), ('voted', 0.19646854625912397), ('taxes', 0.1859310905951109), ('security', 0.12090413227180799), ('clinton', 0.11944547716025712), ('hillary', 0.1175086481148437), ('social', 0.11553110600082783), ('plan', 0.10541012332893981), ('increase', 0.10273956482404759)]\n",
            "\n",
            "\n",
            "Topic 4: \n",
            "[('tax', 0.5734130397811108), ('percent', 0.2862734489313288), ('increase', 0.20736993381063623), ('taxes', 0.12828135988200434), ('income', 0.1092072550629079), ('middle', 0.105086064775892), ('history', 0.10406052243082868), ('class', 0.10241860183318927), ('largest', 0.09377472271750685), ('rate', 0.09346809658018335)]\n",
            "\n",
            "\n",
            "Topic 5: \n",
            "[('percent', 0.6206428601319919), ('unemployment', 0.16158887202043634), ('rate', 0.13813496704315592), ('states', 0.09364537749701925), ('state', 0.08648785954567849), ('says', 0.06568574361099203), ('said', 0.06424573986704982), ('clinton', 0.06101099987971573), ('united', 0.060456223421193125), ('hillary', 0.060290333077220086)]\n",
            "\n",
            "\n",
            "Topic 6: \n",
            "[('state', 0.527130800795791), ('billion', 0.2146762394939011), ('scott', 0.15756019004737612), ('tax', 0.13925142188558864), ('budget', 0.13066516771765715), ('president', 0.11777557569313746), ('walker', 0.1177166705422467), ('new', 0.11597017301547216), ('wisconsin', 0.11109443652039204), ('gov', 0.10998985317968998)]\n",
            "\n",
            "\n",
            "Topic 7: \n",
            "[('security', 0.3706851961423019), ('social', 0.34723953986316874), ('years', 0.24729410733967047), ('medicare', 0.23425316398169452), ('states', 0.23303689024534505), ('united', 0.19294126982528043), ('illegal', 0.15799206873429733), ('voted', 0.15461831158581968), ('billion', 0.14987781351937662), ('state', 0.12443192950967066)]\n",
            "\n",
            "\n",
            "Topic 8: \n",
            "[('scott', 0.23008833616321733), ('medicare', 0.21716963560669914), ('security', 0.20761340771473985), ('percent', 0.20043391010715156), ('social', 0.19916619031350913), ('billion', 0.19295172487138795), ('walker', 0.17995922539762227), ('gov', 0.16593883765912232), ('taxes', 0.13692053099374188), ('obamacare', 0.119234157706368)]\n",
            "\n",
            "\n",
            "Topic 9: \n",
            "[('clinton', 0.3667832625282253), ('hillary', 0.3130702595087339), ('state', 0.30401000443331955), ('people', 0.16833904508447584), ('security', 0.1368350630350647), ('social', 0.11683207427249288), ('obamacare', 0.09032683961691357), ('billion', 0.07814824721469128), ('new', 0.07567136170501039), ('dont', 0.0730666295372615)]\n",
            "\n",
            "\n"
          ]
        }
      ]
    },
    {
      "source": [
        "!pip install vaderSentiment"
      ],
      "cell_type": "code",
      "metadata": {
        "colab": {
          "base_uri": "https://localhost:8080/"
        },
        "id": "UWY_9ZJnJMnX",
        "outputId": "c441a27a-aa35-4e20-a9fa-5d1067513fe3"
      },
      "execution_count": null,
      "outputs": [
        {
          "output_type": "stream",
          "name": "stdout",
          "text": [
            "Collecting vaderSentiment\n",
            "  Downloading vaderSentiment-3.3.2-py2.py3-none-any.whl (125 kB)\n",
            "\u001b[2K     \u001b[90m━━━━━━━━━━━━━━━━━━━━━━━━━━━━━━━━━━━━━━━━\u001b[0m \u001b[32m126.0/126.0 kB\u001b[0m \u001b[31m1.2 MB/s\u001b[0m eta \u001b[36m0:00:00\u001b[0m\n",
            "\u001b[?25hRequirement already satisfied: requests in /usr/local/lib/python3.10/dist-packages (from vaderSentiment) (2.31.0)\n",
            "Requirement already satisfied: charset-normalizer<4,>=2 in /usr/local/lib/python3.10/dist-packages (from requests->vaderSentiment) (3.3.2)\n",
            "Requirement already satisfied: idna<4,>=2.5 in /usr/local/lib/python3.10/dist-packages (from requests->vaderSentiment) (3.6)\n",
            "Requirement already satisfied: urllib3<3,>=1.21.1 in /usr/local/lib/python3.10/dist-packages (from requests->vaderSentiment) (2.0.7)\n",
            "Requirement already satisfied: certifi>=2017.4.17 in /usr/local/lib/python3.10/dist-packages (from requests->vaderSentiment) (2024.2.2)\n",
            "Installing collected packages: vaderSentiment\n",
            "Successfully installed vaderSentiment-3.3.2\n"
          ]
        }
      ]
    },
    {
      "cell_type": "code",
      "source": [
        "from vaderSentiment.vaderSentiment import SentimentIntensityAnalyzer"
      ],
      "metadata": {
        "id": "KILDVDnuDzRC"
      },
      "execution_count": null,
      "outputs": []
    },
    {
      "cell_type": "code",
      "source": [
        "analyzer = SentimentIntensityAnalyzer()\n",
        "def extract_compound_sentiment(statement: str) -> float:\n",
        "    return analyzer.polarity_scores(text=statement)[\"compound\"]\n",
        "\n",
        "def extract_pos_sentiment(statement: str) -> float:\n",
        "    return analyzer.polarity_scores(statement)[\"pos\"]\n",
        "\n",
        "def extract_neg_sentiment(statement: str) -> float:\n",
        "    return analyzer.polarity_scores(statement)[\"neg\"]\n",
        "\n",
        "def extract_neu_sentiment(statement: str) -> float:\n",
        "    return analyzer.polarity_scores(statement)[\"neu\"]"
      ],
      "metadata": {
        "id": "c7aK2JdtJCY4"
      },
      "execution_count": null,
      "outputs": []
    },
    {
      "cell_type": "code",
      "source": [
        "true_compound = true_ex.statement.apply(lambda x: extract_compound_sentiment(x))\n",
        "px.histogram(true_compound, x=true_compound.values, labels={\"x\": \"polarity\"}, title=\"True Compound Polarity\")"
      ],
      "metadata": {
        "colab": {
          "base_uri": "https://localhost:8080/",
          "height": 542
        },
        "id": "YhlX8FKRJppf",
        "outputId": "a741299d-23dc-44cc-92c0-dd5c8bb7e119"
      },
      "execution_count": null,
      "outputs": [
        {
          "output_type": "display_data",
          "data": {
            "text/html": [
              "<html>\n",
              "<head><meta charset=\"utf-8\" /></head>\n",
              "<body>\n",
              "    <div>            <script src=\"https://cdnjs.cloudflare.com/ajax/libs/mathjax/2.7.5/MathJax.js?config=TeX-AMS-MML_SVG\"></script><script type=\"text/javascript\">if (window.MathJax && window.MathJax.Hub && window.MathJax.Hub.Config) {window.MathJax.Hub.Config({SVG: {font: \"STIX-Web\"}});}</script>                <script type=\"text/javascript\">window.PlotlyConfig = {MathJaxConfig: 'local'};</script>\n",
              "        <script charset=\"utf-8\" src=\"https://cdn.plot.ly/plotly-2.24.1.min.js\"></script>                <div id=\"9d59a3bb-25af-4d14-8d9b-045e97c9bd4f\" class=\"plotly-graph-div\" style=\"height:525px; width:100%;\"></div>            <script type=\"text/javascript\">                                    window.PLOTLYENV=window.PLOTLYENV || {};                                    if (document.getElementById(\"9d59a3bb-25af-4d14-8d9b-045e97c9bd4f\")) {                    Plotly.newPlot(                        \"9d59a3bb-25af-4d14-8d9b-045e97c9bd4f\",                        [{\"alignmentgroup\":\"True\",\"bingroup\":\"x\",\"hovertemplate\":\"polarity=%{x}\\u003cbr\\u003ecount=%{y}\\u003cextra\\u003e\\u003c\\u002fextra\\u003e\",\"legendgroup\":\"\",\"marker\":{\"color\":\"#636efa\",\"pattern\":{\"shape\":\"\"}},\"name\":\"\",\"offsetgroup\":\"\",\"orientation\":\"v\",\"showlegend\":false,\"x\":[0.3612,0.3182,0.0,-0.4601,0.25,0.0,0.0,0.6124,-0.5106,0.0,0.0,0.0,0.0,0.0,0.7269,0.6369,0.5719,-0.5719,0.687,-0.4404,0.0,-0.2033,0.0,0.0772,0.0,0.34,-0.6124,-0.2732,-0.7003,0.0,-0.4588,0.0,0.0,0.0,0.0,0.128,0.0,0.7269,0.5719,-0.5719,-0.7506,0.128,-0.4939,-0.2732,-0.34,0.0,0.0,0.0,-0.7845,-0.7003,0.0,0.4939,0.0,0.1027,-0.1027,-0.9014,-0.25,-0.1531,-0.6597,0.0,0.0,-0.2023,-0.296,-0.4404,0.0,0.0,0.296,0.0,0.431,-0.3612,0.0,-0.5574,-0.2732,0.4939,-0.7184,0.0,-0.3612,0.0,0.6486,0.0,0.7184,0.6705,0.0,0.75,0.0,0.0,0.0,0.0,0.0,0.7783,0.5106,0.34,0.0,-0.0534,-0.1779,0.0,0.0,0.0,0.5267,-0.0258,-0.5106,-0.4404,-0.5994,0.0,-0.6597,0.5106,-0.5574,0.2732,0.7693,-0.4767,0.0,0.4215,0.7783,-0.3597,0.0,-0.2714,-0.2732,0.0,-0.5267,-0.1027,0.5106,0.4939,0.5267,-0.2755,0.0,0.0,0.4019,-0.1779,0.0,-0.4019,-0.4767,-0.4588,0.5267,0.7299,-0.5994,0.0,0.0,-0.2732,0.0,0.0,-0.4767,0.4215,0.0,0.0,0.0,0.0,0.4019,0.0,0.3818,-0.6808,-0.3182,-0.8519,0.6124,-0.1779,0.3612,0.4019,0.0,-0.1265,-0.802,0.3818,-0.8934,-0.4404,-0.5574,0.0,-0.3612,0.4588,0.8195,-0.2057,0.3612,-0.6894,0.0,-0.7579,0.6705,0.0,-0.0772,0.0,0.1063,0.0,0.0,-0.5574,-0.0772,-0.4215,0.0,-0.296,0.0,0.5719,-0.128,0.3089,0.128,-0.0094,-0.1689,-0.296,0.2263,-0.3818,0.3818,0.0,0.4588,-0.2732,0.0823,-0.3818,0.0,0.4215,0.2648,-0.3612,0.0,-0.296,-0.3612,0.4588,-0.3412,0.25,0.4939,0.34,0.7184,-0.4019,0.0,-0.3182,0.3182,0.0,-0.2732,0.0,-0.5994,-0.6908,-0.6369,-0.2263,-0.3818,-0.5994,0.0,0.0,0.0,0.0,-0.6711,0.0,0.2732,-0.9201,0.2235,-0.296,0.3489,-0.2732,0.0,-0.6597,-0.5994,0.0,0.0,0.3182,-0.296,0.077,0.0,-0.3217,-0.5574,0.25,0.0,0.128,0.1548,-0.3818,0.3612,0.0,0.0,0.3089,-0.6369,0.0,0.0,0.0,-0.7906,0.0,0.3182,0.1779,0.0,-0.6249,0.2732,-0.8225,-0.6249,0.0,0.0,-0.8625,0.6597,-0.743,-0.2682,-0.5267,-0.0258,0.0114,-0.25,0.3612,0.0,0.4404,0.4767,0.4443,-0.2867,0.4019,0.0,-0.6597,0.6124,0.0,-0.891,0.2732,0.0,0.0,0.5859,0.8519,-0.4215,0.0,0.6486,-0.2023,0.0,-0.3182,-0.25,0.5574,-0.4019,0.0,0.0,-0.296,0.0,-0.5106,0.25,0.4019,-0.3612,-0.0572,-0.8591,0.0,0.0,0.0,0.6124,0.0,0.5719,-0.5256,-0.2263,-0.3612,-0.7184,0.5574,-0.5574,-0.3612,0.0,0.0,0.802,-0.3612,0.3182,0.0,-0.7564,0.0,0.4215,0.0,-0.4939,0.0,0.7783,0.3182,0.0,0.4019,0.7003,-0.4019,-0.4939,-0.0572,0.2815,0.0,0.4215,-0.128,0.0,-0.7506,0.0,0.128,-0.4019,0.4215,0.0,0.7506,-0.1027,0.8779,-0.886,-0.5106,-0.6757,0.0,0.2732,0.25,0.0,0.0,0.0,0.0,0.6249,-0.3182,-0.7717,-0.5994,-0.8442,0.4499,-0.8074,-0.5994,0.0,0.6124,0.0772,0.0,-0.4576,-0.6249,0.5719,0.0,0.4939,0.1779,0.4767,0.0,0.0,0.4019,0.0,-0.1027,0.0772,0.0,0.0,-0.128,-0.4201,0.5994,0.4364,0.6124,0.4939,0.0,0.4215,-0.1027,0.7351,0.264,-0.296,0.0,0.0,0.296,0.0,0.7184,0.0,-0.0772,0.0,-0.5859,0.0,-0.5106,-0.5106,0.4215,-0.6908,0.0,-0.4877,0.0516,-0.4588,0.2023,-0.0258,-0.296,0.0,0.0,-0.4767,0.3612,0.6124,-0.6124,0.0,0.0,0.7876,0.4215,-0.0516,0.0,0.4215,0.358,0.34,0.0,0.0,-0.128,0.4215,0.0,0.4939,-0.1027,-0.3182,0.0,-0.296,0.0,0.5574,0.0,0.0,0.0,-0.0258,0.0,0.3612,-0.5719,-0.4939,0.0772,-0.128,0.0,-0.765,-0.296,0.0,0.0,-0.2732,0.5233,0.0,-0.5106,0.0,-0.4215,-0.1027,0.7351,0.0,-0.9119,0.5423,0.4215,-0.3612,0.5994,0.0,0.3818,0.0,0.0,0.0,0.4019,0.3774,0.4019,-0.34,-0.25,0.0,0.4767,-0.3818,0.4215,0.0,-0.4404,0.7845,0.0,0.0,0.0,-0.3818,0.0,0.0,0.0,-0.4939,0.0,0.0,-0.3975,0.5859,0.0,0.0,0.0,0.7096,0.4522,0.0,-0.4588,-0.8481,0.6369,-0.3182,0.25,-0.3566,0.2732,-0.4019,-0.34,-0.34,-0.8658,0.0,-0.4019,-0.6486,0.0,0.4019,0.0,-0.5574,0.0,0.0,0.3382,-0.0516,-0.1027,0.0,-0.6326,-0.3252,-0.4767,0.0258,0.0,0.2023,-0.6705,-0.5423,0.0,0.4215,0.0,-0.6486,-0.4767,0.0,0.0772,0.0,0.6369,0.0772,0.0,-0.4404,0.8074,0.0,0.0,0.0,-0.1027,0.3612,0.0,0.0,-0.3612,0.0,-0.3566,0.044,0.2607,0.0,-0.4767,-0.6597,0.0,-0.4391,0.0,-0.5106,0.25,0.4939,-0.6705,0.0,0.7717,0.0,0.0,-0.5106,-0.5994,0.128,0.0,0.3818,-0.4215,-0.6405,0.0,0.128,-0.5423,0.3182,0.7783,0.2732,-0.5574,0.0,-0.5994,0.0,0.6486,0.4939,-0.8588,0.0,0.0,0.0,-0.1779,0.0,0.0,0.0,0.0,0.4939,0.2732,-0.9287,0.0772,0.128,0.0,0.3818,-0.5267,0.0,0.4404,0.6705,0.2023,-0.8625,0.4215,-0.3612,0.2732,0.3612,0.9274,0.0,-0.2263,-0.4404,0.0,-0.0762,-0.0516,-0.1779,0.0,-0.2924,0.3818,0.0,0.0,-0.296,-0.4588,0.3632,0.0,0.3818,0.0,-0.3182,-0.91,0.4215,0.0,-0.8316,0.3612,0.0,0.2263,0.7184,-0.2732,0.34,0.577,0.0762,-0.296,0.25,0.0,-0.5423,0.0,-0.7024,0.577,0.4751,0.1027,-0.296,-0.5106,-0.1027,-0.2263,0.0,-0.2263,0.5562,0.0,0.0,0.0,0.0,0.0,0.0,0.0,0.0258,-0.872,0.0,0.0,0.0516,0.6808,0.0,-0.5719,0.6249,0.0,0.0,0.0,0.0,0.2263,0.4939,0.5859,0.0,0.0,0.0644,0.0,0.7717,0.2263,0.0,0.0,0.0,0.0,0.0772,0.3883,-0.2924,0.5267,0.5574,0.0,0.0,0.6486,0.4019,0.4215,0.0,-0.25,0.3724,-0.296,0.4215,0.6908,0.0,0.0,0.0,-0.3089,0.0,-0.9104,0.0258,0.0,0.0,-0.1027,-0.4767,0.0,0.0,0.25,0.2023,-0.296,0.34,-0.7845,-0.5423,0.128,0.0,0.0,0.5859,0.34,0.0,0.4939,-0.3818,0.4215,-0.836,-0.0083,-0.6249,0.6124,0.25,-0.802,0.0,-0.296,-0.3612,0.0,0.5499,0.2023,-0.6808,0.2023,0.3612,-0.4404,0.0,0.0,0.2732,0.0,-0.3612,0.0,0.0,0.0,0.0,0.4767,0.0,0.0,0.296,0.0,-0.0258,0.4939,0.0,-0.5719,0.296,0.0,0.1511,0.5267,0.0,0.0516,-0.4215,0.3818,-0.34,-0.296,0.0,0.2263,0.4939,0.3612,0.4019,0.0,-0.5563,0.0,0.2023,0.7178,0.0,-0.6872,-0.2846,0.0,-0.3612,0.6486,0.0,-0.6249,-0.3818,-0.5423,-0.3818,-0.3612,0.1461,0.0258,0.0,-0.6652,0.4215,0.0,0.5499,0.0,0.0,0.0,-0.296,-0.3089,-0.4939,-0.802,0.0,-0.5267,-0.3182,0.5574,0.0,0.6705,0.4019,0.0,-0.2263,-0.1779,0.0,0.0,0.0,0.0,0.2732,0.5423,0.0,0.0,-0.3182,0.9423,0.6124,-0.8689,-0.4767,0.0,-0.4404,0.296,-0.7579,-0.4588,0.0,0.0,0.0,0.2732,0.0,0.1531,0.0516,-0.4019,-0.1027,0.0,0.7184,0.4019,0.25,0.0,-0.6486,-0.3182,0.0,0.0,0.0,-0.7717,0.7003,-0.5859,-0.296,0.0,0.0,0.0,0.0,0.4404,-0.4019,0.0,0.4939,-0.8591,-0.5994,-0.6369,0.0,0.0,0.0,0.1779,0.0,-0.3818,-0.5859,0.128,0.0,0.3182,0.0,-0.296,-0.4404,-0.8481,0.0,-0.1531,0.4767,0.0,0.7717,-0.3818,0.7184,0.4404,-0.3208,-0.4215,-0.1984,0.5106,0.0,0.0,0.0,0.4939,-0.3612,0.0,0.5267,0.0,0.0,0.3182,0.0,0.0,0.2023,0.0,-0.4404,0.0,0.0,0.7003,0.0,-0.743,0.34,0.0,0.0,0.0,0.802,0.3818,0.34,-0.8442,-0.2263,0.0,-0.2732,0.0,0.0,-0.8442,-0.128,-0.0772,0.4166,-0.7845,0.0,0.7783,-0.5574,0.0,-0.4215,-0.6486,0.0,0.4939,0.1779,0.1045,0.0,0.5059,0.0,0.0,0.0,0.0,0.5994,0.0772,0.6537,-0.5719,-0.8115,0.1531,0.4939,0.2732,0.0,0.0,0.7269,0.7202,0.0,0.4939,0.0,0.0,-0.4774,0.2023,0.0,-0.4404,0.4939,0.0,0.0,0.34,0.0,-0.296,0.0,-0.4404,0.0,0.5719,0.5267,0.34,0.34,-0.7184,-0.7184,0.0,0.0,-0.5574,-0.3818,-0.296,-0.2782,0.4939,0.0,0.0,-0.1027,-0.6808,-0.8225,0.0,-0.6908,-0.7964,-0.2023,0.0,0.4215,-0.5106,-0.34,0.0,-0.3182,0.0,-0.5106,-0.3818,0.0,-0.8126,0.3612,-0.5994,-0.5106,0.0,0.128,0.4767,-0.5719,-0.5358,0.0,0.0,0.0516,0.0,-0.8873,0.0,0.0,-0.6259,0.5574,0.0772,-0.1808,0.0,-0.6908,0.4215,0.0,-0.1531,0.5574,-0.1027,-0.296,0.1045,-0.4802,0.0,0.0,0.0,-0.0516,0.5859,0.2732,0.0,0.2023,0.0,0.4019,0.3818,-0.6369,0.8074,0.0,0.25,0.3612,0.0,0.0772,0.6908,0.0,0.3818,-0.7351,-0.34,0.0,0.4939,0.0516,-0.0772,0.0,0.3818,-0.5994,-0.1779,0.7311,0.5574,0.516,-0.5719,-0.4767,0.34,0.0,-0.2185,0.0,0.0,-0.7599,-0.6678,-0.2263,0.4939,0.0,0.2702,-0.6597,0.3182,0.128,0.3818,0.4939,0.0,-0.1027,0.0,0.0,0.0,0.0772,-0.1695,0.0,-0.128,0.0,0.0,0.6239,0.4404,-0.4939,-0.624,0.0,-0.4019,-0.7346,-0.6249,0.6166,0.8622,0.1779,-0.3628,0.4404,0.0,0.296,0.3818,0.0,-0.128,0.0,-0.5859,0.0,0.0,0.0,0.0,0.0,-0.5994,0.0,0.1027,0.0,0.0,-0.8402,-0.5106,-0.296,-0.4951,0.1531,0.4939,-0.4404,0.0,0.4588,0.4588,0.2263,0.3612,0.0,-0.4215,0.0,0.2732,0.6124,0.0,0.2732,0.0,-0.296,0.0,-0.5267,0.0,0.6124,0.3818,0.0772,-0.0754,-0.25,0.0,-0.6249,0.7003,0.0,0.0,0.0,0.7351,-0.2732,0.0,-0.3182,-0.296,0.0772,0.0,-0.5574,0.4939,0.5423,0.0772,-0.296,0.3182,-0.9287,0.0258,0.0,-0.34,0.4404,0.5719,0.0,0.0,0.0,0.0,-0.34,-0.1027,0.6369,-0.7906,-0.5423,0.0,0.5034,0.2933,0.0,-0.25,-0.3818,0.765,-0.7003,0.0,0.5233,-0.9201,-0.3818,0.0,0.0,0.5267,0.4215,0.0,-0.8591,-0.4404,0.0,0.7269,0.0,0.4939,-0.4404,-0.7645,-0.6783,-0.4939,0.5574,0.4019,0.0,0.5106,-0.2732,0.3818,-0.8481,0.0,0.0,0.3182,0.7506,-0.0258,0.4019,0.4019,0.0,-0.3818,-0.743,0.3047,-0.5574,-0.1027,-0.6808,-0.5574,0.0,0.3818,0.4215,0.9153,0.0,0.0,0.128,-0.2023,-0.9521,0.4203,0.2263,0.0,-0.6908,-0.4023,-0.5994,0.0,0.2023,0.0,0.0516,0.0,0.4939,-0.128,-0.3612,-0.4939,0.2023,0.4019,-0.3818,0.4767,0.0,-0.7964,0.0,-0.3595,0.0,-0.296,-0.6682,0.0,0.1779,0.0,-0.4404,-0.3875,-0.2732,0.1779,0.0,0.0,-0.7845,-0.296,0.0,-0.5423,0.3818,-0.5984,0.0,0.0,0.0,0.0,-0.296,-0.7003,0.0,0.0,0.0,0.4019,-0.7506,0.4939,0.0,0.0,0.0,-0.5423,0.2732,0.0,0.7579,-0.5423,-0.4404,0.0,0.0,0.0,-0.2732,-0.8126,-0.3724,0.0,-0.9022,-0.7579,0.0,-0.802,0.4939,0.0,0.0,0.0,0.0,0.0,-0.296,0.3612,0.1779,0.0,0.0,0.0772,0.4767,0.0,-0.3818,0.0,0.128,-0.3612,0.2732,-0.6126,-0.5267,-0.2732,-0.5859,-0.8207,0.0,0.3612,0.0,0.2023,0.2732,0.0258,-0.5574,0.4019,0.0762,-0.7579,-0.3612,0.0,-0.3612,-0.4939,0.296,0.0,0.3182,-0.765,0.0,0.2732,-0.5106,0.0,-0.6486,-0.4767,0.0258,0.0,0.0762,-0.7003,-0.4549,0.0,-0.6908,0.4767,-0.0772,-0.6486,0.128,0.0,0.6486,0.4215,0.0258,-0.8834,0.3612,0.6007,0.0,0.0258,-0.6003,0.0,-0.4588,-0.4404,0.2732,0.0,0.3911,0.0,0.0,0.0,0.34,0.0,-0.2607,0.0,-0.8591,0.0,-0.5994,0.0,0.0352,0.0,-0.2732,-0.2263,-0.6124,0.4215,-0.8126,-0.6705,-0.2732,0.0,0.0,0.5574,0.1779,0.5859,0.0,0.3182,-0.3612,0.2732,0.3182,-0.6486,0.3612,0.0,0.0,0.4019,0.204,-0.6705,-0.6994,0.4019,-0.8439,0.0,0.0,-0.1779,0.5574,-0.7717,-0.4767,0.0,0.4939,0.5106,-0.4404,-0.5037,-0.0258,0.0,-0.4404,0.4215,0.4215,-0.6808,0.0,0.0,0.0,-0.6705,-0.2263,0.6705,0.0,0.0,-0.2732,0.0,-0.5423,0.25,-0.7506,-0.5106,-0.0516,0.0,0.34,0.0,-0.3818,0.7351,-0.1027,-0.4215,-0.3818,0.3818,0.0,0.0,0.6486,0.25,-0.1027,0.0,0.0,0.4019,-0.5859,-0.3818,-0.5499,0.0,0.0,0.0,0.4939,-0.25,-0.5423,0.0,-0.34,-0.6249,0.0,0.0,-0.6597,0.0,-0.5848,0.5994,-0.3252,0.34,0.0,0.0,0.2023,0.0,0.4939,-0.4215,0.0,-0.2052,0.6369,0.7579,0.0,0.0,0.1531,0.8625,0.128,-0.5719,0.0,0.0,0.0,0.1027,-0.2732,0.0,0.0,0.128,0.2023,0.0,0.9423,0.0,0.0,0.0772,0.5423,0.0,0.0,0.0772,-0.4767,0.5574,0.0,0.296,0.0,-0.3818,-0.6597,0.0,0.0,0.0,-0.4215,0.0,0.2263,0.0,0.0,0.25,0.3182,-0.6705,0.0,-0.4019,-0.4939,0.6486,0.0,0.9313,-0.6808,0.3612,-0.3597,0.0,0.0,-0.2023,-0.3089,-0.9744,0.4939,0.1406,0.0,0.7906,0.0,-0.5256,-0.4588,0.0,0.0,-0.5423,0.0,0.3182,0.0,0.1027,-0.2732,0.4215,-0.4767,-0.296,0.0,0.0,0.0,0.25,0.6915,0.0,-0.2732,0.0,0.0,0.0,-0.5719,0.0258,0.0,0.0,-0.4939,-0.5859,0.0,0.0,-0.4019,-0.7579,0.4767,0.0,0.0,0.4215,0.25,0.0,0.3182,0.25,-0.4939,0.0,0.0,-0.8519,-0.4019,-0.3612,0.0,-0.6908,-0.765,0.0,0.7506,0.3612,-0.2023,0.0,0.0,0.1531,-0.6872,0.0,0.0,-0.34,0.0,0.0,0.0,0.5367,0.0,-0.5423,-0.1779,-0.7906,0.0,0.0,0.5719,0.6124,0.6362,0.0,-0.8126,0.0,0.7783,-0.6808,0.5859,-0.0772,0.0,0.2023,-0.3182,0.0,0.4215,-0.8885,0.4939,0.0,0.561,0.4939,0.4397,0.128,-0.3612,0.1531,-0.3182,-0.3818,-0.6249,0.4588,-0.4019,0.6369,0.4215,0.0,-0.4404,-0.5106,-0.128,0.5106,0.4215,0.5209,0.0,0.0,0.4404,0.0,0.6369,-0.6597,0.7717,-0.743,0.0,0.0,-0.0258,0.25,0.4522,0.0,-0.5574,0.0,0.34,-0.3612,0.34,-0.296,0.0,0.891,0.0,-0.624,-0.9287,0.2732,0.7192,0.0,-0.5106,0.0,0.4215,0.0,-0.3612,0.4019,-0.5574,0.0,0.0,0.0,0.0,0.0,-0.3612,0.0,0.0,0.0,0.0,-0.296,0.0772,0.0,0.0772,0.34,0.25,0.0,0.0,0.0,-0.1027,-0.296,-0.296,0.4404,-0.0,0.4767,-0.2732,0.0,0.0,0.0,0.4767,0.0,-0.743,0.4767,0.2023,-0.802,-0.6249,-0.8979,0.0,-0.079,0.0,-0.2023,0.5727,0.0,-0.3054,-0.5423,-0.7269,0.0,0.0,0.0,0.2732,0.743,0.0,0.0108,0.4939,-0.5574,0.0,0.0,0.0,0.4588,0.0772,0.3612,0.6808,0.0,0.0,-0.7717,-0.0007,-0.2263,0.7184,0.0,0.0,0.0,0.6808,-0.2411,-0.6124,-0.5574,0.0,-0.7043,-0.8481,0.4215,-0.296,0.1027,0.0,0.4585,0.25,0.0,-0.4019,0.0,0.0,0.0,0.0,0.0,0.128,-0.2997,0.5994,0.0,-0.4404,0.4767,0.5574,0.7684,-0.5423,0.2732,-0.8225,-0.3612,0.2598,0.0,-0.1027,0.3818,0.0,-0.6597,0.4215,-0.0258,0.0,0.0,0.0,0.5859,0.0,0.0,0.0,0.0,0.0,-0.8413,-0.5574,0.0,0.0,-0.6369,0.0,0.0,-0.5423,0.0,0.0,0.0,0.0,-0.2732,-0.1779,-0.9623,0.0,0.8225,-0.296,-0.25,-0.9692,-0.3041,0.296,-0.8689,-0.5574,0.0,-0.9333,0.8126,-0.25,0.0,0.0,0.0516,0.0,0.5719,0.6369,-0.3818,0.4215,0.0,0.0,-0.4404,0.7003,0.6369,0.3612,0.7184,0.5413,0.0,-0.1027,0.5267,0.0,0.0,-0.9382,0.4939,-0.3182,-0.34,0.0,0.7506,-0.872,0.0,-0.3612,-0.4767,-0.4201,0.7003,0.0,-0.2732,-0.7269,0.0,0.2023,-0.7717,-0.0772,0.0,0.2732,-0.4939,0.0,0.1058,0.4329,-0.3612,0.0,0.2732,0.0,0.6369,0.4215,-0.4767,0.0,-0.4019,0.0,0.4173,-0.6652,-0.0772,0.0,0.2115,0.7065,-0.5574,0.5423,0.3343,0.3818,0.0,0.0,0.2732,0.0,-0.5789,0.0,-0.4767,0.4939,-0.7717,0.2263,0.0,0.0,-0.3182,0.4588,-0.8316,-0.7269,-0.5574,0.0,0.8402,0.0,0.0,-0.296,-0.7964,0.0,-0.1027,-0.3612,-0.4767,0.4939,-0.34,0.1027,0.0,-0.9062,0.0,-0.2732,0.0,-0.3818,0.4939,0.0,0.34,0.5574,0.4404,0.5719,0.0,0.0,0.4939,-0.2732,-0.4019,0.6369,0.4019,0.2732,0.4019,0.0772,-0.4019,0.4585,-0.4588,0.4404,0.0,0.4019,0.0,0.6369,0.5046,0.0,-0.743,0.0,0.0,-0.1027,0.0,0.5719,0.7832,0.0,0.2023,-0.7003,0.0,0.0,-0.7906,0.5859,0.0,0.0258,0.4019,-0.5106,-0.6249,0.2263,0.0,0.5574,-0.1877,0.0,0.6486,0.5719,0.0,-0.5574,-0.4767,0.0772,0.6249,-0.4019,0.0,0.3182,0.2732,0.4767,-0.4215,0.0,-0.2411,0.2537,0.7964,0.2003,0.0,-0.4404,-0.1174,-0.0516,0.0516,-0.4588,0.0,0.0,0.4019,0.8316,0.4215,-0.8689,0.0,-0.3071,0.34,0.0,0.872,-0.6908,-0.3818,0.0,0.0,0.0,0.1027,0.0,0.5994,-0.8834,0.5106,0.0,-0.6705,0.0,0.5719,-0.1027,-0.0191,0.1779,0.4404,0.3818,-0.5563,0.0,-0.5574,-0.4588,-0.2732,-0.802,0.3291,-0.0516,0.0,0.4939,0.3716,-0.6705,-0.296,0.0,0.4019,0.0,0.128,0.7906,0.0772,-0.5106,0.2263,0.0,0.0,-0.163,0.4019,0.7783,0.0,-0.1531,0.4019,-0.25,-0.4767,0.0,0.0,-0.8074,0.6124,0.2737,-0.5423,0.4404,0.0,-0.296,0.128,0.0,0.7684,-0.8519,-0.3182,0.3182,0.5574,-0.4019,-0.2732,0.0,0.8074,0.7506,0.4939,-0.0772,-0.2584,-0.5719,0.0,0.4497,0.0,-0.0772,0.0,0.2023,0.0,0.296,0.2263,0.4019,-0.2201,0.0,0.743,0.296,0.0,0.4939,0.0,0.0,0.0,0.3182,-0.4767,0.0,0.5719,0.1235,-0.296,0.3818,0.0,0.0,0.0,-0.5859,0.5267,0.0,0.0,0.6908,-0.4588,0.0,0.0,0.0,0.0,-0.4404,0.0,0.0,0.3818,0.128,0.5413,0.049,-0.3612,-0.5574,0.7783,0.0,0.0,0.4767,0.5859,0.0,0.807,-0.2263,-0.2732,-0.3612,-0.3818,0.0,-0.3612,0.0,-0.9413,0.0,0.296,0.0,0.0,0.0,0.0,0.4215,0.4939,0.4019,0.0,0.0,0.0323,0.0,0.0,0.644,-0.7203,0.0,-0.4404,-0.296,0.2732,-0.5574,0.1027,0.0,-0.4404,-0.2769,0.25,0.0,0.0,0.3182,0.7506,0.3446,0.3182,-0.4019,0.4215,0.0,0.0,0.3182,-0.6808,-0.25,0.0,-0.8176,0.0,-0.2732,-0.25,0.0,0.0,0.0,0.0,-0.3182,0.5256,-0.765,0.0,0.25,0.0,-0.296,-0.2732,0.25,0.0,-0.0516,0.3818,0.0,-0.128,-0.5574,0.0,0.5719,-0.5859,0.5719,-0.2411,0.2732,-0.5994,0.0,0.0,-0.5267,-0.3818,0.1027,0.0,0.0,-0.296,0.4871,0.128,-0.7351,0.0,0.4019,-0.3818,0.34,0.0,-0.8338,0.6124,0.25,0.3612,-0.8948,-0.8074,0.296,-0.5574,0.4215,-0.296,0.4215,-0.6908,0.6124,0.0,-0.296,0.1779,0.4404,-0.7003,0.0,0.0,-0.1027,0.0,0.0772,0.4019,-0.3612,0.7906,-0.8968,-0.5574,0.0,0.0,-0.2732,0.3818,-0.2732,-0.0772,0.25,-0.3089,0.0,-0.4404,0.0,-0.0516,0.0,0.296,0.25,0.3612,0.3612,0.0,0.0258,0.0,0.4939,-0.5267,0.0,-0.4404,0.0,-0.1796,0.0,0.7964,0.0,0.0,-0.9217,-0.0516,0.3612,0.0,-0.296,0.0,0.0516,-0.1027,-0.4404,0.067,-0.25,-0.4767,0.0,0.3612,-0.3612,-0.5574,-0.1027,0.0,-0.3818,0.4282,0.0,-0.4019,0.3182,0.0,-0.2023,0.0,-0.1779,0.6369,0.2263,-0.2023,-0.5365,-0.6478,0.0762,0.0,-0.4404,0.0,0.0,-0.296,0.0,0.3182,-0.25,0.0,0.296,0.0,0.25,0.0,0.0,0.0,0.0,0.0,0.0,-0.296,-0.5994,0.4902,0.0,0.0,-0.6124,-0.1027,0.2732,0.2584,0.5719,-0.6908,0.4617,0.0,0.0,0.0,0.0772,0.5106,-0.7783,0.2263,0.0,-0.1511,0.0,0.6249,0.0,-0.5106,0.0,-0.6369,0.4404,0.0,-0.552,0.7841,0.0,0.2732,0.0,0.3353,0.0,-0.7906,0.836,0.0,0.6597,-0.7906,0.0258,0.6486,-0.3595,0.5423,-0.4767,0.4215,-0.1779,0.5859,-0.3818,0.0,-0.8481,0.3182,0.8689,0.0,-0.7003,-0.6705,0.0,0.0,-0.1027,-0.8481,0.0,0.0,0.0,0.3182,0.2732,0.0,0.0,-0.4588,-0.5859,0.0,-0.5267,0.0772,0.4404,-0.1027,0.3182,0.0,-0.7579,0.4019,-0.7096,0.4754,0.3612,-0.2732,0.5267,0.0,-0.5574,0.7391,0.4939,0.5719,0.0,-0.7269,0.6249,0.7845,0.6705,0.0,0.2605,0.0,0.4939,0.5574,0.0,0.0,0.128,-0.8824,0.0,-0.7351,0.0,-0.4404,-0.0772,0.0,0.0,0.0,0.0,0.0,0.0,0.4939,0.0,0.0,0.0,0.702,0.0,0.3182,0.128,0.4215,0.0,0.0,0.0516,-0.6369,0.6486,0.4019,0.4215,0.0,-0.2732,-0.6908,0.25,-0.5859,0.0,-0.1027,0.2023,-0.0772,-0.7906,0.3786,0.3818,-0.128,0.4939,0.4588,0.0,0.4939,0.4404,-0.5574,0.0,-0.6278,0.3182,-0.3875,0.5423,0.0,0.0,0.0,-0.4939,0.0,-0.3818,0.4215,0.5106,-0.6249,-0.5574,0.0,0.128,0.0,0.0,-0.6808,-0.6705,-0.6901,0.6705,0.0772,0.5719,0.4215,0.4926,0.0,0.3182,0.0,0.4767,0.25,0.4767,0.128,0.0,-0.6597,0.0,-0.3353,0.0,-0.25,0.5267,0.0,-0.3724,-0.5106,0.0,0.5719,0.4404,0.2732,0.2732,0.0,-0.4404,0.0,-0.2732,0.0,0.0,0.2023,0.0,0.0,0.0,-0.128,0.0,-0.296,-0.5719,0.0,0.0,-0.8126,0.0,-0.5267,-0.2732,-0.4019,0.3818,-0.128,-0.6124,0.5106,0.5267,0.4404,0.0,0.8078,0.8074,0.0,0.0,0.2263,0.0,0.3346,0.5106,0.0,0.296,0.7196,-0.4404,-0.5106,-0.4215,-0.8176,0.6633,-0.5318,-0.8074,0.0,0.0,-0.3753,0.4215,0.2023,0.4939,-0.3612,-0.3182,0.0,0.3182,0.0,-0.4404,-0.5423,-0.3182,-0.296,0.0,0.6319,0.3182,-0.5859,0.34,0.0,-0.4588,0.4019,0.0,0.6597,0.0,-0.4215,0.0,0.0,-0.5574,0.3612,0.2732,-0.1027,-0.0772,-0.7522,-0.3818,-0.7506,-0.5859,0.4939,0.4215,0.4939,-0.5574,0.0,0.4222,0.6369,-0.3612,0.0,0.4939,-0.6402,-0.296,0.0,0.34,-0.5106,0.0,-0.128,0.0,-0.2732,0.0,0.0,-0.872,-0.4939,0.4019,-0.4588,-0.5719,-0.5106,0.4939,0.0,-0.4215,0.1779,-0.3612,0.0,-0.6597,-0.8074,0.3612,-0.7579,0.2748,-0.3182,0.0,-0.9287,-0.5267,0.3818,-0.128,0.3612,0.0,0.0,0.0,0.2263,0.0,-0.0772,0.5106,0.0,-0.6218,0.0,-0.0516,-0.9545,0.0,0.0,0.2023,0.2023,0.1124,-0.5574,0.0,0.0,-0.4215,0.0,0.0772,0.0,0.0,-0.6369,-0.1027,0.0,0.6249,-0.2732,-0.925,0.4215,-0.2732,0.3134,-0.4767,0.4215,-0.7274,0.0,0.128,0.3818,0.0,0.0,0.5719,0.2732,-0.34,0.0,-0.6249,-0.3612,0.7269,-0.765,0.4939,0.0,0.0,0.0,0.3182,0.0,0.0,0.25,0.0,0.25,0.4767,0.0,-0.5994,-0.2732,0.0,-0.4926,0.7089,0.0,-0.296,0.0,0.0,-0.5423,0.0,0.0,-0.8207,0.25,-0.3291,-0.4404,0.3612,0.0,0.0,-0.4019,0.6602,-0.2263,0.2023,0.0,-0.936,0.0,0.3182,-0.1027,0.0,0.3182,0.1779,0.2732,-0.4404,-0.0772,0.9114,0.2732,-0.1027,0.0,0.0,0.7184,-0.1779,-0.5719,-0.8126,-0.3818,0.25,0.0,0.0,-0.4215,0.3182,-0.7579,0.0,0.4939,-0.2732,0.4588,-0.7121,-0.4404,0.0,0.25,0.0,-0.0834,0.1027,-0.2648,0.0,-0.4215,-0.2732,-0.3818,0.0,0.0,0.0,0.0,0.0772,-0.5859,-0.4767,-0.3612,-0.6124,0.0,0.0,0.5994,0.0,0.0,0.0,-0.2263,0.4215,-0.3818,0.4019,0.0,0.0,0.34,-0.3022,0.0,-0.5106,-0.3182,-0.3818,0.0,0.1531,0.6597,-0.3182,0.4939,-0.6115,-0.2732,0.6705,-0.3412,0.8402,0.0,0.0,-0.6597,0.0,0.5859,0.5106,0.0,0.0,0.0,0.0762,0.4588,0.0,0.5574,0.0,0.0,-0.8402,0.0,-0.4215,0.0,0.5413,-0.5423,-0.3182,-0.4404,0.3804,0.7096,0.0516,0.0516,0.1531,0.0,0.0516,0.0,-0.3612,0.0,0.4767,-0.5574,0.3612,-0.34,0.1531,0.0356,0.0,-0.0191,0.4404,0.25,0.4019,0.0,0.0,0.0,0.296,0.0,0.4019,-0.3252,0.7351,-0.4215,0.0,-0.3612,-0.4404,-0.5574,0.0,0.0,0.0,-0.4404,-0.6369,0.296,0.0,0.6369,0.0,0.7783,0.34,-0.5574,0.5622,0.0,-0.1779,0.34,0.0,-0.3182,0.3182,0.5767,0.7579,-0.6423,0.5719,0.0,-0.5106,0.0,-0.7003,0.0,0.7346,0.0,-0.8887,-0.5267,0.0,-0.0258,0.0,0.0,-0.6801,0.0,0.0,-0.6597,0.3612,0.0,0.0,-0.8481,-0.7506,-0.6369,0.5267,-0.6808,0.0,0.4019,-0.3182,0.0,0.1531,-0.4449,-0.6652,-0.5574,0.3134,0.3818,0.204,-0.7506,0.5267,-0.0772,0.0,0.6697,0.0,0.6249,0.0,-0.4497,0.5859,-0.6597,0.0,0.4019,-0.6486,0.0,0.0,0.0,0.0772,0.0,-0.4767,0.1933,0.4019,0.0772,0.0,0.0,-0.743,-0.1511,-0.25,0.4423,0.8979,0.0258,-0.4767,-0.4767,-0.2732,0.4404,-0.5574,0.0,0.7096,-0.5106,-0.1027,0.1779,-0.144,0.2732,0.0,-0.9001,0.0,0.765,0.5574,0.2732,-0.5574,0.2732,0.0,-0.4019,0.0,0.4019,0.0,-0.0263,-0.765,-0.2732,-0.4355,-0.6908,-0.6124,0.3818,0.0,0.0,-0.6124,0.0,0.4215,0.0,0.0,-0.0112,-0.7269,0.2732,-0.3182,0.1779,0.0,0.0,-0.1531,0.0,-0.7579,-0.2732,0.0,0.0,0.5367,0.0,0.0,-0.024,0.6378,0.0,-0.3612,-0.3089,0.0,-0.1027,-0.7717,0.0,0.891,0.4215,0.4215,0.3182,-0.1779,-0.4767,-0.3612,0.34,0.8934,0.0,0.4939,-0.4404,0.5859,-0.3818,-0.4215,-0.4404,-0.6369,0.0,0.0,0.0,0.8316,0.0,-0.8074,-0.8074,-0.1921,0.7096,-0.8271,0.5574,-0.6808,-0.2023,0.0,0.5994,0.4404,-0.6486,-0.296,-0.5267,0.0,0.4588,0.3182,0.4588,-0.4019,-0.3612,0.2933,0.0,-0.34,0.0516,-0.4215,-0.0516,0.4939,0.4019,0.0,0.3254,0.128,0.0,0.0,-0.7351,-0.296,-0.296,0.3182,0.4939,0.5106,-0.6369,-0.891,0.0,0.0,0.2023,0.4404,0.0,0.3818,-0.5423,0.0,0.0,0.0,0.5574,0.2023,0.0,0.0,0.0,-0.296,0.0,0.0,-0.8555,0.34,0.0,0.0258,0.0,0.0,0.6486,0.0,-0.3182,-0.1027,-0.4019,0.5859,0.4019,0.3182,0.4404,0.0,-0.0516,0.0,0.6249,-0.296,0.0,-0.0181,0.0,0.0,0.4019,0.3612,-0.296,0.5423,0.8316,0.4019,-0.1027,-0.1027,-0.6705,0.3818,0.0772,0.0,0.0,0.0,0.7269,0.7579,-0.743,0.0,0.4019,0.0,0.296,0.0,-0.4767,-0.8591,0.0,-0.743,-0.2732,0.6808,-0.2052,-0.2263,0.0772,0.7269,-0.4588,0.0,-0.1901,0.0,-0.3252,-0.2732,0.4588,0.0,0.2263,0.6808,0.0,0.25,0.0,0.4019,-0.8316,0.0,0.0,-0.8402,0.0,0.4728,0.0,0.4939,-0.7057,0.0,-0.5615,0.0,-0.6249,0.0,0.7506,-0.7436,-0.6705,0.0,0.3612,0.0,0.4588,0.197,0.0869,0.1027,-0.6908,-0.296,0.5719,0.0,0.0,-0.2263,0.0,0.0,0.0,0.0,0.0,-0.6369,0.0,0.9055,0.4215,0.128,0.0,-0.296,0.0,0.296,0.0,-0.3818,0.0,0.0,-0.6249,0.2023,-0.6249,0.3182,0.0,-0.2263,0.0,0.4939,0.3182,0.0,0.0,0.6124,0.0,0.0,0.0,-0.3612,0.3612,-0.2732,0.0,0.4939,0.0,0.0,0.34,0.4019,0.0,0.0,0.0,0.5574,-0.6249,0.0,0.0,0.0,0.0,-0.6908,-0.296,0.1027,-0.3182,-0.4215,0.0,0.0,-0.5106,-0.6124,0.7184,-0.7351,-0.7096,0.0,0.1027,-0.7003,-0.7845,0.0,-0.5719,0.0,0.0,0.4019,-0.0772,0.0,0.0,0.3353,0.0,0.34,-0.4019,-0.5267,-0.8519,0.0,-0.3612,0.7351,0.0,0.0,0.0,0.0,0.5106,0.4397,-0.6652,0.0,-0.0803,0.25,0.0,-0.4939,0.5367,-0.6369,0.4404,-0.5574,0.0,0.0,0.4019,0.0,-0.6124,0.0,-0.1779,0.0772,0.7003,-0.4404,0.0,-0.1134,-0.4939,-0.4215,0.4939,0.0,0.4404,-0.5267,0.5267,0.1531,-0.7269,-0.6908,-0.9325,0.4215,-0.4404,0.2263,-0.7717,0.0,-0.7184,0.3182,-0.5095,-0.3612,0.0,-0.4523,-0.8481,0.0,0.0,-0.34,0.4588,0.0,0.4939,-0.3182,-0.5777,0.1027,0.3173,0.2732,-0.4019,0.4019,0.0,-0.296,0.0,0.4926,0.0772,0.0,-0.4588,0.8442,-0.5994,0.1027,-0.8807,0.5574,0.2023,-0.5106,0.7845,0.0516,0.5413,-0.5859,0.0,-0.5719,-0.4215,0.4404,-0.3182,-0.0951,0.0,0.0,-0.34,0.0,0.0,-0.2023,0.3182,-0.3408,0.5994,0.1531,0.4939,0.4215,0.3167,0.25,0.1027,0.0,0.3818,0.0762,0.0,-0.2732,0.0,-0.296,0.6597,-0.4588,-0.296,-0.0572,-0.25,0.0772,0.0516,0.0,0.807,0.0,-0.2732,0.0,0.0,0.5859,0.0,0.0,0.4364,0.0,0.5719,0.7003,0.296,-0.2924,0.0258,0.3612,0.0,0.0,0.128,0.0,-0.5994,0.0,-0.3612,0.0,0.0,-0.1027,0.0,0.4939,-0.1877,-0.5574,0.2023,0.6124,0.0516,0.0,-0.5984,0.6249,-0.8709,-0.0772,-0.4939,0.0,-0.4588,0.0,0.0,0.5719,0.0,0.0,0.0,0.0,0.2732,-0.2732,-0.296,0.0258,-0.2732,0.5118,0.0,-0.4767,0.2263,0.0,-0.2732,0.8271,0.0,0.0,-0.6369,0.0,0.4215,-0.5574,-0.5994,0.5563,-0.3182,-0.3612,-0.6369,0.0,-0.8176,0.4215,0.0,0.0,-0.4767,0.0,0.0,-0.3182,0.34,0.4576,0.0,-0.8591,0.2023,0.0,0.0,0.0,0.0,0.0,-0.6249,0.0,0.1179,0.4019,0.0,-0.296,0.0,-0.6486,0.3182,0.0,0.1027,-0.4939,-0.6027,-0.4215,-0.5256,-0.886,-0.5423,-0.2263,0.0,0.0,0.0,-0.1779,-0.1779,0.0,-0.4404,-0.1027,-0.4404,0.0,0.4939,0.0,0.6908,-0.6486,-0.2732,0.5574,0.0,0.0,0.1027,-0.6597,0.0,-0.1901,0.4391,0.0,0.4939,-0.4357,0.0,-0.2732,0.7003,0.0,-0.6249,-0.743,0.0,-0.4404,0.0,0.0,0.0,0.0,-0.0772,0.0,0.7184,0.4767,-0.2732,0.0,0.0,-0.7579,0.1027,0.0,0.0,0.6808,0.4404,-0.3875,0.34,0.0,0.0,-0.2023,0.6166,0.0,0.4019,0.0,0.0,0.6527,-0.0772,0.5719,0.2263,-0.4215,0.3384,0.0772,-0.2732,0.3182,0.0258,-0.296,0.4939,-0.765,0.3612,-0.1406,0.0,0.4404,0.0,0.6697,0.2732,0.0258,-0.6486,-0.5574,0.0,0.0,-0.5559,0.0,-0.1027,0.5267,0.2732,0.0,0.0,0.3182,0.743,-0.4019,0.0,0.4939,-0.5994,-0.1027,-0.2732,0.5722,-0.7717,-0.3182,0.0,0.0,0.1531,-0.3612,0.5106,0.0,-0.25,0.0,0.6983,0.0,-0.7579,0.4767,-0.3818,-0.6705,-0.8979,0.5574,0.0,-0.128,0.2732,0.0,0.4404,0.0,0.2023,0.5106,-0.4019,-0.3818,-0.1027,-0.1027,0.0,0.1027,0.0,0.4939,0.128,0.8807,0.4588,0.6142,0.7351,0.0,-0.4019,0.4939,0.0,0.128,0.0,-0.7003,0.0,0.0,0.4215,0.4939,0.0,0.0,0.4019,0.0,0.0716,-0.0772,0.7778,0.1531,0.0,0.0,0.3612,0.0,-0.5423,0.0,-0.3612,0.25,-0.5994,-0.2732,-0.5994,-0.3612,-0.4754,0.0,0.0,-0.3384,0.0,0.0,-0.4019,0.0,0.0,0.0,0.4019,-0.6858,0.0,0.4939,0.0,0.0,-0.5267,0.0,0.0,0.3182,0.0772,0.0,0.743,0.0,0.0,-0.4404,0.8126,0.0,-0.4767,0.7906,-0.3153,0.0,0.0,-0.34,0.3612,0.0772,0.0,0.2732,-0.3612,0.0,0.0,0.6486,0.2023,0.0,-0.1027,0.0,-0.296,-0.0572,-0.34,0.5267,0.0,-0.3182,0.2449,0.2263,0.0,-0.5233,-0.5574,0.4588,0.5859,0.4767,0.0,-0.5106,-0.34,0.0,0.3612,-0.2732,-0.2023,0.0,-0.1027,0.0,-0.5574,0.0,0.0,-0.3182,0.0516,0.0,0.0,0.1779,0.0,0.4895,-0.4404,0.128,0.1655,0.5859,0.0,0.0,-0.7717,0.0,-0.7579,0.5267,0.0,-0.2732,-0.4201,0.2732,0.0,0.0,0.0,0.0,-0.802,-0.4404,0.25,0.0,0.0,-0.2263,0.6124,0.6369,0.0,0.5563,0.0,-0.3919,-0.6249,-0.296,-0.8176,-0.34,0.0,0.5719,-0.8334,-0.7906,0.0,0.3182,-0.5994,0.5574,-0.6597,-0.2263,-0.91,-0.7003,0.0,-0.4404,-0.3612,-0.5574,-0.6597,0.0,0.1027,0.7506,0.0,-0.2023,-0.5994,0.128,-0.5267,0.0,0.0,0.0,0.0,0.0,-0.0258,0.0,-0.6808,0.0,0.0,0.0,0.2732,0.0,-0.4019,0.4404,0.7717,-0.552,-0.4215,0.0772,0.0,-0.2732,0.228,0.2732,0.0,0.5423,-0.5423,-0.0772,0.0,0.0,0.0,-0.25,-0.2411,0.25,0.0762,0.6486,-0.1027,0.4939,-0.3182,-0.6249,0.3818,0.0,0.0,0.0,0.0,0.5994,-0.3818,0.0,-0.296,0.4215,0.1027,-0.1695,0.5859,0.0772,0.3182,-0.3252,0.0,0.3818,0.0,0.0,-0.1027,0.2732,0.3626,-0.1531,0.0,0.0,0.0,0.0,-0.6187,0.6597,0.3818,0.2732,0.0,0.8555,-0.6969,-0.2732,-0.1139,0.6369,0.0,0.4019,0.4215,0.0,0.4767,0.6908,0.34,0.0,0.2263,0.0,0.0,-0.1027,-0.2924,0.5423,0.4939,0.0,0.7717,-0.2732,0.25,0.5719,0.8126,-0.296,0.6124,0.0,0.0,0.0,0.34,-0.765,0.0,0.0,-0.4767,-0.34,0.4588,-0.8481,0.0,-0.4767,0.0258,0.1531,-0.4588,0.0,-0.296,-0.7402,0.4404,0.25,0.128,0.1065,-0.5267,0.0,-0.6908,0.0,0.6209,0.0,0.4588,0.0,-0.3089,-0.6908,0.8325,0.5574,0.3182,0.0,0.0,-0.5574,-0.34,0.0,0.296,0.5719,0.0,0.0,-0.5092,0.0772,0.3182,-0.5423,0.0516,-0.128,-0.296,0.7717,0.0,0.6486,0.5719,0.4215,-0.6249,-0.4019,-0.7595,0.2023,0.0772,-0.2732,-0.3182,-0.128,0.0,-0.2023,0.0,0.0,0.3657,0.0,-0.6908,0.5574,-0.25,-0.25,0.0,-0.3818,0.0,0.5423,0.4215,-0.5499,-0.7239,0.0,0.2732,0.2787,-0.3182,0.0,0.0,0.0,0.0,0.0,0.1531,-0.3252,0.0,-0.0772,0.0,0.0,0.3612,-0.34,-0.9201,-0.765,0.5859,-0.825,0.3818,0.7531,-0.6597,0.34,0.2732,-0.3818,0.1531,-0.8074,0.3612,0.0,-0.2732,0.0,0.836,0.0772,-0.2732,-0.743,-0.5859,0.0,0.0,0.0,-0.5719,0.2732,0.3182,-0.2023,0.0,0.8176,0.0,0.0,-0.6597,0.0,-0.5267,0.25,0.0,-0.8807,0.8402,-0.8779,0.3384,-0.5423,0.0,-0.5994,0.0,0.5574,-0.0036,0.0,0.0,-0.6705,0.3031,0.4926,-0.3818,-0.6124,-0.296,-0.3182,0.0036,0.2263,0.6764,-0.1531,-0.3384,0.0,0.0,-0.3818,0.6234,0.0,0.3612,0.0258,-0.886,-0.128,0.4215,0.6808,0.0,0.0,0.0,0.0,0.1531,-0.296,-0.7783,0.0,0.0,-0.128,-0.1779,0.2023,0.2382,-0.3612,0.4939,0.5859,0.0,0.6808,0.0,-0.7003,-0.4404,0.3818,-0.2732,-0.2732,0.0,-0.3612,0.0,0.25,-0.3612,0.0,-0.4588,-0.91,0.25,0.0,-0.5423,-0.9186,0.3612,-0.2732,0.1027,0.3724,-0.7152,-0.5106,0.0,0.0,0.0,0.5106,-0.5106,-0.1027,-0.5994,0.3182,-0.4767,-0.3182,0.0,0.5859,0.0258,0.0,0.5984,-0.5106,-0.3818,-0.1306,0.3818,-0.8316,-0.7845,-0.296,0.296,0.6486,0.4215,0.0,0.4019,0.5574,0.0,-0.3612,-0.296,0.5267,0.3182,0.0258,-0.4767,-0.296,0.0,0.0,-0.1027,0.0,0.128,0.0,0.0,0.3818,0.0,-0.8225,0.0,-0.5994,0.0,0.4939,0.0,0.34,0.4019,0.0,0.0258,-0.5994,-0.3612,-0.8271,0.0,-0.0772,0.0,0.0,0.0,0.0,-0.5106,0.5574,0.4019,0.0,0.8074,0.0,0.0,0.0772,-0.5423,-0.6597,0.0,0.4939,0.0,0.0,0.0,0.0,-0.5267,0.0,0.0,-0.2732,0.5106,0.0,-0.6124,-0.4404,0.0,0.0,-0.5574,0.0,-0.4939,0.2732,0.0,-0.0,0.0,-0.9188,0.5413,-0.6705,0.0,0.7506,0.9287,0.0,0.0,0.6249,0.0,0.1779,0.0,-0.2732,-0.8779,0.0,0.624,-0.4767,0.5742,0.4404,0.0,0.296,0.0,0.4588,-0.296,0.4215,-0.2732,-0.5411,0.4754,-0.2023,0.4019,0.0,-0.4201,-0.6705,0.4019,0.0,0.0,0.0,-0.4588,0.4404,-0.34,-0.6597,0.2732,0.0,-0.296,0.0,-0.296,0.2732,-0.8074,0.4927,0.0,0.0,0.0,-0.3818,0.5994,0.0,-0.34,0.0,0.25,0.2023,-0.5994,0.0,0.1531,-0.4678,-0.0516,0.0,0.0,-0.5095,0.4215,-0.8302,0.4404,-0.3612,0.0,0.0,-0.0516,0.1027,0.0,-0.2732,0.2732,-0.0516,0.0,0.0,0.0,0.2732,-0.0772,0.4939,-0.3182,0.0,0.0,0.0,0.4215,0.7506,-0.802,0.0,0.0,-0.0258,0.5106,0.4404,0.0,0.0,0.0,-0.296,0.0,0.2263,0.3182,-0.7801,0.0,0.4215,0.5267,0.0,0.0,-0.3182,-0.296,0.6124,-0.3612,0.0,0.0258,-0.2263,0.0,0.0,0.0,0.0,-0.8481,0.0,0.3818,-0.4404,-0.6769,0.4019,0.0,-0.128,0.6669,-0.6597,-0.5994,-0.5994,0.128,0.0,0.0,0.0,0.0,0.0,-0.2732,-0.5106,-0.5216,-0.296,0.0,0.0,0.4767,-0.886,0.0,0.0,-0.1326,0.0,0.4939,0.0,0.7906,0.2732,-0.128,0.0,0.0,-0.8658,-0.1406,0.0,0.6705,-0.296,-0.3818,0.0,0.7351,-0.7003,0.0,0.0,0.3182,0.743,-0.9153,-0.3182,-0.5859,0.0,0.4939,0.3612,-0.7096,-0.1406,0.34,0.0,0.0,0.4588,-0.2732,0.0,0.6705,0.0,0.128,0.0,-0.802,0.0,0.4939,0.0,0.0,0.0762,0.4767,0.0,0.0,-0.2911,0.0,0.0,0.0,-0.765,0.4019,0.0,0.0,0.7579,0.5574,-0.0516,0.0,0.5106,0.0258,0.4767,0.0,0.8481,0.6717,-0.7906,-0.3612,0.431,0.34,0.0,-0.2732,0.0,-0.8225,0.0,0.0,-0.8519,0.0516,0.0,0.5994,0.5267,-0.5574,-0.7096,0.7579,-0.4404,0.2263,0.4939,-0.0516,0.0,0.8807,-0.1027,0.3612,0.0,0.7841,-0.3612,0.25,0.0,0.0,0.0,0.0772,0.0,0.0,-0.2263,-0.4019,0.0,0.0,-0.7579,0.0,0.5499,-0.6643,-0.5859,-0.8625,0.0,-0.6597,0.0,-0.3818,-0.2682,0.0,0.296,-0.7351,-0.3818,0.4939,-0.7351,0.0772,0.5267,0.0,0.0762,0.0,-0.4588,0.2732,-0.25,0.0,-0.4767,0.5574,0.0,0.2732,-0.1027,0.0,-0.7579,-0.8503,0.0,0.0,-0.3612,-0.2263,0.4215,0.0,0.0,0.6941,0.25,0.0,-0.4199,-0.9432,0.0,0.6705,0.0,0.0,-0.2732,-0.4404,-0.1531,0.0,0.0,0.0,0.0,0.0,0.0,0.0,0.0,0.5994,0.6486,0.6597,0.8625,-0.5994,0.0,0.0,0.2023,0.4215,0.0,0.5106,-0.1027,-0.8074,-0.6705,-0.1027,0.0,0.0,0.1719,-0.5881,0.0,0.0,-0.2732,-0.1027,-0.0516,0.6597,0.0,0.0,0.0,0.3612,0.0516,0.0,0.0772,0.6908,0.1027,0.3612,-0.34,0.0,-0.34,0.4599,-0.296,0.4404,-0.25,0.0,-0.296,-0.5267,-0.5994,0.0,-0.296,0.0,0.3626,0.0,0.0,0.4404,0.0,0.25,0.6878,-0.3818,0.0,-0.7906,0.6908,0.0,-0.1779,0.0,0.0,-0.0772,0.0,0.0,0.6908,-0.4019,-0.5423,0.25,0.0,0.0,0.0,-0.5542,0.0772,0.5267,-0.296,0.2263,-0.802,0.2263,0.0,0.3182,0.2023,-0.4404,0.0,-0.0258,0.0,0.7823,0.6486,0.2732,0.0,-0.4019,-0.8074,0.0,0.0,-0.7003,0.0,0.0,0.6486,0.0,0.0,0.0,-0.624,0.1779,0.0,0.34,0.8225,0.0,0.0,0.5574,-0.3182,0.8316,-0.7351,0.1531,0.0,0.0,-0.1779,0.0,0.0,0.0,-0.2664,0.0,0.0,-0.3612,-0.34,0.0,-0.2023,0.0,0.0,0.1962,-0.8807,0.5106,0.0,-0.6249,0.4215,-0.4939,-0.5574,0.765,0.1779,0.2617,0.4019,0.7579,0.25,0.3818,0.4754,0.0,0.3182,-0.4588,0.1027,0.4215,0.0,0.0,0.5267,0.0,0.6705,-0.0258,0.4215,0.0,0.0,-0.1027,-0.8442,0.0,-0.3612,0.7845,0.6705,0.0,0.2023,-0.4215,0.4019,0.0,0.0,0.0,-0.3878,-0.6956,0.1833,0.0,0.0,-0.296,-0.6692,-0.792,0.0258,0.5574,0.0,0.3612,-0.5267,0.0,0.7964,0.0,0.2033,0.0772,-0.7579,0.296,0.2732,0.0,-0.5574,0.0,0.4019,0.0,-0.4404,-0.5574,0.5423,0.6908,-0.7506,0.0,-0.0772,0.5859,0.0,-0.5106,0.0,0.0,-0.7351,0.0,0.0,0.6808,-0.1531,0.0,0.0,0.7184,-0.6808,-0.2732,-0.4404,-0.2732,0.0,0.5267,-0.2732,0.0,-0.6249,0.0,0.1655,0.2732,-0.5574,0.0258,0.2006,-0.6369,0.0,-0.7906,0.4588,0.0,0.25,0.0772,0.0,0.0,0.0,0.0,0.4576,0.4588,-0.1027,-0.5267,-0.5023,0.0,0.4703,-0.3032,0.0,0.0,-0.1725,-0.5859,0.4767,-0.1531,-0.7906,0.5423,-0.624,-0.2732,0.7906,-0.3818,-0.2732,-0.25,0.0,0.0,0.0,-0.3612,0.128,0.0,0.4019,-0.5106,-0.4939,-0.8625,0.0644,-0.5423,0.0,-0.5574,0.2144,-0.5423,-0.6249,0.3182,0.4404,0.1779,0.0772,0.8201,0.0,0.3182,-0.25,-0.8442,0.5106,-0.7345,0.0,-0.7783,-0.3182,-0.2617,0.4767,0.0,-0.296,-0.1027,-0.3612,-0.0541,0.5423,-0.7579,-0.4767,-0.5574,-0.4404,-0.4404,-0.34,0.6573,0.0,0.2732,0.2263,0.8807,0.0,0.0,-0.7003,0.7796,-0.2732,0.296,-0.1531,0.4588,0.4019,-0.25,0.4215,0.0,-0.25,0.25,0.25,0.0,0.4052,0.0,0.0,0.0,0.0,-0.296,-0.5267,0.0,-0.3612,0.0,-0.296,-0.2411,0.0,0.8225,0.0,0.0,0.2732,0.0,0.8316,-0.2732,-0.5574,0.0,0.0,-0.2732,0.34,0.0,0.4939,0.0,0.0,0.0,0.0,0.0,0.4939,0.4215,0.0,0.34,0.0,-0.34,0.6344,0.34,-0.4215,0.8062,0.5859,0.4404,0.8059,-0.4019,0.0772,0.0,0.4215,0.2924,-0.2057,0.2732,-0.296,0.0,0.3182,-0.4201,-0.8225,0.0,0.5994,0.0,-0.6652,0.4939,0.0,-0.4767,0.0,-0.6249,-0.3875,0.5423,0.2732,-0.886,0.0,0.0,-0.5574,0.0,0.4336,0.4588,0.3612,0.0,0.25,-0.3612,0.34,0.3182,0.4939,0.0,0.25,0.0,0.3612,-0.296,0.7184,0.5719,0.0,0.4019,0.25,0.0,0.4767,-0.3612,-0.5994,0.0,0.0516,-0.3612,0.4588,0.0,0.128,0.0,0.2732,0.0,0.0,0.0,-0.2732,0.0516,-0.4939,0.3182,0.0,0.0,-0.4717,0.4404,0.0,-0.4404,0.3102,0.0258,0.0,0.7351,-0.296,0.4939,0.0,0.4215,-0.2732,0.0,0.0,0.2263,-0.1027,0.1531,0.0,0.0,-0.5106,-0.4588,-0.3818,-0.4767,-0.4902,0.0,0.0,0.0,-0.3182,0.0,-0.34,0.25,0.4939,-0.4767,0.4939,-0.5574,-0.34,0.2732,-0.3818,0.7351,-0.2411,-0.7845,0.0,-0.8559,0.0,-0.34,0.0,0.5994,-0.4019,0.0,0.0,0.3612,0.0,0.0,0.3612,0.3818,0.4939,-0.3182,-0.7269,0.0,0.6249,0.0,0.0,-0.0516,0.0,0.0,0.0,0.0,0.4767,-0.6486,0.3818,-0.4019,-0.1027,0.0,0.25,0.6705,0.0,-0.4588,0.0258,-0.5994,0.8625,0.0,-0.2732,-0.7506,0.2008,0.2732,-0.8934,0.6249,0.0,0.0,0.0,0.2732,0.0772,0.4939,-0.4082,0.4404,0.2023,0.25,0.836,0.4215,0.1989,-0.0772,0.4754,0.0,0.0,-0.4874,-0.3182,-0.3818,-0.5106,0.0,0.5719,0.8934,0.7269,0.4767,0.6697,0.0,-0.5267,-0.5719,-0.6388,-0.5994,0.6124,0.4404,-0.0516,0.4019,-0.34,-0.3818,0.4215,0.5719,0.0,-0.6249,0.4215,-0.1027,0.0,-0.5859,0.2732,0.0,0.8333,0.0,-0.4588,0.0,0.0,0.0,0.6542,0.0,0.8636,0.4215,-0.1027,-0.4404,-0.3182,0.0,0.6808,0.0,-0.9423,0.4767,0.1779,0.25,-0.25,0.6398,-0.2023,-0.6597,0.0,-0.4404,0.0,0.0201,0.0,0.0,0.3182,0.0,0.0,0.4215,0.0,-0.0762,0.2584,-0.2732,0.128,0.0,0.0,0.0,0.0,-0.34,0.0,-0.3182,0.6461,-0.743,0.4676,0.5574,0.4129,0.0,-0.2033,0.0,0.0,-0.5859,0.4226,-0.3818,0.0,-0.5095,-0.5106,0.0,0.0,-0.1027,0.0,0.4215,-0.4199,0.0,-0.3182,0.4939,0.2023,0.0,0.0,0.0,-0.2023,0.4019,-0.5423,0.0,0.4215,-0.5574,0.5574,0.2537,0.0,0.0,-0.2732,0.4019,0.0,-0.6369,0.0,-0.6002,0.0772,0.0,0.0,0.0,0.5574,-0.0516,-0.5574,0.5423,0.6557,0.0,0.0,0.4019,0.296,-0.3612,0.0,0.0,-0.128,0.0,0.0,0.3597,-0.5994,0.4767,-0.296,0.0,0.3612,-0.6249,0.0,0.2263,-0.2732,0.4019,0.0772,0.2263,0.5994,0.0,0.5106,0.34,-0.3182,0.34,-0.7783,0.0,-0.3167,0.3818,-0.8176,-0.4215,0.5719,0.6908,-0.7717,-0.5994,0.0,-0.6908,-0.5574,0.5106,0.2023,0.0,-0.1027,0.1779,0.0,0.0,0.4019,0.0,0.0,0.0,0.0,0.0,0.0772,0.0,-0.296,-0.2732,-0.2411,-0.6344,-0.5187,-0.3182,-0.6808,0.0,-0.5423,-0.7506,0.0,0.0,0.0,0.0,0.6962,-0.25,0.7906,-0.5423,-0.5574,0.0,-0.5267,0.0,0.0,0.3744,-0.2732,0.0,0.0,0.0772,0.0,0.34,-0.6808,0.6705,-0.7906,0.0,-0.4019,0.3182,0.3612,0.0,0.4019,-0.2235,0.7906,0.0,0.34,0.3818,0.0,-0.4404,0.34,-0.296,0.0,0.2732,0.0,-0.7717,-0.2732,0.7712,0.3182,0.836,0.0,-0.5574,0.0772,0.1531,0.0762,0.0,-0.0258,0.6249,0.4215,0.2732,0.0,0.0,-0.6369,0.0,-0.7717,0.4939,0.3612,-0.6925,-0.1655,0.4404,0.0,-0.25,-0.4939,-0.743,0.0,-0.2023,0.0,0.4939,-0.3384,0.6983,-0.6249,0.4767,0.3182,0.0,-0.8213,0.5423,-0.1027,-0.875,0.0,0.4019,0.0,0.0,0.34,0.0,0.0,0.5423,0.0,0.6908,-0.34,-0.2732,0.4019,0.5106,-0.2732,0.4939,0.3506,-0.34,0.4939,0.0,-0.1779,0.25,0.5417,-0.4404,-0.5849,-0.6249,0.0,0.3612,-0.8316,0.2732,0.1901,0.0,0.34,0.0,0.4019,0.0,0.0,-0.296,0.4404,0.0,-0.4215,0.0,-0.7506,-0.5106,0.0,0.0,0.0516,0.3182,0.0258,-0.5106,-0.5994,-0.2732,-0.6705,0.5719,0.5267,0.0,0.0,0.0,-0.5106,0.0258,-0.7269,0.0,0.0,0.3612,0.0,-0.25,0.3291,0.0,-0.5255,0.3975,0.6705,0.0,-0.7579,0.0,0.4939,0.0,0.0,-0.5859,0.0,-0.128,0.0,0.0,0.0772,0.1779,-0.3818,0.6124,-0.5106,0.6597,0.6705,0.0,0.5574,-0.6124,0.7506,-0.3818,0.6249,0.0,0.0772,-0.2263,-0.2263,0.1779,0.4588,0.0,0.0,-0.1531,-0.4404,-0.6597,0.0,-0.4019,-0.8591,0.34,-0.2732,0.0,0.3612,-0.1027,-0.5423,0.4939,0.0,0.0,0.6705,-0.128,0.4215,-0.2732,0.4019,0.0,0.0,0.4215,0.0,-0.296,0.0,0.0,0.4215,0.0,-0.3182,-0.4019,-0.6908,-0.0,0.2263,-0.6486,0.0,-0.0772,-0.1027,-0.0772,0.0,-0.296,0.0258,0.0,0.0,0.0,0.4019,-0.2732,-0.6249,0.0,-0.6705,0.0,0.0,-0.0772,-0.3818,0.4005,0.3182,-0.4201,0.0,0.5423,0.4019,0.0,0.3612,-0.8462,0.3182,0.0,-0.1531,0.6757,0.4019,0.5719,-0.4939,0.1027,0.5106,-0.7096,0.0,0.4215,0.0,-0.4404,-0.0767,-0.1877,0.5859,0.0,-0.8074,-0.4767,0.4215,0.4404,0.0,0.0258,-0.2732,-0.7184,-0.296,-0.3089,0.5544,0.0,0.4019,-0.3159,0.0258,-0.4404,-0.2023,0.577,-0.1027,0.2732,0.0,0.4767,0.3818,0.0,0.3182,0.4215,0.0,-0.3612,0.0,0.0,-0.8519,-0.5106,-0.7783,0.0,-0.5106,0.0,-0.4767,0.0,0.0,0.1779,0.4019,0.0,-0.4019,0.0,-0.5096,0.0,-0.3182,-0.2732,-0.7003,-0.5198,0.8271,0.2732,0.7003,-0.3612,0.2263,0.4404,0.4767,0.2732,-0.5994,0.0,0.6597,0.5574,0.0,-0.6597,0.25,0.5574,-0.7506,0.4019,0.5859],\"xaxis\":\"x\",\"yaxis\":\"y\",\"type\":\"histogram\"}],                        {\"template\":{\"data\":{\"histogram2dcontour\":[{\"type\":\"histogram2dcontour\",\"colorbar\":{\"outlinewidth\":0,\"ticks\":\"\"},\"colorscale\":[[0.0,\"#0d0887\"],[0.1111111111111111,\"#46039f\"],[0.2222222222222222,\"#7201a8\"],[0.3333333333333333,\"#9c179e\"],[0.4444444444444444,\"#bd3786\"],[0.5555555555555556,\"#d8576b\"],[0.6666666666666666,\"#ed7953\"],[0.7777777777777778,\"#fb9f3a\"],[0.8888888888888888,\"#fdca26\"],[1.0,\"#f0f921\"]]}],\"choropleth\":[{\"type\":\"choropleth\",\"colorbar\":{\"outlinewidth\":0,\"ticks\":\"\"}}],\"histogram2d\":[{\"type\":\"histogram2d\",\"colorbar\":{\"outlinewidth\":0,\"ticks\":\"\"},\"colorscale\":[[0.0,\"#0d0887\"],[0.1111111111111111,\"#46039f\"],[0.2222222222222222,\"#7201a8\"],[0.3333333333333333,\"#9c179e\"],[0.4444444444444444,\"#bd3786\"],[0.5555555555555556,\"#d8576b\"],[0.6666666666666666,\"#ed7953\"],[0.7777777777777778,\"#fb9f3a\"],[0.8888888888888888,\"#fdca26\"],[1.0,\"#f0f921\"]]}],\"heatmap\":[{\"type\":\"heatmap\",\"colorbar\":{\"outlinewidth\":0,\"ticks\":\"\"},\"colorscale\":[[0.0,\"#0d0887\"],[0.1111111111111111,\"#46039f\"],[0.2222222222222222,\"#7201a8\"],[0.3333333333333333,\"#9c179e\"],[0.4444444444444444,\"#bd3786\"],[0.5555555555555556,\"#d8576b\"],[0.6666666666666666,\"#ed7953\"],[0.7777777777777778,\"#fb9f3a\"],[0.8888888888888888,\"#fdca26\"],[1.0,\"#f0f921\"]]}],\"heatmapgl\":[{\"type\":\"heatmapgl\",\"colorbar\":{\"outlinewidth\":0,\"ticks\":\"\"},\"colorscale\":[[0.0,\"#0d0887\"],[0.1111111111111111,\"#46039f\"],[0.2222222222222222,\"#7201a8\"],[0.3333333333333333,\"#9c179e\"],[0.4444444444444444,\"#bd3786\"],[0.5555555555555556,\"#d8576b\"],[0.6666666666666666,\"#ed7953\"],[0.7777777777777778,\"#fb9f3a\"],[0.8888888888888888,\"#fdca26\"],[1.0,\"#f0f921\"]]}],\"contourcarpet\":[{\"type\":\"contourcarpet\",\"colorbar\":{\"outlinewidth\":0,\"ticks\":\"\"}}],\"contour\":[{\"type\":\"contour\",\"colorbar\":{\"outlinewidth\":0,\"ticks\":\"\"},\"colorscale\":[[0.0,\"#0d0887\"],[0.1111111111111111,\"#46039f\"],[0.2222222222222222,\"#7201a8\"],[0.3333333333333333,\"#9c179e\"],[0.4444444444444444,\"#bd3786\"],[0.5555555555555556,\"#d8576b\"],[0.6666666666666666,\"#ed7953\"],[0.7777777777777778,\"#fb9f3a\"],[0.8888888888888888,\"#fdca26\"],[1.0,\"#f0f921\"]]}],\"surface\":[{\"type\":\"surface\",\"colorbar\":{\"outlinewidth\":0,\"ticks\":\"\"},\"colorscale\":[[0.0,\"#0d0887\"],[0.1111111111111111,\"#46039f\"],[0.2222222222222222,\"#7201a8\"],[0.3333333333333333,\"#9c179e\"],[0.4444444444444444,\"#bd3786\"],[0.5555555555555556,\"#d8576b\"],[0.6666666666666666,\"#ed7953\"],[0.7777777777777778,\"#fb9f3a\"],[0.8888888888888888,\"#fdca26\"],[1.0,\"#f0f921\"]]}],\"mesh3d\":[{\"type\":\"mesh3d\",\"colorbar\":{\"outlinewidth\":0,\"ticks\":\"\"}}],\"scatter\":[{\"fillpattern\":{\"fillmode\":\"overlay\",\"size\":10,\"solidity\":0.2},\"type\":\"scatter\"}],\"parcoords\":[{\"type\":\"parcoords\",\"line\":{\"colorbar\":{\"outlinewidth\":0,\"ticks\":\"\"}}}],\"scatterpolargl\":[{\"type\":\"scatterpolargl\",\"marker\":{\"colorbar\":{\"outlinewidth\":0,\"ticks\":\"\"}}}],\"bar\":[{\"error_x\":{\"color\":\"#2a3f5f\"},\"error_y\":{\"color\":\"#2a3f5f\"},\"marker\":{\"line\":{\"color\":\"#E5ECF6\",\"width\":0.5},\"pattern\":{\"fillmode\":\"overlay\",\"size\":10,\"solidity\":0.2}},\"type\":\"bar\"}],\"scattergeo\":[{\"type\":\"scattergeo\",\"marker\":{\"colorbar\":{\"outlinewidth\":0,\"ticks\":\"\"}}}],\"scatterpolar\":[{\"type\":\"scatterpolar\",\"marker\":{\"colorbar\":{\"outlinewidth\":0,\"ticks\":\"\"}}}],\"histogram\":[{\"marker\":{\"pattern\":{\"fillmode\":\"overlay\",\"size\":10,\"solidity\":0.2}},\"type\":\"histogram\"}],\"scattergl\":[{\"type\":\"scattergl\",\"marker\":{\"colorbar\":{\"outlinewidth\":0,\"ticks\":\"\"}}}],\"scatter3d\":[{\"type\":\"scatter3d\",\"line\":{\"colorbar\":{\"outlinewidth\":0,\"ticks\":\"\"}},\"marker\":{\"colorbar\":{\"outlinewidth\":0,\"ticks\":\"\"}}}],\"scattermapbox\":[{\"type\":\"scattermapbox\",\"marker\":{\"colorbar\":{\"outlinewidth\":0,\"ticks\":\"\"}}}],\"scatterternary\":[{\"type\":\"scatterternary\",\"marker\":{\"colorbar\":{\"outlinewidth\":0,\"ticks\":\"\"}}}],\"scattercarpet\":[{\"type\":\"scattercarpet\",\"marker\":{\"colorbar\":{\"outlinewidth\":0,\"ticks\":\"\"}}}],\"carpet\":[{\"aaxis\":{\"endlinecolor\":\"#2a3f5f\",\"gridcolor\":\"white\",\"linecolor\":\"white\",\"minorgridcolor\":\"white\",\"startlinecolor\":\"#2a3f5f\"},\"baxis\":{\"endlinecolor\":\"#2a3f5f\",\"gridcolor\":\"white\",\"linecolor\":\"white\",\"minorgridcolor\":\"white\",\"startlinecolor\":\"#2a3f5f\"},\"type\":\"carpet\"}],\"table\":[{\"cells\":{\"fill\":{\"color\":\"#EBF0F8\"},\"line\":{\"color\":\"white\"}},\"header\":{\"fill\":{\"color\":\"#C8D4E3\"},\"line\":{\"color\":\"white\"}},\"type\":\"table\"}],\"barpolar\":[{\"marker\":{\"line\":{\"color\":\"#E5ECF6\",\"width\":0.5},\"pattern\":{\"fillmode\":\"overlay\",\"size\":10,\"solidity\":0.2}},\"type\":\"barpolar\"}],\"pie\":[{\"automargin\":true,\"type\":\"pie\"}]},\"layout\":{\"autotypenumbers\":\"strict\",\"colorway\":[\"#636efa\",\"#EF553B\",\"#00cc96\",\"#ab63fa\",\"#FFA15A\",\"#19d3f3\",\"#FF6692\",\"#B6E880\",\"#FF97FF\",\"#FECB52\"],\"font\":{\"color\":\"#2a3f5f\"},\"hovermode\":\"closest\",\"hoverlabel\":{\"align\":\"left\"},\"paper_bgcolor\":\"white\",\"plot_bgcolor\":\"#E5ECF6\",\"polar\":{\"bgcolor\":\"#E5ECF6\",\"angularaxis\":{\"gridcolor\":\"white\",\"linecolor\":\"white\",\"ticks\":\"\"},\"radialaxis\":{\"gridcolor\":\"white\",\"linecolor\":\"white\",\"ticks\":\"\"}},\"ternary\":{\"bgcolor\":\"#E5ECF6\",\"aaxis\":{\"gridcolor\":\"white\",\"linecolor\":\"white\",\"ticks\":\"\"},\"baxis\":{\"gridcolor\":\"white\",\"linecolor\":\"white\",\"ticks\":\"\"},\"caxis\":{\"gridcolor\":\"white\",\"linecolor\":\"white\",\"ticks\":\"\"}},\"coloraxis\":{\"colorbar\":{\"outlinewidth\":0,\"ticks\":\"\"}},\"colorscale\":{\"sequential\":[[0.0,\"#0d0887\"],[0.1111111111111111,\"#46039f\"],[0.2222222222222222,\"#7201a8\"],[0.3333333333333333,\"#9c179e\"],[0.4444444444444444,\"#bd3786\"],[0.5555555555555556,\"#d8576b\"],[0.6666666666666666,\"#ed7953\"],[0.7777777777777778,\"#fb9f3a\"],[0.8888888888888888,\"#fdca26\"],[1.0,\"#f0f921\"]],\"sequentialminus\":[[0.0,\"#0d0887\"],[0.1111111111111111,\"#46039f\"],[0.2222222222222222,\"#7201a8\"],[0.3333333333333333,\"#9c179e\"],[0.4444444444444444,\"#bd3786\"],[0.5555555555555556,\"#d8576b\"],[0.6666666666666666,\"#ed7953\"],[0.7777777777777778,\"#fb9f3a\"],[0.8888888888888888,\"#fdca26\"],[1.0,\"#f0f921\"]],\"diverging\":[[0,\"#8e0152\"],[0.1,\"#c51b7d\"],[0.2,\"#de77ae\"],[0.3,\"#f1b6da\"],[0.4,\"#fde0ef\"],[0.5,\"#f7f7f7\"],[0.6,\"#e6f5d0\"],[0.7,\"#b8e186\"],[0.8,\"#7fbc41\"],[0.9,\"#4d9221\"],[1,\"#276419\"]]},\"xaxis\":{\"gridcolor\":\"white\",\"linecolor\":\"white\",\"ticks\":\"\",\"title\":{\"standoff\":15},\"zerolinecolor\":\"white\",\"automargin\":true,\"zerolinewidth\":2},\"yaxis\":{\"gridcolor\":\"white\",\"linecolor\":\"white\",\"ticks\":\"\",\"title\":{\"standoff\":15},\"zerolinecolor\":\"white\",\"automargin\":true,\"zerolinewidth\":2},\"scene\":{\"xaxis\":{\"backgroundcolor\":\"#E5ECF6\",\"gridcolor\":\"white\",\"linecolor\":\"white\",\"showbackground\":true,\"ticks\":\"\",\"zerolinecolor\":\"white\",\"gridwidth\":2},\"yaxis\":{\"backgroundcolor\":\"#E5ECF6\",\"gridcolor\":\"white\",\"linecolor\":\"white\",\"showbackground\":true,\"ticks\":\"\",\"zerolinecolor\":\"white\",\"gridwidth\":2},\"zaxis\":{\"backgroundcolor\":\"#E5ECF6\",\"gridcolor\":\"white\",\"linecolor\":\"white\",\"showbackground\":true,\"ticks\":\"\",\"zerolinecolor\":\"white\",\"gridwidth\":2}},\"shapedefaults\":{\"line\":{\"color\":\"#2a3f5f\"}},\"annotationdefaults\":{\"arrowcolor\":\"#2a3f5f\",\"arrowhead\":0,\"arrowwidth\":1},\"geo\":{\"bgcolor\":\"white\",\"landcolor\":\"#E5ECF6\",\"subunitcolor\":\"white\",\"showland\":true,\"showlakes\":true,\"lakecolor\":\"white\"},\"title\":{\"x\":0.05},\"mapbox\":{\"style\":\"light\"}}},\"xaxis\":{\"anchor\":\"y\",\"domain\":[0.0,1.0],\"title\":{\"text\":\"polarity\"}},\"yaxis\":{\"anchor\":\"x\",\"domain\":[0.0,1.0],\"title\":{\"text\":\"count\"}},\"legend\":{\"tracegroupgap\":0},\"title\":{\"text\":\"True Compound Polarity\"},\"barmode\":\"relative\"},                        {\"responsive\": true}                    ).then(function(){\n",
              "                            \n",
              "var gd = document.getElementById('9d59a3bb-25af-4d14-8d9b-045e97c9bd4f');\n",
              "var x = new MutationObserver(function (mutations, observer) {{\n",
              "        var display = window.getComputedStyle(gd).display;\n",
              "        if (!display || display === 'none') {{\n",
              "            console.log([gd, 'removed!']);\n",
              "            Plotly.purge(gd);\n",
              "            observer.disconnect();\n",
              "        }}\n",
              "}});\n",
              "\n",
              "// Listen for the removal of the full notebook cells\n",
              "var notebookContainer = gd.closest('#notebook-container');\n",
              "if (notebookContainer) {{\n",
              "    x.observe(notebookContainer, {childList: true});\n",
              "}}\n",
              "\n",
              "// Listen for the clearing of the current output cell\n",
              "var outputEl = gd.closest('.output');\n",
              "if (outputEl) {{\n",
              "    x.observe(outputEl, {childList: true});\n",
              "}}\n",
              "\n",
              "                        })                };                            </script>        </div>\n",
              "</body>\n",
              "</html>"
            ]
          },
          "metadata": {}
        }
      ]
    },
    {
      "cell_type": "code",
      "source": [
        "true_compound.describe()"
      ],
      "metadata": {
        "colab": {
          "base_uri": "https://localhost:8080/"
        },
        "id": "CdJIfXCbLGP7",
        "outputId": "70138687-a7f2-4713-a612-49835082fc29"
      },
      "execution_count": null,
      "outputs": [
        {
          "output_type": "execute_result",
          "data": {
            "text/plain": [
              "count    5751.000000\n",
              "mean       -0.019395\n",
              "std         0.395429\n",
              "min        -0.974400\n",
              "25%        -0.296000\n",
              "50%         0.000000\n",
              "75%         0.250000\n",
              "max         0.942300\n",
              "Name: statement, dtype: float64"
            ]
          },
          "metadata": {},
          "execution_count": 142
        }
      ]
    },
    {
      "cell_type": "code",
      "source": [
        "true_pos = true_ex.statement.apply(lambda x: extract_pos_sentiment(x))\n",
        "true_neg = true_ex.statement.apply(lambda x: extract_neg_sentiment(x))\n",
        "false_compound = false_ex.statement.apply(lambda x: extract_compound_sentiment(x))\n",
        "false_pos = false_ex.statement.apply(lambda x: extract_pos_sentiment(x))\n",
        "false_neg = false_ex.statement.apply(lambda x: extract_neg_sentiment(x))"
      ],
      "metadata": {
        "id": "7fIcxavQL1Cl"
      },
      "execution_count": null,
      "outputs": []
    },
    {
      "cell_type": "code",
      "source": [
        "px.histogram(false_compound, x=false_compound.values, labels={\"x\": \"polarity\"}, title=\"False Compound Polarity\")"
      ],
      "metadata": {
        "colab": {
          "base_uri": "https://localhost:8080/",
          "height": 542
        },
        "id": "Z-NsEF1JL-jk",
        "outputId": "dd4a269b-2e86-4e4a-9673-cf00abbd8d5c"
      },
      "execution_count": null,
      "outputs": [
        {
          "output_type": "display_data",
          "data": {
            "text/html": [
              "<html>\n",
              "<head><meta charset=\"utf-8\" /></head>\n",
              "<body>\n",
              "    <div>            <script src=\"https://cdnjs.cloudflare.com/ajax/libs/mathjax/2.7.5/MathJax.js?config=TeX-AMS-MML_SVG\"></script><script type=\"text/javascript\">if (window.MathJax && window.MathJax.Hub && window.MathJax.Hub.Config) {window.MathJax.Hub.Config({SVG: {font: \"STIX-Web\"}});}</script>                <script type=\"text/javascript\">window.PlotlyConfig = {MathJaxConfig: 'local'};</script>\n",
              "        <script charset=\"utf-8\" src=\"https://cdn.plot.ly/plotly-2.24.1.min.js\"></script>                <div id=\"44c3b6d0-2aea-4f9f-96cc-62b26b80b636\" class=\"plotly-graph-div\" style=\"height:525px; width:100%;\"></div>            <script type=\"text/javascript\">                                    window.PLOTLYENV=window.PLOTLYENV || {};                                    if (document.getElementById(\"44c3b6d0-2aea-4f9f-96cc-62b26b80b636\")) {                    Plotly.newPlot(                        \"44c3b6d0-2aea-4f9f-96cc-62b26b80b636\",                        [{\"alignmentgroup\":\"True\",\"bingroup\":\"x\",\"hovertemplate\":\"polarity=%{x}\\u003cbr\\u003ecount=%{y}\\u003cextra\\u003e\\u003c\\u002fextra\\u003e\",\"legendgroup\":\"\",\"marker\":{\"color\":\"#636efa\",\"pattern\":{\"shape\":\"\"}},\"name\":\"\",\"offsetgroup\":\"\",\"orientation\":\"v\",\"showlegend\":false,\"x\":[0.25,0.7579,0.0,0.128,0.0258,0.7184,0.0,0.0,0.0,0.2732,0.4927,0.0,-0.4939,0.7906,0.0,0.0772,-0.8705,0.0,-0.4019,0.4588,0.0,0.0,0.0,0.0,0.4144,0.0,0.0,0.0,-0.5267,0.0,0.0,0.0258,-0.296,0.5574,0.0,0.3182,0.6249,0.2732,0.0,-0.4019,0.0,0.1779,0.802,-0.34,0.2732,-0.5785,0.0,-0.1027,0.0,0.0,0.0,0.0,0.128,0.296,-0.6249,0.0,0.4019,0.0,0.0,0.0,0.0,-0.1027,-0.2732,0.3182,-0.5583,-0.3802,-0.4588,0.0,0.0,-0.5984,0.4404,-0.4019,0.3818,0.4215,0.4215,0.296,-0.6151,0.0,0.0,0.3612,-0.5994,-0.6705,-0.5267,-0.4215,0.0,-0.7845,0.0,-0.6908,0.3182,0.0,-0.7144,-0.2263,0.3182,0.0,-0.296,0.7783,0.0,-0.0258,0.1531,-0.128,0.5994,0.0,-0.5994,-0.2263,0.296,0.0,0.1531,0.296,0.1027,0.4215,0.4939,0.0,0.3182,0.3818,0.2732,-0.1779,0.2732,0.0,-0.1761,-0.6908,-0.34,0.0,0.0,0.0772,0.0,0.0571,-0.5423,0.296,0.4939,0.4019,-0.0572,-0.296,-0.2732,0.0,-0.4767,0.7096,-0.5106,0.0,0.0,0.0,0.25,0.0,0.0,0.0,0.0,0.1027,0.0,0.0,0.5859,0.0,-0.4019,0.0,-0.5994,-0.0036,0.0,0.4939,-0.34,0.4548,0.4939,-0.8225,0.0,0.4939,0.4939,-0.296,0.5574,-0.5267,0.0,0.0,0.7346,0.0,-0.2732,0.4003,0.4019,-0.5719,0.0,0.0,0.539,0.0,0.6249,0.0,0.0,0.6486,0.0,-0.4404,0.34,0.0,0.296,0.0,-0.1027,0.0,0.6249,-0.0572,0.4973,-0.5267,-0.5423,0.0,0.3182,0.6808,0.0,-0.0516,-0.5859,0.296,0.7506,-0.0258,0.6369,-0.34,-0.34,-0.875,0.0,-0.6249,0.0,0.4939,0.7178,0.6124,-0.296,0.0,-0.3818,0.2263,0.4939,0.6997,0.0,0.0,0.0,0.3182,-0.4588,0.4215,0.0,0.0,-0.4973,0.0,-0.3818,0.2732,-0.0603,-0.1779,0.4767,0.0,0.4215,0.0,0.3182,0.0,0.2975,-0.0803,0.0,0.0,-0.5574,-0.3182,0.4215,0.0,-0.5574,0.5267,-0.3818,0.5859,0.34,0.0,0.0,-0.6256,0.4939,0.4019,0.0,-0.6478,0.8516,-0.296,-0.3612,-0.7351,0.0,0.0,0.2732,0.0,0.0,0.6249,-0.8591,-0.3182,0.0,0.0,-0.0572,-0.25,0.0,0.0772,0.2023,0.0,-0.1027,0.4215,-0.3612,0.3716,0.34,-0.5859,0.0,0.3182,-0.6739,-0.3182,0.0,-0.1027,-0.6808,-0.8555,0.0,0.0,-0.836,0.0,-0.3818,0.0,0.0,0.5106,0.2023,0.2732,-0.3182,0.4215,0.128,-0.4588,-0.5574,-0.7269,0.0,-0.7717,-0.8402,0.2732,0.7269,0.4939,0.3182,0.0,0.0,-0.3612,0.4215,-0.5413,-0.128,0.0,0.0,0.0,0.0,-0.6808,-0.6369,0.4019,-0.2263,0.6597,-0.6249,0.1779,0.0,0.0,0.5499,0.0,0.0,0.0,0.6741,0.0,-0.6478,0.0629,0.3182,0.8271,-0.296,0.0,0.7346,-0.4902,-0.8316,-0.2368,-0.9062,-0.296,-0.3818,-0.7351,0.4019,-0.3182,0.4019,-0.2263,0.0,-0.6597,0.0,0.0,0.0,0.5574,0.0,-0.4939,0.8883,-0.6705,0.2023,-0.296,-0.1027,0.0772,0.34,0.2732,-0.8442,-0.0516,-0.875,0.0,0.4939,0.0,0.0,0.2732,-0.5927,0.0,0.0,0.0,0.1779,-0.3182,-0.2263,0.0,0.891,0.0,0.0,0.0,0.0,0.5994,0.3612,0.3818,0.4404,-0.2263,0.0,-0.2732,0.5994,0.25,0.0,0.0,0.3818,-0.6705,0.0,-0.2732,-0.3612,0.3182,-0.4404,-0.296,0.0,0.1263,-0.3818,0.0,0.7579,0.0,0.0,0.4404,-0.1027,0.1114,0.34,0.8126,-0.0516,0.4939,0.0,0.0,-0.3612,0.3182,-0.1263,0.0754,0.0,-0.3566,-0.7269,-0.1491,-0.5859,0.0,0.0,0.4404,0.068,0.5859,-0.6908,0.4939,0.0,0.4939,0.0,0.4939,0.6808,0.3818,0.0,-0.2732,-0.1531,-0.1027,0.0,-0.296,0.0772,0.5574,0.0516,0.3182,-0.4404,-0.5106,-0.34,0.3182,0.0,0.0,-0.235,-0.3182,-0.5994,-0.1027,0.4215,0.0,0.1531,0.0,-0.0997,0.0762,0.3182,0.4404,0.25,0.2235,0.4754,0.0,0.0,-0.6075,-0.0516,0.34,0.0,-0.2732,0.0,-0.6808,0.296,0.4767,-0.296,-0.296,0.0,-0.1808,0.5859,0.4939,0.0,0.4939,-0.3612,0.0,0.694,0.6249,0.2732,0.0,-0.1531,0.6486,0.0,0.128,0.6486,-0.2714,0.6267,-0.4466,0.0,0.4019,0.0,-0.2732,-0.7269,0.0,-0.395,0.6705,-0.3612,0.0,-0.3818,-0.6808,0.3612,0.8074,-0.4588,0.3182,-0.3612,0.0,0.4939,-0.5574,0.0,0.0,0.0,-0.1027,0.0,0.0,0.5423,0.0,0.3182,-0.4404,-0.4404,0.6901,0.8074,0.0,0.0,-0.4588,0.0,-0.2263,0.5106,-0.6908,0.0,0.128,0.0,0.128,0.0,0.0,0.0,0.0,0.0,0.0,0.0,0.0,0.0,-0.0258,0.5859,-0.7096,-0.6997,-0.128,-0.1027,-0.6249,0.4215,0.0,0.5719,0.0,-0.5358,-0.4215,0.4215,0.6124,-0.4404,-0.1531,0.25,0.2263,0.0,-0.4404,0.0,0.0,0.0,0.0,0.0,0.0,-0.4019,0.4939,-0.5574,-0.2263,-0.128,-0.3182,0.4728,-0.6705,-0.4939,-0.1911,-0.6666,0.0,0.0,0.0,0.0,-0.5574,0.4404,0.4939,0.0,0.3612,0.0,-0.4754,0.0,0.0258,0.0772,0.0,-0.2411,-0.1877,0.0,0.0,0.0,-0.765,0.8411,0.0,0.0762,0.5859,-0.6124,0.0,0.0,0.6249,-0.1027,-0.0258,0.0,0.0,0.0,0.0,0.0,0.0,-0.34,0.0,0.128,0.0,-0.3818,0.0,-0.4588,-0.5719,0.0,-0.3818,-0.6705,0.0,0.0,-0.7717,-0.8625,0.3818,0.3182,0.2023,-0.5423,0.0,0.0,-0.296,0.0,0.0,0.7506,0.0,-0.4144,0.1682,-0.3182,0.4588,-0.7506,-0.2263,0.0,0.4588,0.0,0.4585,-0.8271,-0.1779,-0.749,0.1531,0.1531,0.0,0.0,0.0,-0.8779,0.25,0.7269,0.4767,0.0,0.25,0.4588,0.3182,0.3818,0.0,-0.296,0.0,0.3182,-0.1027,0.5859,-0.7579,-0.6249,0.6249,-0.2732,-0.5574,0.1531,-0.128,0.0,-0.2732,0.0,0.0,-0.6597,0.0,0.7184,0.3182,0.1969,-0.3182,0.0,-0.3252,0.0,-0.3089,0.0,0.0,-0.3976,-0.6908,-0.6369,0.6124,-0.5574,0.3818,0.2263,0.6801,0.0,0.34,-0.1531,0.0,0.0,-0.6705,0.0772,0.128,0.3182,0.0,0.1739,0.4588,0.2263,-0.3382,0.128,0.0,0.3612,-0.4215,0.0865,-0.3612,0.0,0.0,0.0,0.0,0.0,0.4019,-0.296,0.3182,0.0,-0.0516,0.0,0.0,0.0,0.4588,-0.3818,-0.5574,-0.4019,-0.6369,0.0,0.4215,0.2023,0.0,0.4588,0.0,0.0,0.0,0.8176,0.2732,0.0,0.4939,-0.3612,0.0,0.4019,-0.6486,0.3612,0.4215,0.1779,0.2584,0.6249,-0.4019,0.34,-0.4404,0.1779,-0.5994,0.0,0.0,0.1027,-0.4902,0.0,-0.7717,-0.8176,0.2732,0.296,0.3818,0.34,0.25,-0.8297,0.0,0.0,0.0,0.4939,-0.0772,0.0516,0.0,0.0,0.3612,0.34,-0.8225,0.7184,-0.4404,-0.4939,0.0,0.0,0.8658,0.296,-0.8176,0.0,0.0,0.4218,0.0,0.4019,0.25,0.0,0.0,0.128,-0.8834,0.0,0.5106,-0.3612,-0.5574,0.8487,0.0,0.2263,0.0516,0.0,-0.296,0.0,0.0,-0.2732,-0.128,0.4019,0.4767,0.0,0.0,0.69,0.0,0.0,0.0,0.2732,-0.5994,-0.2263,-0.5574,0.7717,0.0,0.0,0.0,-0.34,0.4215,0.4939,-0.4939,0.7184,-0.4588,-0.4019,0.34,0.0,0.1129,0.6486,0.0,0.6705,0.3612,-0.3182,0.4003,-0.128,0.3818,0.4215,-0.3182,0.4019,0.0,-0.5106,0.4019,-0.2263,-0.4939,-0.2263,-0.5574,-0.4019,0.0,0.0,-0.3612,-0.6124,-0.4966,0.0,0.4939,-0.4019,0.3182,-0.5423,-0.1779,0.34,0.0772,-0.128,-0.4019,-0.1027,0.3182,0.1779,-0.4767,-0.1027,-0.25,-0.5267,0.0,0.3182,0.0,0.2023,0.0,-0.3182,-0.6249,0.0,0.0,0.6124,0.0,0.8268,-0.6096,-0.7866,0.0,-0.2732,0.0,0.0,0.128,-0.2732,0.0,-0.4588,0.0,0.0,0.34,0.0,0.3818,0.0,-0.6808,-0.5812,-0.128,0.0,-0.3182,0.0772,-0.1027,-0.4215,0.0,0.1441,0.34,0.0,-0.6124,0.0,0.0,-0.8591,0.7269,-0.6249,0.0,0.25,0.0,0.3182,0.0,-0.3089,0.7845,-0.6124,0.0,0.1531,0.0,0.0,0.0,0.631,0.0,0.128,0.2732,-0.7717,-0.5574,0.4939,0.6908,-0.3412,0.0516,0.25,0.743,0.0,0.0,0.0,0.4019,-0.3237,0.4019,-0.296,0.0,-0.4404,0.0,-0.3491,0.0,-0.2732,0.0,0.0,0.0,-0.25,-0.5423,0.3612,0.0,-0.5859,-0.1531,0.0,-0.6808,0.0,0.0,0.0,0.0,-0.8689,0.0,0.0,0.5106,0.0,-0.128,-0.4364,0.0,0.0,0.0,0.0,0.3612,-0.8074,0.128,0.0,0.0,0.4939,-0.1779,-0.6908,0.0,-0.4019,0.0,0.3818,-0.8442,0.0,-0.5574,0.0,0.5267,-0.5574,-0.25,0.0,-0.3089,0.3182,0.0,0.0,0.7783,-0.4055,0.0516,0.0,0.0,0.0,0.0772,0.0,-0.296,0.0,0.0,0.3612,0.0,-0.296,0.0,-0.128,0.0,-0.0516,-0.2901,-0.5127,0.3818,0.8176,0.2732,0.6808,0.25,0.0,0.6908,-0.9246,0.7579,0.0,-0.4404,0.3818,0.4939,0.1901,0.0,0.4939,-0.4404,-0.4767,0.4767,0.0,-0.2732,0.0,0.0,0.6249,0.0,-0.0191,-0.296,-0.3612,-0.6486,-0.3182,0.4754,0.0,-0.0258,0.4215,0.3182,0.0,-0.296,-0.7845,0.0,0.0,0.0772,0.4939,-0.3818,-0.5106,0.0,0.25,0.7351,-0.0258,0.0,-0.6124,0.0,0.0,0.6369,-0.7906,-0.5719,-0.5574,-0.4019,-0.296,0.0,0.0,0.4019,-0.1027,-0.7003,0.0,0.4404,-0.4019,0.3182,0.8689,0.4215,0.128,-0.3612,0.5719,-0.1027,0.3089,-0.3612,0.4404,0.7783,0.0,0.4939,-0.5531,0.34,0.0,0.0,-0.296,0.8658,0.6705,0.0,0.2732,-0.296,-0.4939,0.0,-0.6486,0.0,0.0,-0.7589,0.0,-0.2057,0.0,0.0,0.0,0.5423,0.0,0.2023,0.0,-0.4767,0.3182,-0.8074,0.4939,0.0,0.0,0.0,0.0,0.4019,0.8062,0.4939,0.0,-0.197,-0.4767,-0.4767,0.0762,-0.3182,0.0,-0.3182,-0.5574,0.0772,-0.2225,0.0,0.0,0.0,0.4939,0.0,0.0,0.7178,-0.1531,0.25,0.5423,0.0,-0.0572,0.2716,-0.3612,0.1285,0.0,0.0,0.0,-0.296,0.5106,-0.1901,0.6369,0.0,-0.0516,0.25,0.0772,-0.6705,0.0,0.0,-0.2732,0.5106,-0.1027,0.4019,0.0,-0.1027,-0.296,-0.5574,0.25,0.0,0.5267,0.4939,0.128,0.0,0.0,-0.4404,-0.6326,0.1027,0.0258,-0.7964,0.3612,0.0,0.0772,0.0,0.0,0.4404,-0.5994,0.4939,0.0,0.3612,0.0,0.0,0.0,0.5396,-0.3182,-0.2732,-0.6369,0.0,0.0,0.0,0.0,0.0,0.3818,-0.5423,0.3182,-0.765,-0.3412,-0.296,0.4215,0.0,0.0,0.2732,0.5423,0.5574,-0.1531,-0.5574,0.4939,-0.25,-0.6705,-0.2732,0.0,0.0,0.5563,0.0,0.6369,0.4404,-0.128,0.0,0.0,0.0,-0.128,-0.4588,0.0,0.0,0.2732,-0.6597,-0.4215,-0.3612,0.6369,0.0,0.0,-0.6705,-0.5574,0.4404,0.7845,-0.7184,0.0,0.3182,0.507,0.4767,0.0,0.0,0.0,0.0,0.0,0.3089,-0.2263,0.0,0.0,0.2732,0.2023,0.0,-0.7964,0.0,0.0,0.4215,-0.3818,-0.6369,0.0,0.0,-0.2732,-0.3612,-0.296,0.0,0.3612,0.4939,-0.5574,0.0,0.4019,0.4754,0.0,-0.2972,0.7906,-0.4043,0.0772,-0.8074,0.3804,0.0,-0.4767,0.0,0.0,0.0,0.0,-0.5994,-0.4404,0.4019,-0.4019,-0.4939,0.0,0.3182,0.872,0.0,0.0,0.4939,-0.5574,-0.5994,-0.4737,-0.3818,0.0,0.0,0.4019,0.7202,0.0,0.0,0.0,-0.001,0.802,0.0,0.0,0.0,-0.25,0.0,0.0,0.296,0.0,0.0,0.4019,0.4215,0.0,0.0,-0.6124,0.0,0.3818,0.0,0.6124,0.0,-0.5267,0.6369,-0.7823,-0.4588,0.6908,-0.8479,0.34,-0.5994,0.3818,0.4939,0.0,-0.4019,0.0,0.5994,0.0,0.188,0.1027,0.4215,0.6369,0.0,-0.296,0.0,-0.4201,0.0,0.0,0.0,0.0,0.0,0.0772,0.5423,0.0,-0.4215,0.1779,0.128,0.0,0.0,0.0,0.0,-0.4767,0.0,0.6369,0.0,0.0,-0.2023,0.0,0.3612,-0.6908,0.4215,0.3612,-0.4215,0.4019,-0.3612,0.0,0.296,-0.4019,0.0,0.0,0.0,0.0,-0.5574,0.0,0.3252,0.34,-0.7906,0.0516,0.0,0.0,-0.4939,0.0,0.0,0.1779,0.0,-0.296,-0.1027,0.0,0.0,0.0772,0.0,0.0,-0.296,0.0,0.0,0.6369,-0.5423,-0.3818,0.0,0.0,0.3818,0.743,-0.6908,0.0,0.6249,-0.4767,0.2732,0.0,0.8934,-0.3612,-0.4019,0.2023,0.34,0.0,0.0,0.2732,-0.4588,-0.4767,0.1531,0.5859,-0.3818,0.2263,0.0,0.3182,0.296,-0.5142,-0.5994,0.872,0.0,0.3612,0.5574,0.0,-0.6908,0.4767,-0.4767,0.8555,0.0,0.0,0.5859,0.0,0.3818,-0.4019,0.2732,0.0,0.3724,0.0,-0.0516,0.4019,0.0772,-0.6908,-0.6908,-0.4201,0.0,0.4939,0.0516,0.0,0.4019,-0.2263,0.0516,-0.34,-0.2263,0.0,0.0,-0.5859,0.7003,-0.8176,0.0,-0.6249,-0.0258,-0.1027,0.1779,0.8689,-0.6249,0.6705,0.0,-0.6908,0.0,0.0,0.6096,0.0,-0.5574,-0.296,-0.7351,-0.3818,0.4005,-0.7579,-0.296,-0.25,0.4767,0.0,0.2732,-0.4767,-0.1027,0.25,0.4404,0.0,0.8074,0.7469,0.4939,-0.3182,-0.1027,0.0,0.5106,0.2732,0.0,-0.4767,-0.3182,0.0772,0.2732,0.6705,0.0,0.3182,0.3612,0.0,0.0,0.2732,0.34,0.0,0.0,-0.2023,-0.25,-0.4404,0.0,0.4767,0.0,-0.1027,-0.6597,0.4019,0.0,-0.6514,-0.5106,0.0,0.0,-0.5574,0.4939,0.128,0.0,-0.5994,-0.0516,-0.0772,0.0,-0.5994,0.0,-0.34,0.0,0.4404,0.0,0.0,0.0,0.4215,0.6486,0.0,0.3612,0.4939,0.0,-0.296,0.0,0.0,-0.6249,0.0,0.0,-0.8834,0.5994,0.0,0.9186,0.0,-0.1531,-0.3818,0.6486,0.0,0.4939,0.2263,0.0258,-0.6808,0.0,-0.8225,0.0,0.0,0.34,-0.0749,0.0,-0.0772,-0.6597,-0.1027,0.4939,-0.3753,-0.4404,0.0,0.4939,0.2263,-0.8952,0.0,0.0,0.0,0.25,0.3612,-0.34,0.0,0.1779,0.2716,0.5859,0.4404,0.2732,-0.4445,0.0,0.3612,0.6369,-0.5859,0.0,-0.3182,-0.1877,-0.296,0.0,-0.2023,0.0,-0.6757,0.0,0.0,0.0,0.0,0.0,0.0,0.0,0.5994,-0.3252,0.0772,0.0,-0.34,0.0,0.4939,-0.296,0.2732,-0.3612,0.4939,0.0,0.0,0.34,0.0,-0.4939,0.4404,0.4767,0.3182,0.5106,0.3612,0.25,0.0,0.4939,0.0258,0.0,0.0,0.0,0.0,0.0,-0.6956,0.3182,0.25,-0.2732,-0.3818,0.5859,0.0,-0.7263,-0.2732,0.0,0.0,0.0,0.3182,0.0108,0.0,-0.3612,0.7351,0.34,-0.4588,0.0,0.5859,-0.2263,-0.8555,0.0,0.3612,0.0,-0.7906,0.9371,0.3182,-0.5574,-0.5106,-0.5574,0.0387,0.0,-0.4588,0.0,0.4404,-0.7935,0.0,-0.1027,-0.1027,-0.4226,0.1027,-0.0258,-0.34,-0.5994,0.0,0.0,0.5106,-0.8689,0.0,-0.0258,0.0,0.0,0.0,-0.4336,0.5106,0.4404,0.0,0.0,-0.128,0.0,0.7537,0.4939,-0.9325,0.4019,0.5994,0.0,0.25,0.25,-0.128,0.0,0.4404,0.6249,0.0,0.2023,-0.4939,0.0,0.0,0.0,0.4391,0.4404,0.0,0.0,0.3182,-0.2411,0.0,0.0,0.0,-0.3818,0.0,0.7506,-0.4767,-0.2755,0.6486,0.2732,0.6549,-0.2732,-0.34,0.0,0.802,0.0,0.4215,-0.3182,0.5106,-0.4404,0.34,0.4019,0.0,0.0,-0.2732,0.4019,0.0,0.6369,0.0,0.3612,-0.4404,0.0,-0.0772,-0.5106,0.0,-0.5574,0.3818,-0.3875,0.0,-0.128,0.0,0.4939,0.2023,0.296,0.0,0.4939,0.0,0.0,0.0,0.1027,-0.8658,0.0,0.2732,0.0,0.0,0.0,0.0,0.5423,0.5859,0.0258,0.4215,-0.2415,0.0,0.0,0.6007,0.4939,-0.7269,0.1027,-0.7506,-0.9014,0.0,0.0,0.0,-0.3182,0.0,-0.7184,-0.0258,0.0,-0.1531,0.0,0.0,0.4215,-0.6597,-0.296,-0.6597,0.2732,0.4939,0.0,0.0,-0.2755,0.4939,0.4939,0.5106,0.0,0.3182,0.0772,0.0,0.0,0.0,0.5423,0.3089,-0.2263,0.296,-0.1027,-0.34,0.0,-0.6597,-0.2057,0.0,-0.2263,0.875,0.0,-0.34,0.0,0.0,0.6908,0.3612,0.1027,0.0,0.1779,0.0,0.0516,0.0516,0.0,-0.2263,0.4767,0.0,-0.5574,0.0,0.4019,0.0,-0.8074,0.4939,0.3182,0.0,0.4939,-0.25,-0.0258,0.0,-0.2732,0.0,-0.34,0.8589,0.0,0.1779,0.4939,0.0,-0.296,-0.296,0.0,0.0,-0.4939,-0.5423,-0.1531,0.5994,0.5023,0.0,-0.5994,0.4767,0.34,0.4201,0.0,0.0,0.34,-0.4215,-0.3612,-0.2732,0.0,-0.7351,0.25,0.3612,0.4215,-0.9246,-0.3818,-0.4588,0.0,0.0,0.0,0.0,0.0,0.0,-0.296,-0.171,0.0,-0.3167,-0.3612,0.1531,0.7506,0.0,0.0,0.4939,-0.5505,-0.5267,-0.3612,0.0,-0.2732,0.3182,-0.5574,0.4939,-0.1779,0.4215,-0.9186,-0.2023,0.25,-0.7579,0.0,-0.6249,0.0,0.2732,-0.4939,0.4019,0.9042,0.0,0.4754,0.0,0.0,-0.3182,0.0,-0.34,0.0,-0.7003,-0.3818,0.0,-0.8689,0.4939,-0.3818,0.3182,0.4019,0.6908,0.0,0.0,0.0,0.2023,-0.2498,0.6249,-0.8591,0.0,-0.5574,0.0,-0.4767,-0.3818,0.25,-0.5207,0.0,0.0,0.0,0.4404,0.0,-0.5267,0.0,0.2732,0.4404,-0.296,0.0,-0.2732,0.0,0.0,-0.4404,-0.5106,-0.4767,0.0,0.5994,0.8225,-0.3818,0.0,0.5423,0.1154,0.0,-0.3127,0.7906,0.7845,0.0,0.0516,-0.34,0.3182,-0.1531,0.4215,0.4939,0.0,0.4404,0.6369,0.0,-0.8934,-0.8591,0.0,0.6908,0.0,-0.2263,0.3818,-0.2023,-0.296,-0.0258,0.0,-0.2732,-0.6597,-0.9287,0.4019,0.0,0.3612,-0.8316,0.0,0.0,0.3134,-0.2846,0.0,-0.3182,0.2716,0.0,-0.7778,-0.2732,-0.8807,-0.6124,-0.784,0.0,0.4939,-0.296,0.4939,0.4215,0.0,-0.2057,0.2732,-0.4404,-0.2263,0.4404,0.0,-0.4939,-0.9201,0.0,-0.5574,0.0,0.2732,-0.4019,0.0,-0.507,0.0,-0.9001,0.0,0.0,0.0772,0.5719,-0.4939,0.2682,-0.5106,-0.5994,0.6369,0.3182,-0.5106,0.3182,0.0,0.0,-0.2344,0.4939,0.0772,0.0258,0.0,0.0,-0.5574,0.8779,0.0572,0.0,0.0,0.0,-0.3182,-0.5106,0.0,0.128,-0.4588,-0.128,-0.8271,0.0,0.0,-0.7506,-0.4019,0.0,0.0,0.4019,0.0,-0.802,0.0,0.0,0.8513,0.5423,-0.2263,-0.5106,0.0,-0.6124,0.0,0.0276,0.0,0.0772,-0.7964,0.0,0.0,-0.5859,0.0,-0.4767,0.0,-0.2732,-0.4767,0.0,0.4939,0.4939,-0.4939,0.4404,0.0,0.0,0.5267,0.4019,-0.8591,0.0,-0.2732,0.4215,0.25,0.0,0.0,-0.0772,0.0,0.2023,-0.765,0.6908,0.4215,-0.3612,0.5267,0.0,0.0,0.0,-0.2023,-0.7096,0.3612,-0.1027,0.7351,0.2144,0.0,0.0,0.3818,0.4939,0.2732,0.0,-0.7506,0.0,0.3818,0.3182,0.0,-0.296,0.0,0.1206,-0.5423,0.6705,0.0,0.6705,0.0516,0.2924,-0.5232,-0.3818,0.4939,-0.2732,0.0,-0.6908,0.5719,0.5106,0.0516,0.2732,0.0,-0.5719,0.6908,0.0,0.1027,0.3045,0.0,0.0,-0.5106,0.7003,0.4588,0.0,0.0,0.0,0.2732,0.0,-0.4404,-0.4404,0.5574,0.7351,0.6486,-0.6597,0.0,0.2105,-0.2023,0.0,0.0531,0.128,0.3412,0.5095,-0.5248,0.0,0.0,0.0,0.0762,0.25,-0.6249,0.128,0.34,0.0,-0.1027,0.0,0.0,0.5574,0.0,0.7184,0.5267,0.4215,0.0,-0.4993,0.0,0.2023,0.25,-0.8074,-0.34,0.4019,0.0,0.3182,0.2732,-0.34,-0.5574,0.2235,-0.7906,-0.1695,0.0,0.7096,-0.2716,0.3182,0.0,-0.6249,0.8402,0.6249,0.5574,0.4939,-0.128,-0.128,-0.7184,-0.8118,0.3182,0.0,0.0,0.3182,0.0,0.1531,0.4215,0.7269,0.75,0.0,0.0,0.4588,0.3182,-0.2732,0.4215,0.6692,0.3818,0.0258,0.128,0.0,-0.0772,-0.7574,0.0,0.4215,0.4404,0.128,-0.0,-0.9468,-0.802,-0.1027,-0.5423,-0.8828,-0.3612,0.0,0.3182,0.0,-0.5267,0.0,0.0,0.3182,0.4767,-0.8316,0.0,-0.6249,-0.5423,0.6369,0.0,0.0,0.3818,0.0,-0.6808,0.0,-0.5719,0.0,0.4019,-0.4215,0.0,0.0,0.0,0.0,-0.6705,0.4404,-0.5994,0.0408,0.7906,0.0,0.3612,-0.296,0.0,-0.5994,-0.0258,0.4939,-0.5267,-0.296,0.0,-0.25,-0.5719,-0.5267,0.2263,0.0,-0.2023,-0.5106,0.3612,0.5859,-0.25,0.0191,0.0,-0.4767,0.0,0.1531,0.3182,-0.3919,-0.4404,-0.296,0.5256,-0.296,0.2732,0.0,0.0,0.3182,-0.4588,-0.3612,0.0,-0.0516,-0.8402,0.0,-0.8176,0.0,-0.5423,0.0,0.0,-0.7184,0.0,-0.2023,-0.296,0.0,0.0,0.0772,-0.0258,0.0,0.6808,0.3612,0.0,-0.3612,-0.6133,-0.0191,0.0,-0.2732,0.2003,0.0,0.0,0.3818,0.0,-0.4588,-0.4019,0.0,0.0,0.0,0.3818,-0.2732,-0.6249,0.3182,0.0,0.4588,0.0,-0.7003,-0.4404,-0.4588,0.0,-0.5106,0.2942,0.6369,-0.1531,0.0,0.5574,0.0,-0.1027,0.5859,0.7906,0.0,0.3818,-0.4588,0.3612,0.0,0.0,-0.296,-0.4939,0.3818,0.0,0.0,-0.4767,0.0,-0.0258,0.4404,-0.5574,-0.0772,0.0,0.1027,-0.7845,-0.5994,0.2732,-0.296,0.7964,0.0,-0.7717,0.0,0.4536,0.3818,-0.6908,0.4939,0.4939,-0.1513,0.25,0.1088,0.0516,0.4404,0.0,0.0,0.7003,-0.5574,0.2846,0.0,0.0,0.0,0.6166,0.0,0.25,-0.3612,0.0,0.0,-0.3182,0.2263,-0.9735,-0.2732,-0.3182,-0.8264,-0.0495,-0.3818,0.6369,-0.5106,0.0,0.2878,0.0,0.0,0.0,0.2263,-0.6486,0.2382,0.0,0.4939,0.25,0.4588,-0.2023,-0.3182,0.4215,-0.3612,0.0,0.0,0.0,0.0,0.0,0.6486,0.0,0.0,-0.6705,0.0,0.0,-0.5574,-0.4404,0.6369,-0.9136,-0.3182,0.3612,0.3818,0.0,0.2732,-0.6808,0.4404,0.6908,0.0,0.0,0.3612,0.0,0.0,0.25,-0.5574,0.7579,-0.3612,0.0,0.7351,0.3818,-0.3818,-0.4767,0.0,0.3612,0.0,0.0,0.0,0.6908,0.0,-0.5994,0.0,-0.2247,0.0,-0.3612,0.0,0.0,-0.4588,0.7096,-0.7232,-0.5423,0.0,0.1027,0.3919,0.4215,0.0382,-0.296,0.296,-0.7506,0.4939,-0.6865,-0.4588,0.6249,-0.4005,0.0,-0.5574,0.0,-0.5423,0.0,0.0,0.4215,0.0,0.7506,-0.8225,0.3612,-0.5267,-0.7579,0.34,0.0,0.0,-0.5106,0.0,0.4404,0.0,0.3612,-0.3182,0.0,0.4019,0.4939,0.0,-0.5574,0.0,0.0,0.0,0.25,0.6705,0.0,0.5994,-0.296,0.5106,-0.7783,0.0,0.4588,0.0,0.128,0.0,-0.4536,-0.4019,-0.5267,0.0,0.0,0.0,0.0,0.34,0.4939,0.0,0.5994,0.5165,-0.4404,0.0,0.0,0.6369,0.3182,0.3182,0.0,0.0,-0.25,0.3384,0.0,0.34,0.0,0.891,-0.5859,-0.6369,0.3182,0.3612,-0.8225,0.0,0.6249,0.6908,0.7506,-0.6249,0.4215,-0.25,0.2062,0.743,0.1531,0.4939,-0.4215,-0.128,-0.8481,0.4215,-0.296,-0.765,0.6597,0.0,-0.5994,-0.8925,-0.4939,-0.7351,-0.5574,0.0,-0.8316,-0.5574,0.25,-0.0756,0.7076,0.5719,0.34,0.7506,0.0,-0.5106,0.0,0.25,-0.3182,0.0,0.4939,-0.6486,0.0,0.0,-0.3182,0.0,0.0,0.4404,0.2732,0.6597,0.5859,-0.296,0.4019,0.0,-0.4019,0.0,0.0,0.0,-0.3182,0.0,-0.1027,0.3182,-0.0258,-0.2023,0.0,-0.296,0.5423,0.0,0.5994,0.0,0.2057,-0.7072,0.0,0.4939,0.4588,0.0,0.0,0.0,0.0772,-0.4215,0.6249,0.0,-0.2732,-0.296,0.0,0.0,-0.4767,0.4404,0.34,0.0,-0.1027,0.0772,-0.25,0.128,-0.3612,0.2263,0.0,-0.5423,0.0,0.0,0.0,0.0,0.1779,0.2732,-0.5897,-0.1531,0.3612,-0.1027,0.3612,0.0,-0.296,-0.3182,-0.296,-0.2185,-0.3612,-0.5423,-0.7783,0.0,0.0,0.0772,0.7096,-0.4767,0.743,-0.4404,-0.3182,0.4215,0.0,0.0,0.0,0.5574,0.0,0.0,-0.3724,0.0,-0.4939,0.0,0.0,0.0,0.4939,0.3612,-0.6705,0.4939,0.0,-0.4767,0.0,0.0,0.4767,-0.8126,-0.6249,-0.6249,0.0,0.3182,0.25,-0.7479,0.743,0.0,0.0,0.4939,-0.2732,0.0,0.128,0.0,0.34,-0.7579,-0.5994,0.0,-0.1779,0.0,0.6124,0.25,0.1027,0.4939,-0.2732,-0.3612,0.0,0.4939,-0.2732,-0.7841,0.0,0.5859,0.0,0.0,-0.1513,0.0,0.1531,0.0,-0.0572,-0.296,0.3818,0.7096,-0.9231,0.0,-0.6705,-0.6326,0.0,0.0772,-0.3818,0.1027,0.0,0.0,-0.4404,-0.3182,0.0,-0.7003,0.0,-0.6705,-0.3612,0.0,0.2732,-0.296,-0.0516,-0.4939,0.2263,0.0,0.0,0.0,0.0516,-0.4404,0.0,-0.5574,0.0,0.743,0.0,0.0,0.4939,0.0,0.0,0.4019,0.0,-0.2057,0.3612,0.0,-0.2732,0.7964,0.6705,-0.2411,0.0,0.0,0.0,0.0,-0.4588,-0.296,0.4019,-0.3612,0.0,-0.7269,0.0,0.0,-0.1531,0.0,0.296,0.0,-0.7964,0.2263,0.6369,0.4939,0.0,0.0,-0.5994,0.4939,-0.296,-0.4939,0.0,0.0,0.5719,0.0,0.5719,0.0,0.7003,0.5574,-0.5574,0.0,0.2732,0.0,0.0,-0.1027,0.0,0.4588,0.25,0.0,0.0,-0.5994,0.792,-0.7269,0.0,0.6329,0.5267,0.3612,0.3182,0.3182,0.0,0.3182,0.0772,0.0258,0.8625,0.4019,0.4391,0.0,-0.5574,0.0,-0.4005,0.0,-0.9349,0.0,-0.296,0.0,0.0,-0.7717,0.4019,0.5499,0.6369,0.4588,-0.1027,0.4966,0.0,0.2023,-0.5267,0.0,0.7943,0.0,0.0,0.2732,0.0,-0.5994,0.4588,0.0,-0.2023,0.4939,0.6369,0.0,0.2732,0.2249,-0.2732,-0.5106,0.0,0.0,0.0,-0.4939,-0.7351,0.3182,0.0,-0.34,-0.0258,0.0,0.0,-0.3595,0.4404,-0.4767,-0.8316,0.0,0.2721,-0.296,-0.7845,-0.1779,-0.25,-0.8779,-0.4404,0.0,0.0,-0.1901,0.3182,0.0,0.0,0.0,0.0,0.6486,0.7845,-0.5267,0.0,-0.6249,0.2023,-0.7783,-0.34,0.3182,0.3182,0.128,-0.7646,0.3612,-0.4404,0.1531,-0.7246,0.5789,0.1027,0.0,-0.1779,0.0,0.0258,0.2263,0.34,0.0,0.0,-0.6597,-0.0258,0.0,0.0,0.0,0.4215,-0.2023,0.0,0.1027,0.25,-0.4404,0.0,-0.2732,0.0,0.4215,0.0,0.1531,0.0,0.4215,0.0,-0.1779,0.128,0.0,0.0,0.4019,0.5574,0.0,0.0,-0.3744,0.0,-0.7269,-0.3182,0.0,-0.34,0.0,0.8957,-0.296,0.1779,0.0,-0.6705,-0.2023,-0.34,0.0,-0.1531,-0.6369,0.0,0.3612,0.4019,0.0,0.0,-0.3612,-0.6597,0.4356,0.0,0.0,0.0,-0.3089,0.4767,-0.6808,0.1531,0.4019,-0.6124,0.0,-0.296,-0.5994,-0.6908,0.0,0.0,0.0,-0.4019,-0.4753,-0.128,0.4585,-0.6705,0.1027,0.0,0.7351,0.0,0.34,-0.5267,0.0,-0.1027,-0.4019,-0.6249,0.4019,0.5216,0.0,-0.7003,0.1511,0.4767,0.0,0.0,0.0,-0.1027,0.4215,0.34,-0.4215,0.3818,-0.4939,-0.5719,0.0,0.0772,0.0,0.0,0.0,0.0,0.2732,-0.6486,0.1027,0.0793,0.3182,0.0258,0.0,0.0,0.4939,-0.296,0.0,0.4939,-0.3612,-0.5574,0.6705,-0.4588,-0.5719,0.4215,-0.25,0.0,-0.6124,0.0,-0.4404,-0.6124,0.1531,-0.0516,0.0,0.2748,-0.2732,0.3182,0.4404,-0.6597,0.0,-0.7717,0.0,0.1027,0.0,-0.25,-0.5859,0.0,-0.6249,0.0,0.765,0.0,0.0,0.4576,0.1531,0.1779,-0.5106,0.0,-0.5423,0.4588,0.0,0.0,0.0,-0.7269,-0.0772,0.8074,-0.3182,-0.4019,-0.0736,-0.296,0.0,0.7351,0.3818,0.5859,0.743,0.25,0.3612,0.0772,-0.8591,-0.5859,-0.296,0.0772,0.0,0.6249,-0.2023,-0.91,0.4939,0.0,-0.296,0.0516,0.4215,0.0,0.0,0.2732,-0.1139,0.2732,0.0,0.1779,0.4215,0.0,0.34,0.0,0.0,-0.1695,-0.296,0.3182,0.2235,0.2732,-0.1027,-0.3182,0.0,-0.7717,0.0,0.0,0.0,0.0,-0.6705,-0.4019,-0.3612,0.0,0.0,0.4939,0.2732,-0.6808,-0.2732,0.0,-0.6486,0.0,-0.5267,0.0,0.0,0.0,0.0,-0.3089,0.3818,0.0,0.8313,0.0,0.0,0.0,-0.296,0.0,0.2023,0.0,0.0,0.0258,0.0258,-0.2732,0.4404,-0.4019,0.0,0.34,0.3182,0.7906,0.4215,0.0,0.4215,0.0,0.4588,0.3182,-0.4767,-0.3818,0.5417,0.5423,0.0,0.0,-0.128,0.431,-0.3089,0.5423,-0.2263,0.7579,0.0,0.5106,0.5859,0.3612,0.2732,0.0,0.0,-0.1027,0.3818,0.0,0.0,0.0,0.0,-0.3818,0.3724,0.0,0.7553,0.2263,0.4767,0.0,-0.3818,0.0,0.34,0.0,-0.5423,0.0,-0.4404,0.0,0.5994,0.0,-0.0799,-0.2732,0.4404,0.0,-0.25,-0.4215,0.0,0.34,0.0,0.0,-0.2023,0.2057,-0.2023,0.0,0.0762,0.4404,0.2263,0.0,0.8519,0.4939,0.0,0.0,-0.7579,0.4215,-0.4019,0.0,-0.296,-0.4939,0.0,0.3182,0.4939,-0.6124,-0.1012,-0.1477,0.0,0.7351,-0.1511,0.0,0.2732,-0.5106,-0.8777,0.0,0.2732,0.0,0.5994,0.0,-0.4404,0.4404,-0.2732,0.3089,0.0,0.0,0.0,0.0,0.0,0.0,-0.0516,-0.9062,0.0,0.0,0.0,0.4939,-0.5574,-0.3612,0.0,-0.3612,-0.6124,0.0,0.7269,0.7351,-0.4404,-0.4019,-0.8705,-0.2732,0.0,0.0,-0.3875,0.0,0.4449,0.2732,0.0,0.3818,0.4019,0.0,0.296,0.0,0.3182,-0.34,-0.4767,0.2023,0.4215,0.0,-0.4678,0.1531,0.4939,0.3919,0.6808,0.0,0.4939,-0.4019,0.0,-0.5994,0.7184,-0.0258,0.0,0.0,0.4939,0.0772,-0.4215,0.0,0.6597,0.0,0.4404,-0.6597,0.4404,0.6908,0.0,0.4019,-0.1027,0.0,0.0,0.0,0.0,0.34,0.0,0.0,-0.3818,0.0,0.7425,0.0,-0.6597,-0.1027,-0.3252,-0.1027,0.34,0.0,0.0,0.0,0.3612,0.296,0.0,0.0,0.0,-0.1139,0.0,-0.5574,0.4767,0.4019,-0.4588,0.5574,0.0,0.0,0.0,0.0,-0.6801,0.5719,0.4215,-0.5574,0.0,-0.34,0.0,0.4939,0.3182,0.7184,0.4939,0.3182,0.743,-0.5139,0.0,0.0,0.0,0.0,0.3818,0.0,0.4215,-0.1655,-0.5574,0.0,0.0,-0.4588,0.0,0.0,-0.6326,0.0,-0.296,0.0,-0.2235,0.0,0.0,0.5994,0.0,-0.5267,-0.1027,0.0,0.0,0.0258,0.3612,0.0,0.0,0.2247,0.3612,0.0,0.3612,-0.4765,0.0,0.0,-0.4588,0.4215,0.0,0.4588,-0.4574,0.0,0.296,0.0,0.0,-0.6597,0.5574,0.4767,-0.0772,-0.6633,0.0,0.0,-0.4019,-0.3612,0.0,0.3182,0.0,0.0,-0.6908,0.0,0.4215,0.0,0.0,0.4767,-0.6808,0.0,0.0,-0.2411,0.0,0.0,0.0,-0.4019,0.0,-0.2846,0.0,-0.2023,0.0,0.4939,-0.3182,0.0,0.4019,0.0,-0.5267,-0.5994,0.0,-0.7184,0.0,-0.1027,0.0,-0.8316,0.34,0.25,0.0,0.0,0.4215,0.6486,0.3182,0.0762,0.0,0.0,0.0,0.0,0.3391,0.0,0.0,0.0,-0.5994,0.0,0.0,-0.6908,0.128,0.0,-0.5574,0.0,-0.0772,0.0258,0.4404,0.0,0.4215,-0.1779,0.5106,0.0,0.4019,0.3818,0.0,-0.6771,0.0,-0.743,-0.3597,0.0,-0.4588,0.0,0.0772,-0.3612,0.0,-0.6249,0.0,0.4215,0.0,0.3182,0.3818,0.4939,0.2732,-0.7964,0.3417,-0.4939,0.0,0.8519,0.0,0.743,-0.5574,-0.1531,-0.4019,-0.5859,0.0,0.0,-0.1027,-0.3182,0.3182,0.0,-0.0258,-0.5267,-0.1027,0.0258,0.0258,0.0,0.0,-0.5719,-0.4588,0.4215,-0.8256,0.0,-0.8885,-0.4939,0.0,-0.7964,0.0,0.3182,0.0,-0.3818,0.25,0.0,0.0,0.0,0.0,0.0,-0.7269,-0.1027,0.0,0.0,0.7783,-0.34,0.0516,-0.1027,0.4019,0.0,0.0,-0.296,0.7096,0.6369,-0.3612,0.0,0.3353,0.2732,0.0,0.0,0.0,0.0,0.3612,-0.3818,-0.5719,0.0,0.0,-0.1027,0.0,0.6124,-0.7506,0.0,0.0,0.0,-0.2411,0.4939,0.0516,0.0,0.4404,0.0772,-0.0516,0.4939,0.4019,0.0,-0.743,0.7003,0.4939,0.0,0.0,-0.2287,0.3182,0.7096,-0.296,-0.5859,0.0,0.0258,0.2023,0.1911,0.3612,-0.5859,0.0,-0.4201,-0.1027,0.0,0.0,0.0,0.4215,0.0,-0.4639,-0.2411,0.802,0.4939,0.0,0.0,0.6633,0.0,0.0772,-0.34,0.1531,0.0,-0.4019,0.0,0.4215,0.4588,-0.4404,-0.8951,0.0,0.4215,0.4767,0.5622,-0.6597,-0.1531,-0.8126,0.4019,-0.8225,0.0,-0.296,0.2023,0.0,0.1027,0.0,-0.5574,0.0,0.296,0.4215,0.0762,0.2228,-0.1027,-0.4019,0.0,-0.5423,0.0,-0.3167,0.0,-0.25,0.0,-0.3612,-0.1531,0.0,-0.6908,-0.5574,0.2732,0.0,0.0,0.0,0.0,-0.7003,0.0,0.0,-0.8225,-0.296,0.0,0.0,-0.3818,-0.4404,0.296,0.0,0.7365,0.4404,0.0,-0.6705,0.0,0.0,-0.8271,0.4767,0.0,-0.2732,0.128,-0.2732,0.0,0.836,0.7964,0.0,-0.7184,-0.4019,-0.5574,-0.3903,-0.34,0.1265,-0.7269,-0.6705,0.0,0.4019,0.0258,0.0,0.4215,0.0,0.0,-0.296,0.2732,-0.5574,0.6808,0.34,0.3612,0.0,0.0,-0.3612,-0.8316,0.0,0.0,0.6249,0.7322,-0.7845,0.0,0.0,-0.3724,-0.3612,-0.2572,0.0,-0.1513,0.1531,0.5574,0.4404,-0.4767,0.5719,-0.0258,0.6597,0.0,0.0,-0.128,-0.1027,0.6486,0.0,0.3818,0.0,0.296,-0.6597,0.1027,0.0,-0.3818,-0.6249,0.4939,-0.296,-0.8431,0.4939,-0.4131,0.1134,0.4215,-0.7906,-0.4767,-0.3612,0.4588,-0.4019,0.0,-0.2732,0.25,-0.4019,0.34,0.4215,-0.2211,-0.4767,0.0,0.3724,0.3274,0.0,0.0,-0.4144,-0.5574,0.0,0.128,-0.5267,-0.3818,0.7096,-0.2732,0.5719,0.0,0.0,-0.2732,0.4753,0.2732,0.1027,-0.0772,0.3612,-0.296,0.0,-0.2732,0.0,0.0,0.3197,-0.2732,0.4939,0.0,-0.296,0.0,0.0772,0.296,0.4019,0.0,0.5859,0.0,-0.2732,-0.0191,-0.1027,-0.5574,0.8442,0.0,0.5423,0.1531,0.0516,0.0,0.3182,0.0,0.0516,0.0,0.7717,0.2023,0.4019,-0.0258,0.4588,-0.2732,-0.2023,-0.4588,0.4215,0.4939,0.4939,-0.4019,-0.5859,0.1779,0.0,0.0,-0.1027,0.9084,-0.3818,0.0,-0.5574,0.2732,-0.3182,0.0,0.7351,-0.3818,0.0,0.0,-0.4404,0.4404,0.4019,-0.5106,-0.9201,0.0,0.4767,0.6486,-0.4404,0.296,-0.5267,0.0,0.4019,-0.6124,0.4404,0.0,0.34,-0.0258,0.0,0.0,-0.4939,0.8718,0.0,0.0,0.0,0.2732,0.7506,0.3919,0.6705,-0.296,0.3612,0.0,-0.4404,0.0,0.0,0.5719,0.0,-0.7814,0.4215,-0.5574,0.0,0.0,0.0,-0.3182,-0.1774,-0.5574,0.4767,0.0,-0.4767,0.7506,-0.7703,0.0,0.0516,0.6887,0.291,0.296,0.5719,-0.3182,0.34,0.0,0.2023,0.5423,0.0,0.4939,0.0,-0.6584,0.2584,0.0,0.7717,-0.4364,0.0,0.0,-0.2263,0.0,-0.8578,0.5106,0.0,-0.5423,-0.296,0.4201,0.0,0.836,0.3804,0.0,-0.3182,-0.4391,0.0,0.4939,0.4404,0.0,0.5574,0.0,0.7506,-0.5994,0.0,0.4939,0.0,-0.836,0.128,0.7096,0.0,0.0,-0.0772,0.0,0.0,-0.6705,-0.25,0.0,0.0,0.0,0.4404,0.34,-0.1531,-0.128,-0.5423,0.4019,0.25,0.0,0.0,-0.9287,-0.4404,-0.7239,0.4019,-0.7184,0.0,0.0,0.2732,0.3612,-0.296,0.0,0.0,0.6705,0.0,0.0,0.2732,0.0516,0.0,0.0,-0.5006,0.0,0.0,-0.4767,0.0,-0.2732,0.4939,0.0,-0.2023,0.7003,0.0,0.0,-0.1027,0.0,0.1027,-0.7964,0.0258,-0.743,0.2263,-0.2263,0.0869,0.0,0.5707,0.0,0.0,0.0,0.5106,-0.1531,0.34,0.0,-0.1027,-0.4019,-0.6908,0.6249,0.0,0.0,-0.3818,0.25,0.0,0.0,0.25,0.0,-0.1027,0.4215,0.4215,-0.0227,0.1531,0.4449,0.128,0.0,0.4939,0.3182,0.0,0.3182,0.0,-0.1779,0.4337,-0.296,0.25,0.1027,-0.0762,0.0,0.4939,0.0,0.2732,0.1027,-0.4019,0.0,-0.3818,0.0,0.0,0.1779,0.3182,-0.2732,0.5106,0.2263,0.3818,0.0,-0.4767,0.8074,0.0,-0.7964,0.5574,-0.0772,0.6486,0.6124,0.2732,0.0,0.6124,0.6808,0.7964,-0.296,-0.34,-0.1779,0.0,0.0,-0.0516,0.2732,-0.9485,0.0,0.0,-0.2732,-0.128,0.5106,0.3182,0.6908,0.4019,-0.4019,0.0366,-0.8807,0.0516,0.0,0.3612,-0.1879,0.3182,0.34,0.0,-0.5256,0.4404,0.0,0.7351,0.0,0.0,-0.6249,0.4023,0.0,0.0,0.0,0.6369,0.3716,0.0,0.4019,0.4767,0.0,0.0,0.4939,0.0,0.0,0.4939,0.4019,-0.3612,0.7906,0.5574,-0.6557,0.4404,0.1531,0.0,0.4019,0.0,0.4019,0.3818,0.0,0.4939,0.0516,-0.2173,-0.6124,-0.0258,0.2023,0.0,-0.4019,-0.5574,0.0,0.3182,0.6369,-0.8211,-0.296,0.296,0.0,-0.296,0.0,0.4588,-0.296,0.25,-0.2732,0.2263,0.0,-0.4767,-0.7506,-0.5719,0.3182,0.0,0.0,0.0,0.0,0.4939,0.0,-0.5106,0.0,-0.0516,0.0,-0.3612,0.0,0.5267,0.25,0.0,-0.5719,-0.0237,0.8268,-0.3089,-0.5994,-0.8271,-0.6249,0.0,-0.802,-0.4215,0.6597,0.0,-0.6597,0.4563,-0.3818,-0.2732,0.6486,0.4404,0.1779,-0.4215,0.6705,0.0,0.3612,0.0,0.0,0.128,0.743,0.0,0.296,-0.4019,0.3291,0.0,0.0258,0.1477,0.25,0.0,-0.1531,0.2023,0.2023,0.0,-0.5574,0.7096,0.5574,-0.3612,0.0,0.6461],\"xaxis\":\"x\",\"yaxis\":\"y\",\"type\":\"histogram\"}],                        {\"template\":{\"data\":{\"histogram2dcontour\":[{\"type\":\"histogram2dcontour\",\"colorbar\":{\"outlinewidth\":0,\"ticks\":\"\"},\"colorscale\":[[0.0,\"#0d0887\"],[0.1111111111111111,\"#46039f\"],[0.2222222222222222,\"#7201a8\"],[0.3333333333333333,\"#9c179e\"],[0.4444444444444444,\"#bd3786\"],[0.5555555555555556,\"#d8576b\"],[0.6666666666666666,\"#ed7953\"],[0.7777777777777778,\"#fb9f3a\"],[0.8888888888888888,\"#fdca26\"],[1.0,\"#f0f921\"]]}],\"choropleth\":[{\"type\":\"choropleth\",\"colorbar\":{\"outlinewidth\":0,\"ticks\":\"\"}}],\"histogram2d\":[{\"type\":\"histogram2d\",\"colorbar\":{\"outlinewidth\":0,\"ticks\":\"\"},\"colorscale\":[[0.0,\"#0d0887\"],[0.1111111111111111,\"#46039f\"],[0.2222222222222222,\"#7201a8\"],[0.3333333333333333,\"#9c179e\"],[0.4444444444444444,\"#bd3786\"],[0.5555555555555556,\"#d8576b\"],[0.6666666666666666,\"#ed7953\"],[0.7777777777777778,\"#fb9f3a\"],[0.8888888888888888,\"#fdca26\"],[1.0,\"#f0f921\"]]}],\"heatmap\":[{\"type\":\"heatmap\",\"colorbar\":{\"outlinewidth\":0,\"ticks\":\"\"},\"colorscale\":[[0.0,\"#0d0887\"],[0.1111111111111111,\"#46039f\"],[0.2222222222222222,\"#7201a8\"],[0.3333333333333333,\"#9c179e\"],[0.4444444444444444,\"#bd3786\"],[0.5555555555555556,\"#d8576b\"],[0.6666666666666666,\"#ed7953\"],[0.7777777777777778,\"#fb9f3a\"],[0.8888888888888888,\"#fdca26\"],[1.0,\"#f0f921\"]]}],\"heatmapgl\":[{\"type\":\"heatmapgl\",\"colorbar\":{\"outlinewidth\":0,\"ticks\":\"\"},\"colorscale\":[[0.0,\"#0d0887\"],[0.1111111111111111,\"#46039f\"],[0.2222222222222222,\"#7201a8\"],[0.3333333333333333,\"#9c179e\"],[0.4444444444444444,\"#bd3786\"],[0.5555555555555556,\"#d8576b\"],[0.6666666666666666,\"#ed7953\"],[0.7777777777777778,\"#fb9f3a\"],[0.8888888888888888,\"#fdca26\"],[1.0,\"#f0f921\"]]}],\"contourcarpet\":[{\"type\":\"contourcarpet\",\"colorbar\":{\"outlinewidth\":0,\"ticks\":\"\"}}],\"contour\":[{\"type\":\"contour\",\"colorbar\":{\"outlinewidth\":0,\"ticks\":\"\"},\"colorscale\":[[0.0,\"#0d0887\"],[0.1111111111111111,\"#46039f\"],[0.2222222222222222,\"#7201a8\"],[0.3333333333333333,\"#9c179e\"],[0.4444444444444444,\"#bd3786\"],[0.5555555555555556,\"#d8576b\"],[0.6666666666666666,\"#ed7953\"],[0.7777777777777778,\"#fb9f3a\"],[0.8888888888888888,\"#fdca26\"],[1.0,\"#f0f921\"]]}],\"surface\":[{\"type\":\"surface\",\"colorbar\":{\"outlinewidth\":0,\"ticks\":\"\"},\"colorscale\":[[0.0,\"#0d0887\"],[0.1111111111111111,\"#46039f\"],[0.2222222222222222,\"#7201a8\"],[0.3333333333333333,\"#9c179e\"],[0.4444444444444444,\"#bd3786\"],[0.5555555555555556,\"#d8576b\"],[0.6666666666666666,\"#ed7953\"],[0.7777777777777778,\"#fb9f3a\"],[0.8888888888888888,\"#fdca26\"],[1.0,\"#f0f921\"]]}],\"mesh3d\":[{\"type\":\"mesh3d\",\"colorbar\":{\"outlinewidth\":0,\"ticks\":\"\"}}],\"scatter\":[{\"fillpattern\":{\"fillmode\":\"overlay\",\"size\":10,\"solidity\":0.2},\"type\":\"scatter\"}],\"parcoords\":[{\"type\":\"parcoords\",\"line\":{\"colorbar\":{\"outlinewidth\":0,\"ticks\":\"\"}}}],\"scatterpolargl\":[{\"type\":\"scatterpolargl\",\"marker\":{\"colorbar\":{\"outlinewidth\":0,\"ticks\":\"\"}}}],\"bar\":[{\"error_x\":{\"color\":\"#2a3f5f\"},\"error_y\":{\"color\":\"#2a3f5f\"},\"marker\":{\"line\":{\"color\":\"#E5ECF6\",\"width\":0.5},\"pattern\":{\"fillmode\":\"overlay\",\"size\":10,\"solidity\":0.2}},\"type\":\"bar\"}],\"scattergeo\":[{\"type\":\"scattergeo\",\"marker\":{\"colorbar\":{\"outlinewidth\":0,\"ticks\":\"\"}}}],\"scatterpolar\":[{\"type\":\"scatterpolar\",\"marker\":{\"colorbar\":{\"outlinewidth\":0,\"ticks\":\"\"}}}],\"histogram\":[{\"marker\":{\"pattern\":{\"fillmode\":\"overlay\",\"size\":10,\"solidity\":0.2}},\"type\":\"histogram\"}],\"scattergl\":[{\"type\":\"scattergl\",\"marker\":{\"colorbar\":{\"outlinewidth\":0,\"ticks\":\"\"}}}],\"scatter3d\":[{\"type\":\"scatter3d\",\"line\":{\"colorbar\":{\"outlinewidth\":0,\"ticks\":\"\"}},\"marker\":{\"colorbar\":{\"outlinewidth\":0,\"ticks\":\"\"}}}],\"scattermapbox\":[{\"type\":\"scattermapbox\",\"marker\":{\"colorbar\":{\"outlinewidth\":0,\"ticks\":\"\"}}}],\"scatterternary\":[{\"type\":\"scatterternary\",\"marker\":{\"colorbar\":{\"outlinewidth\":0,\"ticks\":\"\"}}}],\"scattercarpet\":[{\"type\":\"scattercarpet\",\"marker\":{\"colorbar\":{\"outlinewidth\":0,\"ticks\":\"\"}}}],\"carpet\":[{\"aaxis\":{\"endlinecolor\":\"#2a3f5f\",\"gridcolor\":\"white\",\"linecolor\":\"white\",\"minorgridcolor\":\"white\",\"startlinecolor\":\"#2a3f5f\"},\"baxis\":{\"endlinecolor\":\"#2a3f5f\",\"gridcolor\":\"white\",\"linecolor\":\"white\",\"minorgridcolor\":\"white\",\"startlinecolor\":\"#2a3f5f\"},\"type\":\"carpet\"}],\"table\":[{\"cells\":{\"fill\":{\"color\":\"#EBF0F8\"},\"line\":{\"color\":\"white\"}},\"header\":{\"fill\":{\"color\":\"#C8D4E3\"},\"line\":{\"color\":\"white\"}},\"type\":\"table\"}],\"barpolar\":[{\"marker\":{\"line\":{\"color\":\"#E5ECF6\",\"width\":0.5},\"pattern\":{\"fillmode\":\"overlay\",\"size\":10,\"solidity\":0.2}},\"type\":\"barpolar\"}],\"pie\":[{\"automargin\":true,\"type\":\"pie\"}]},\"layout\":{\"autotypenumbers\":\"strict\",\"colorway\":[\"#636efa\",\"#EF553B\",\"#00cc96\",\"#ab63fa\",\"#FFA15A\",\"#19d3f3\",\"#FF6692\",\"#B6E880\",\"#FF97FF\",\"#FECB52\"],\"font\":{\"color\":\"#2a3f5f\"},\"hovermode\":\"closest\",\"hoverlabel\":{\"align\":\"left\"},\"paper_bgcolor\":\"white\",\"plot_bgcolor\":\"#E5ECF6\",\"polar\":{\"bgcolor\":\"#E5ECF6\",\"angularaxis\":{\"gridcolor\":\"white\",\"linecolor\":\"white\",\"ticks\":\"\"},\"radialaxis\":{\"gridcolor\":\"white\",\"linecolor\":\"white\",\"ticks\":\"\"}},\"ternary\":{\"bgcolor\":\"#E5ECF6\",\"aaxis\":{\"gridcolor\":\"white\",\"linecolor\":\"white\",\"ticks\":\"\"},\"baxis\":{\"gridcolor\":\"white\",\"linecolor\":\"white\",\"ticks\":\"\"},\"caxis\":{\"gridcolor\":\"white\",\"linecolor\":\"white\",\"ticks\":\"\"}},\"coloraxis\":{\"colorbar\":{\"outlinewidth\":0,\"ticks\":\"\"}},\"colorscale\":{\"sequential\":[[0.0,\"#0d0887\"],[0.1111111111111111,\"#46039f\"],[0.2222222222222222,\"#7201a8\"],[0.3333333333333333,\"#9c179e\"],[0.4444444444444444,\"#bd3786\"],[0.5555555555555556,\"#d8576b\"],[0.6666666666666666,\"#ed7953\"],[0.7777777777777778,\"#fb9f3a\"],[0.8888888888888888,\"#fdca26\"],[1.0,\"#f0f921\"]],\"sequentialminus\":[[0.0,\"#0d0887\"],[0.1111111111111111,\"#46039f\"],[0.2222222222222222,\"#7201a8\"],[0.3333333333333333,\"#9c179e\"],[0.4444444444444444,\"#bd3786\"],[0.5555555555555556,\"#d8576b\"],[0.6666666666666666,\"#ed7953\"],[0.7777777777777778,\"#fb9f3a\"],[0.8888888888888888,\"#fdca26\"],[1.0,\"#f0f921\"]],\"diverging\":[[0,\"#8e0152\"],[0.1,\"#c51b7d\"],[0.2,\"#de77ae\"],[0.3,\"#f1b6da\"],[0.4,\"#fde0ef\"],[0.5,\"#f7f7f7\"],[0.6,\"#e6f5d0\"],[0.7,\"#b8e186\"],[0.8,\"#7fbc41\"],[0.9,\"#4d9221\"],[1,\"#276419\"]]},\"xaxis\":{\"gridcolor\":\"white\",\"linecolor\":\"white\",\"ticks\":\"\",\"title\":{\"standoff\":15},\"zerolinecolor\":\"white\",\"automargin\":true,\"zerolinewidth\":2},\"yaxis\":{\"gridcolor\":\"white\",\"linecolor\":\"white\",\"ticks\":\"\",\"title\":{\"standoff\":15},\"zerolinecolor\":\"white\",\"automargin\":true,\"zerolinewidth\":2},\"scene\":{\"xaxis\":{\"backgroundcolor\":\"#E5ECF6\",\"gridcolor\":\"white\",\"linecolor\":\"white\",\"showbackground\":true,\"ticks\":\"\",\"zerolinecolor\":\"white\",\"gridwidth\":2},\"yaxis\":{\"backgroundcolor\":\"#E5ECF6\",\"gridcolor\":\"white\",\"linecolor\":\"white\",\"showbackground\":true,\"ticks\":\"\",\"zerolinecolor\":\"white\",\"gridwidth\":2},\"zaxis\":{\"backgroundcolor\":\"#E5ECF6\",\"gridcolor\":\"white\",\"linecolor\":\"white\",\"showbackground\":true,\"ticks\":\"\",\"zerolinecolor\":\"white\",\"gridwidth\":2}},\"shapedefaults\":{\"line\":{\"color\":\"#2a3f5f\"}},\"annotationdefaults\":{\"arrowcolor\":\"#2a3f5f\",\"arrowhead\":0,\"arrowwidth\":1},\"geo\":{\"bgcolor\":\"white\",\"landcolor\":\"#E5ECF6\",\"subunitcolor\":\"white\",\"showland\":true,\"showlakes\":true,\"lakecolor\":\"white\"},\"title\":{\"x\":0.05},\"mapbox\":{\"style\":\"light\"}}},\"xaxis\":{\"anchor\":\"y\",\"domain\":[0.0,1.0],\"title\":{\"text\":\"polarity\"}},\"yaxis\":{\"anchor\":\"x\",\"domain\":[0.0,1.0],\"title\":{\"text\":\"count\"}},\"legend\":{\"tracegroupgap\":0},\"title\":{\"text\":\"False Compound Polarity\"},\"barmode\":\"relative\"},                        {\"responsive\": true}                    ).then(function(){\n",
              "                            \n",
              "var gd = document.getElementById('44c3b6d0-2aea-4f9f-96cc-62b26b80b636');\n",
              "var x = new MutationObserver(function (mutations, observer) {{\n",
              "        var display = window.getComputedStyle(gd).display;\n",
              "        if (!display || display === 'none') {{\n",
              "            console.log([gd, 'removed!']);\n",
              "            Plotly.purge(gd);\n",
              "            observer.disconnect();\n",
              "        }}\n",
              "}});\n",
              "\n",
              "// Listen for the removal of the full notebook cells\n",
              "var notebookContainer = gd.closest('#notebook-container');\n",
              "if (notebookContainer) {{\n",
              "    x.observe(notebookContainer, {childList: true});\n",
              "}}\n",
              "\n",
              "// Listen for the clearing of the current output cell\n",
              "var outputEl = gd.closest('.output');\n",
              "if (outputEl) {{\n",
              "    x.observe(outputEl, {childList: true});\n",
              "}}\n",
              "\n",
              "                        })                };                            </script>        </div>\n",
              "</body>\n",
              "</html>"
            ]
          },
          "metadata": {}
        }
      ]
    },
    {
      "cell_type": "code",
      "source": [
        "# describe each of them above"
      ],
      "metadata": {
        "id": "6inRZMwXMDAL"
      },
      "execution_count": null,
      "outputs": []
    },
    {
      "cell_type": "code",
      "source": [],
      "metadata": {
        "id": "JEjYQqtsMLav"
      },
      "execution_count": null,
      "outputs": []
    }
  ]
}